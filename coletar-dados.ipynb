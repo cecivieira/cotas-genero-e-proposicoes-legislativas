{
 "cells": [
  {
   "cell_type": "code",
   "execution_count": 15,
   "id": "11288e1d-c2c7-4b2b-ba8e-1e2606b795b4",
   "metadata": {},
   "outputs": [],
   "source": [
    "import io\n",
    "import requests\n",
    "import pandas as pd"
   ]
  },
  {
   "cell_type": "markdown",
   "id": "05cadb5d-0fa6-49aa-a51e-6a82a4c9febd",
   "metadata": {},
   "source": [
    "# Dados das legislaturas\n",
    "Legislatura é o nome dado ao período de trabalhos parlamentares entre uma eleição e outra."
   ]
  },
  {
   "cell_type": "code",
   "execution_count": 58,
   "id": "b52aa79c-ceeb-4851-882d-b7c963243dd6",
   "metadata": {},
   "outputs": [],
   "source": [
    "legislaturas = requests.get('https://dadosabertos.camara.leg.br/api/v2/legislaturas?itens=100&ordem=DESC&ordenarPor=id').json()"
   ]
  },
  {
   "cell_type": "code",
   "execution_count": 62,
   "id": "df047610-af6c-4ff2-a6d2-cf1ec828a8ee",
   "metadata": {},
   "outputs": [],
   "source": [
    "df_legislaturas = pd.DataFrame.from_dict(legislaturas['dados'])"
   ]
  },
  {
   "cell_type": "code",
   "execution_count": 71,
   "id": "a02b1b77-e32c-4092-8b0b-97a2909025eb",
   "metadata": {},
   "outputs": [
    {
     "data": {
      "text/html": [
       "<div>\n",
       "<style scoped>\n",
       "    .dataframe tbody tr th:only-of-type {\n",
       "        vertical-align: middle;\n",
       "    }\n",
       "\n",
       "    .dataframe tbody tr th {\n",
       "        vertical-align: top;\n",
       "    }\n",
       "\n",
       "    .dataframe thead th {\n",
       "        text-align: right;\n",
       "    }\n",
       "</style>\n",
       "<table border=\"1\" class=\"dataframe\">\n",
       "  <thead>\n",
       "    <tr style=\"text-align: right;\">\n",
       "      <th></th>\n",
       "      <th>id</th>\n",
       "      <th>uri</th>\n",
       "      <th>dataInicio</th>\n",
       "      <th>dataFim</th>\n",
       "    </tr>\n",
       "  </thead>\n",
       "  <tbody>\n",
       "    <tr>\n",
       "      <th>0</th>\n",
       "      <td>56</td>\n",
       "      <td>https://dadosabertos.camara.leg.br/api/v2/legi...</td>\n",
       "      <td>2019-02-01</td>\n",
       "      <td>2023-01-31</td>\n",
       "    </tr>\n",
       "    <tr>\n",
       "      <th>1</th>\n",
       "      <td>55</td>\n",
       "      <td>https://dadosabertos.camara.leg.br/api/v2/legi...</td>\n",
       "      <td>2015-02-01</td>\n",
       "      <td>2019-01-31</td>\n",
       "    </tr>\n",
       "    <tr>\n",
       "      <th>2</th>\n",
       "      <td>54</td>\n",
       "      <td>https://dadosabertos.camara.leg.br/api/v2/legi...</td>\n",
       "      <td>2011-02-01</td>\n",
       "      <td>2015-01-31</td>\n",
       "    </tr>\n",
       "    <tr>\n",
       "      <th>3</th>\n",
       "      <td>53</td>\n",
       "      <td>https://dadosabertos.camara.leg.br/api/v2/legi...</td>\n",
       "      <td>2007-02-01</td>\n",
       "      <td>2011-01-31</td>\n",
       "    </tr>\n",
       "    <tr>\n",
       "      <th>4</th>\n",
       "      <td>52</td>\n",
       "      <td>https://dadosabertos.camara.leg.br/api/v2/legi...</td>\n",
       "      <td>2003-02-01</td>\n",
       "      <td>2007-01-31</td>\n",
       "    </tr>\n",
       "    <tr>\n",
       "      <th>5</th>\n",
       "      <td>51</td>\n",
       "      <td>https://dadosabertos.camara.leg.br/api/v2/legi...</td>\n",
       "      <td>1999-02-01</td>\n",
       "      <td>2003-01-31</td>\n",
       "    </tr>\n",
       "  </tbody>\n",
       "</table>\n",
       "</div>"
      ],
      "text/plain": [
       "   id                                                uri  dataInicio  \\\n",
       "0  56  https://dadosabertos.camara.leg.br/api/v2/legi...  2019-02-01   \n",
       "1  55  https://dadosabertos.camara.leg.br/api/v2/legi...  2015-02-01   \n",
       "2  54  https://dadosabertos.camara.leg.br/api/v2/legi...  2011-02-01   \n",
       "3  53  https://dadosabertos.camara.leg.br/api/v2/legi...  2007-02-01   \n",
       "4  52  https://dadosabertos.camara.leg.br/api/v2/legi...  2003-02-01   \n",
       "5  51  https://dadosabertos.camara.leg.br/api/v2/legi...  1999-02-01   \n",
       "\n",
       "      dataFim  \n",
       "0  2023-01-31  \n",
       "1  2019-01-31  \n",
       "2  2015-01-31  \n",
       "3  2011-01-31  \n",
       "4  2007-01-31  \n",
       "5  2003-01-31  "
      ]
     },
     "execution_count": 71,
     "metadata": {},
     "output_type": "execute_result"
    }
   ],
   "source": [
    "df_legislaturas_1999_2023 = df_legislaturas[df_legislaturas['dataInicio'] > '1995-02-01'].copy()\n",
    "df_legislaturas_1999_2023"
   ]
  },
  {
   "cell_type": "code",
   "execution_count": 109,
   "id": "0fc53f8f-efce-45fb-8201-a1d1be51eaa4",
   "metadata": {},
   "outputs": [],
   "source": [
    "lista_legislaturas = df_legislaturas_1999_2023['id'].unique()"
   ]
  },
  {
   "cell_type": "markdown",
   "id": "0752f531-887d-436d-ae63-ec5970e08e84",
   "metadata": {},
   "source": [
    "# Dados candidaturas eleitas"
   ]
  },
  {
   "cell_type": "code",
   "execution_count": 140,
   "id": "a79d151f-6bc4-447b-aa6b-40039d86909c",
   "metadata": {},
   "outputs": [],
   "source": [
    "deputadas_1999_2023 = pd.DataFrame(columns=['id', 'uri', 'nome', 'siglaPartido', 'uriPartido', 'siglaUf',\n",
    "       'idLegislatura', 'urlFoto', 'email'])"
   ]
  },
  {
   "cell_type": "code",
   "execution_count": 141,
   "id": "38e996c9-a063-4a91-9eea-0ed8cc274127",
   "metadata": {},
   "outputs": [],
   "source": [
    "lista_sexo = ['F', 'M']"
   ]
  },
  {
   "cell_type": "code",
   "execution_count": 142,
   "id": "76bfd22b-07d1-407f-bb83-53b54d20c52d",
   "metadata": {},
   "outputs": [],
   "source": [
    "for legislatura in lista_legislaturas:\n",
    "    for sexo in lista_sexo:    \n",
    "        url = f'https://dadosabertos.camara.leg.br/api/v2/deputados?idLegislatura={legislatura}&siglaSexo={sexo}&ordem=DESC&ordenarPor=nome'\n",
    "        deputadas_legislatura = requests.get(url).json()\n",
    "        df_dep_legis = pd.DataFrame.from_dict(deputadas_legislatura['dados'])\n",
    "        df_dep_legis['sexo'] = f'{sexo}'\n",
    "        deputadas_1999_2023 = deputadas_1999_2023.append(df_dep_legis, ignore_index=True)"
   ]
  },
  {
   "cell_type": "code",
   "execution_count": 146,
   "id": "8a1d9b3d-44f1-4926-a28b-e4d615be6e2a",
   "metadata": {},
   "outputs": [
    {
     "data": {
      "text/plain": [
       "(3814, 10)"
      ]
     },
     "execution_count": 146,
     "metadata": {},
     "output_type": "execute_result"
    }
   ],
   "source": [
    "deputadas_1999_2023.shape"
   ]
  },
  {
   "cell_type": "code",
   "execution_count": 113,
   "id": "a7da21e9-20d9-4112-9a35-b37ce9baaba6",
   "metadata": {},
   "outputs": [
    {
     "data": {
      "text/plain": [
       "Index(['id', 'uri', 'nome', 'siglaPartido', 'uriPartido', 'siglaUf',\n",
       "       'idLegislatura', 'urlFoto', 'email'],\n",
       "      dtype='object')"
      ]
     },
     "execution_count": 113,
     "metadata": {},
     "output_type": "execute_result"
    }
   ],
   "source": [
    "df_deputadas.columns"
   ]
  },
  {
   "cell_type": "code",
   "execution_count": null,
   "id": "bdb41058-e868-477f-b814-be7a0e347240",
   "metadata": {},
   "outputs": [],
   "source": []
  }
 ],
 "metadata": {
  "kernelspec": {
   "display_name": "Python 3",
   "language": "python",
   "name": "python3"
  },
  "language_info": {
   "codemirror_mode": {
    "name": "ipython",
    "version": 3
   },
   "file_extension": ".py",
   "mimetype": "text/x-python",
   "name": "python",
   "nbconvert_exporter": "python",
   "pygments_lexer": "ipython3",
   "version": "3.8.10"
  }
 },
 "nbformat": 4,
 "nbformat_minor": 5
}
