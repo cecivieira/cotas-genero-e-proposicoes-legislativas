{
 "cells": [
  {
   "cell_type": "code",
   "execution_count": 1,
   "metadata": {},
   "outputs": [
    {
     "name": "stderr",
     "output_type": "stream",
     "text": [
      "2022-02-27 17:25:32.380495: W tensorflow/stream_executor/platform/default/dso_loader.cc:64] Could not load dynamic library 'libcudart.so.11.0'; dlerror: libcudart.so.11.0: cannot open shared object file: No such file or directory\n",
      "2022-02-27 17:25:32.380568: I tensorflow/stream_executor/cuda/cudart_stub.cc:29] Ignore above cudart dlerror if you do not have a GPU set up on your machine.\n"
     ]
    }
   ],
   "source": [
    "from sklearn import preprocessing\n",
    "from sklearn.model_selection import train_test_split\n",
    "from sklearn.feature_extraction.text import HashingVectorizer\n",
    "from sklearn.feature_extraction.text import CountVectorizer\n",
    "from sklearn.ensemble import RandomForestClassifier\n",
    "from keras.utils import np_utils\n",
    "\n",
    "import nltk\n",
    "from nltk.corpus import stopwords\n",
    "\n",
    "import pandas as pd\n",
    "import numpy as np"
   ]
  },
  {
   "cell_type": "markdown",
   "metadata": {
    "id": "bOefATjQYdpf"
   },
   "source": [
    "# Classifica proposições legislativas\n",
    "\n",
    "Foi verificado que as proposições do conjunto de dados “proposições legislativas” não estão classificadas de acordo com o conjunto de dados “temas”, então o modelo de apredizado de máquina criado nesse capítulo será com objetivo de classificar tais itens a partir da variável “ementa”."
   ]
  },
  {
   "cell_type": "code",
   "execution_count": 2,
   "metadata": {
    "id": "DeDzGBpGYgIj"
   },
   "outputs": [],
   "source": [
    "df_proposicoes = pd.read_csv(\"dados/proposicoes_legislativas_limpas_vocabulario.csv\")\n",
    "df_proposicoes_classificado = df_proposicoes.dropna(subset=[\"temas\"])\n",
    "df_proposicoes_classificado = df_proposicoes_classificado[[\"ementa\",\"temas\"]]"
   ]
  },
  {
   "cell_type": "code",
   "execution_count": 3,
   "metadata": {
    "colab": {
     "base_uri": "https://localhost:8080/"
    },
    "id": "HZWB8053ZNed",
    "outputId": "4af3ee0e-2705-4aa2-f3e0-0efa0f3fde94"
   },
   "outputs": [
    {
     "data": {
      "text/plain": [
       "(20210, 2)"
      ]
     },
     "execution_count": 3,
     "metadata": {},
     "output_type": "execute_result"
    }
   ],
   "source": [
    "df_proposicoes_classificado.shape"
   ]
  },
  {
   "cell_type": "code",
   "execution_count": 4,
   "metadata": {},
   "outputs": [
    {
     "data": {
      "text/html": [
       "<div>\n",
       "<style scoped>\n",
       "    .dataframe tbody tr th:only-of-type {\n",
       "        vertical-align: middle;\n",
       "    }\n",
       "\n",
       "    .dataframe tbody tr th {\n",
       "        vertical-align: top;\n",
       "    }\n",
       "\n",
       "    .dataframe thead th {\n",
       "        text-align: right;\n",
       "    }\n",
       "</style>\n",
       "<table border=\"1\" class=\"dataframe\">\n",
       "  <thead>\n",
       "    <tr style=\"text-align: right;\">\n",
       "      <th></th>\n",
       "      <th>ementa</th>\n",
       "      <th>temas</th>\n",
       "    </tr>\n",
       "  </thead>\n",
       "  <tbody>\n",
       "    <tr>\n",
       "      <th>62</th>\n",
       "      <td>PROIBE O EMPREGO DE EXPRESSÕES DESAIROSAS AO H...</td>\n",
       "      <td>Direitos Humanos e Minorias</td>\n",
       "    </tr>\n",
       "    <tr>\n",
       "      <th>67</th>\n",
       "      <td>ESTABELECE O REGIME DE APOSENTADORIA ESPECIAL,...</td>\n",
       "      <td>Trabalho e Emprego</td>\n",
       "    </tr>\n",
       "    <tr>\n",
       "      <th>71</th>\n",
       "      <td>REVOGA A LEI 3841, DE 15 DE DEZEMBRO DE 1960, ...</td>\n",
       "      <td>Trabalho e Emprego</td>\n",
       "    </tr>\n",
       "    <tr>\n",
       "      <th>81</th>\n",
       "      <td>DEFINE O PEQUENO PRODUTOR E DA OUTRAS PROVIDEN...</td>\n",
       "      <td>Trabalho e Emprego</td>\n",
       "    </tr>\n",
       "    <tr>\n",
       "      <th>96</th>\n",
       "      <td>TRANSFORMA EM APOSENTADORIAS AS DEMISSÕES DE S...</td>\n",
       "      <td>Trabalho e Emprego</td>\n",
       "    </tr>\n",
       "  </tbody>\n",
       "</table>\n",
       "</div>"
      ],
      "text/plain": [
       "                                               ementa  \\\n",
       "62  PROIBE O EMPREGO DE EXPRESSÕES DESAIROSAS AO H...   \n",
       "67  ESTABELECE O REGIME DE APOSENTADORIA ESPECIAL,...   \n",
       "71  REVOGA A LEI 3841, DE 15 DE DEZEMBRO DE 1960, ...   \n",
       "81  DEFINE O PEQUENO PRODUTOR E DA OUTRAS PROVIDEN...   \n",
       "96  TRANSFORMA EM APOSENTADORIAS AS DEMISSÕES DE S...   \n",
       "\n",
       "                          temas  \n",
       "62  Direitos Humanos e Minorias  \n",
       "67           Trabalho e Emprego  \n",
       "71           Trabalho e Emprego  \n",
       "81           Trabalho e Emprego  \n",
       "96           Trabalho e Emprego  "
      ]
     },
     "execution_count": 4,
     "metadata": {},
     "output_type": "execute_result"
    }
   ],
   "source": [
    "df_proposicoes_classificado.head()"
   ]
  },
  {
   "cell_type": "markdown",
   "metadata": {
    "id": "dTpO_BCslieV"
   },
   "source": [
    "Estabelecer \"ementa\" como variável preditora e \"temas\" como variável de resposta."
   ]
  },
  {
   "cell_type": "code",
   "execution_count": 5,
   "metadata": {
    "id": "ypcBnkoQZUib"
   },
   "outputs": [],
   "source": [
    "sentences = df_proposicoes_classificado['ementa'].values"
   ]
  },
  {
   "cell_type": "markdown",
   "metadata": {},
   "source": [
    "Estabelece encode para a variável de resposta"
   ]
  },
  {
   "cell_type": "code",
   "execution_count": 6,
   "metadata": {},
   "outputs": [],
   "source": [
    "le = preprocessing.LabelEncoder()\n",
    "le.fit(df_proposicoes_classificado['temas'].unique())\n",
    "\n",
    "y = le.transform(df_proposicoes_classificado['temas'])"
   ]
  },
  {
   "cell_type": "markdown",
   "metadata": {},
   "source": [
    "Separar conjunto de treino e teste"
   ]
  },
  {
   "cell_type": "code",
   "execution_count": 7,
   "metadata": {},
   "outputs": [],
   "source": [
    "sentences_train, sentences_test, y_train, y_test = train_test_split(\n",
    "   sentences, y, test_size=0.25, random_state=1000)"
   ]
  },
  {
   "cell_type": "markdown",
   "metadata": {},
   "source": [
    "Converter das palavras das ementas do conjuntos de dados de treino e teste em vetores eliminando stopwords"
   ]
  },
  {
   "cell_type": "code",
   "execution_count": 8,
   "metadata": {
    "id": "VJdB_bdoZ3cM"
   },
   "outputs": [],
   "source": [
    "vectorizer = CountVectorizer()\n",
    "vectorizer.fit(sentences_train)\n",
    "\n",
    "X_train = vectorizer.transform(sentences_train)\n",
    "X_test  = vectorizer.transform(sentences_test)\n",
    "X_train\n",
    "\n",
    "hasher = HashingVectorizer(\n",
    "            n_features=10000,\n",
    "            stop_words=stopwords.words('portuguese'),\n",
    "            alternate_sign=False,\n",
    "            norm=None,\n",
    "        )\n",
    "hasher.fit(sentences_train)\n",
    "X_train_hasher = hasher.transform(sentences_train)\n",
    "X_test_hasher = hasher.transform(sentences_test)"
   ]
  },
  {
   "cell_type": "code",
   "execution_count": 9,
   "metadata": {
    "colab": {
     "base_uri": "https://localhost:8080/"
    },
    "id": "y7WM-FfJonfR",
    "outputId": "4e85e564-507d-4292-903e-b5fb4e4b7e2c"
   },
   "outputs": [
    {
     "data": {
      "text/plain": [
       "(15157, 10000)"
      ]
     },
     "execution_count": 9,
     "metadata": {},
     "output_type": "execute_result"
    }
   ],
   "source": [
    "X_train_hasher.shape"
   ]
  },
  {
   "cell_type": "markdown",
   "metadata": {},
   "source": [
    "Criar e treinar modelo de classificação a partir do algoritmo Random Forest Classifier"
   ]
  },
  {
   "cell_type": "code",
   "execution_count": 10,
   "metadata": {
    "colab": {
     "base_uri": "https://localhost:8080/"
    },
    "id": "YDoRDVYtZ7Zy",
    "outputId": "92fbd586-da0e-43a0-87ce-c4721091716b"
   },
   "outputs": [
    {
     "data": {
      "text/plain": [
       "RandomForestClassifier(n_estimators=200, random_state=0)"
      ]
     },
     "execution_count": 10,
     "metadata": {},
     "output_type": "execute_result"
    }
   ],
   "source": [
    "clf = RandomForestClassifier(n_estimators=200,random_state=0)\n",
    "clf.fit(X_train_hasher, y_train)"
   ]
  },
  {
   "cell_type": "markdown",
   "metadata": {},
   "source": [
    "Verificar o coeficiente de determinação (R²), acurácia."
   ]
  },
  {
   "cell_type": "code",
   "execution_count": 11,
   "metadata": {},
   "outputs": [
    {
     "name": "stdout",
     "output_type": "stream",
     "text": [
      "Acurácia: 0.7920047496536711\n"
     ]
    }
   ],
   "source": [
    "score = clf.score(X_test_hasher, y_test)\n",
    "\n",
    "print(\"Acurácia:\", score)"
   ]
  },
  {
   "cell_type": "markdown",
   "metadata": {},
   "source": [
    "Avaliar modelo qualitativamente"
   ]
  },
  {
   "cell_type": "code",
   "execution_count": 12,
   "metadata": {
    "id": "mIxmERONjfjX"
   },
   "outputs": [
    {
     "data": {
      "text/html": [
       "<div>\n",
       "<style scoped>\n",
       "    .dataframe tbody tr th:only-of-type {\n",
       "        vertical-align: middle;\n",
       "    }\n",
       "\n",
       "    .dataframe tbody tr th {\n",
       "        vertical-align: top;\n",
       "    }\n",
       "\n",
       "    .dataframe thead th {\n",
       "        text-align: right;\n",
       "    }\n",
       "</style>\n",
       "<table border=\"1\" class=\"dataframe\">\n",
       "  <thead>\n",
       "    <tr style=\"text-align: right;\">\n",
       "      <th></th>\n",
       "      <th>ementa</th>\n",
       "      <th>tema</th>\n",
       "    </tr>\n",
       "  </thead>\n",
       "  <tbody>\n",
       "    <tr>\n",
       "      <th>0</th>\n",
       "      <td>Altera a Lei nº 10.098, de 19 de dezembro de 2...</td>\n",
       "      <td>Direito Civil e Processual Civil</td>\n",
       "    </tr>\n",
       "    <tr>\n",
       "      <th>1</th>\n",
       "      <td>Altera o art. 6º da Lei nº 10.826, de 22 de de...</td>\n",
       "      <td>Direito Penal e Processual Penal</td>\n",
       "    </tr>\n",
       "    <tr>\n",
       "      <th>2</th>\n",
       "      <td>AUTORIZA O PODER EXECUTIVO A ABRIR, PELO MINIS...</td>\n",
       "      <td>Direitos Humanos e Minorias</td>\n",
       "    </tr>\n",
       "    <tr>\n",
       "      <th>3</th>\n",
       "      <td>Cria mecanismos para coibir a violência e a di...</td>\n",
       "      <td>Direitos Humanos e Minorias</td>\n",
       "    </tr>\n",
       "    <tr>\n",
       "      <th>4</th>\n",
       "      <td>ASSEGURA AOS FUNCIONARIOS PUBLICOS CIVIS DA UN...</td>\n",
       "      <td>Trabalho e Emprego</td>\n",
       "    </tr>\n",
       "  </tbody>\n",
       "</table>\n",
       "</div>"
      ],
      "text/plain": [
       "                                              ementa  \\\n",
       "0  Altera a Lei nº 10.098, de 19 de dezembro de 2...   \n",
       "1  Altera o art. 6º da Lei nº 10.826, de 22 de de...   \n",
       "2  AUTORIZA O PODER EXECUTIVO A ABRIR, PELO MINIS...   \n",
       "3  Cria mecanismos para coibir a violência e a di...   \n",
       "4  ASSEGURA AOS FUNCIONARIOS PUBLICOS CIVIS DA UN...   \n",
       "\n",
       "                               tema  \n",
       "0  Direito Civil e Processual Civil  \n",
       "1  Direito Penal e Processual Penal  \n",
       "2       Direitos Humanos e Minorias  \n",
       "3       Direitos Humanos e Minorias  \n",
       "4                Trabalho e Emprego  "
      ]
     },
     "execution_count": 12,
     "metadata": {},
     "output_type": "execute_result"
    }
   ],
   "source": [
    "df_random_forest_results = pd.DataFrame([sentences_test,le.inverse_transform(clf.predict(X_test_hasher))]).transpose().rename(columns={0:\"ementa\",1:\"tema\"})\n",
    "df_random_forest_results.head()"
   ]
  },
  {
   "cell_type": "markdown",
   "metadata": {},
   "source": [
    "Criar lista com probabilidades de classificação das propostas em cada tema"
   ]
  },
  {
   "cell_type": "code",
   "execution_count": 13,
   "metadata": {},
   "outputs": [],
   "source": [
    "predicted_probabilities = clf.predict_proba(X_test_hasher)"
   ]
  },
  {
   "cell_type": "markdown",
   "metadata": {},
   "source": [
    "Selecionar o tema com maior probabilidade para cada ementa"
   ]
  },
  {
   "cell_type": "code",
   "execution_count": 14,
   "metadata": {},
   "outputs": [],
   "source": [
    "df_random_forest_results[\"probabilidade_predicao\"] = np.amax(predicted_probabilities,axis=1) # colocar if max maior do que 0.8"
   ]
  },
  {
   "cell_type": "code",
   "execution_count": 15,
   "metadata": {
    "colab": {
     "base_uri": "https://localhost:8080/",
     "height": 206
    },
    "id": "8Geu2C5ZkWyu",
    "outputId": "89079fc3-eb07-4b13-cb4e-3bcc633fc7fa"
   },
   "outputs": [
    {
     "data": {
      "text/html": [
       "<div>\n",
       "<style scoped>\n",
       "    .dataframe tbody tr th:only-of-type {\n",
       "        vertical-align: middle;\n",
       "    }\n",
       "\n",
       "    .dataframe tbody tr th {\n",
       "        vertical-align: top;\n",
       "    }\n",
       "\n",
       "    .dataframe thead th {\n",
       "        text-align: right;\n",
       "    }\n",
       "</style>\n",
       "<table border=\"1\" class=\"dataframe\">\n",
       "  <thead>\n",
       "    <tr style=\"text-align: right;\">\n",
       "      <th></th>\n",
       "      <th>ementa</th>\n",
       "      <th>tema</th>\n",
       "      <th>probabilidade_predicao</th>\n",
       "    </tr>\n",
       "  </thead>\n",
       "  <tbody>\n",
       "    <tr>\n",
       "      <th>0</th>\n",
       "      <td>Altera a Lei nº 10.098, de 19 de dezembro de 2...</td>\n",
       "      <td>Direito Civil e Processual Civil</td>\n",
       "      <td>0.865</td>\n",
       "    </tr>\n",
       "    <tr>\n",
       "      <th>1</th>\n",
       "      <td>Altera o art. 6º da Lei nº 10.826, de 22 de de...</td>\n",
       "      <td>Direito Penal e Processual Penal</td>\n",
       "      <td>1.000</td>\n",
       "    </tr>\n",
       "    <tr>\n",
       "      <th>2</th>\n",
       "      <td>AUTORIZA O PODER EXECUTIVO A ABRIR, PELO MINIS...</td>\n",
       "      <td>Direitos Humanos e Minorias</td>\n",
       "      <td>0.945</td>\n",
       "    </tr>\n",
       "    <tr>\n",
       "      <th>3</th>\n",
       "      <td>Cria mecanismos para coibir a violência e a di...</td>\n",
       "      <td>Direitos Humanos e Minorias</td>\n",
       "      <td>0.960</td>\n",
       "    </tr>\n",
       "    <tr>\n",
       "      <th>4</th>\n",
       "      <td>ASSEGURA AOS FUNCIONARIOS PUBLICOS CIVIS DA UN...</td>\n",
       "      <td>Trabalho e Emprego</td>\n",
       "      <td>0.925</td>\n",
       "    </tr>\n",
       "  </tbody>\n",
       "</table>\n",
       "</div>"
      ],
      "text/plain": [
       "                                              ementa  \\\n",
       "0  Altera a Lei nº 10.098, de 19 de dezembro de 2...   \n",
       "1  Altera o art. 6º da Lei nº 10.826, de 22 de de...   \n",
       "2  AUTORIZA O PODER EXECUTIVO A ABRIR, PELO MINIS...   \n",
       "3  Cria mecanismos para coibir a violência e a di...   \n",
       "4  ASSEGURA AOS FUNCIONARIOS PUBLICOS CIVIS DA UN...   \n",
       "\n",
       "                               tema  probabilidade_predicao  \n",
       "0  Direito Civil e Processual Civil                   0.865  \n",
       "1  Direito Penal e Processual Penal                   1.000  \n",
       "2       Direitos Humanos e Minorias                   0.945  \n",
       "3       Direitos Humanos e Minorias                   0.960  \n",
       "4                Trabalho e Emprego                   0.925  "
      ]
     },
     "execution_count": 15,
     "metadata": {},
     "output_type": "execute_result"
    }
   ],
   "source": [
    "df_random_forest_results.head()"
   ]
  },
  {
   "cell_type": "markdown",
   "metadata": {},
   "source": [
    "Criar dataframe comparativo entre temas pré-estabelecidos e os classificados pelo modelo"
   ]
  },
  {
   "cell_type": "code",
   "execution_count": 16,
   "metadata": {},
   "outputs": [],
   "source": [
    "df_ementas_test = pd.DataFrame([sentences_test,le.inverse_transform(y_test)]).transpose().rename(columns={0:\"ementa\",1:\"tema\"})"
   ]
  },
  {
   "cell_type": "code",
   "execution_count": 17,
   "metadata": {},
   "outputs": [
    {
     "data": {
      "text/html": [
       "<div>\n",
       "<style scoped>\n",
       "    .dataframe tbody tr th:only-of-type {\n",
       "        vertical-align: middle;\n",
       "    }\n",
       "\n",
       "    .dataframe tbody tr th {\n",
       "        vertical-align: top;\n",
       "    }\n",
       "\n",
       "    .dataframe thead th {\n",
       "        text-align: right;\n",
       "    }\n",
       "</style>\n",
       "<table border=\"1\" class=\"dataframe\">\n",
       "  <thead>\n",
       "    <tr style=\"text-align: right;\">\n",
       "      <th></th>\n",
       "      <th>ementa</th>\n",
       "      <th>tema</th>\n",
       "    </tr>\n",
       "  </thead>\n",
       "  <tbody>\n",
       "    <tr>\n",
       "      <th>0</th>\n",
       "      <td>Altera a Lei nº 10.098, de 19 de dezembro de 2...</td>\n",
       "      <td>Direito Civil e Processual Civil</td>\n",
       "    </tr>\n",
       "    <tr>\n",
       "      <th>1</th>\n",
       "      <td>Altera o art. 6º da Lei nº 10.826, de 22 de de...</td>\n",
       "      <td>Direito Penal e Processual Penal</td>\n",
       "    </tr>\n",
       "    <tr>\n",
       "      <th>2</th>\n",
       "      <td>AUTORIZA O PODER EXECUTIVO A ABRIR, PELO MINIS...</td>\n",
       "      <td>Direitos Humanos e Minorias</td>\n",
       "    </tr>\n",
       "    <tr>\n",
       "      <th>3</th>\n",
       "      <td>Cria mecanismos para coibir a violência e a di...</td>\n",
       "      <td>Direitos Humanos e Minorias</td>\n",
       "    </tr>\n",
       "    <tr>\n",
       "      <th>4</th>\n",
       "      <td>ASSEGURA AOS FUNCIONARIOS PUBLICOS CIVIS DA UN...</td>\n",
       "      <td>Trabalho e Emprego</td>\n",
       "    </tr>\n",
       "  </tbody>\n",
       "</table>\n",
       "</div>"
      ],
      "text/plain": [
       "                                              ementa  \\\n",
       "0  Altera a Lei nº 10.098, de 19 de dezembro de 2...   \n",
       "1  Altera o art. 6º da Lei nº 10.826, de 22 de de...   \n",
       "2  AUTORIZA O PODER EXECUTIVO A ABRIR, PELO MINIS...   \n",
       "3  Cria mecanismos para coibir a violência e a di...   \n",
       "4  ASSEGURA AOS FUNCIONARIOS PUBLICOS CIVIS DA UN...   \n",
       "\n",
       "                               tema  \n",
       "0  Direito Civil e Processual Civil  \n",
       "1  Direito Penal e Processual Penal  \n",
       "2       Direitos Humanos e Minorias  \n",
       "3       Direitos Humanos e Minorias  \n",
       "4                Trabalho e Emprego  "
      ]
     },
     "execution_count": 17,
     "metadata": {},
     "output_type": "execute_result"
    }
   ],
   "source": [
    "df_ementas_test.head()"
   ]
  },
  {
   "cell_type": "code",
   "execution_count": 18,
   "metadata": {},
   "outputs": [],
   "source": [
    "df_avaliacao = df_random_forest_results.merge(df_ementas_test,left_on=\"ementa\",right_on=\"ementa\",suffixes=[\"_resposta_modelo\",\"_correto\"])\n",
    "df_avaliacao[\"modelo_acertou\"] = df_avaliacao[\"tema_resposta_modelo\"] == df_avaliacao[\"tema_correto\"]\n",
    "df_avaliacao[\"modelo_acertou\"] = df_avaliacao[\"modelo_acertou\"].replace({True: \"Sim\", False: \"Não\"})"
   ]
  },
  {
   "cell_type": "code",
   "execution_count": 19,
   "metadata": {
    "colab": {
     "base_uri": "https://localhost:8080/"
    },
    "id": "uhPknwm0kmQz",
    "outputId": "ce77daa6-ae1b-47bb-f5ea-55871f35e634"
   },
   "outputs": [
    {
     "data": {
      "text/plain": [
       "Sim    4148\n",
       "Não    1079\n",
       "Name: modelo_acertou, dtype: int64"
      ]
     },
     "execution_count": 19,
     "metadata": {},
     "output_type": "execute_result"
    }
   ],
   "source": [
    "df_avaliacao[\"modelo_acertou\"].value_counts()"
   ]
  },
  {
   "cell_type": "code",
   "execution_count": 20,
   "metadata": {
    "colab": {
     "base_uri": "https://localhost:8080/"
    },
    "id": "RSTAl9InpmRJ",
    "outputId": "8646219b-d951-4a6c-b6ee-8e886d5ec473"
   },
   "outputs": [
    {
     "data": {
      "text/plain": [
       "Sim    1696\n",
       "Não      58\n",
       "Name: modelo_acertou, dtype: int64"
      ]
     },
     "execution_count": 20,
     "metadata": {},
     "output_type": "execute_result"
    }
   ],
   "source": [
    "df_avaliacao[df_avaliacao[\"probabilidade_predicao\"] >= 0.85][\"modelo_acertou\"].value_counts()"
   ]
  },
  {
   "cell_type": "code",
   "execution_count": 21,
   "metadata": {},
   "outputs": [
    {
     "data": {
      "text/html": [
       "<div>\n",
       "<style scoped>\n",
       "    .dataframe tbody tr th:only-of-type {\n",
       "        vertical-align: middle;\n",
       "    }\n",
       "\n",
       "    .dataframe tbody tr th {\n",
       "        vertical-align: top;\n",
       "    }\n",
       "\n",
       "    .dataframe thead th {\n",
       "        text-align: right;\n",
       "    }\n",
       "</style>\n",
       "<table border=\"1\" class=\"dataframe\">\n",
       "  <thead>\n",
       "    <tr style=\"text-align: right;\">\n",
       "      <th></th>\n",
       "      <th>ementa</th>\n",
       "      <th>tema_resposta_modelo</th>\n",
       "      <th>probabilidade_predicao</th>\n",
       "      <th>tema_correto</th>\n",
       "      <th>modelo_acertou</th>\n",
       "    </tr>\n",
       "  </thead>\n",
       "  <tbody>\n",
       "    <tr>\n",
       "      <th>0</th>\n",
       "      <td>Altera a Lei nº 10.098, de 19 de dezembro de 2...</td>\n",
       "      <td>Direito Civil e Processual Civil</td>\n",
       "      <td>0.865</td>\n",
       "      <td>Direito Civil e Processual Civil</td>\n",
       "      <td>Sim</td>\n",
       "    </tr>\n",
       "    <tr>\n",
       "      <th>1</th>\n",
       "      <td>Altera o art. 6º da Lei nº 10.826, de 22 de de...</td>\n",
       "      <td>Direito Penal e Processual Penal</td>\n",
       "      <td>1.000</td>\n",
       "      <td>Direito Penal e Processual Penal</td>\n",
       "      <td>Sim</td>\n",
       "    </tr>\n",
       "    <tr>\n",
       "      <th>2</th>\n",
       "      <td>AUTORIZA O PODER EXECUTIVO A ABRIR, PELO MINIS...</td>\n",
       "      <td>Direitos Humanos e Minorias</td>\n",
       "      <td>0.945</td>\n",
       "      <td>Direitos Humanos e Minorias</td>\n",
       "      <td>Sim</td>\n",
       "    </tr>\n",
       "    <tr>\n",
       "      <th>3</th>\n",
       "      <td>Cria mecanismos para coibir a violência e a di...</td>\n",
       "      <td>Direitos Humanos e Minorias</td>\n",
       "      <td>0.960</td>\n",
       "      <td>Direitos Humanos e Minorias</td>\n",
       "      <td>Sim</td>\n",
       "    </tr>\n",
       "    <tr>\n",
       "      <th>4</th>\n",
       "      <td>ASSEGURA AOS FUNCIONARIOS PUBLICOS CIVIS DA UN...</td>\n",
       "      <td>Trabalho e Emprego</td>\n",
       "      <td>0.925</td>\n",
       "      <td>Trabalho e Emprego</td>\n",
       "      <td>Sim</td>\n",
       "    </tr>\n",
       "  </tbody>\n",
       "</table>\n",
       "</div>"
      ],
      "text/plain": [
       "                                              ementa  \\\n",
       "0  Altera a Lei nº 10.098, de 19 de dezembro de 2...   \n",
       "1  Altera o art. 6º da Lei nº 10.826, de 22 de de...   \n",
       "2  AUTORIZA O PODER EXECUTIVO A ABRIR, PELO MINIS...   \n",
       "3  Cria mecanismos para coibir a violência e a di...   \n",
       "4  ASSEGURA AOS FUNCIONARIOS PUBLICOS CIVIS DA UN...   \n",
       "\n",
       "               tema_resposta_modelo  probabilidade_predicao  \\\n",
       "0  Direito Civil e Processual Civil                   0.865   \n",
       "1  Direito Penal e Processual Penal                   1.000   \n",
       "2       Direitos Humanos e Minorias                   0.945   \n",
       "3       Direitos Humanos e Minorias                   0.960   \n",
       "4                Trabalho e Emprego                   0.925   \n",
       "\n",
       "                       tema_correto modelo_acertou  \n",
       "0  Direito Civil e Processual Civil            Sim  \n",
       "1  Direito Penal e Processual Penal            Sim  \n",
       "2       Direitos Humanos e Minorias            Sim  \n",
       "3       Direitos Humanos e Minorias            Sim  \n",
       "4                Trabalho e Emprego            Sim  "
      ]
     },
     "execution_count": 21,
     "metadata": {},
     "output_type": "execute_result"
    }
   ],
   "source": [
    "df_avaliacao.head()"
   ]
  },
  {
   "cell_type": "code",
   "execution_count": 22,
   "metadata": {},
   "outputs": [
    {
     "data": {
      "text/plain": [
       "Direitos Humanos e Minorias                    2334\n",
       "Trabalho e Emprego                             1344\n",
       "Saúde                                           333\n",
       "Arte, Cultura e Religião                        265\n",
       "Direito Penal e Processual Penal                191\n",
       "Previdência e Assistência Social                163\n",
       "Educação                                        140\n",
       "Direito Civil e Processual Civil                121\n",
       "Agricultura, Pecuária, Pesca e Extrativismo      86\n",
       "Cidades e Desenvolvimento Urbano                 39\n",
       "Relações Internacionais e Comércio Exterior      16\n",
       "Viação, Transporte e Mobilidade                  13\n",
       "Meio Ambiente e Desenvolvimento Sustentável       6\n",
       "Homenagens e Datas Comemorativas                  1\n",
       "Economia                                          1\n",
       "Name: tema, dtype: int64"
      ]
     },
     "execution_count": 22,
     "metadata": {},
     "output_type": "execute_result"
    }
   ],
   "source": [
    "df_ementas_test.tema.value_counts()"
   ]
  },
  {
   "cell_type": "code",
   "execution_count": 23,
   "metadata": {},
   "outputs": [],
   "source": [
    "df_avaliacao.to_csv('dados/avaliacao-qualitativa-modelo-classificacao.csv')"
   ]
  },
  {
   "cell_type": "markdown",
   "metadata": {},
   "source": [
    "## Aplicando o modelo para classificar todas as proposicoes legislativas"
   ]
  },
  {
   "cell_type": "code",
   "execution_count": 24,
   "metadata": {},
   "outputs": [],
   "source": [
    "df_proposicoes_total = df_proposicoes[[\"ementa\",\"temas\"]]"
   ]
  },
  {
   "cell_type": "code",
   "execution_count": 25,
   "metadata": {},
   "outputs": [],
   "source": [
    "ementas = df_proposicoes_total['ementa'].values"
   ]
  },
  {
   "cell_type": "code",
   "execution_count": 26,
   "metadata": {},
   "outputs": [],
   "source": [
    "ementas_hasher = hasher.transform(ementas)"
   ]
  },
  {
   "cell_type": "markdown",
   "metadata": {},
   "source": [
    "Aplica o modelo de classificacao em todas as proposições legislativas"
   ]
  },
  {
   "cell_type": "code",
   "execution_count": 27,
   "metadata": {},
   "outputs": [],
   "source": [
    "df_proposicoes_total_classificadas = pd.DataFrame([ementas,le.inverse_transform(clf.predict(ementas_hasher))]).transpose().rename(\n",
    "    columns={0:\"ementa\",1:\"temas\"})"
   ]
  },
  {
   "cell_type": "code",
   "execution_count": 28,
   "metadata": {},
   "outputs": [
    {
     "data": {
      "text/html": [
       "<div>\n",
       "<style scoped>\n",
       "    .dataframe tbody tr th:only-of-type {\n",
       "        vertical-align: middle;\n",
       "    }\n",
       "\n",
       "    .dataframe tbody tr th {\n",
       "        vertical-align: top;\n",
       "    }\n",
       "\n",
       "    .dataframe thead th {\n",
       "        text-align: right;\n",
       "    }\n",
       "</style>\n",
       "<table border=\"1\" class=\"dataframe\">\n",
       "  <thead>\n",
       "    <tr style=\"text-align: right;\">\n",
       "      <th></th>\n",
       "      <th>ementa</th>\n",
       "      <th>temas</th>\n",
       "    </tr>\n",
       "  </thead>\n",
       "  <tbody>\n",
       "    <tr>\n",
       "      <th>0</th>\n",
       "      <td>MANTEM DECISÃO DENEGATORIA DO TRIBUNAL DE CONT...</td>\n",
       "      <td>Direitos Humanos e Minorias</td>\n",
       "    </tr>\n",
       "    <tr>\n",
       "      <th>1</th>\n",
       "      <td>MANTEM ATO DO TRIBUNAL DE CONTAS DA UNIÃO DE R...</td>\n",
       "      <td>Direitos Humanos e Minorias</td>\n",
       "    </tr>\n",
       "    <tr>\n",
       "      <th>2</th>\n",
       "      <td>MANTÉM DECISÃO DENEGATÓRIA DO TRIBUNAL DE CONT...</td>\n",
       "      <td>Direitos Humanos e Minorias</td>\n",
       "    </tr>\n",
       "    <tr>\n",
       "      <th>3</th>\n",
       "      <td>MANTÉM ATO DO TRIBUNAL DE CONTAS DA UNIÃO QUE ...</td>\n",
       "      <td>Direitos Humanos e Minorias</td>\n",
       "    </tr>\n",
       "    <tr>\n",
       "      <th>4</th>\n",
       "      <td>MANTEM O ATO DO TRIBUNAL DE CONTAS DA UNIÃO QU...</td>\n",
       "      <td>Direitos Humanos e Minorias</td>\n",
       "    </tr>\n",
       "  </tbody>\n",
       "</table>\n",
       "</div>"
      ],
      "text/plain": [
       "                                              ementa  \\\n",
       "0  MANTEM DECISÃO DENEGATORIA DO TRIBUNAL DE CONT...   \n",
       "1  MANTEM ATO DO TRIBUNAL DE CONTAS DA UNIÃO DE R...   \n",
       "2  MANTÉM DECISÃO DENEGATÓRIA DO TRIBUNAL DE CONT...   \n",
       "3  MANTÉM ATO DO TRIBUNAL DE CONTAS DA UNIÃO QUE ...   \n",
       "4  MANTEM O ATO DO TRIBUNAL DE CONTAS DA UNIÃO QU...   \n",
       "\n",
       "                         temas  \n",
       "0  Direitos Humanos e Minorias  \n",
       "1  Direitos Humanos e Minorias  \n",
       "2  Direitos Humanos e Minorias  \n",
       "3  Direitos Humanos e Minorias  \n",
       "4  Direitos Humanos e Minorias  "
      ]
     },
     "execution_count": 28,
     "metadata": {},
     "output_type": "execute_result"
    }
   ],
   "source": [
    "df_proposicoes_total_classificadas.head()"
   ]
  },
  {
   "cell_type": "code",
   "execution_count": 29,
   "metadata": {},
   "outputs": [
    {
     "name": "stdout",
     "output_type": "stream",
     "text": [
      "<class 'pandas.core.frame.DataFrame'>\n",
      "RangeIndex: 152386 entries, 0 to 152385\n",
      "Data columns (total 2 columns):\n",
      " #   Column  Non-Null Count   Dtype \n",
      "---  ------  --------------   ----- \n",
      " 0   ementa  152386 non-null  object\n",
      " 1   temas   152386 non-null  object\n",
      "dtypes: object(2)\n",
      "memory usage: 2.3+ MB\n"
     ]
    }
   ],
   "source": [
    "df_proposicoes_total_classificadas.info()"
   ]
  },
  {
   "cell_type": "markdown",
   "metadata": {},
   "source": [
    "Informar a probabilidade de acerto de cada tema"
   ]
  },
  {
   "cell_type": "code",
   "execution_count": 30,
   "metadata": {},
   "outputs": [],
   "source": [
    "temas_probabilities = clf.predict_proba(ementas_hasher)"
   ]
  },
  {
   "cell_type": "code",
   "execution_count": 31,
   "metadata": {},
   "outputs": [],
   "source": [
    "df_proposicoes_total_classificadas[\"probabilidade_predicao\"] = np.amax(temas_probabilities, axis=1)"
   ]
  },
  {
   "cell_type": "code",
   "execution_count": 32,
   "metadata": {},
   "outputs": [
    {
     "data": {
      "text/html": [
       "<div>\n",
       "<style scoped>\n",
       "    .dataframe tbody tr th:only-of-type {\n",
       "        vertical-align: middle;\n",
       "    }\n",
       "\n",
       "    .dataframe tbody tr th {\n",
       "        vertical-align: top;\n",
       "    }\n",
       "\n",
       "    .dataframe thead th {\n",
       "        text-align: right;\n",
       "    }\n",
       "</style>\n",
       "<table border=\"1\" class=\"dataframe\">\n",
       "  <thead>\n",
       "    <tr style=\"text-align: right;\">\n",
       "      <th></th>\n",
       "      <th>ementa</th>\n",
       "      <th>temas</th>\n",
       "      <th>probabilidade_predicao</th>\n",
       "    </tr>\n",
       "  </thead>\n",
       "  <tbody>\n",
       "    <tr>\n",
       "      <th>0</th>\n",
       "      <td>MANTEM DECISÃO DENEGATORIA DO TRIBUNAL DE CONT...</td>\n",
       "      <td>Direitos Humanos e Minorias</td>\n",
       "      <td>0.7600</td>\n",
       "    </tr>\n",
       "    <tr>\n",
       "      <th>1</th>\n",
       "      <td>MANTEM ATO DO TRIBUNAL DE CONTAS DA UNIÃO DE R...</td>\n",
       "      <td>Direitos Humanos e Minorias</td>\n",
       "      <td>0.5050</td>\n",
       "    </tr>\n",
       "    <tr>\n",
       "      <th>2</th>\n",
       "      <td>MANTÉM DECISÃO DENEGATÓRIA DO TRIBUNAL DE CONT...</td>\n",
       "      <td>Direitos Humanos e Minorias</td>\n",
       "      <td>0.7750</td>\n",
       "    </tr>\n",
       "    <tr>\n",
       "      <th>3</th>\n",
       "      <td>MANTÉM ATO DO TRIBUNAL DE CONTAS DA UNIÃO QUE ...</td>\n",
       "      <td>Direitos Humanos e Minorias</td>\n",
       "      <td>0.7150</td>\n",
       "    </tr>\n",
       "    <tr>\n",
       "      <th>4</th>\n",
       "      <td>MANTEM O ATO DO TRIBUNAL DE CONTAS DA UNIÃO QU...</td>\n",
       "      <td>Direitos Humanos e Minorias</td>\n",
       "      <td>0.4725</td>\n",
       "    </tr>\n",
       "  </tbody>\n",
       "</table>\n",
       "</div>"
      ],
      "text/plain": [
       "                                              ementa  \\\n",
       "0  MANTEM DECISÃO DENEGATORIA DO TRIBUNAL DE CONT...   \n",
       "1  MANTEM ATO DO TRIBUNAL DE CONTAS DA UNIÃO DE R...   \n",
       "2  MANTÉM DECISÃO DENEGATÓRIA DO TRIBUNAL DE CONT...   \n",
       "3  MANTÉM ATO DO TRIBUNAL DE CONTAS DA UNIÃO QUE ...   \n",
       "4  MANTEM O ATO DO TRIBUNAL DE CONTAS DA UNIÃO QU...   \n",
       "\n",
       "                         temas  probabilidade_predicao  \n",
       "0  Direitos Humanos e Minorias                  0.7600  \n",
       "1  Direitos Humanos e Minorias                  0.5050  \n",
       "2  Direitos Humanos e Minorias                  0.7750  \n",
       "3  Direitos Humanos e Minorias                  0.7150  \n",
       "4  Direitos Humanos e Minorias                  0.4725  "
      ]
     },
     "execution_count": 32,
     "metadata": {},
     "output_type": "execute_result"
    }
   ],
   "source": [
    "df_proposicoes_total_classificadas.head()"
   ]
  },
  {
   "cell_type": "code",
   "execution_count": 33,
   "metadata": {},
   "outputs": [
    {
     "name": "stdout",
     "output_type": "stream",
     "text": [
      "<class 'pandas.core.frame.DataFrame'>\n",
      "RangeIndex: 152386 entries, 0 to 152385\n",
      "Data columns (total 3 columns):\n",
      " #   Column                  Non-Null Count   Dtype  \n",
      "---  ------                  --------------   -----  \n",
      " 0   ementa                  152386 non-null  object \n",
      " 1   temas                   152386 non-null  object \n",
      " 2   probabilidade_predicao  152386 non-null  float64\n",
      "dtypes: float64(1), object(2)\n",
      "memory usage: 3.5+ MB\n"
     ]
    }
   ],
   "source": [
    "df_proposicoes_total_classificadas.info()"
   ]
  },
  {
   "cell_type": "markdown",
   "metadata": {},
   "source": [
    "Limpa temas cuja a probabilidade de acerto é menor do que 85%"
   ]
  },
  {
   "cell_type": "code",
   "execution_count": 34,
   "metadata": {},
   "outputs": [],
   "source": [
    "def retira_tema_com_baixa_probabilidade_acerto(proposicoes):\n",
    "        if proposicoes['probabilidade_predicao'] >= 0.85:\n",
    "            return proposicoes['temas']\n",
    "        else:\n",
    "            return np.nan"
   ]
  },
  {
   "cell_type": "code",
   "execution_count": 35,
   "metadata": {},
   "outputs": [],
   "source": [
    "df_proposicoes_total_classificadas['temas'] = df_proposicoes_total_classificadas.apply(retira_tema_com_baixa_probabilidade_acerto, \n",
    "                                                                                      axis=1)"
   ]
  },
  {
   "cell_type": "markdown",
   "metadata": {},
   "source": [
    "Reunir conjunto de dados de proposições legislativas com classificação realizada"
   ]
  },
  {
   "cell_type": "code",
   "execution_count": 36,
   "metadata": {},
   "outputs": [],
   "source": [
    "df_proposicoes_classificador = df_proposicoes.join(df_proposicoes_total_classificadas, rsuffix='_classificador')"
   ]
  },
  {
   "cell_type": "code",
   "execution_count": 37,
   "metadata": {},
   "outputs": [
    {
     "data": {
      "text/plain": [
       "(152386, 12)"
      ]
     },
     "execution_count": 37,
     "metadata": {},
     "output_type": "execute_result"
    }
   ],
   "source": [
    "df_proposicoes_classificador.shape"
   ]
  },
  {
   "cell_type": "code",
   "execution_count": 38,
   "metadata": {},
   "outputs": [
    {
     "data": {
      "text/html": [
       "<div>\n",
       "<style scoped>\n",
       "    .dataframe tbody tr th:only-of-type {\n",
       "        vertical-align: middle;\n",
       "    }\n",
       "\n",
       "    .dataframe tbody tr th {\n",
       "        vertical-align: top;\n",
       "    }\n",
       "\n",
       "    .dataframe thead th {\n",
       "        text-align: right;\n",
       "    }\n",
       "</style>\n",
       "<table border=\"1\" class=\"dataframe\">\n",
       "  <thead>\n",
       "    <tr style=\"text-align: right;\">\n",
       "      <th></th>\n",
       "      <th>id</th>\n",
       "      <th>siglaTipo</th>\n",
       "      <th>ano</th>\n",
       "      <th>codTipo</th>\n",
       "      <th>descricaoTipo</th>\n",
       "      <th>ementa</th>\n",
       "      <th>ementaDetalhada</th>\n",
       "      <th>keywords</th>\n",
       "      <th>temas</th>\n",
       "      <th>ementa_classificador</th>\n",
       "      <th>temas_classificador</th>\n",
       "      <th>probabilidade_predicao</th>\n",
       "    </tr>\n",
       "  </thead>\n",
       "  <tbody>\n",
       "    <tr>\n",
       "      <th>0</th>\n",
       "      <td>168293</td>\n",
       "      <td>PDC</td>\n",
       "      <td>1965</td>\n",
       "      <td>135</td>\n",
       "      <td>Projeto de Decreto Legislativo</td>\n",
       "      <td>MANTEM DECISÃO DENEGATORIA DO TRIBUNAL DE CONT...</td>\n",
       "      <td>NaN</td>\n",
       "      <td>manutenção,decisão,tribunal,contas,união,tcu,d...</td>\n",
       "      <td>NaN</td>\n",
       "      <td>MANTEM DECISÃO DENEGATORIA DO TRIBUNAL DE CONT...</td>\n",
       "      <td>NaN</td>\n",
       "      <td>0.7600</td>\n",
       "    </tr>\n",
       "    <tr>\n",
       "      <th>1</th>\n",
       "      <td>168297</td>\n",
       "      <td>PDC</td>\n",
       "      <td>1965</td>\n",
       "      <td>135</td>\n",
       "      <td>Projeto de Decreto Legislativo</td>\n",
       "      <td>MANTEM ATO DO TRIBUNAL DE CONTAS DA UNIÃO DE R...</td>\n",
       "      <td>NaN</td>\n",
       "      <td>manutenção,ato,tribunal,contas,união,tcu,recus...</td>\n",
       "      <td>NaN</td>\n",
       "      <td>MANTEM ATO DO TRIBUNAL DE CONTAS DA UNIÃO DE R...</td>\n",
       "      <td>NaN</td>\n",
       "      <td>0.5050</td>\n",
       "    </tr>\n",
       "    <tr>\n",
       "      <th>2</th>\n",
       "      <td>168300</td>\n",
       "      <td>PDC</td>\n",
       "      <td>1965</td>\n",
       "      <td>135</td>\n",
       "      <td>Projeto de Decreto Legislativo</td>\n",
       "      <td>MANTÉM DECISÃO DENEGATÓRIA DO TRIBUNAL DE CONT...</td>\n",
       "      <td>NaN</td>\n",
       "      <td>manutenção,decisão,tribunal,contas,união,tcu,d...</td>\n",
       "      <td>NaN</td>\n",
       "      <td>MANTÉM DECISÃO DENEGATÓRIA DO TRIBUNAL DE CONT...</td>\n",
       "      <td>NaN</td>\n",
       "      <td>0.7750</td>\n",
       "    </tr>\n",
       "    <tr>\n",
       "      <th>3</th>\n",
       "      <td>168303</td>\n",
       "      <td>PDC</td>\n",
       "      <td>1965</td>\n",
       "      <td>135</td>\n",
       "      <td>Projeto de Decreto Legislativo</td>\n",
       "      <td>MANTÉM ATO DO TRIBUNAL DE CONTAS DA UNIÃO QUE ...</td>\n",
       "      <td>NaN</td>\n",
       "      <td>manutenção,ato,tribunal,contas,união,tcu,negaç...</td>\n",
       "      <td>NaN</td>\n",
       "      <td>MANTÉM ATO DO TRIBUNAL DE CONTAS DA UNIÃO QUE ...</td>\n",
       "      <td>NaN</td>\n",
       "      <td>0.7150</td>\n",
       "    </tr>\n",
       "    <tr>\n",
       "      <th>4</th>\n",
       "      <td>168307</td>\n",
       "      <td>PDC</td>\n",
       "      <td>1965</td>\n",
       "      <td>135</td>\n",
       "      <td>Projeto de Decreto Legislativo</td>\n",
       "      <td>MANTEM O ATO DO TRIBUNAL DE CONTAS DA UNIÃO QU...</td>\n",
       "      <td>NaN</td>\n",
       "      <td>manutenção,ato,tribunal,contas,união,tcu,deneg...</td>\n",
       "      <td>NaN</td>\n",
       "      <td>MANTEM O ATO DO TRIBUNAL DE CONTAS DA UNIÃO QU...</td>\n",
       "      <td>NaN</td>\n",
       "      <td>0.4725</td>\n",
       "    </tr>\n",
       "  </tbody>\n",
       "</table>\n",
       "</div>"
      ],
      "text/plain": [
       "       id siglaTipo   ano  codTipo                   descricaoTipo  \\\n",
       "0  168293       PDC  1965      135  Projeto de Decreto Legislativo   \n",
       "1  168297       PDC  1965      135  Projeto de Decreto Legislativo   \n",
       "2  168300       PDC  1965      135  Projeto de Decreto Legislativo   \n",
       "3  168303       PDC  1965      135  Projeto de Decreto Legislativo   \n",
       "4  168307       PDC  1965      135  Projeto de Decreto Legislativo   \n",
       "\n",
       "                                              ementa ementaDetalhada  \\\n",
       "0  MANTEM DECISÃO DENEGATORIA DO TRIBUNAL DE CONT...             NaN   \n",
       "1  MANTEM ATO DO TRIBUNAL DE CONTAS DA UNIÃO DE R...             NaN   \n",
       "2  MANTÉM DECISÃO DENEGATÓRIA DO TRIBUNAL DE CONT...             NaN   \n",
       "3  MANTÉM ATO DO TRIBUNAL DE CONTAS DA UNIÃO QUE ...             NaN   \n",
       "4  MANTEM O ATO DO TRIBUNAL DE CONTAS DA UNIÃO QU...             NaN   \n",
       "\n",
       "                                            keywords temas  \\\n",
       "0  manutenção,decisão,tribunal,contas,união,tcu,d...   NaN   \n",
       "1  manutenção,ato,tribunal,contas,união,tcu,recus...   NaN   \n",
       "2  manutenção,decisão,tribunal,contas,união,tcu,d...   NaN   \n",
       "3  manutenção,ato,tribunal,contas,união,tcu,negaç...   NaN   \n",
       "4  manutenção,ato,tribunal,contas,união,tcu,deneg...   NaN   \n",
       "\n",
       "                                ementa_classificador temas_classificador  \\\n",
       "0  MANTEM DECISÃO DENEGATORIA DO TRIBUNAL DE CONT...                 NaN   \n",
       "1  MANTEM ATO DO TRIBUNAL DE CONTAS DA UNIÃO DE R...                 NaN   \n",
       "2  MANTÉM DECISÃO DENEGATÓRIA DO TRIBUNAL DE CONT...                 NaN   \n",
       "3  MANTÉM ATO DO TRIBUNAL DE CONTAS DA UNIÃO QUE ...                 NaN   \n",
       "4  MANTEM O ATO DO TRIBUNAL DE CONTAS DA UNIÃO QU...                 NaN   \n",
       "\n",
       "   probabilidade_predicao  \n",
       "0                  0.7600  \n",
       "1                  0.5050  \n",
       "2                  0.7750  \n",
       "3                  0.7150  \n",
       "4                  0.4725  "
      ]
     },
     "execution_count": 38,
     "metadata": {},
     "output_type": "execute_result"
    }
   ],
   "source": [
    "df_proposicoes_classificador.head()"
   ]
  },
  {
   "cell_type": "code",
   "execution_count": 39,
   "metadata": {},
   "outputs": [],
   "source": [
    "df_proposicoes_classificador.drop(columns=['temas', 'ementa_classificador', 'probabilidade_predicao'], inplace=True)"
   ]
  },
  {
   "cell_type": "code",
   "execution_count": 40,
   "metadata": {},
   "outputs": [],
   "source": [
    "df_proposicoes_classificador.to_csv('dados/proposicoes_legislativas_limpas_classificadas.csv', index=False)"
   ]
  }
 ],
 "metadata": {
  "colab": {
   "collapsed_sections": [
    "oxTA1nC7VnMS",
    "9trT_cm1HbiQ",
    "16gs4-zekZsA"
   ],
   "name": "Clusterizar temas das  Proposições da Câmara dos Deputados.ipynb",
   "provenance": []
  },
  "kernelspec": {
   "display_name": "Python 3",
   "language": "python",
   "name": "python3"
  },
  "language_info": {
   "codemirror_mode": {
    "name": "ipython",
    "version": 3
   },
   "file_extension": ".py",
   "mimetype": "text/x-python",
   "name": "python",
   "nbconvert_exporter": "python",
   "pygments_lexer": "ipython3",
   "version": "3.8.10"
  }
 },
 "nbformat": 4,
 "nbformat_minor": 4
}
