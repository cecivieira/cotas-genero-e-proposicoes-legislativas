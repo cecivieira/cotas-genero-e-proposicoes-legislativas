{
 "cells": [
  {
   "cell_type": "markdown",
   "id": "865c8b81-2de7-4045-84f3-00d41e8b2957",
   "metadata": {},
   "source": [
    "Esse notebook destina-se a análise dos dados referentes as propostas legislativas no período de 1934 a 2021. As perguntas estabelecidas e as hipóteses a serem comprovadas foram:\n",
    "\n",
    "1. Houve aumento na quantidade anual de propostas legislativas cuja temática beneficia grupos historicamente marginalizados no período entre 1934 e 2021?\n",
    "    - **Hipótese:** Sim, houve aumento na quantidade anual de propostas legislativas cuja temática beneficia grupos historicamente marginalizados.\n",
    "2. Qual é o coeficiente de correlação entre a quantidade anual de propostas legislativas cuja temática beneficia grupos historicamente marginalizados e o percentual de mulheres eleitas para o cargo de deputada federal entre os anos de 1995 e 2019?\n",
    "    - **Hipótese:** Fraco\n",
    "    \n",
    "Vale ressaltar que existem registros apenas de algumas proposições legislativas tramitadas entre os anos de 1934 e 1945, além disso os dados das proposições legislativas entre os anos de 1946 e 2000 estão parcialmente disponibilizados - estão abertos apenas os referentes às “proposições de tipos que poderiam se tornar (ou se tornaram) leis e normas jurídicas” (Brasil, [2021?]), sendo assim as análises realizadas com os dados desse período podem não refletir a realidade. Também, ressalta-se que não foi realizado um estudo aprofundado em Ciência da Informação para a criação de vocabulário controlado usado neste relatório, sendo assim as análises a seguir destinam-se apenas ao exercício proposto para este trabalho de conclusão de curso."
   ]
  },
  {
   "cell_type": "code",
   "execution_count": 1,
   "id": "3e9beba8-739d-4ea9-8ad3-4f608a835a34",
   "metadata": {},
   "outputs": [],
   "source": [
    "import pandas as pd\n",
    "import numpy as np\n",
    "\n",
    "import seaborn as sns\n",
    "import matplotlib.pyplot as plt"
   ]
  },
  {
   "cell_type": "markdown",
   "id": "9e183ff9-4e6a-4d6b-9268-a498ef1ad382",
   "metadata": {},
   "source": [
    "## 1. Houve aumento na quantidade anual de propostas legislativas cuja temática beneficia grupos historicamente marginalizados no período entre 1934 e 2021?\n",
    "**Hipótese:** Sim, houve aumento na quantidade anual de propostas legislativas cuja temática beneficia grupos historicamente marginalizados."
   ]
  },
  {
   "cell_type": "code",
   "execution_count": null,
   "id": "4a312272-7232-43a6-ac25-c04aea7a8377",
   "metadata": {},
   "outputs": [],
   "source": [
    "proposicoes = pd.read_csv('../dados/proposicoes_legislativas_limpas_classificadas.csv')"
   ]
  },
  {
   "cell_type": "code",
   "execution_count": null,
   "id": "be3e94f3-466f-4948-aa5c-fee4940799da",
   "metadata": {},
   "outputs": [],
   "source": [
    "proposicoes.head()"
   ]
  },
  {
   "cell_type": "markdown",
   "id": "7e2176e9-eef9-49a8-b9ee-44dc2cea59d7",
   "metadata": {},
   "source": [
    "Agrupa por ano a quantidade de propostas legislativas referente a proteção de direitos de grupos historicamente marginalizados."
   ]
  },
  {
   "cell_type": "code",
   "execution_count": null,
   "id": "ab91166d-93f5-40da-9b6f-a5ca447aff08",
   "metadata": {},
   "outputs": [],
   "source": [
    "proposicoes_anuais = proposicoes[['ano', 'temas_classificador']].groupby(by=['ano']).count()"
   ]
  },
  {
   "cell_type": "code",
   "execution_count": null,
   "id": "2322d8b5-4298-429e-9550-46646273f34f",
   "metadata": {},
   "outputs": [],
   "source": [
    "proposicoes_anuais.tail(10)"
   ]
  },
  {
   "cell_type": "markdown",
   "id": "2983768f-01ef-4666-a20a-68e0e53ba699",
   "metadata": {},
   "source": [
    "Visualiza em um plano cartesiano"
   ]
  },
  {
   "cell_type": "code",
   "execution_count": null,
   "id": "856361f7-ed4f-4313-b5e3-b9deb52b36c5",
   "metadata": {},
   "outputs": [],
   "source": [
    "proposicoes_anuais.plot.line()"
   ]
  },
  {
   "cell_type": "code",
   "execution_count": null,
   "id": "9e0ee2c3-3178-481d-9634-5505c75d1bc5",
   "metadata": {},
   "outputs": [],
   "source": [
    "proposicoes_anuais = proposicoes_anuais.reset_index()\n",
    "proposicoes_anuais.to_csv('../dados/proposicoes_anuais.csv', index=False)"
   ]
  },
  {
   "cell_type": "code",
   "execution_count": null,
   "id": "1c7f0743-7b78-4822-bf89-bb6e3560d692",
   "metadata": {},
   "outputs": [],
   "source": [
    "print(f'''\n",
    "Pergunta: Houve aumento na quantidade anual de propostas legislativas cuja temática beneficia grupos historicamente marginalizados no período entre 1934 e 2021? \\n \n",
    "Resposta: Conforme observado no gráfico acima, apesar das oscilações, há uma tendência de crescimento positivo na quantidade de propostas apresentadas sobre a temática estudada. \n",
    "''')"
   ]
  },
  {
   "cell_type": "markdown",
   "id": "17beae32-64a9-4f71-9700-4b0866908493",
   "metadata": {},
   "source": [
    "## 2. Qual é o coeficiente de correlação entre a quantidade anual de propostas legislativas cuja temática beneficia grupos historicamente marginalizados e o percentual de mulheres eleitas para o cargo de deputada federal entre os anos de 1995 e 2019?\n",
    "**Hipótese:** A correlação entre a quantidade anual de propostas legislativas cuja temática beneficia grupos historicamente marginalizados e o percentual de mulheres eleitas é baixa, ou seja, há um baixo grau de correlação."
   ]
  },
  {
   "cell_type": "markdown",
   "id": "04f966e1-ec2d-4e62-8812-cae1e229a9aa",
   "metadata": {},
   "source": [
    "Importa dados das análises constantes no notebook [analise-candidaturas-eleitas](/analise-candidaturas-eleitas.csv)"
   ]
  },
  {
   "cell_type": "code",
   "execution_count": null,
   "id": "f726668b-a65c-4b60-9856-f2b81372ab2d",
   "metadata": {},
   "outputs": [],
   "source": [
    "analise_genero_1995_2007 = pd.read_csv('../dados/analise_genero_1995_2007.csv')\n",
    "analise_genero_2007_2019 = pd.read_csv('../dados/analise_genero_2007_2019.csv')"
   ]
  },
  {
   "cell_type": "markdown",
   "id": "1287abe8-48ce-4645-b3cb-eb275f96080d",
   "metadata": {},
   "source": [
    "Verifica se as colunas dos dataframes são identicas"
   ]
  },
  {
   "cell_type": "code",
   "execution_count": null,
   "id": "c0b23fda-c03d-404e-861b-7be957d7c989",
   "metadata": {},
   "outputs": [],
   "source": [
    "analise_genero_1995_2007.columns == analise_genero_2007_2019.columns"
   ]
  },
  {
   "cell_type": "markdown",
   "id": "17e05cf6-4874-487b-a29a-d3a7301f89af",
   "metadata": {},
   "source": [
    "Cria dataframe único"
   ]
  },
  {
   "cell_type": "code",
   "execution_count": null,
   "id": "b2468ae7-9a62-4338-933f-766d0265fa62",
   "metadata": {},
   "outputs": [],
   "source": [
    "analise_genero_1995_2019 = pd.concat([analise_genero_1995_2007, analise_genero_2007_2019], ignore_index=True)"
   ]
  },
  {
   "cell_type": "code",
   "execution_count": null,
   "id": "4597737f-68b9-40f0-aba8-1828cc85e6f5",
   "metadata": {},
   "outputs": [],
   "source": [
    "analise_genero_1995_2019"
   ]
  },
  {
   "cell_type": "code",
   "execution_count": null,
   "id": "e2aae3b5-e530-46fc-95c8-0925fb70ff1f",
   "metadata": {},
   "outputs": [],
   "source": [
    "analise_genero_1995_2019.rename(columns={'Unnamed: 0': 'ano'}, inplace=True)"
   ]
  },
  {
   "cell_type": "code",
   "execution_count": null,
   "id": "1b12c345-ff7d-4bee-8824-e154e94d1172",
   "metadata": {},
   "outputs": [],
   "source": [
    "analise_genero_1995_2019.drop(index=3, inplace=True)"
   ]
  },
  {
   "cell_type": "code",
   "execution_count": null,
   "id": "572eb3ca-eb38-4bbd-921a-58898c14280c",
   "metadata": {},
   "outputs": [],
   "source": [
    "analise_genero_1995_2019"
   ]
  },
  {
   "cell_type": "code",
   "execution_count": null,
   "id": "533b94a7-2fe9-4e91-b6bf-a9266c35acd7",
   "metadata": {},
   "outputs": [],
   "source": [
    "anos = analise_genero_1995_2019['ano'].tolist()\n",
    "anos.append(2021)\n",
    "anos"
   ]
  },
  {
   "cell_type": "markdown",
   "id": "03b618c8-2115-45fb-9ffd-af9fbcc2dd1e",
   "metadata": {},
   "source": [
    "Insere período completo de cada legislatura, levando em conta que proporcionalidade de gênero só é alterada a cada nova eleição."
   ]
  },
  {
   "cell_type": "code",
   "execution_count": null,
   "id": "42bc768d-283b-4204-855d-cfbe2a1a562e",
   "metadata": {},
   "outputs": [],
   "source": [
    "for ano in anos:\n",
    "    mulher_percentual = analise_genero_1995_2019['mulher'][analise_genero_1995_2019['ano'] == ano].item()\n",
    "    homem_percentual = analise_genero_1995_2019['homem'][analise_genero_1995_2019['ano'] == ano].item()\n",
    "    if ano < 2021:\n",
    "        dados = pd.DataFrame(data={\n",
    "            'ano': [ano+1, ano+2, ano+3], \n",
    "            'mulher': [mulher_percentual, mulher_percentual, mulher_percentual], \n",
    "            'homem': [homem_percentual, homem_percentual, homem_percentual]}\n",
    "                            )\n",
    "        analise_genero_1995_2019 = pd.concat([analise_genero_1995_2019, dados])"
   ]
  },
  {
   "cell_type": "code",
   "execution_count": null,
   "id": "549a1892-5478-42b9-8076-ee0c1e678c47",
   "metadata": {},
   "outputs": [],
   "source": [
    "analise_genero_1995_2019.sort_values(by=['ano'], inplace=True)"
   ]
  },
  {
   "cell_type": "code",
   "execution_count": null,
   "id": "9b011eea-491e-47be-9826-c2c209787557",
   "metadata": {},
   "outputs": [],
   "source": [
    "analise_genero_1995_2019.reset_index(drop=True, inplace=True)"
   ]
  },
  {
   "cell_type": "code",
   "execution_count": null,
   "id": "ffe52017-7cb7-4f76-979b-853bb2f5b651",
   "metadata": {},
   "outputs": [],
   "source": [
    "analise_genero_1995_2019.tail()"
   ]
  },
  {
   "cell_type": "code",
   "execution_count": null,
   "id": "7b3e25f0-92f1-402f-a190-36e077ce2ac1",
   "metadata": {},
   "outputs": [],
   "source": [
    "analise_genero_1995_2019.drop(index=27, inplace=True)    "
   ]
  },
  {
   "cell_type": "markdown",
   "id": "58339e4e-605d-4477-a955-72dfed7e033c",
   "metadata": {},
   "source": [
    "Insere total anual de propostas legislativas cuja temática beneficia grupos historicamente marginalizados."
   ]
  },
  {
   "cell_type": "code",
   "execution_count": null,
   "id": "eef87b49-38ec-4400-80b0-def993ae444a",
   "metadata": {},
   "outputs": [],
   "source": [
    "def insere_qnt_propostas(ano_candidaturas_eleitas):\n",
    "    for ano, qnt_tema in zip(proposicoes_anuais['ano'], proposicoes_anuais['temas_classificador']):\n",
    "        if ano == ano_candidaturas_eleitas:\n",
    "            return qnt_tema"
   ]
  },
  {
   "cell_type": "code",
   "execution_count": null,
   "id": "457c0a2a-1503-4bda-b219-cd584e76810f",
   "metadata": {},
   "outputs": [],
   "source": [
    "analise_genero_1995_2019['qnt_proposicoes'] = analise_genero_1995_2019['ano'].apply(insere_qnt_propostas)"
   ]
  },
  {
   "cell_type": "code",
   "execution_count": null,
   "id": "caed03f4-93c5-46dd-83fa-dd6ae6a54c5d",
   "metadata": {},
   "outputs": [],
   "source": [
    "analise_genero_1995_2019.head(10)"
   ]
  },
  {
   "cell_type": "markdown",
   "id": "60f30f3b-f0c9-4dee-a44a-1f1f38dc7b2e",
   "metadata": {},
   "source": [
    "Criar matriz de correlação"
   ]
  },
  {
   "cell_type": "code",
   "execution_count": null,
   "id": "45b531e9-b450-44f8-aa38-6acbd85db31e",
   "metadata": {},
   "outputs": [],
   "source": [
    "correlacao = analise_genero_1995_2019[['mulher', 'homem', 'qnt_proposicoes']].corr(method='pearson')"
   ]
  },
  {
   "cell_type": "code",
   "execution_count": null,
   "id": "25426466-d13a-4bdd-bebf-2291a6f3ee4c",
   "metadata": {},
   "outputs": [],
   "source": [
    "coeficiente_correlacao_mulher_qnt_temas = round(correlacao['mulher']['qnt_proposicoes'],2)"
   ]
  },
  {
   "cell_type": "code",
   "execution_count": null,
   "id": "aee2bb21-3b3c-4dc5-81af-ceb8d90399f4",
   "metadata": {},
   "outputs": [],
   "source": [
    "correlacao_matriz_triangular = np.triu(np.ones_like(correlacao))"
   ]
  },
  {
   "cell_type": "code",
   "execution_count": null,
   "id": "2a8819ef-0aeb-4551-84cb-7f5c8a813ea6",
   "metadata": {},
   "outputs": [],
   "source": [
    "sns.heatmap(correlacao, annot=True, mask=correlacao_matriz_triangular)"
   ]
  },
  {
   "cell_type": "code",
   "execution_count": null,
   "id": "e575d495-5f30-4e56-acb2-12018d801e15",
   "metadata": {},
   "outputs": [],
   "source": [
    "correlacao.to_csv('../dados/coeficiente_correlacao_mulher_qnt_temas.csv')"
   ]
  },
  {
   "cell_type": "code",
   "execution_count": null,
   "id": "327d2b41-25a7-4b21-afe1-0acfa1eb6094",
   "metadata": {},
   "outputs": [],
   "source": [
    "print(f'''Qual é o coeficiente de correlação entre a quantidade anual de propostas legislativas cuja temática beneficia grupos historicamente marginalizados e o percentual de mulheres eleitas para o cargo de deputada federal entre os anos de 1995 e 2019?\\n \n",
    "- Conforme observado na matriz de correlação acima, este coeficiente de correlação de Pearson é {coeficiente_correlacao_mulher_qnt_temas}, o que caracteriza uma fraca correlação entre os itens analisados.\n",
    "''')"
   ]
  }
 ],
 "metadata": {
  "kernelspec": {
   "display_name": "Python 3",
   "language": "python",
   "name": "python3"
  },
  "language_info": {
   "codemirror_mode": {
    "name": "ipython",
    "version": 3
   },
   "file_extension": ".py",
   "mimetype": "text/x-python",
   "name": "python",
   "nbconvert_exporter": "python",
   "pygments_lexer": "ipython3",
   "version": "3.8.10"
  }
 },
 "nbformat": 4,
 "nbformat_minor": 5
}
