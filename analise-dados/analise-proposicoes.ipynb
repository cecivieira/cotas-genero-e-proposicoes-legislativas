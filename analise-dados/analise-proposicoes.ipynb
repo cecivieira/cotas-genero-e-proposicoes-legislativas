{
 "cells": [
  {
   "cell_type": "code",
   "execution_count": 35,
   "id": "3e9beba8-739d-4ea9-8ad3-4f608a835a34",
   "metadata": {},
   "outputs": [],
   "source": [
    "import pandas as pd\n",
    "import numpy as np\n",
    "\n",
    "import seaborn as sns\n",
    "import matplotlib.pyplot as plt"
   ]
  },
  {
   "cell_type": "code",
   "execution_count": 2,
   "id": "4a312272-7232-43a6-ac25-c04aea7a8377",
   "metadata": {},
   "outputs": [],
   "source": [
    "proposicoes = pd.read_csv('../dados/proposicoes_legislativas_limpas_vocabulario.csv')"
   ]
  },
  {
   "cell_type": "markdown",
   "id": "9e183ff9-4e6a-4d6b-9268-a498ef1ad382",
   "metadata": {},
   "source": [
    "# Houve aumento na quantidade anual de propostas legislativas cuja temática beneficia grupos historicamente marginalizados no período entre 1934 e 2021?\n",
    "**Hipótese:** Sim, houve aumento na quantidade anual de propostas legislativas cuja temática beneficia grupos historicamente marginalizados."
   ]
  },
  {
   "cell_type": "code",
   "execution_count": 3,
   "id": "be3e94f3-466f-4948-aa5c-fee4940799da",
   "metadata": {},
   "outputs": [
    {
     "data": {
      "text/html": [
       "<div>\n",
       "<style scoped>\n",
       "    .dataframe tbody tr th:only-of-type {\n",
       "        vertical-align: middle;\n",
       "    }\n",
       "\n",
       "    .dataframe tbody tr th {\n",
       "        vertical-align: top;\n",
       "    }\n",
       "\n",
       "    .dataframe thead th {\n",
       "        text-align: right;\n",
       "    }\n",
       "</style>\n",
       "<table border=\"1\" class=\"dataframe\">\n",
       "  <thead>\n",
       "    <tr style=\"text-align: right;\">\n",
       "      <th></th>\n",
       "      <th>id</th>\n",
       "      <th>siglaTipo</th>\n",
       "      <th>ano</th>\n",
       "      <th>codTipo</th>\n",
       "      <th>descricaoTipo</th>\n",
       "      <th>ementa</th>\n",
       "      <th>ementaDetalhada</th>\n",
       "      <th>keywords</th>\n",
       "      <th>temas</th>\n",
       "    </tr>\n",
       "  </thead>\n",
       "  <tbody>\n",
       "    <tr>\n",
       "      <th>0</th>\n",
       "      <td>168293</td>\n",
       "      <td>PDC</td>\n",
       "      <td>1965</td>\n",
       "      <td>135</td>\n",
       "      <td>Projeto de Decreto Legislativo</td>\n",
       "      <td>MANTEM DECISÃO DENEGATORIA DO TRIBUNAL DE CONT...</td>\n",
       "      <td>NaN</td>\n",
       "      <td>manutenção,decisão,tribunal,contas,união,tcu,d...</td>\n",
       "      <td>NaN</td>\n",
       "    </tr>\n",
       "    <tr>\n",
       "      <th>1</th>\n",
       "      <td>168297</td>\n",
       "      <td>PDC</td>\n",
       "      <td>1965</td>\n",
       "      <td>135</td>\n",
       "      <td>Projeto de Decreto Legislativo</td>\n",
       "      <td>MANTEM ATO DO TRIBUNAL DE CONTAS DA UNIÃO DE R...</td>\n",
       "      <td>NaN</td>\n",
       "      <td>manutenção,ato,tribunal,contas,união,tcu,recus...</td>\n",
       "      <td>NaN</td>\n",
       "    </tr>\n",
       "    <tr>\n",
       "      <th>2</th>\n",
       "      <td>168300</td>\n",
       "      <td>PDC</td>\n",
       "      <td>1965</td>\n",
       "      <td>135</td>\n",
       "      <td>Projeto de Decreto Legislativo</td>\n",
       "      <td>MANTÉM DECISÃO DENEGATÓRIA DO TRIBUNAL DE CONT...</td>\n",
       "      <td>NaN</td>\n",
       "      <td>manutenção,decisão,tribunal,contas,união,tcu,d...</td>\n",
       "      <td>NaN</td>\n",
       "    </tr>\n",
       "    <tr>\n",
       "      <th>3</th>\n",
       "      <td>168303</td>\n",
       "      <td>PDC</td>\n",
       "      <td>1965</td>\n",
       "      <td>135</td>\n",
       "      <td>Projeto de Decreto Legislativo</td>\n",
       "      <td>MANTÉM ATO DO TRIBUNAL DE CONTAS DA UNIÃO QUE ...</td>\n",
       "      <td>NaN</td>\n",
       "      <td>manutenção,ato,tribunal,contas,união,tcu,negaç...</td>\n",
       "      <td>NaN</td>\n",
       "    </tr>\n",
       "    <tr>\n",
       "      <th>4</th>\n",
       "      <td>168307</td>\n",
       "      <td>PDC</td>\n",
       "      <td>1965</td>\n",
       "      <td>135</td>\n",
       "      <td>Projeto de Decreto Legislativo</td>\n",
       "      <td>MANTEM O ATO DO TRIBUNAL DE CONTAS DA UNIÃO QU...</td>\n",
       "      <td>NaN</td>\n",
       "      <td>manutenção,ato,tribunal,contas,união,tcu,deneg...</td>\n",
       "      <td>NaN</td>\n",
       "    </tr>\n",
       "  </tbody>\n",
       "</table>\n",
       "</div>"
      ],
      "text/plain": [
       "       id siglaTipo   ano  codTipo                   descricaoTipo  \\\n",
       "0  168293       PDC  1965      135  Projeto de Decreto Legislativo   \n",
       "1  168297       PDC  1965      135  Projeto de Decreto Legislativo   \n",
       "2  168300       PDC  1965      135  Projeto de Decreto Legislativo   \n",
       "3  168303       PDC  1965      135  Projeto de Decreto Legislativo   \n",
       "4  168307       PDC  1965      135  Projeto de Decreto Legislativo   \n",
       "\n",
       "                                              ementa ementaDetalhada  \\\n",
       "0  MANTEM DECISÃO DENEGATORIA DO TRIBUNAL DE CONT...             NaN   \n",
       "1  MANTEM ATO DO TRIBUNAL DE CONTAS DA UNIÃO DE R...             NaN   \n",
       "2  MANTÉM DECISÃO DENEGATÓRIA DO TRIBUNAL DE CONT...             NaN   \n",
       "3  MANTÉM ATO DO TRIBUNAL DE CONTAS DA UNIÃO QUE ...             NaN   \n",
       "4  MANTEM O ATO DO TRIBUNAL DE CONTAS DA UNIÃO QU...             NaN   \n",
       "\n",
       "                                            keywords temas  \n",
       "0  manutenção,decisão,tribunal,contas,união,tcu,d...   NaN  \n",
       "1  manutenção,ato,tribunal,contas,união,tcu,recus...   NaN  \n",
       "2  manutenção,decisão,tribunal,contas,união,tcu,d...   NaN  \n",
       "3  manutenção,ato,tribunal,contas,união,tcu,negaç...   NaN  \n",
       "4  manutenção,ato,tribunal,contas,união,tcu,deneg...   NaN  "
      ]
     },
     "execution_count": 3,
     "metadata": {},
     "output_type": "execute_result"
    }
   ],
   "source": [
    "proposicoes.head()"
   ]
  },
  {
   "cell_type": "markdown",
   "id": "7e2176e9-eef9-49a8-b9ee-44dc2cea59d7",
   "metadata": {},
   "source": [
    "Agrupa a quantidade de propostas legislativas referente a proteção de direitos de grupos historicamente marginalizados."
   ]
  },
  {
   "cell_type": "code",
   "execution_count": 4,
   "id": "ab91166d-93f5-40da-9b6f-a5ca447aff08",
   "metadata": {},
   "outputs": [],
   "source": [
    "proposicoes_anuais = proposicoes[['ano', 'temas']].groupby(by=['ano']).count()"
   ]
  },
  {
   "cell_type": "code",
   "execution_count": 5,
   "id": "2322d8b5-4298-429e-9550-46646273f34f",
   "metadata": {},
   "outputs": [
    {
     "data": {
      "text/html": [
       "<div>\n",
       "<style scoped>\n",
       "    .dataframe tbody tr th:only-of-type {\n",
       "        vertical-align: middle;\n",
       "    }\n",
       "\n",
       "    .dataframe tbody tr th {\n",
       "        vertical-align: top;\n",
       "    }\n",
       "\n",
       "    .dataframe thead th {\n",
       "        text-align: right;\n",
       "    }\n",
       "</style>\n",
       "<table border=\"1\" class=\"dataframe\">\n",
       "  <thead>\n",
       "    <tr style=\"text-align: right;\">\n",
       "      <th></th>\n",
       "      <th>temas</th>\n",
       "    </tr>\n",
       "    <tr>\n",
       "      <th>ano</th>\n",
       "      <th></th>\n",
       "    </tr>\n",
       "  </thead>\n",
       "  <tbody>\n",
       "    <tr>\n",
       "      <th>2002</th>\n",
       "      <td>230</td>\n",
       "    </tr>\n",
       "    <tr>\n",
       "      <th>2003</th>\n",
       "      <td>469</td>\n",
       "    </tr>\n",
       "    <tr>\n",
       "      <th>2004</th>\n",
       "      <td>363</td>\n",
       "    </tr>\n",
       "    <tr>\n",
       "      <th>2005</th>\n",
       "      <td>319</td>\n",
       "    </tr>\n",
       "    <tr>\n",
       "      <th>2006</th>\n",
       "      <td>225</td>\n",
       "    </tr>\n",
       "    <tr>\n",
       "      <th>2007</th>\n",
       "      <td>479</td>\n",
       "    </tr>\n",
       "    <tr>\n",
       "      <th>2008</th>\n",
       "      <td>278</td>\n",
       "    </tr>\n",
       "    <tr>\n",
       "      <th>2009</th>\n",
       "      <td>356</td>\n",
       "    </tr>\n",
       "    <tr>\n",
       "      <th>2010</th>\n",
       "      <td>195</td>\n",
       "    </tr>\n",
       "    <tr>\n",
       "      <th>2011</th>\n",
       "      <td>466</td>\n",
       "    </tr>\n",
       "    <tr>\n",
       "      <th>2012</th>\n",
       "      <td>250</td>\n",
       "    </tr>\n",
       "    <tr>\n",
       "      <th>2013</th>\n",
       "      <td>296</td>\n",
       "    </tr>\n",
       "    <tr>\n",
       "      <th>2014</th>\n",
       "      <td>217</td>\n",
       "    </tr>\n",
       "    <tr>\n",
       "      <th>2015</th>\n",
       "      <td>671</td>\n",
       "    </tr>\n",
       "    <tr>\n",
       "      <th>2016</th>\n",
       "      <td>432</td>\n",
       "    </tr>\n",
       "    <tr>\n",
       "      <th>2017</th>\n",
       "      <td>437</td>\n",
       "    </tr>\n",
       "    <tr>\n",
       "      <th>2018</th>\n",
       "      <td>352</td>\n",
       "    </tr>\n",
       "    <tr>\n",
       "      <th>2019</th>\n",
       "      <td>856</td>\n",
       "    </tr>\n",
       "    <tr>\n",
       "      <th>2020</th>\n",
       "      <td>1739</td>\n",
       "    </tr>\n",
       "    <tr>\n",
       "      <th>2021</th>\n",
       "      <td>904</td>\n",
       "    </tr>\n",
       "  </tbody>\n",
       "</table>\n",
       "</div>"
      ],
      "text/plain": [
       "      temas\n",
       "ano        \n",
       "2002    230\n",
       "2003    469\n",
       "2004    363\n",
       "2005    319\n",
       "2006    225\n",
       "2007    479\n",
       "2008    278\n",
       "2009    356\n",
       "2010    195\n",
       "2011    466\n",
       "2012    250\n",
       "2013    296\n",
       "2014    217\n",
       "2015    671\n",
       "2016    432\n",
       "2017    437\n",
       "2018    352\n",
       "2019    856\n",
       "2020   1739\n",
       "2021    904"
      ]
     },
     "execution_count": 5,
     "metadata": {},
     "output_type": "execute_result"
    }
   ],
   "source": [
    "proposicoes_anuais.tail(20)"
   ]
  },
  {
   "cell_type": "markdown",
   "id": "2983768f-01ef-4666-a20a-68e0e53ba699",
   "metadata": {},
   "source": [
    "Vamos visualizar em um plano cartesiano"
   ]
  },
  {
   "cell_type": "code",
   "execution_count": 6,
   "id": "856361f7-ed4f-4313-b5e3-b9deb52b36c5",
   "metadata": {},
   "outputs": [
    {
     "data": {
      "text/plain": [
       "<AxesSubplot:xlabel='ano'>"
      ]
     },
     "execution_count": 6,
     "metadata": {},
     "output_type": "execute_result"
    },
    {
     "data": {
      "image/png": "[encoded data removed]",
      "text/plain": [
       "<Figure size 432x288 with 1 Axes>"
      ]
     },
     "metadata": {
      "needs_background": "light"
     },
     "output_type": "display_data"
    }
   ],
   "source": [
    "proposicoes_anuais.plot.line()"
   ]
  },
  {
   "cell_type": "code",
   "execution_count": 7,
   "id": "9e0ee2c3-3178-481d-9634-5505c75d1bc5",
   "metadata": {},
   "outputs": [],
   "source": [
    "proposicoes_anuais = proposicoes_anuais.reset_index()\n",
    "proposicoes_anuais.to_csv('../dados/proposicoes_anuais')"
   ]
  },
  {
   "cell_type": "markdown",
   "id": "684a16f6-5070-4133-8753-aad4b9fddb26",
   "metadata": {},
   "source": [
    "**Houve aumento na quantidade anual de propostas legislativas cuja temática beneficia grupos historicamente marginalizados no período entre 1934 e 2021?** \n",
    "\n",
    "**Resposta:** Conforme observado no gráfico acima, apesar de pequenas variações, percebemos um crescimento consistente na quantidade de propostas legislativas com a temática analisada.\n",
    "\n",
    "# CONFIRMAR RESPOSTA APÓS CONCLUSÃO DO VOCABULÁRIO"
   ]
  },
  {
   "cell_type": "markdown",
   "id": "17beae32-64a9-4f71-9700-4b0866908493",
   "metadata": {},
   "source": [
    "# Qual é o coeficiente de correlação entre a quantidade anual de propostas legislativas cuja temática beneficia grupos historicamente marginalizados e o percentual de mulheres eleitas para o cargo de deputada federal entre os anos de 1995 e 2019?\n",
    "**Hipótese:** Fraco"
   ]
  },
  {
   "cell_type": "markdown",
   "id": "04f966e1-ec2d-4e62-8812-cae1e229a9aa",
   "metadata": {},
   "source": [
    "Importa dados das análises constantes no notebook \"analise-candidaturas-eleitas\""
   ]
  },
  {
   "cell_type": "code",
   "execution_count": 8,
   "id": "f726668b-a65c-4b60-9856-f2b81372ab2d",
   "metadata": {},
   "outputs": [],
   "source": [
    "analise_genero_1995_2007 = pd.read_csv('../dados/analise_genero_1995_2007.csv')\n",
    "analise_genero_2007_2019 = pd.read_csv('../dados/analise_genero_2007_2019.csv')"
   ]
  },
  {
   "cell_type": "markdown",
   "id": "1287abe8-48ce-4645-b3cb-eb275f96080d",
   "metadata": {},
   "source": [
    "Verifica se as colunas dos dataframes são identicas"
   ]
  },
  {
   "cell_type": "code",
   "execution_count": 9,
   "id": "c0b23fda-c03d-404e-861b-7be957d7c989",
   "metadata": {},
   "outputs": [
    {
     "data": {
      "text/plain": [
       "array([ True,  True,  True])"
      ]
     },
     "execution_count": 9,
     "metadata": {},
     "output_type": "execute_result"
    }
   ],
   "source": [
    "analise_genero_1995_2007.columns == analise_genero_2007_2019.columns"
   ]
  },
  {
   "cell_type": "markdown",
   "id": "17e05cf6-4874-487b-a29a-d3a7301f89af",
   "metadata": {},
   "source": [
    "Cria dataframe único"
   ]
  },
  {
   "cell_type": "code",
   "execution_count": 10,
   "id": "b2468ae7-9a62-4338-933f-766d0265fa62",
   "metadata": {},
   "outputs": [],
   "source": [
    "analise_genero_1995_2019 = pd.concat([analise_genero_1995_2007, analise_genero_2007_2019], ignore_index=True)"
   ]
  },
  {
   "cell_type": "code",
   "execution_count": 11,
   "id": "4597737f-68b9-40f0-aba8-1828cc85e6f5",
   "metadata": {},
   "outputs": [
    {
     "data": {
      "text/html": [
       "<div>\n",
       "<style scoped>\n",
       "    .dataframe tbody tr th:only-of-type {\n",
       "        vertical-align: middle;\n",
       "    }\n",
       "\n",
       "    .dataframe tbody tr th {\n",
       "        vertical-align: top;\n",
       "    }\n",
       "\n",
       "    .dataframe thead th {\n",
       "        text-align: right;\n",
       "    }\n",
       "</style>\n",
       "<table border=\"1\" class=\"dataframe\">\n",
       "  <thead>\n",
       "    <tr style=\"text-align: right;\">\n",
       "      <th></th>\n",
       "      <th>Unnamed: 0</th>\n",
       "      <th>mulher</th>\n",
       "      <th>homem</th>\n",
       "    </tr>\n",
       "  </thead>\n",
       "  <tbody>\n",
       "    <tr>\n",
       "      <th>0</th>\n",
       "      <td>1995</td>\n",
       "      <td>6.61</td>\n",
       "      <td>93.39</td>\n",
       "    </tr>\n",
       "    <tr>\n",
       "      <th>1</th>\n",
       "      <td>1999</td>\n",
       "      <td>6.07</td>\n",
       "      <td>93.93</td>\n",
       "    </tr>\n",
       "    <tr>\n",
       "      <th>2</th>\n",
       "      <td>2003</td>\n",
       "      <td>8.27</td>\n",
       "      <td>91.73</td>\n",
       "    </tr>\n",
       "    <tr>\n",
       "      <th>3</th>\n",
       "      <td>2007</td>\n",
       "      <td>8.05</td>\n",
       "      <td>91.95</td>\n",
       "    </tr>\n",
       "    <tr>\n",
       "      <th>4</th>\n",
       "      <td>2007</td>\n",
       "      <td>8.05</td>\n",
       "      <td>91.95</td>\n",
       "    </tr>\n",
       "    <tr>\n",
       "      <th>5</th>\n",
       "      <td>2011</td>\n",
       "      <td>8.94</td>\n",
       "      <td>91.06</td>\n",
       "    </tr>\n",
       "    <tr>\n",
       "      <th>6</th>\n",
       "      <td>2015</td>\n",
       "      <td>10.43</td>\n",
       "      <td>89.57</td>\n",
       "    </tr>\n",
       "    <tr>\n",
       "      <th>7</th>\n",
       "      <td>2019</td>\n",
       "      <td>14.65</td>\n",
       "      <td>85.35</td>\n",
       "    </tr>\n",
       "  </tbody>\n",
       "</table>\n",
       "</div>"
      ],
      "text/plain": [
       "   Unnamed: 0  mulher  homem\n",
       "0        1995    6.61  93.39\n",
       "1        1999    6.07  93.93\n",
       "2        2003    8.27  91.73\n",
       "3        2007    8.05  91.95\n",
       "4        2007    8.05  91.95\n",
       "5        2011    8.94  91.06\n",
       "6        2015   10.43  89.57\n",
       "7        2019   14.65  85.35"
      ]
     },
     "execution_count": 11,
     "metadata": {},
     "output_type": "execute_result"
    }
   ],
   "source": [
    "analise_genero_1995_2019"
   ]
  },
  {
   "cell_type": "code",
   "execution_count": 12,
   "id": "e2aae3b5-e530-46fc-95c8-0925fb70ff1f",
   "metadata": {},
   "outputs": [],
   "source": [
    "analise_genero_1995_2019.rename(columns={'Unnamed: 0': 'ano'}, inplace=True)"
   ]
  },
  {
   "cell_type": "code",
   "execution_count": 13,
   "id": "1b12c345-ff7d-4bee-8824-e154e94d1172",
   "metadata": {},
   "outputs": [],
   "source": [
    "analise_genero_1995_2019.drop(index=3, inplace=True)"
   ]
  },
  {
   "cell_type": "code",
   "execution_count": 14,
   "id": "572eb3ca-eb38-4bbd-921a-58898c14280c",
   "metadata": {},
   "outputs": [
    {
     "data": {
      "text/html": [
       "<div>\n",
       "<style scoped>\n",
       "    .dataframe tbody tr th:only-of-type {\n",
       "        vertical-align: middle;\n",
       "    }\n",
       "\n",
       "    .dataframe tbody tr th {\n",
       "        vertical-align: top;\n",
       "    }\n",
       "\n",
       "    .dataframe thead th {\n",
       "        text-align: right;\n",
       "    }\n",
       "</style>\n",
       "<table border=\"1\" class=\"dataframe\">\n",
       "  <thead>\n",
       "    <tr style=\"text-align: right;\">\n",
       "      <th></th>\n",
       "      <th>ano</th>\n",
       "      <th>mulher</th>\n",
       "      <th>homem</th>\n",
       "    </tr>\n",
       "  </thead>\n",
       "  <tbody>\n",
       "    <tr>\n",
       "      <th>0</th>\n",
       "      <td>1995</td>\n",
       "      <td>6.61</td>\n",
       "      <td>93.39</td>\n",
       "    </tr>\n",
       "    <tr>\n",
       "      <th>1</th>\n",
       "      <td>1999</td>\n",
       "      <td>6.07</td>\n",
       "      <td>93.93</td>\n",
       "    </tr>\n",
       "    <tr>\n",
       "      <th>2</th>\n",
       "      <td>2003</td>\n",
       "      <td>8.27</td>\n",
       "      <td>91.73</td>\n",
       "    </tr>\n",
       "    <tr>\n",
       "      <th>4</th>\n",
       "      <td>2007</td>\n",
       "      <td>8.05</td>\n",
       "      <td>91.95</td>\n",
       "    </tr>\n",
       "    <tr>\n",
       "      <th>5</th>\n",
       "      <td>2011</td>\n",
       "      <td>8.94</td>\n",
       "      <td>91.06</td>\n",
       "    </tr>\n",
       "    <tr>\n",
       "      <th>6</th>\n",
       "      <td>2015</td>\n",
       "      <td>10.43</td>\n",
       "      <td>89.57</td>\n",
       "    </tr>\n",
       "    <tr>\n",
       "      <th>7</th>\n",
       "      <td>2019</td>\n",
       "      <td>14.65</td>\n",
       "      <td>85.35</td>\n",
       "    </tr>\n",
       "  </tbody>\n",
       "</table>\n",
       "</div>"
      ],
      "text/plain": [
       "    ano  mulher  homem\n",
       "0  1995    6.61  93.39\n",
       "1  1999    6.07  93.93\n",
       "2  2003    8.27  91.73\n",
       "4  2007    8.05  91.95\n",
       "5  2011    8.94  91.06\n",
       "6  2015   10.43  89.57\n",
       "7  2019   14.65  85.35"
      ]
     },
     "execution_count": 14,
     "metadata": {},
     "output_type": "execute_result"
    }
   ],
   "source": [
    "analise_genero_1995_2019"
   ]
  },
  {
   "cell_type": "code",
   "execution_count": 15,
   "id": "533b94a7-2fe9-4e91-b6bf-a9266c35acd7",
   "metadata": {},
   "outputs": [
    {
     "data": {
      "text/plain": [
       "[1995, 1999, 2003, 2007, 2011, 2015, 2019, 2021]"
      ]
     },
     "execution_count": 15,
     "metadata": {},
     "output_type": "execute_result"
    }
   ],
   "source": [
    "anos = analise_genero_1995_2019['ano'].tolist()\n",
    "anos.append(2021)\n",
    "anos"
   ]
  },
  {
   "cell_type": "markdown",
   "id": "03b618c8-2115-45fb-9ffd-af9fbcc2dd1e",
   "metadata": {},
   "source": [
    "Insere anos existentes entre início de cada legislatura, levando em conta que proporcioonalidade de gênero só é alterada a cada nova eleição."
   ]
  },
  {
   "cell_type": "code",
   "execution_count": 16,
   "id": "42bc768d-283b-4204-855d-cfbe2a1a562e",
   "metadata": {},
   "outputs": [],
   "source": [
    "for ano in anos:\n",
    "    mulher_percentual = analise_genero_1995_2019['mulher'][analise_genero_1995_2019['ano'] == ano].item()\n",
    "    homem_percentual = analise_genero_1995_2019['homem'][analise_genero_1995_2019['ano'] == ano].item()\n",
    "    if ano < 2021:\n",
    "        dados = pd.DataFrame(data={\n",
    "            'ano': [ano+1, ano+2, ano+3], \n",
    "            'mulher': [mulher_percentual, mulher_percentual, mulher_percentual], \n",
    "            'homem': [homem_percentual, homem_percentual, homem_percentual]}\n",
    "                            )\n",
    "        analise_genero_1995_2019 = pd.concat([analise_genero_1995_2019, dados])"
   ]
  },
  {
   "cell_type": "code",
   "execution_count": 17,
   "id": "549a1892-5478-42b9-8076-ee0c1e678c47",
   "metadata": {},
   "outputs": [],
   "source": [
    "analise_genero_1995_2019.sort_values(by=['ano'], inplace=True)"
   ]
  },
  {
   "cell_type": "code",
   "execution_count": 18,
   "id": "9b011eea-491e-47be-9826-c2c209787557",
   "metadata": {},
   "outputs": [],
   "source": [
    "analise_genero_1995_2019.reset_index(drop=True, inplace=True)"
   ]
  },
  {
   "cell_type": "code",
   "execution_count": 19,
   "id": "ffe52017-7cb7-4f76-979b-853bb2f5b651",
   "metadata": {},
   "outputs": [
    {
     "data": {
      "text/html": [
       "<div>\n",
       "<style scoped>\n",
       "    .dataframe tbody tr th:only-of-type {\n",
       "        vertical-align: middle;\n",
       "    }\n",
       "\n",
       "    .dataframe tbody tr th {\n",
       "        vertical-align: top;\n",
       "    }\n",
       "\n",
       "    .dataframe thead th {\n",
       "        text-align: right;\n",
       "    }\n",
       "</style>\n",
       "<table border=\"1\" class=\"dataframe\">\n",
       "  <thead>\n",
       "    <tr style=\"text-align: right;\">\n",
       "      <th></th>\n",
       "      <th>ano</th>\n",
       "      <th>mulher</th>\n",
       "      <th>homem</th>\n",
       "    </tr>\n",
       "  </thead>\n",
       "  <tbody>\n",
       "    <tr>\n",
       "      <th>23</th>\n",
       "      <td>2018</td>\n",
       "      <td>10.43</td>\n",
       "      <td>89.57</td>\n",
       "    </tr>\n",
       "    <tr>\n",
       "      <th>24</th>\n",
       "      <td>2019</td>\n",
       "      <td>14.65</td>\n",
       "      <td>85.35</td>\n",
       "    </tr>\n",
       "    <tr>\n",
       "      <th>25</th>\n",
       "      <td>2020</td>\n",
       "      <td>14.65</td>\n",
       "      <td>85.35</td>\n",
       "    </tr>\n",
       "    <tr>\n",
       "      <th>26</th>\n",
       "      <td>2021</td>\n",
       "      <td>14.65</td>\n",
       "      <td>85.35</td>\n",
       "    </tr>\n",
       "    <tr>\n",
       "      <th>27</th>\n",
       "      <td>2022</td>\n",
       "      <td>14.65</td>\n",
       "      <td>85.35</td>\n",
       "    </tr>\n",
       "  </tbody>\n",
       "</table>\n",
       "</div>"
      ],
      "text/plain": [
       "     ano  mulher  homem\n",
       "23  2018   10.43  89.57\n",
       "24  2019   14.65  85.35\n",
       "25  2020   14.65  85.35\n",
       "26  2021   14.65  85.35\n",
       "27  2022   14.65  85.35"
      ]
     },
     "execution_count": 19,
     "metadata": {},
     "output_type": "execute_result"
    }
   ],
   "source": [
    "analise_genero_1995_2019.tail()"
   ]
  },
  {
   "cell_type": "code",
   "execution_count": 20,
   "id": "7b3e25f0-92f1-402f-a190-36e077ce2ac1",
   "metadata": {},
   "outputs": [],
   "source": [
    "analise_genero_1995_2019.drop(index=27, inplace=True)    "
   ]
  },
  {
   "cell_type": "markdown",
   "id": "58339e4e-605d-4477-a955-72dfed7e033c",
   "metadata": {},
   "source": [
    "Insere total anual de propostas legislativas cuja temática beneficia grupos historicamente marginalizados."
   ]
  },
  {
   "cell_type": "code",
   "execution_count": 21,
   "id": "eef87b49-38ec-4400-80b0-def993ae444a",
   "metadata": {},
   "outputs": [],
   "source": [
    "def insere_qnt_propostas(ano_candidaturas_eleitas):\n",
    "    for ano, qnt_tema in zip(proposicoes_anuais['ano'], proposicoes_anuais['temas']):\n",
    "        if ano == ano_candidaturas_eleitas:\n",
    "            return qnt_tema"
   ]
  },
  {
   "cell_type": "code",
   "execution_count": 22,
   "id": "457c0a2a-1503-4bda-b219-cd584e76810f",
   "metadata": {},
   "outputs": [],
   "source": [
    "analise_genero_1995_2019['qnt_temas'] = analise_genero_1995_2019['ano'].apply(insere_qnt_propostas)"
   ]
  },
  {
   "cell_type": "code",
   "execution_count": 25,
   "id": "caed03f4-93c5-46dd-83fa-dd6ae6a54c5d",
   "metadata": {},
   "outputs": [
    {
     "data": {
      "text/html": [
       "<div>\n",
       "<style scoped>\n",
       "    .dataframe tbody tr th:only-of-type {\n",
       "        vertical-align: middle;\n",
       "    }\n",
       "\n",
       "    .dataframe tbody tr th {\n",
       "        vertical-align: top;\n",
       "    }\n",
       "\n",
       "    .dataframe thead th {\n",
       "        text-align: right;\n",
       "    }\n",
       "</style>\n",
       "<table border=\"1\" class=\"dataframe\">\n",
       "  <thead>\n",
       "    <tr style=\"text-align: right;\">\n",
       "      <th></th>\n",
       "      <th>ano</th>\n",
       "      <th>mulher</th>\n",
       "      <th>homem</th>\n",
       "      <th>qnt_temas</th>\n",
       "    </tr>\n",
       "  </thead>\n",
       "  <tbody>\n",
       "    <tr>\n",
       "      <th>0</th>\n",
       "      <td>1995</td>\n",
       "      <td>6.61</td>\n",
       "      <td>93.39</td>\n",
       "      <td>209</td>\n",
       "    </tr>\n",
       "    <tr>\n",
       "      <th>1</th>\n",
       "      <td>1996</td>\n",
       "      <td>6.61</td>\n",
       "      <td>93.39</td>\n",
       "      <td>178</td>\n",
       "    </tr>\n",
       "    <tr>\n",
       "      <th>2</th>\n",
       "      <td>1997</td>\n",
       "      <td>6.61</td>\n",
       "      <td>93.39</td>\n",
       "      <td>327</td>\n",
       "    </tr>\n",
       "    <tr>\n",
       "      <th>3</th>\n",
       "      <td>1998</td>\n",
       "      <td>6.61</td>\n",
       "      <td>93.39</td>\n",
       "      <td>173</td>\n",
       "    </tr>\n",
       "    <tr>\n",
       "      <th>4</th>\n",
       "      <td>1999</td>\n",
       "      <td>6.07</td>\n",
       "      <td>93.93</td>\n",
       "      <td>384</td>\n",
       "    </tr>\n",
       "    <tr>\n",
       "      <th>5</th>\n",
       "      <td>2000</td>\n",
       "      <td>6.07</td>\n",
       "      <td>93.93</td>\n",
       "      <td>318</td>\n",
       "    </tr>\n",
       "    <tr>\n",
       "      <th>6</th>\n",
       "      <td>2001</td>\n",
       "      <td>6.07</td>\n",
       "      <td>93.93</td>\n",
       "      <td>342</td>\n",
       "    </tr>\n",
       "    <tr>\n",
       "      <th>7</th>\n",
       "      <td>2002</td>\n",
       "      <td>6.07</td>\n",
       "      <td>93.93</td>\n",
       "      <td>230</td>\n",
       "    </tr>\n",
       "    <tr>\n",
       "      <th>8</th>\n",
       "      <td>2003</td>\n",
       "      <td>8.27</td>\n",
       "      <td>91.73</td>\n",
       "      <td>469</td>\n",
       "    </tr>\n",
       "    <tr>\n",
       "      <th>9</th>\n",
       "      <td>2004</td>\n",
       "      <td>8.27</td>\n",
       "      <td>91.73</td>\n",
       "      <td>363</td>\n",
       "    </tr>\n",
       "  </tbody>\n",
       "</table>\n",
       "</div>"
      ],
      "text/plain": [
       "    ano  mulher  homem  qnt_temas\n",
       "0  1995    6.61  93.39        209\n",
       "1  1996    6.61  93.39        178\n",
       "2  1997    6.61  93.39        327\n",
       "3  1998    6.61  93.39        173\n",
       "4  1999    6.07  93.93        384\n",
       "5  2000    6.07  93.93        318\n",
       "6  2001    6.07  93.93        342\n",
       "7  2002    6.07  93.93        230\n",
       "8  2003    8.27  91.73        469\n",
       "9  2004    8.27  91.73        363"
      ]
     },
     "execution_count": 25,
     "metadata": {},
     "output_type": "execute_result"
    }
   ],
   "source": [
    "analise_genero_1995_2019.head(10)"
   ]
  },
  {
   "cell_type": "markdown",
   "id": "60f30f3b-f0c9-4dee-a44a-1f1f38dc7b2e",
   "metadata": {},
   "source": [
    "Criar matriz de correlação"
   ]
  },
  {
   "cell_type": "code",
   "execution_count": 46,
   "id": "45b531e9-b450-44f8-aa38-6acbd85db31e",
   "metadata": {},
   "outputs": [],
   "source": [
    "correlacao = analise_genero_1995_2019[['mulher', 'homem', 'qnt_temas']].corr(method='pearson')"
   ]
  },
  {
   "cell_type": "code",
   "execution_count": 47,
   "id": "25426466-d13a-4bdd-bebf-2291a6f3ee4c",
   "metadata": {},
   "outputs": [],
   "source": [
    "coeficiente_correlacao_mulher_qnt_temas = round(correlacao['mulher']['qnt_temas'],2)"
   ]
  },
  {
   "cell_type": "code",
   "execution_count": 39,
   "id": "aee2bb21-3b3c-4dc5-81af-ceb8d90399f4",
   "metadata": {},
   "outputs": [],
   "source": [
    "correlacao_matriz_triangular = np.triu(np.ones_like(correlacao))"
   ]
  },
  {
   "cell_type": "code",
   "execution_count": 40,
   "id": "2a8819ef-0aeb-4551-84cb-7f5c8a813ea6",
   "metadata": {},
   "outputs": [
    {
     "data": {
      "text/plain": [
       "<AxesSubplot:>"
      ]
     },
     "execution_count": 40,
     "metadata": {},
     "output_type": "execute_result"
    },
    {
     "data": {
      "image/png": "[encoded data removed]",
      "text/plain": [
       "<Figure size 432x288 with 2 Axes>"
      ]
     },
     "metadata": {
      "needs_background": "light"
     },
     "output_type": "display_data"
    }
   ],
   "source": [
    "sns.heatmap(correlacao, annot=True, mask=correlacao_matriz_triangular)"
   ]
  },
  {
   "cell_type": "code",
   "execution_count": 48,
   "id": "327d2b41-25a7-4b21-afe1-0acfa1eb6094",
   "metadata": {},
   "outputs": [
    {
     "name": "stdout",
     "output_type": "stream",
     "text": [
      "Qual é o coeficiente de correlação entre a quantidade anual de propostas legislativas cuja temática beneficia grupos historicamente marginalizados e o percentual de mulheres eleitas para o cargo de deputada federal entre os anos de 1995 e 2019?\n",
      " \n",
      "- Conforme observado na matriz de correlação acima, este coeficiente de correlação de Pearson é 0.79, o que caracteriza uma FORTE(????????) correlação  entre os itens analisados.\n",
      "\n"
     ]
    }
   ],
   "source": [
    "print(f'''Qual é o coeficiente de correlação entre a quantidade anual de propostas legislativas cuja temática beneficia grupos historicamente marginalizados e o percentual de mulheres eleitas para o cargo de deputada federal entre os anos de 1995 e 2019?\\n \n",
    "- Conforme observado na matriz de correlação acima, este coeficiente de correlação de Pearson é {coeficiente_correlacao_mulher_qnt_temas}, o que caracteriza uma FORTE(????????) correlação  entre os itens analisados.\n",
    "''')\n",
    "\n",
    "# CONFIRMAR RESPOSTA APÓS CONCLUSÃO DO VOCABULÁRIO"
   ]
  }
 ],
 "metadata": {
  "kernelspec": {
   "display_name": "Python 3",
   "language": "python",
   "name": "python3"
  },
  "language_info": {
   "codemirror_mode": {
    "name": "ipython",
    "version": 3
   },
   "file_extension": ".py",
   "mimetype": "text/x-python",
   "name": "python",
   "nbconvert_exporter": "python",
   "pygments_lexer": "ipython3",
   "version": "3.8.10"
  }
 },
 "nbformat": 4,
 "nbformat_minor": 5
}
