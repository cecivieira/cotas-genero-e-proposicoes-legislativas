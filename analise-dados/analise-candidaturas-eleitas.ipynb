{
 "cells": [
  {
   "cell_type": "markdown",
   "id": "b0dd0e23-bda2-4925-85e6-9eb9fde0b80a",
   "metadata": {},
   "source": [
    "Esse notebook destina-se a análise dos dados referentes a candidaturas eleitas entre os anos de 1995 e 2019. As perguntas estabelecidas e as hipóteses a serem comprovadas foram:\n",
    "\n",
    "1. Após a aprovação da Lei 9.504/1997 houve aumento no percentual de mulheres eleitas para o cargo de deputada federal nas 3 legislações subsequentes em comparação com o percentual existente na data de sua aprovação?\n",
    "    - **Hipótese:** Não houve aumento no percentual de mulheres eleitas para o cargo de deputada federal nas 3 legislações subsequentes em comparação com o percentual existente na data de sua aprovação da Lei 9.504/1997.\n",
    "2. Após a aprovação da Lei 12.034/2009 houve aumento no percentual de mulheres eleitas para o cargo de deputada federal nas 3 legislações subsequentes em comparação com o percentual existente na data de sua aprovação?\n",
    "    - **Hipótese:** Sim, houve aumento no percentual de mulheres eleitas para o cargo de deputada federal nas 3 legislações subsequentes em comparação com o percentual existente na data de sua aprovação da Lei 12.034/2009. "
   ]
  },
  {
   "cell_type": "code",
   "execution_count": 2,
   "id": "349abb0d-516f-4487-8b3a-6e837bd873c8",
   "metadata": {
    "tags": []
   },
   "outputs": [],
   "source": [
    "import pandas as pd\n",
    "import matplotlib.pyplot as plt"
   ]
  },
  {
   "cell_type": "markdown",
   "id": "0ca09b14-0945-48a6-9d11-f50ae2060fa1",
   "metadata": {},
   "source": [
    "## 1. Após a aprovação da Lei 9.504/1997 houve aumento no percentual de mulheres eleitas para o cargo de deputada federal nas 3 legislações subsequentes em comparação com o percentual existente na data de sua aprovação?\n",
    "**Hipótese:** Não houve aumento no percentual de mulheres eleitas para o cargo de deputada federal nas 3 legislações subsequentes em comparação com o percentual existente na data de sua aprovação da Lei 9.504/1997."
   ]
  },
  {
   "cell_type": "code",
   "execution_count": 3,
   "id": "05d199bb-96b5-45ff-8454-3386ba02253d",
   "metadata": {},
   "outputs": [],
   "source": [
    "df_legislaturas = pd.read_csv('../dados/legislaturas_1934_2023.csv')"
   ]
  },
  {
   "cell_type": "code",
   "execution_count": 5,
   "id": "24d26dda-b12b-4ad6-ab3f-3c3ff3d0ebd2",
   "metadata": {},
   "outputs": [
    {
     "data": {
      "text/html": [
       "<div>\n",
       "<style scoped>\n",
       "    .dataframe tbody tr th:only-of-type {\n",
       "        vertical-align: middle;\n",
       "    }\n",
       "\n",
       "    .dataframe tbody tr th {\n",
       "        vertical-align: top;\n",
       "    }\n",
       "\n",
       "    .dataframe thead th {\n",
       "        text-align: right;\n",
       "    }\n",
       "</style>\n",
       "<table border=\"1\" class=\"dataframe\">\n",
       "  <thead>\n",
       "    <tr style=\"text-align: right;\">\n",
       "      <th></th>\n",
       "      <th>id</th>\n",
       "      <th>uri</th>\n",
       "      <th>dataInicio</th>\n",
       "      <th>dataFim</th>\n",
       "    </tr>\n",
       "  </thead>\n",
       "  <tbody>\n",
       "    <tr>\n",
       "      <th>0</th>\n",
       "      <td>56</td>\n",
       "      <td>https://dadosabertos.camara.leg.br/api/v2/legi...</td>\n",
       "      <td>2019-02-01</td>\n",
       "      <td>2023-01-31</td>\n",
       "    </tr>\n",
       "    <tr>\n",
       "      <th>1</th>\n",
       "      <td>55</td>\n",
       "      <td>https://dadosabertos.camara.leg.br/api/v2/legi...</td>\n",
       "      <td>2015-02-01</td>\n",
       "      <td>2019-01-31</td>\n",
       "    </tr>\n",
       "    <tr>\n",
       "      <th>2</th>\n",
       "      <td>54</td>\n",
       "      <td>https://dadosabertos.camara.leg.br/api/v2/legi...</td>\n",
       "      <td>2011-02-01</td>\n",
       "      <td>2015-01-31</td>\n",
       "    </tr>\n",
       "    <tr>\n",
       "      <th>3</th>\n",
       "      <td>53</td>\n",
       "      <td>https://dadosabertos.camara.leg.br/api/v2/legi...</td>\n",
       "      <td>2007-02-01</td>\n",
       "      <td>2011-01-31</td>\n",
       "    </tr>\n",
       "    <tr>\n",
       "      <th>4</th>\n",
       "      <td>52</td>\n",
       "      <td>https://dadosabertos.camara.leg.br/api/v2/legi...</td>\n",
       "      <td>2003-02-01</td>\n",
       "      <td>2007-01-31</td>\n",
       "    </tr>\n",
       "  </tbody>\n",
       "</table>\n",
       "</div>"
      ],
      "text/plain": [
       "   id                                                uri  dataInicio  \\\n",
       "0  56  https://dadosabertos.camara.leg.br/api/v2/legi...  2019-02-01   \n",
       "1  55  https://dadosabertos.camara.leg.br/api/v2/legi...  2015-02-01   \n",
       "2  54  https://dadosabertos.camara.leg.br/api/v2/legi...  2011-02-01   \n",
       "3  53  https://dadosabertos.camara.leg.br/api/v2/legi...  2007-02-01   \n",
       "4  52  https://dadosabertos.camara.leg.br/api/v2/legi...  2003-02-01   \n",
       "\n",
       "      dataFim  \n",
       "0  2023-01-31  \n",
       "1  2019-01-31  \n",
       "2  2015-01-31  \n",
       "3  2011-01-31  \n",
       "4  2007-01-31  "
      ]
     },
     "execution_count": 5,
     "metadata": {},
     "output_type": "execute_result"
    }
   ],
   "source": [
    "df_legislaturas.head()"
   ]
  },
  {
   "cell_type": "markdown",
   "id": "b92e5fe7-4f6f-4e05-babb-870c7b7caa93",
   "metadata": {},
   "source": [
    "Restringe os dados a serem analisados para o período a ser analisado (1995 a 2007)."
   ]
  },
  {
   "cell_type": "code",
   "execution_count": 6,
   "id": "d33cf774-8dc1-4bf7-b82f-e65c8b535606",
   "metadata": {},
   "outputs": [],
   "source": [
    "legislaturas_h1 = df_legislaturas[(df_legislaturas['id'] >= 50) & (df_legislaturas['id'] <= 53)]['id'].unique().tolist()"
   ]
  },
  {
   "cell_type": "code",
   "execution_count": 7,
   "id": "e9ad2488-ed01-4de0-b348-f51cc6dec0c7",
   "metadata": {},
   "outputs": [],
   "source": [
    "df_candidaturas_eleitas = pd.read_csv('../dados/candidaturas_eleitas.csv')"
   ]
  },
  {
   "cell_type": "code",
   "execution_count": 8,
   "id": "197ec5b4-8f08-422a-ba28-e725de86fe89",
   "metadata": {},
   "outputs": [],
   "source": [
    "df_candidaturas_eleitas_h1 = df_candidaturas_eleitas[df_candidaturas_eleitas['idLegislatura'].isin(legislaturas_h1)].copy()"
   ]
  },
  {
   "cell_type": "code",
   "execution_count": 9,
   "id": "e6d1626f-ce9c-4dda-bc3e-92beab378061",
   "metadata": {},
   "outputs": [
    {
     "data": {
      "text/plain": [
       "array([53, 52, 51, 50])"
      ]
     },
     "execution_count": 9,
     "metadata": {},
     "output_type": "execute_result"
    }
   ],
   "source": [
    "df_candidaturas_eleitas_h1['idLegislatura'].unique()"
   ]
  },
  {
   "cell_type": "markdown",
   "id": "71a2978b-c256-4ea1-9a9e-26f44e2de2c0",
   "metadata": {},
   "source": [
    "Agrupa os dados por sexo "
   ]
  },
  {
   "cell_type": "code",
   "execution_count": 11,
   "id": "9d2b0c18-8c78-4d62-8fb8-690911741597",
   "metadata": {},
   "outputs": [],
   "source": [
    "agrupa_sexo = df_candidaturas_eleitas_h1.groupby(['idLegislatura', 'sexo']).size().to_frame('valorAbsoluto')"
   ]
  },
  {
   "cell_type": "markdown",
   "id": "c798e0f0-b01d-4ea5-b8f5-a3efc975721e",
   "metadata": {},
   "source": [
    "Estabelece porcentagem de cada categoria em relação ao total de candidaturas eleitas"
   ]
  },
  {
   "cell_type": "code",
   "execution_count": 15,
   "id": "ce18c43a-59fa-46de-ac0a-b4ab4e9fe15b",
   "metadata": {},
   "outputs": [],
   "source": [
    "agrupa_sexo['porcentagem'] = round(agrupa_sexo['valorAbsoluto'].div(agrupa_sexo.groupby('idLegislatura')['valorAbsoluto'].transform('sum')).mul(100), 2)"
   ]
  },
  {
   "cell_type": "code",
   "execution_count": 16,
   "id": "69f90008-902e-4db6-8079-fbbbc15709c7",
   "metadata": {},
   "outputs": [],
   "source": [
    "agrupa_sexo_df = agrupa_sexo.reset_index()"
   ]
  },
  {
   "cell_type": "code",
   "execution_count": 17,
   "id": "648c6641-5d07-43b0-8fca-36774708913e",
   "metadata": {},
   "outputs": [
    {
     "data": {
      "text/html": [
       "<div>\n",
       "<style scoped>\n",
       "    .dataframe tbody tr th:only-of-type {\n",
       "        vertical-align: middle;\n",
       "    }\n",
       "\n",
       "    .dataframe tbody tr th {\n",
       "        vertical-align: top;\n",
       "    }\n",
       "\n",
       "    .dataframe thead th {\n",
       "        text-align: right;\n",
       "    }\n",
       "</style>\n",
       "<table border=\"1\" class=\"dataframe\">\n",
       "  <thead>\n",
       "    <tr style=\"text-align: right;\">\n",
       "      <th></th>\n",
       "      <th>idLegislatura</th>\n",
       "      <th>sexo</th>\n",
       "      <th>valorAbsoluto</th>\n",
       "      <th>porcentagem</th>\n",
       "    </tr>\n",
       "  </thead>\n",
       "  <tbody>\n",
       "    <tr>\n",
       "      <th>0</th>\n",
       "      <td>50</td>\n",
       "      <td>F</td>\n",
       "      <td>42</td>\n",
       "      <td>6.61</td>\n",
       "    </tr>\n",
       "    <tr>\n",
       "      <th>1</th>\n",
       "      <td>50</td>\n",
       "      <td>M</td>\n",
       "      <td>593</td>\n",
       "      <td>93.39</td>\n",
       "    </tr>\n",
       "    <tr>\n",
       "      <th>2</th>\n",
       "      <td>51</td>\n",
       "      <td>F</td>\n",
       "      <td>39</td>\n",
       "      <td>6.07</td>\n",
       "    </tr>\n",
       "    <tr>\n",
       "      <th>3</th>\n",
       "      <td>51</td>\n",
       "      <td>M</td>\n",
       "      <td>603</td>\n",
       "      <td>93.93</td>\n",
       "    </tr>\n",
       "    <tr>\n",
       "      <th>4</th>\n",
       "      <td>52</td>\n",
       "      <td>F</td>\n",
       "      <td>52</td>\n",
       "      <td>8.27</td>\n",
       "    </tr>\n",
       "    <tr>\n",
       "      <th>5</th>\n",
       "      <td>52</td>\n",
       "      <td>M</td>\n",
       "      <td>577</td>\n",
       "      <td>91.73</td>\n",
       "    </tr>\n",
       "    <tr>\n",
       "      <th>6</th>\n",
       "      <td>53</td>\n",
       "      <td>F</td>\n",
       "      <td>52</td>\n",
       "      <td>8.05</td>\n",
       "    </tr>\n",
       "    <tr>\n",
       "      <th>7</th>\n",
       "      <td>53</td>\n",
       "      <td>M</td>\n",
       "      <td>594</td>\n",
       "      <td>91.95</td>\n",
       "    </tr>\n",
       "  </tbody>\n",
       "</table>\n",
       "</div>"
      ],
      "text/plain": [
       "   idLegislatura sexo  valorAbsoluto  porcentagem\n",
       "0             50    F             42         6.61\n",
       "1             50    M            593        93.39\n",
       "2             51    F             39         6.07\n",
       "3             51    M            603        93.93\n",
       "4             52    F             52         8.27\n",
       "5             52    M            577        91.73\n",
       "6             53    F             52         8.05\n",
       "7             53    M            594        91.95"
      ]
     },
     "execution_count": 17,
     "metadata": {},
     "output_type": "execute_result"
    }
   ],
   "source": [
    "agrupa_sexo_df"
   ]
  },
  {
   "cell_type": "markdown",
   "id": "a6e53b88-a45d-43c8-a720-0e79e3514aeb",
   "metadata": {},
   "source": [
    "Prepara os dados para visualização em plano cartesiano"
   ]
  },
  {
   "cell_type": "code",
   "execution_count": 18,
   "id": "bee635de-d0d3-4eae-9cc3-895593f102e8",
   "metadata": {},
   "outputs": [],
   "source": [
    "mulher_h1 = agrupa_sexo_df[agrupa_sexo_df['sexo'] == 'F']['porcentagem'].tolist()\n",
    "homem_h1 = agrupa_sexo_df[agrupa_sexo_df['sexo'] == 'M']['porcentagem'].tolist()"
   ]
  },
  {
   "cell_type": "code",
   "execution_count": 19,
   "id": "c71a61a3-5a9d-4480-ac2d-acf3bdb89604",
   "metadata": {},
   "outputs": [],
   "source": [
    "legislaturas_lista_h1 = agrupa_sexo_df['idLegislatura'].unique()"
   ]
  },
  {
   "cell_type": "markdown",
   "id": "275607c3-7ac5-4773-88bd-c43b7e3ef34d",
   "metadata": {},
   "source": [
    "Substituimos o valor ordinal das legislaturas pelo ano de início para facilitar a compreensão do gráfico."
   ]
  },
  {
   "cell_type": "code",
   "execution_count": 20,
   "id": "aa4b38c1-4862-49b6-9887-5f62a85fdf02",
   "metadata": {},
   "outputs": [],
   "source": [
    "legislaturas_lista_h1 = ['1995', '1999', '2003', '2007']"
   ]
  },
  {
   "cell_type": "code",
   "execution_count": 21,
   "id": "f113e339-e35c-4cfa-bd19-16fd1d43feab",
   "metadata": {},
   "outputs": [
    {
     "data": {
      "image/png": "[encoded data removed]",
      "text/plain": [
       "<Figure size 432x288 with 1 Axes>"
      ]
     },
     "metadata": {
      "needs_background": "light"
     },
     "output_type": "display_data"
    }
   ],
   "source": [
    "agrupa_sexo_df2 = pd.DataFrame({'mulher': mulher_h1,\n",
    "                               'homem': homem_h1\n",
    "                               }, index=legislaturas_lista_h1,\n",
    "                              )\n",
    "agrupa_sexo_df2.plot.line()\n",
    "agrupa_sexo_df2.to_csv('../dados/analise_genero_1995_2007.csv')"
   ]
  },
  {
   "cell_type": "markdown",
   "id": "8e398564-db38-4281-b762-e7bf097bacd2",
   "metadata": {},
   "source": [
    "Para melhor visualizar as variações, estabelecemos gráficos para cada gênero."
   ]
  },
  {
   "cell_type": "code",
   "execution_count": 22,
   "id": "9b741c36-7746-4613-af53-c2a21f69e631",
   "metadata": {},
   "outputs": [
    {
     "data": {
      "text/plain": [
       "array([<AxesSubplot:>, <AxesSubplot:>], dtype=object)"
      ]
     },
     "execution_count": 22,
     "metadata": {},
     "output_type": "execute_result"
    },
    {
     "data": {
      "image/png": "[encoded data removed]",
      "text/plain": [
       "<Figure size 432x288 with 2 Axes>"
      ]
     },
     "metadata": {
      "needs_background": "light"
     },
     "output_type": "display_data"
    }
   ],
   "source": [
    "agrupa_sexo_df2.plot.line(subplots=True)"
   ]
  },
  {
   "cell_type": "code",
   "execution_count": 23,
   "id": "7d01681b-dad7-4b6d-a6ec-2b20fd3e92df",
   "metadata": {},
   "outputs": [],
   "source": [
    "diferenca_percentual_mulher_h1_total = mulher_h1[-1] - mulher_h1[0]"
   ]
  },
  {
   "cell_type": "code",
   "execution_count": 24,
   "id": "f396a8a4-f30d-4ddd-a7a6-6296791585f3",
   "metadata": {},
   "outputs": [
    {
     "name": "stdout",
     "output_type": "stream",
     "text": [
      "\n",
      "Pergunta: Após a aprovação da Lei 9.504/1997 houve aumento no percentual de mulheres eleitas para o cargo de deputada federal nas \n",
      "3 legislações subsequentes em comparação com o percentual existente na data de sua aprovação? \n",
      " \n",
      "Resposta: Houve aumento de  1.44% no total de mulheres deputadas entre 1995 e 2007.\n",
      "\n"
     ]
    }
   ],
   "source": [
    "print(f'''\n",
    "Pergunta: Após a aprovação da Lei 9.504/1997 houve aumento no percentual de mulheres eleitas para o cargo de deputada federal nas \n",
    "3 legislações subsequentes em comparação com o percentual existente na data de sua aprovação? \\n \n",
    "Resposta: Houve aumento de  {round(diferenca_percentual_mulher_h1_total, 2)}% no total de mulheres deputadas entre 1995 e 2007.\n",
    "''')"
   ]
  },
  {
   "cell_type": "markdown",
   "id": "a282d850-bbdc-448e-8487-52c7442d9bf3",
   "metadata": {},
   "source": [
    "## 2. Após a aprovação da Lei 12.034/2009 houve aumento no percentual de mulheres eleitas para o cargo de deputada federal nas 3 legislações subsequentes em comparação com o percentual existente na data de sua aprovação?\n",
    "**Hipótese:** Sim, houve aumento no percentual de mulheres eleitas para o cargo de deputada federal nas 3 legislações subsequentes em comparação com o percentual existente na data de sua aprovação da Lei 12.034/2009."
   ]
  },
  {
   "cell_type": "markdown",
   "id": "de47d771-e444-4f78-88fb-d9f4541bc891",
   "metadata": {},
   "source": [
    "Restringe os dados a serem analisados para o período a ser analisado (2007 a 2019)."
   ]
  },
  {
   "cell_type": "code",
   "execution_count": 29,
   "id": "aebd9912-bd7e-4659-837d-c898cf08bf92",
   "metadata": {},
   "outputs": [],
   "source": [
    "legislaturas_h2 = df_legislaturas[(df_legislaturas['id'] >= 53) & (df_legislaturas['id'] <= 56)]['id'].unique().tolist()"
   ]
  },
  {
   "cell_type": "code",
   "execution_count": 30,
   "id": "fc3ecf44-15c1-4170-82f1-ec97163fd541",
   "metadata": {},
   "outputs": [],
   "source": [
    "df_candidaturas_eleitas_h2 = df_candidaturas_eleitas[df_candidaturas_eleitas['idLegislatura'].isin(legislaturas_h2)].copy()"
   ]
  },
  {
   "cell_type": "code",
   "execution_count": 31,
   "id": "f13322d8-cc87-4da7-b6bc-ee3e4885fb47",
   "metadata": {},
   "outputs": [
    {
     "data": {
      "text/plain": [
       "array([56, 55, 54, 53])"
      ]
     },
     "execution_count": 31,
     "metadata": {},
     "output_type": "execute_result"
    }
   ],
   "source": [
    "df_candidaturas_eleitas_h2['idLegislatura'].unique()"
   ]
  },
  {
   "cell_type": "markdown",
   "id": "da8840a4-19d3-436c-a7e7-0b69ddf4a22a",
   "metadata": {},
   "source": [
    "Agrua os dados por sexo"
   ]
  },
  {
   "cell_type": "code",
   "execution_count": 32,
   "id": "2362e44e-daf9-4934-93ef-dd3a4e521635",
   "metadata": {},
   "outputs": [],
   "source": [
    "agrupa_sexo_h2 = df_candidaturas_eleitas_h2.groupby(['idLegislatura', 'sexo']).size().to_frame('valorAbsoluto')"
   ]
  },
  {
   "cell_type": "markdown",
   "id": "cd0e613a-bc45-4802-973b-84e3f6738de0",
   "metadata": {},
   "source": [
    "Estabelece porcentagem de cada categoria em relação ao total de candidaturas eleitas"
   ]
  },
  {
   "cell_type": "code",
   "execution_count": 36,
   "id": "5460c459-135f-43a1-bfef-0d8e8732a18b",
   "metadata": {},
   "outputs": [],
   "source": [
    "agrupa_sexo_h2['porcentagem'] = round(agrupa_sexo_h2['valorAbsoluto'].div(agrupa_sexo_h2.groupby('idLegislatura')['valorAbsoluto'].transform('sum')).mul(100), 2)"
   ]
  },
  {
   "cell_type": "code",
   "execution_count": 37,
   "id": "1101276b-2ee2-4846-857a-07f02ea55e31",
   "metadata": {},
   "outputs": [],
   "source": [
    "agrupa_sexo_h2_df = agrupa_sexo_h2.reset_index()"
   ]
  },
  {
   "cell_type": "markdown",
   "id": "f5079aa7-f94b-4b29-80e3-f268f1a429ca",
   "metadata": {},
   "source": [
    "Prepara os dados para visualização em plano cartesiano"
   ]
  },
  {
   "cell_type": "code",
   "execution_count": 38,
   "id": "2e7b21c9-b502-403f-b27d-68e877efdf45",
   "metadata": {},
   "outputs": [],
   "source": [
    "mulher_h2 = agrupa_sexo_h2_df[agrupa_sexo_h2_df['sexo'] == 'F']['porcentagem'].tolist()\n",
    "homem_h2 = agrupa_sexo_h2_df[agrupa_sexo_h2_df['sexo'] == 'M']['porcentagem'].tolist()"
   ]
  },
  {
   "cell_type": "code",
   "execution_count": 39,
   "id": "95c4de74-f602-4a8e-9b55-fd9a0b00ea68",
   "metadata": {},
   "outputs": [],
   "source": [
    "legislaturas_lista_h2 = agrupa_sexo_h2_df['idLegislatura'].unique()"
   ]
  },
  {
   "cell_type": "markdown",
   "id": "4d7ceb74-788f-4239-b6cd-36045535f9a0",
   "metadata": {},
   "source": [
    "Substituimos o valor ordinal das legislaturas pelo ano de início para facilitar a compreensão do gráfico."
   ]
  },
  {
   "cell_type": "code",
   "execution_count": 40,
   "id": "8a34395a-1e76-4851-9132-508ff3e4fbd2",
   "metadata": {},
   "outputs": [],
   "source": [
    "legislaturas_lista_h2 = ['2007', '2011', '2015', '2019']"
   ]
  },
  {
   "cell_type": "code",
   "execution_count": 41,
   "id": "84e1a7a3-2104-4cc0-b7b8-056cc0ad34a5",
   "metadata": {},
   "outputs": [
    {
     "data": {
      "image/png": "[encoded data removed]",
      "text/plain": [
       "<Figure size 432x288 with 1 Axes>"
      ]
     },
     "metadata": {
      "needs_background": "light"
     },
     "output_type": "display_data"
    }
   ],
   "source": [
    "agrupa_sexo_h2_df2 = pd.DataFrame({'mulher': mulher_h2,\n",
    "                               'homem': homem_h2\n",
    "                               }, index=legislaturas_lista_h2,\n",
    "                              )\n",
    "agrupa_sexo_h2_df2.plot.line()\n",
    "agrupa_sexo_h2_df2.to_csv('../dados/analise_genero_2007_2019.csv')"
   ]
  },
  {
   "cell_type": "markdown",
   "id": "a8a86cf3-6ffb-412c-b92d-45a0d93f8b49",
   "metadata": {},
   "source": [
    "Para melhor visualizar as variações, estabelecemos gráficos para cada gênero."
   ]
  },
  {
   "cell_type": "code",
   "execution_count": 42,
   "id": "3fa0e5cf-3cb0-4d83-a49f-7cf3053128d5",
   "metadata": {},
   "outputs": [
    {
     "data": {
      "text/plain": [
       "array([<AxesSubplot:>, <AxesSubplot:>], dtype=object)"
      ]
     },
     "execution_count": 42,
     "metadata": {},
     "output_type": "execute_result"
    },
    {
     "data": {
      "image/png": "[encoded data removed]",
      "text/plain": [
       "<Figure size 432x288 with 2 Axes>"
      ]
     },
     "metadata": {
      "needs_background": "light"
     },
     "output_type": "display_data"
    }
   ],
   "source": [
    "agrupa_sexo_h2_df2.plot.line(subplots=True)"
   ]
  },
  {
   "cell_type": "code",
   "execution_count": 43,
   "id": "f7791a2a-e599-445b-abfd-a5c5feeeeabe",
   "metadata": {},
   "outputs": [],
   "source": [
    "diferenca_percentual_mulher_h2_total = mulher_h2[-1] - mulher_h2[0]"
   ]
  },
  {
   "cell_type": "code",
   "execution_count": 44,
   "id": "73e51043-f9e4-40e6-bfe2-d16f2946b5f6",
   "metadata": {},
   "outputs": [
    {
     "name": "stdout",
     "output_type": "stream",
     "text": [
      "\n",
      "Pergunta: Após a aprovação da Lei 9.504/1997 houve aumento no percentual de mulheres eleitas para o cargo de deputada federal nas \n",
      "3 legislações subsequentes em comparação com o percentual existente na data de sua aprovação? \n",
      " \n",
      "Resposta: Houve aumento de  6.55% no total de mulheres deputadas entre 2007 e 2019.\n",
      "\n"
     ]
    }
   ],
   "source": [
    "print(f'''\n",
    "Pergunta: Após a aprovação da Lei 9.504/1997 houve aumento no percentual de mulheres eleitas para o cargo de deputada federal nas \n",
    "3 legislações subsequentes em comparação com o percentual existente na data de sua aprovação? \\n \n",
    "Resposta: Houve aumento de  {round(diferenca_percentual_mulher_h2_total, 2)}% no total de mulheres deputadas entre 2007 e 2019.\n",
    "''')"
   ]
  }
 ],
 "metadata": {
  "kernelspec": {
   "display_name": "Python 3",
   "language": "python",
   "name": "python3"
  },
  "language_info": {
   "codemirror_mode": {
    "name": "ipython",
    "version": 3
   },
   "file_extension": ".py",
   "mimetype": "text/x-python",
   "name": "python",
   "nbconvert_exporter": "python",
   "pygments_lexer": "ipython3",
   "version": "3.8.10"
  }
 },
 "nbformat": 4,
 "nbformat_minor": 5
}
