{
 "cells": [
  {
   "cell_type": "code",
   "execution_count": 2,
   "id": "349abb0d-516f-4487-8b3a-6e837bd873c8",
   "metadata": {},
   "outputs": [],
   "source": [
    "import pandas as pd\n",
    "import matplotlib.pyplot as plt"
   ]
  },
  {
   "cell_type": "markdown",
   "id": "0ca09b14-0945-48a6-9d11-f50ae2060fa1",
   "metadata": {},
   "source": [
    "# Após a aprovação da Lei 9.504/1997 houve aumento no percentual de mulheres eleitas para o cargo de deputada federal nas 3 legislações subsequentes em comparação com o percentual existente na data de sua aprovação?\n",
    "**Hipótese:** Não houve aumento no percentual de mulheres eleitas para o cargo de deputada federal nas 3 legislações subsequentes em comparação com o percentual existente na data de sua aprovação da Lei 9.504/1997."
   ]
  },
  {
   "cell_type": "code",
   "execution_count": 3,
   "id": "05d199bb-96b5-45ff-8454-3386ba02253d",
   "metadata": {},
   "outputs": [],
   "source": [
    "df_legislaturas = pd.read_csv('../dados/legislaturas_1934_2023.csv')"
   ]
  },
  {
   "cell_type": "code",
   "execution_count": 4,
   "id": "24d26dda-b12b-4ad6-ab3f-3c3ff3d0ebd2",
   "metadata": {},
   "outputs": [
    {
     "data": {
      "text/html": [
       "<div>\n",
       "<style scoped>\n",
       "    .dataframe tbody tr th:only-of-type {\n",
       "        vertical-align: middle;\n",
       "    }\n",
       "\n",
       "    .dataframe tbody tr th {\n",
       "        vertical-align: top;\n",
       "    }\n",
       "\n",
       "    .dataframe thead th {\n",
       "        text-align: right;\n",
       "    }\n",
       "</style>\n",
       "<table border=\"1\" class=\"dataframe\">\n",
       "  <thead>\n",
       "    <tr style=\"text-align: right;\">\n",
       "      <th></th>\n",
       "      <th>id</th>\n",
       "      <th>uri</th>\n",
       "      <th>dataInicio</th>\n",
       "      <th>dataFim</th>\n",
       "    </tr>\n",
       "  </thead>\n",
       "  <tbody>\n",
       "    <tr>\n",
       "      <th>0</th>\n",
       "      <td>56</td>\n",
       "      <td>https://dadosabertos.camara.leg.br/api/v2/legi...</td>\n",
       "      <td>2019-02-01</td>\n",
       "      <td>2023-01-31</td>\n",
       "    </tr>\n",
       "    <tr>\n",
       "      <th>1</th>\n",
       "      <td>55</td>\n",
       "      <td>https://dadosabertos.camara.leg.br/api/v2/legi...</td>\n",
       "      <td>2015-02-01</td>\n",
       "      <td>2019-01-31</td>\n",
       "    </tr>\n",
       "    <tr>\n",
       "      <th>2</th>\n",
       "      <td>54</td>\n",
       "      <td>https://dadosabertos.camara.leg.br/api/v2/legi...</td>\n",
       "      <td>2011-02-01</td>\n",
       "      <td>2015-01-31</td>\n",
       "    </tr>\n",
       "    <tr>\n",
       "      <th>3</th>\n",
       "      <td>53</td>\n",
       "      <td>https://dadosabertos.camara.leg.br/api/v2/legi...</td>\n",
       "      <td>2007-02-01</td>\n",
       "      <td>2011-01-31</td>\n",
       "    </tr>\n",
       "    <tr>\n",
       "      <th>4</th>\n",
       "      <td>52</td>\n",
       "      <td>https://dadosabertos.camara.leg.br/api/v2/legi...</td>\n",
       "      <td>2003-02-01</td>\n",
       "      <td>2007-01-31</td>\n",
       "    </tr>\n",
       "    <tr>\n",
       "      <th>5</th>\n",
       "      <td>51</td>\n",
       "      <td>https://dadosabertos.camara.leg.br/api/v2/legi...</td>\n",
       "      <td>1999-02-01</td>\n",
       "      <td>2003-01-31</td>\n",
       "    </tr>\n",
       "    <tr>\n",
       "      <th>6</th>\n",
       "      <td>50</td>\n",
       "      <td>https://dadosabertos.camara.leg.br/api/v2/legi...</td>\n",
       "      <td>1995-02-01</td>\n",
       "      <td>1999-01-31</td>\n",
       "    </tr>\n",
       "    <tr>\n",
       "      <th>7</th>\n",
       "      <td>49</td>\n",
       "      <td>https://dadosabertos.camara.leg.br/api/v2/legi...</td>\n",
       "      <td>1991-02-01</td>\n",
       "      <td>1995-01-31</td>\n",
       "    </tr>\n",
       "    <tr>\n",
       "      <th>8</th>\n",
       "      <td>48</td>\n",
       "      <td>https://dadosabertos.camara.leg.br/api/v2/legi...</td>\n",
       "      <td>1987-02-01</td>\n",
       "      <td>1991-01-31</td>\n",
       "    </tr>\n",
       "    <tr>\n",
       "      <th>9</th>\n",
       "      <td>47</td>\n",
       "      <td>https://dadosabertos.camara.leg.br/api/v2/legi...</td>\n",
       "      <td>1983-02-01</td>\n",
       "      <td>1987-01-31</td>\n",
       "    </tr>\n",
       "    <tr>\n",
       "      <th>10</th>\n",
       "      <td>46</td>\n",
       "      <td>https://dadosabertos.camara.leg.br/api/v2/legi...</td>\n",
       "      <td>1979-02-01</td>\n",
       "      <td>1983-01-31</td>\n",
       "    </tr>\n",
       "    <tr>\n",
       "      <th>11</th>\n",
       "      <td>45</td>\n",
       "      <td>https://dadosabertos.camara.leg.br/api/v2/legi...</td>\n",
       "      <td>1975-02-01</td>\n",
       "      <td>1979-01-31</td>\n",
       "    </tr>\n",
       "    <tr>\n",
       "      <th>12</th>\n",
       "      <td>44</td>\n",
       "      <td>https://dadosabertos.camara.leg.br/api/v2/legi...</td>\n",
       "      <td>1971-02-01</td>\n",
       "      <td>1975-01-31</td>\n",
       "    </tr>\n",
       "    <tr>\n",
       "      <th>13</th>\n",
       "      <td>43</td>\n",
       "      <td>https://dadosabertos.camara.leg.br/api/v2/legi...</td>\n",
       "      <td>1967-02-01</td>\n",
       "      <td>1971-01-31</td>\n",
       "    </tr>\n",
       "    <tr>\n",
       "      <th>14</th>\n",
       "      <td>42</td>\n",
       "      <td>https://dadosabertos.camara.leg.br/api/v2/legi...</td>\n",
       "      <td>1963-02-01</td>\n",
       "      <td>1967-01-31</td>\n",
       "    </tr>\n",
       "    <tr>\n",
       "      <th>15</th>\n",
       "      <td>41</td>\n",
       "      <td>https://dadosabertos.camara.leg.br/api/v2/legi...</td>\n",
       "      <td>1959-02-01</td>\n",
       "      <td>1963-01-31</td>\n",
       "    </tr>\n",
       "    <tr>\n",
       "      <th>16</th>\n",
       "      <td>40</td>\n",
       "      <td>https://dadosabertos.camara.leg.br/api/v2/legi...</td>\n",
       "      <td>1955-02-01</td>\n",
       "      <td>1959-01-31</td>\n",
       "    </tr>\n",
       "    <tr>\n",
       "      <th>17</th>\n",
       "      <td>39</td>\n",
       "      <td>https://dadosabertos.camara.leg.br/api/v2/legi...</td>\n",
       "      <td>1951-03-10</td>\n",
       "      <td>1955-01-31</td>\n",
       "    </tr>\n",
       "    <tr>\n",
       "      <th>18</th>\n",
       "      <td>38</td>\n",
       "      <td>https://dadosabertos.camara.leg.br/api/v2/legi...</td>\n",
       "      <td>1946-09-23</td>\n",
       "      <td>1951-03-09</td>\n",
       "    </tr>\n",
       "    <tr>\n",
       "      <th>19</th>\n",
       "      <td>37</td>\n",
       "      <td>https://dadosabertos.camara.leg.br/api/v2/legi...</td>\n",
       "      <td>1935-04-28</td>\n",
       "      <td>1937-11-10</td>\n",
       "    </tr>\n",
       "    <tr>\n",
       "      <th>20</th>\n",
       "      <td>36</td>\n",
       "      <td>https://dadosabertos.camara.leg.br/api/v2/legi...</td>\n",
       "      <td>1934-07-21</td>\n",
       "      <td>1935-04-27</td>\n",
       "    </tr>\n",
       "  </tbody>\n",
       "</table>\n",
       "</div>"
      ],
      "text/plain": [
       "    id                                                uri  dataInicio  \\\n",
       "0   56  https://dadosabertos.camara.leg.br/api/v2/legi...  2019-02-01   \n",
       "1   55  https://dadosabertos.camara.leg.br/api/v2/legi...  2015-02-01   \n",
       "2   54  https://dadosabertos.camara.leg.br/api/v2/legi...  2011-02-01   \n",
       "3   53  https://dadosabertos.camara.leg.br/api/v2/legi...  2007-02-01   \n",
       "4   52  https://dadosabertos.camara.leg.br/api/v2/legi...  2003-02-01   \n",
       "5   51  https://dadosabertos.camara.leg.br/api/v2/legi...  1999-02-01   \n",
       "6   50  https://dadosabertos.camara.leg.br/api/v2/legi...  1995-02-01   \n",
       "7   49  https://dadosabertos.camara.leg.br/api/v2/legi...  1991-02-01   \n",
       "8   48  https://dadosabertos.camara.leg.br/api/v2/legi...  1987-02-01   \n",
       "9   47  https://dadosabertos.camara.leg.br/api/v2/legi...  1983-02-01   \n",
       "10  46  https://dadosabertos.camara.leg.br/api/v2/legi...  1979-02-01   \n",
       "11  45  https://dadosabertos.camara.leg.br/api/v2/legi...  1975-02-01   \n",
       "12  44  https://dadosabertos.camara.leg.br/api/v2/legi...  1971-02-01   \n",
       "13  43  https://dadosabertos.camara.leg.br/api/v2/legi...  1967-02-01   \n",
       "14  42  https://dadosabertos.camara.leg.br/api/v2/legi...  1963-02-01   \n",
       "15  41  https://dadosabertos.camara.leg.br/api/v2/legi...  1959-02-01   \n",
       "16  40  https://dadosabertos.camara.leg.br/api/v2/legi...  1955-02-01   \n",
       "17  39  https://dadosabertos.camara.leg.br/api/v2/legi...  1951-03-10   \n",
       "18  38  https://dadosabertos.camara.leg.br/api/v2/legi...  1946-09-23   \n",
       "19  37  https://dadosabertos.camara.leg.br/api/v2/legi...  1935-04-28   \n",
       "20  36  https://dadosabertos.camara.leg.br/api/v2/legi...  1934-07-21   \n",
       "\n",
       "       dataFim  \n",
       "0   2023-01-31  \n",
       "1   2019-01-31  \n",
       "2   2015-01-31  \n",
       "3   2011-01-31  \n",
       "4   2007-01-31  \n",
       "5   2003-01-31  \n",
       "6   1999-01-31  \n",
       "7   1995-01-31  \n",
       "8   1991-01-31  \n",
       "9   1987-01-31  \n",
       "10  1983-01-31  \n",
       "11  1979-01-31  \n",
       "12  1975-01-31  \n",
       "13  1971-01-31  \n",
       "14  1967-01-31  \n",
       "15  1963-01-31  \n",
       "16  1959-01-31  \n",
       "17  1955-01-31  \n",
       "18  1951-03-09  \n",
       "19  1937-11-10  \n",
       "20  1935-04-27  "
      ]
     },
     "execution_count": 4,
     "metadata": {},
     "output_type": "execute_result"
    }
   ],
   "source": [
    "df_legislaturas"
   ]
  },
  {
   "cell_type": "code",
   "execution_count": 5,
   "id": "d33cf774-8dc1-4bf7-b82f-e65c8b535606",
   "metadata": {},
   "outputs": [],
   "source": [
    "legislaturas_h1 = df_legislaturas[(df_legislaturas['id'] >= 50) & (df_legislaturas['id'] <= 53)]['id'].unique().tolist()"
   ]
  },
  {
   "cell_type": "code",
   "execution_count": 6,
   "id": "e9ad2488-ed01-4de0-b348-f51cc6dec0c7",
   "metadata": {},
   "outputs": [],
   "source": [
    "df_candidaturas_eleitas = pd.read_csv('../dados/candidaturas_eleitas.csv')"
   ]
  },
  {
   "cell_type": "code",
   "execution_count": 7,
   "id": "197ec5b4-8f08-422a-ba28-e725de86fe89",
   "metadata": {},
   "outputs": [],
   "source": [
    "df_candidaturas_eleitas_h1 = df_candidaturas_eleitas[df_candidaturas_eleitas['idLegislatura'].isin(legislaturas_h1)].copy()"
   ]
  },
  {
   "cell_type": "code",
   "execution_count": 8,
   "id": "e6d1626f-ce9c-4dda-bc3e-92beab378061",
   "metadata": {},
   "outputs": [
    {
     "data": {
      "text/plain": [
       "array([53, 52, 51, 50])"
      ]
     },
     "execution_count": 8,
     "metadata": {},
     "output_type": "execute_result"
    }
   ],
   "source": [
    "df_candidaturas_eleitas_h1['idLegislatura'].unique()"
   ]
  },
  {
   "cell_type": "code",
   "execution_count": 9,
   "id": "9d2b0c18-8c78-4d62-8fb8-690911741597",
   "metadata": {},
   "outputs": [],
   "source": [
    "agrupa_sexo = df_candidaturas_eleitas_h1.groupby(['idLegislatura', 'sexo']).size().to_frame('valorAbsoluto')"
   ]
  },
  {
   "cell_type": "code",
   "execution_count": 10,
   "id": "ce18c43a-59fa-46de-ac0a-b4ab4e9fe15b",
   "metadata": {},
   "outputs": [],
   "source": [
    "agrupa_sexo['porcentagem'] = round(agrupa_sexo['valorAbsoluto'].div(agrupa_sexo.groupby('idLegislatura')['valorAbsoluto'].transform('sum')).mul(100), 2)"
   ]
  },
  {
   "cell_type": "code",
   "execution_count": 11,
   "id": "69f90008-902e-4db6-8079-fbbbc15709c7",
   "metadata": {},
   "outputs": [],
   "source": [
    "agrupa_sexo_df = agrupa_sexo.reset_index()"
   ]
  },
  {
   "cell_type": "code",
   "execution_count": 12,
   "id": "bee635de-d0d3-4eae-9cc3-895593f102e8",
   "metadata": {},
   "outputs": [],
   "source": [
    "mulher_h1 = agrupa_sexo_df[agrupa_sexo_df['sexo'] == 'F']['porcentagem'].tolist()\n",
    "homem_h1 = agrupa_sexo_df[agrupa_sexo_df['sexo'] == 'M']['porcentagem'].tolist()"
   ]
  },
  {
   "cell_type": "code",
   "execution_count": 13,
   "id": "c71a61a3-5a9d-4480-ac2d-acf3bdb89604",
   "metadata": {},
   "outputs": [],
   "source": [
    "legislaturas_lista_h1 = agrupa_sexo_df['idLegislatura'].unique()"
   ]
  },
  {
   "cell_type": "markdown",
   "id": "275607c3-7ac5-4773-88bd-c43b7e3ef34d",
   "metadata": {},
   "source": [
    "Substituimos o valor ordinal das legislaturas pelo ano de início para facilitar a compreensão do gráfico."
   ]
  },
  {
   "cell_type": "code",
   "execution_count": 15,
   "id": "aa4b38c1-4862-49b6-9887-5f62a85fdf02",
   "metadata": {},
   "outputs": [],
   "source": [
    "legislaturas_lista_h1 = ['1995', '1999', '2003', '2007']"
   ]
  },
  {
   "cell_type": "code",
   "execution_count": 24,
   "id": "f113e339-e35c-4cfa-bd19-16fd1d43feab",
   "metadata": {},
   "outputs": [
    {
     "data": {
      "image/png": "[encoded data removed]",
      "text/plain": [
       "<Figure size 432x288 with 1 Axes>"
      ]
     },
     "metadata": {
      "needs_background": "light"
     },
     "output_type": "display_data"
    }
   ],
   "source": [
    "agrupa_sexo_df2 = pd.DataFrame({'mulher': mulher_h1,\n",
    "                               'homem': homem_h1\n",
    "                               }, index=legislaturas_lista_h1,\n",
    "                              )\n",
    "agrupa_sexo_df2.plot.line()\n",
    "agrupa_sexo_df2.to_csv('../dados/analise_genero_1995_2007.csv')"
   ]
  },
  {
   "cell_type": "code",
   "execution_count": 17,
   "id": "9b741c36-7746-4613-af53-c2a21f69e631",
   "metadata": {},
   "outputs": [
    {
     "data": {
      "text/plain": [
       "array([<AxesSubplot:>, <AxesSubplot:>], dtype=object)"
      ]
     },
     "execution_count": 17,
     "metadata": {},
     "output_type": "execute_result"
    },
    {
     "data": {
      "image/png": "[encoded data removed]",
      "text/plain": [
       "<Figure size 432x288 with 2 Axes>"
      ]
     },
     "metadata": {
      "needs_background": "light"
     },
     "output_type": "display_data"
    }
   ],
   "source": [
    "agrupa_sexo_df2.plot.line(subplots=True)"
   ]
  },
  {
   "cell_type": "code",
   "execution_count": 19,
   "id": "7d01681b-dad7-4b6d-a6ec-2b20fd3e92df",
   "metadata": {},
   "outputs": [],
   "source": [
    "diferenca_percentual_mulher_h1_total = mulher_h1[-1] - mulher_h1[0]"
   ]
  },
  {
   "cell_type": "code",
   "execution_count": 23,
   "id": "f396a8a4-f30d-4ddd-a7a6-6296791585f3",
   "metadata": {},
   "outputs": [
    {
     "name": "stdout",
     "output_type": "stream",
     "text": [
      "\n",
      "Pergunta: Após a aprovação da Lei 9.504/1997 houve aumento no percentual de mulheres eleitas para o cargo de deputada federal nas \n",
      "3 legislações subsequentes em comparação com o percentual existente na data de sua aprovação? \n",
      " \n",
      "- Houve aumento de  1.44% no total de mulheres deputadas entre 1995 e 2007.\n",
      "\n"
     ]
    }
   ],
   "source": [
    "print(f'''\n",
    "Pergunta: Após a aprovação da Lei 9.504/1997 houve aumento no percentual de mulheres eleitas para o cargo de deputada federal nas \n",
    "3 legislações subsequentes em comparação com o percentual existente na data de sua aprovação? \\n \n",
    "- Houve aumento de  {round(diferenca_percentual_mulher_h1_total, 2)}% no total de mulheres deputadas entre 1995 e 2007.\n",
    "''')"
   ]
  },
  {
   "cell_type": "markdown",
   "id": "a282d850-bbdc-448e-8487-52c7442d9bf3",
   "metadata": {},
   "source": [
    "# Após a aprovação da Lei 12.034/2009 houve aumento no percentual de mulheres eleitas para o cargo de deputada federal nas 3 legislações subsequentes em comparação com o percentual existente na data de sua aprovação?\n",
    "**Hipótese:** Sim, houve aumento no percentual de mulheres eleitas para o cargo de deputada federal nas 3 legislações subsequentes em comparação com o percentual existente na data de sua aprovação da Lei 12.034/2009."
   ]
  },
  {
   "cell_type": "code",
   "execution_count": 25,
   "id": "aebd9912-bd7e-4659-837d-c898cf08bf92",
   "metadata": {},
   "outputs": [],
   "source": [
    "legislaturas_h2 = df_legislaturas[(df_legislaturas['id'] >= 53) & (df_legislaturas['id'] <= 56)]['id'].unique().tolist()"
   ]
  },
  {
   "cell_type": "code",
   "execution_count": 26,
   "id": "fc3ecf44-15c1-4170-82f1-ec97163fd541",
   "metadata": {},
   "outputs": [],
   "source": [
    "df_candidaturas_eleitas_h2 = df_candidaturas_eleitas[df_candidaturas_eleitas['idLegislatura'].isin(legislaturas_h2)].copy()"
   ]
  },
  {
   "cell_type": "code",
   "execution_count": 27,
   "id": "f13322d8-cc87-4da7-b6bc-ee3e4885fb47",
   "metadata": {},
   "outputs": [
    {
     "data": {
      "text/plain": [
       "array([56, 55, 54, 53])"
      ]
     },
     "execution_count": 27,
     "metadata": {},
     "output_type": "execute_result"
    }
   ],
   "source": [
    "df_candidaturas_eleitas_h2['idLegislatura'].unique()"
   ]
  },
  {
   "cell_type": "code",
   "execution_count": 28,
   "id": "2362e44e-daf9-4934-93ef-dd3a4e521635",
   "metadata": {},
   "outputs": [],
   "source": [
    "agrupa_sexo_h2 = df_candidaturas_eleitas_h2.groupby(['idLegislatura', 'sexo']).size().to_frame('valorAbsoluto')"
   ]
  },
  {
   "cell_type": "code",
   "execution_count": 29,
   "id": "5460c459-135f-43a1-bfef-0d8e8732a18b",
   "metadata": {},
   "outputs": [],
   "source": [
    "agrupa_sexo_h2['porcentagem'] = round(agrupa_sexo_h2['valorAbsoluto'].div(agrupa_sexo_h2.groupby('idLegislatura')['valorAbsoluto'].transform('sum')).mul(100), 2)"
   ]
  },
  {
   "cell_type": "code",
   "execution_count": 31,
   "id": "1101276b-2ee2-4846-857a-07f02ea55e31",
   "metadata": {},
   "outputs": [],
   "source": [
    "agrupa_sexo_h2_df = agrupa_sexo_h2.reset_index()"
   ]
  },
  {
   "cell_type": "code",
   "execution_count": 32,
   "id": "2e7b21c9-b502-403f-b27d-68e877efdf45",
   "metadata": {},
   "outputs": [],
   "source": [
    "mulher_h2 = agrupa_sexo_h2_df[agrupa_sexo_h2_df['sexo'] == 'F']['porcentagem'].tolist()\n",
    "homem_h2 = agrupa_sexo_h2_df[agrupa_sexo_h2_df['sexo'] == 'M']['porcentagem'].tolist()"
   ]
  },
  {
   "cell_type": "code",
   "execution_count": 33,
   "id": "95c4de74-f602-4a8e-9b55-fd9a0b00ea68",
   "metadata": {},
   "outputs": [],
   "source": [
    "legislaturas_lista_h2 = agrupa_sexo_h2_df['idLegislatura'].unique()"
   ]
  },
  {
   "cell_type": "markdown",
   "id": "4d7ceb74-788f-4239-b6cd-36045535f9a0",
   "metadata": {},
   "source": [
    "Substituimos o valor ordinal das legislaturas pelo ano de início para facilitar a compreensão do gráfico."
   ]
  },
  {
   "cell_type": "code",
   "execution_count": 34,
   "id": "8a34395a-1e76-4851-9132-508ff3e4fbd2",
   "metadata": {},
   "outputs": [],
   "source": [
    "legislaturas_lista_h2 = ['2007', '2011', '2015', '2019']"
   ]
  },
  {
   "cell_type": "code",
   "execution_count": 35,
   "id": "84e1a7a3-2104-4cc0-b7b8-056cc0ad34a5",
   "metadata": {},
   "outputs": [
    {
     "data": {
      "image/png": "[encoded data removed]",
      "text/plain": [
       "<Figure size 432x288 with 1 Axes>"
      ]
     },
     "metadata": {
      "needs_background": "light"
     },
     "output_type": "display_data"
    }
   ],
   "source": [
    "agrupa_sexo_h2_df2 = pd.DataFrame({'mulher': mulher_h2,\n",
    "                               'homem': homem_h2\n",
    "                               }, index=legislaturas_lista_h2,\n",
    "                              )\n",
    "agrupa_sexo_h2_df2.plot.line()\n",
    "agrupa_sexo_h2_df2.to_csv('../dados/analise_genero_2007_2019.csv')"
   ]
  },
  {
   "cell_type": "code",
   "execution_count": 36,
   "id": "3fa0e5cf-3cb0-4d83-a49f-7cf3053128d5",
   "metadata": {},
   "outputs": [
    {
     "data": {
      "text/plain": [
       "array([<AxesSubplot:>, <AxesSubplot:>], dtype=object)"
      ]
     },
     "execution_count": 36,
     "metadata": {},
     "output_type": "execute_result"
    },
    {
     "data": {
      "image/png": "[encoded data removed]",
      "text/plain": [
       "<Figure size 432x288 with 2 Axes>"
      ]
     },
     "metadata": {
      "needs_background": "light"
     },
     "output_type": "display_data"
    }
   ],
   "source": [
    "agrupa_sexo_h2_df2.plot.line(subplots=True)"
   ]
  },
  {
   "cell_type": "code",
   "execution_count": 37,
   "id": "f7791a2a-e599-445b-abfd-a5c5feeeeabe",
   "metadata": {},
   "outputs": [],
   "source": [
    "diferenca_percentual_mulher_h2_total = mulher_h2[-1] - mulher_h2[0]"
   ]
  },
  {
   "cell_type": "code",
   "execution_count": 40,
   "id": "73e51043-f9e4-40e6-bfe2-d16f2946b5f6",
   "metadata": {},
   "outputs": [
    {
     "name": "stdout",
     "output_type": "stream",
     "text": [
      "\n",
      "Pergunta: Após a aprovação da Lei 9.504/1997 houve aumento no percentual de mulheres eleitas para o cargo de deputada federal nas \n",
      "3 legislações subsequentes em comparação com o percentual existente na data de sua aprovação? \n",
      " \n",
      "- Houve aumento de  6.6% no total de mulheres deputadas entre 2007 e 2019.\n",
      "\n"
     ]
    }
   ],
   "source": [
    "print(f'''\n",
    "Pergunta: Após a aprovação da Lei 9.504/1997 houve aumento no percentual de mulheres eleitas para o cargo de deputada federal nas \n",
    "3 legislações subsequentes em comparação com o percentual existente na data de sua aprovação? \\n \n",
    "- Houve aumento de  {round(diferenca_percentual_mulher_h2_total, 2)}% no total de mulheres deputadas entre 2007 e 2019.\n",
    "''')"
   ]
  },
  {
   "cell_type": "code",
   "execution_count": null,
   "id": "1023e3ea-6d7b-49e9-a3b6-77b9b028b5a0",
   "metadata": {},
   "outputs": [],
   "source": []
  }
 ],
 "metadata": {
  "kernelspec": {
   "display_name": "Python 3",
   "language": "python",
   "name": "python3"
  },
  "language_info": {
   "codemirror_mode": {
    "name": "ipython",
    "version": 3
   },
   "file_extension": ".py",
   "mimetype": "text/x-python",
   "name": "python",
   "nbconvert_exporter": "python",
   "pygments_lexer": "ipython3",
   "version": "3.8.10"
  }
 },
 "nbformat": 4,
 "nbformat_minor": 5
}
