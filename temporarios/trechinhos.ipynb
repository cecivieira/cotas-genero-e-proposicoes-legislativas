{
 "cells": [
  {
   "cell_type": "code",
   "execution_count": null,
   "id": "9e3b8394-89f5-4c03-8e2e-096ef1f6abd2",
   "metadata": {},
   "outputs": [],
   "source": [
    "gb_sexo = df_candidaturas_eleitas_h1.groupby('idLegislatura')['sexo']"
   ]
  },
  {
   "cell_type": "code",
   "execution_count": null,
   "id": "09856885-42f0-459c-b9ee-12dabbc6718f",
   "metadata": {},
   "outputs": [],
   "source": [
    "pd.concat([gb_sexo.value_counts(),\n",
    "          gb_sexo.value_counts().mul(100)], axis=1, keys=('valor absoluto', 'mult'))"
   ]
  }
 ],
 "metadata": {
  "kernelspec": {
   "display_name": "Python 3",
   "language": "python",
   "name": "python3"
  },
  "language_info": {
   "codemirror_mode": {
    "name": "ipython",
    "version": 3
   },
   "file_extension": ".py",
   "mimetype": "text/x-python",
   "name": "python",
   "nbconvert_exporter": "python",
   "pygments_lexer": "ipython3",
   "version": "3.8.10"
  }
 },
 "nbformat": 4,
 "nbformat_minor": 5
}
