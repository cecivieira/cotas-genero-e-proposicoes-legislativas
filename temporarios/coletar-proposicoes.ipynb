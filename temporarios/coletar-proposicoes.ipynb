{
 "cells": [
  {
   "cell_type": "code",
   "execution_count": 2,
   "id": "11288e1d-c2c7-4b2b-ba8e-1e2606b795b4",
   "metadata": {},
   "outputs": [],
   "source": [
    "import glob\n",
    "import pandas as pd\n",
    "import requests"
   ]
  },
  {
   "cell_type": "markdown",
   "id": "fbb47b9e-58e7-45c7-94ef-b61ca9aae059",
   "metadata": {},
   "source": [
    "# Dados proposições legislativas no período de 1934 a 2021(nov.)\n",
    "\n",
    "Proposições legislativas são projetos de lei, resoluções, medidas provisórias, emendas, pareceres e todos os outros tipos de proposições na Câmara dos Deputados."
   ]
  },
  {
   "cell_type": "code",
   "execution_count": 3,
   "id": "71633fcc-cf21-4c25-b707-5f939d8f2dcc",
   "metadata": {},
   "outputs": [
    {
     "data": {
      "text/plain": [
       "79"
      ]
     },
     "execution_count": 3,
     "metadata": {},
     "output_type": "execute_result"
    }
   ],
   "source": [
    "lista_proposicoes = glob.glob('dados/proposicoes/proposicoes*.csv')\n",
    "len(lista_proposicoes)"
   ]
  },
  {
   "cell_type": "code",
   "execution_count": 4,
   "id": "f9f77b36-67f7-4902-be96-40b1c3f13126",
   "metadata": {},
   "outputs": [],
   "source": [
    "tipos_dados = {\n",
    "    'id': object,\n",
    "    'uri': object,\n",
    "    'siglaTipo': object,\n",
    "    'numero': object,\n",
    "    'ano': int,\n",
    "    'codTipo': object,\n",
    "    'descricaoTipo': object,\n",
    "    'ementa': object,\n",
    "    'ementaDetalhada': object,\n",
    "    'keywords': object,   \n",
    "    'uriOrgaoNumerador': object,\n",
    "    'uriPropAnterior': object,\n",
    "    'uriPropPrincipal': object,\n",
    "    'uriPropPosterior': object,\n",
    "    'urlInteiroTeor': object, \n",
    "    'urnFinal': object, \n",
    "    'ultimoStatus_sequencia': object,\n",
    "    'ultimoStatus_uriRelator': object, \n",
    "    'ultimoStatus_idOrgao': object,\n",
    "    'ultimoStatus_siglaOrgao': object, \n",
    "    'ultimoStatus_uriOrgao': object,\n",
    "    'ultimoStatus_regime': object, \n",
    "    'ultimoStatus_descricaoTramitacao': object,\n",
    "    'ultimoStatus_idTipoTramitacao': object, \n",
    "    'ultimoStatus_descricaoSituacao': object,\n",
    "    'ultimoStatus_idSituacao': object, \n",
    "    'ultimoStatus_despacho': object, \n",
    "    'ultimoStatus_url': object\n",
    "}\n",
    "\n",
    "tipo_data = ['dataApresentacao', 'ultimoStatus_dataHora']"
   ]
  },
  {
   "cell_type": "code",
   "execution_count": 5,
   "id": "574317ad-9f6e-45b4-998b-5192a191e142",
   "metadata": {},
   "outputs": [],
   "source": [
    "lista_df = []\n",
    "\n",
    "for proposicao in lista_proposicoes:\n",
    "    df_proposicao = pd.read_csv(proposicao, sep=';', dtype=tipos_dados, parse_dates=tipo_data)\n",
    "    lista_df.append(df_proposicao)"
   ]
  },
  {
   "cell_type": "code",
   "execution_count": 6,
   "id": "eae20377-79c0-4e44-be6a-8e5de2f3d257",
   "metadata": {},
   "outputs": [
    {
     "data": {
      "text/plain": [
       "(680358, 30)"
      ]
     },
     "execution_count": 6,
     "metadata": {},
     "output_type": "execute_result"
    }
   ],
   "source": [
    "df_proposicao_1934_2021 = pd.concat(lista_df, axis=0, ignore_index=True)\n",
    "df_proposicao_1934_2021.shape"
   ]
  },
  {
   "cell_type": "code",
   "execution_count": 13,
   "id": "da7bee1b-03e6-4f73-89b7-d3db6ad6c781",
   "metadata": {},
   "outputs": [
    {
     "name": "stdout",
     "output_type": "stream",
     "text": [
      "[0, 1934, 1935, 1945, 1946, 1947, 1948, 1949, 1950, 1951, 1952, 1953, 1954, 1955, 1956, 1957, 1958, 1959, 1960, 1961, 1962, 1963, 1964, 1965, 1966, 1967, 1968, 1969, 1970, 1971, 1972, 1973, 1974, 1975, 1976, 1977, 1978, 1979, 1980, 1981, 1982, 1983, 1984, 1985, 1986, 1987, 1988, 1989, 1990, 1991, 1992, 1993, 1994, 1995, 1996, 1997, 1998, 1999, 2000, 2001, 2002, 2003, 2004, 2005, 2006, 2007, 2008, 2009, 2010, 2011, 2012, 2013, 2014, 2015, 2016, 2017, 2018, 2019, 2020, 2021]\n"
     ]
    }
   ],
   "source": [
    "# df_proposicao_2021 = df_proposicao_1934_2021[df_proposicao_1934_2021['ano'] == 2021].copy()\n",
    "# df_proposicao_2021\n",
    "lista_ano = df_proposicao_1934_2021['ano'].unique().tolist()\n",
    "lista_ano.sort()\n",
    "print(lista_ano)"
   ]
  },
  {
   "cell_type": "code",
   "execution_count": 27,
   "id": "b5871c30-b6ff-4f60-b5c6-060b5fe020f7",
   "metadata": {},
   "outputs": [
    {
     "data": {
      "text/plain": [
       "0       223390\n",
       "2019     25551\n",
       "2015     24663\n",
       "2020     24495\n",
       "2011     22712\n",
       "         ...  \n",
       "1946       317\n",
       "1969        54\n",
       "1935         1\n",
       "1934         1\n",
       "1945         1\n",
       "Name: ano, Length: 80, dtype: int64"
      ]
     },
     "execution_count": 27,
     "metadata": {},
     "output_type": "execute_result"
    }
   ],
   "source": [
    "df_proposicao_1934_2021['ano'].value_counts()"
   ]
  },
  {
   "cell_type": "markdown",
   "id": "7268fe5a-9d86-4395-aa14-cb25f5b90329",
   "metadata": {},
   "source": [
    "# Coleta de Temas das proposições"
   ]
  },
  {
   "cell_type": "code",
   "execution_count": 11,
   "id": "93d1e2bc-be5f-408c-bfef-d947a7f3d856",
   "metadata": {},
   "outputs": [],
   "source": [
    "temas = requests.get('https://dadosabertos.camara.leg.br/api/v2/referencias/proposicoes/codTema').json()\n",
    "df_temas = pd.DataFrame.from_dict(temas['dados'])\n",
    "df_temas.to_csv('dados/temas.csv', index=False)"
   ]
  },
  {
   "cell_type": "code",
   "execution_count": null,
   "id": "af88e693-55ea-463b-9fc4-0d3ef5bfcc65",
   "metadata": {},
   "outputs": [],
   "source": []
  }
 ],
 "metadata": {
  "kernelspec": {
   "display_name": "Python 3",
   "language": "python",
   "name": "python3"
  },
  "language_info": {
   "codemirror_mode": {
    "name": "ipython",
    "version": 3
   },
   "file_extension": ".py",
   "mimetype": "text/x-python",
   "name": "python",
   "nbconvert_exporter": "python",
   "pygments_lexer": "ipython3",
   "version": "3.8.10"
  }
 },
 "nbformat": 4,
 "nbformat_minor": 5
}
