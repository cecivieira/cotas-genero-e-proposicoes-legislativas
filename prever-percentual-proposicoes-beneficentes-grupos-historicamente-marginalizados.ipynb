{
 "cells": [
  {
   "cell_type": "code",
   "execution_count": 1,
   "id": "51688439-6e60-435e-9586-cc6d7bdfb1bf",
   "metadata": {},
   "outputs": [],
   "source": [
    "from sklearn.model_selection import train_test_split\n",
    "from sklearn.linear_model import LinearRegression\n",
    "from sklearn.ensemble import RandomForestRegressor\n",
    "\n",
    "import pandas as pd"
   ]
  },
  {
   "cell_type": "markdown",
   "id": "5fa595f4-724d-4dcb-917f-e39e476d179a",
   "metadata": {},
   "source": [
    "# Predição de percentual de propostas legislativas em favor de grupos historicamente marginalizados quando a composição da Câmera dos Deputados atingir 30% de mulheres\n",
    "\n",
    "Conforme análise dos dados presente no notebook “[analise-candidaturas-eleitas](analise-dados/analise-candidaturas-eleitas.ipynb)”, apenas 14,6% da Câmara dos Deputados é composta por mulheres. Tendo em vista que a OEA estima que a partir de 30% de diversidade de gênero no parlamento é possível observar mudanças substanciais em leis e políticas em favor da democracia e proteção de direitos de grupos historicamente marginalizados, foi aplicado um modelo de aprendizado de máquina para prever o percentual de proposições legislativas com temas que beneficiam grupos historicamente marginalizados, quando chegarmos a marca de 30% de mulheres legisladoras."
   ]
  },
  {
   "cell_type": "code",
   "execution_count": 2,
   "id": "f6e868d4-c51f-48e7-a8d2-fce3e631cae9",
   "metadata": {},
   "outputs": [],
   "source": [
    "proposicoes_e_mulheres = pd.read_csv('dados/proposicoes_anuais_para_predicao.csv')"
   ]
  },
  {
   "cell_type": "code",
   "execution_count": 3,
   "id": "6f49d060-055d-48f9-b90f-339753b34f6b",
   "metadata": {},
   "outputs": [
    {
     "data": {
      "text/html": [
       "<div>\n",
       "<style scoped>\n",
       "    .dataframe tbody tr th:only-of-type {\n",
       "        vertical-align: middle;\n",
       "    }\n",
       "\n",
       "    .dataframe tbody tr th {\n",
       "        vertical-align: top;\n",
       "    }\n",
       "\n",
       "    .dataframe thead th {\n",
       "        text-align: right;\n",
       "    }\n",
       "</style>\n",
       "<table border=\"1\" class=\"dataframe\">\n",
       "  <thead>\n",
       "    <tr style=\"text-align: right;\">\n",
       "      <th></th>\n",
       "      <th>ano</th>\n",
       "      <th>mulheres_eleitas_porcentagem</th>\n",
       "      <th>total_proposicoes</th>\n",
       "      <th>proposicoes_beneficiam_grupos_historicamente_marginalizados</th>\n",
       "      <th>proposicoes_beneficiam_grupos_historicamente_marginalizados_porcentagem</th>\n",
       "    </tr>\n",
       "  </thead>\n",
       "  <tbody>\n",
       "    <tr>\n",
       "      <th>0</th>\n",
       "      <td>1934</td>\n",
       "      <td>0.38</td>\n",
       "      <td>1</td>\n",
       "      <td>0</td>\n",
       "      <td>0.00</td>\n",
       "    </tr>\n",
       "    <tr>\n",
       "      <th>1</th>\n",
       "      <td>1945</td>\n",
       "      <td>0.00</td>\n",
       "      <td>1</td>\n",
       "      <td>0</td>\n",
       "      <td>0.00</td>\n",
       "    </tr>\n",
       "    <tr>\n",
       "      <th>2</th>\n",
       "      <td>1946</td>\n",
       "      <td>0.00</td>\n",
       "      <td>310</td>\n",
       "      <td>7</td>\n",
       "      <td>2.26</td>\n",
       "    </tr>\n",
       "    <tr>\n",
       "      <th>3</th>\n",
       "      <td>1947</td>\n",
       "      <td>0.00</td>\n",
       "      <td>1294</td>\n",
       "      <td>25</td>\n",
       "      <td>1.93</td>\n",
       "    </tr>\n",
       "    <tr>\n",
       "      <th>4</th>\n",
       "      <td>1948</td>\n",
       "      <td>0.00</td>\n",
       "      <td>1572</td>\n",
       "      <td>36</td>\n",
       "      <td>2.29</td>\n",
       "    </tr>\n",
       "  </tbody>\n",
       "</table>\n",
       "</div>"
      ],
      "text/plain": [
       "    ano  mulheres_eleitas_porcentagem  total_proposicoes  \\\n",
       "0  1934                          0.38                  1   \n",
       "1  1945                          0.00                  1   \n",
       "2  1946                          0.00                310   \n",
       "3  1947                          0.00               1294   \n",
       "4  1948                          0.00               1572   \n",
       "\n",
       "   proposicoes_beneficiam_grupos_historicamente_marginalizados  \\\n",
       "0                                                  0             \n",
       "1                                                  0             \n",
       "2                                                  7             \n",
       "3                                                 25             \n",
       "4                                                 36             \n",
       "\n",
       "   proposicoes_beneficiam_grupos_historicamente_marginalizados_porcentagem  \n",
       "0                                               0.00                        \n",
       "1                                               0.00                        \n",
       "2                                               2.26                        \n",
       "3                                               1.93                        \n",
       "4                                               2.29                        "
      ]
     },
     "execution_count": 3,
     "metadata": {},
     "output_type": "execute_result"
    }
   ],
   "source": [
    "proposicoes_e_mulheres.head()"
   ]
  },
  {
   "cell_type": "code",
   "execution_count": 4,
   "id": "dcfac883-ea53-424c-9cb0-c7d8021e3f6f",
   "metadata": {},
   "outputs": [
    {
     "data": {
      "text/plain": [
       "(78, 5)"
      ]
     },
     "execution_count": 4,
     "metadata": {},
     "output_type": "execute_result"
    }
   ],
   "source": [
    "proposicoes_e_mulheres.shape"
   ]
  },
  {
   "cell_type": "markdown",
   "id": "46b343e3-cd7e-4504-805e-d3e84b4eba09",
   "metadata": {},
   "source": [
    "Dividir o dataset em dados de treino (80%) e teste (20%)."
   ]
  },
  {
   "cell_type": "code",
   "execution_count": 5,
   "id": "22ec67fb-476a-44a4-be02-54cbb3c9b828",
   "metadata": {},
   "outputs": [],
   "source": [
    "df_treino = proposicoes_e_mulheres.head(62).copy()\n",
    "df_teste = proposicoes_e_mulheres.tail(16).copy()"
   ]
  },
  {
   "cell_type": "markdown",
   "id": "7de91420-026e-42e9-85dd-fe25924c1cd4",
   "metadata": {},
   "source": [
    "Criar os datasets para variáveis preditoras e resposta:"
   ]
  },
  {
   "cell_type": "code",
   "execution_count": 7,
   "id": "5b7b6e62-f707-4fe5-8dfd-561a351419e1",
   "metadata": {},
   "outputs": [],
   "source": [
    "df_treino_variaveis_preditoras = df_treino.drop(columns=['ano', 'proposicoes_beneficiam_grupos_historicamente_marginalizados', 'proposicoes_beneficiam_grupos_historicamente_marginalizados_porcentagem']).copy()\n",
    "df_treino_variavel_resposta = df_treino['proposicoes_beneficiam_grupos_historicamente_marginalizados_porcentagem']"
   ]
  },
  {
   "cell_type": "code",
   "execution_count": 8,
   "id": "444558ca-fb69-49fa-8974-d48ee8c3e407",
   "metadata": {},
   "outputs": [],
   "source": [
    "df_teste_variaveis_preditoras = df_teste.drop(columns=['ano', 'proposicoes_beneficiam_grupos_historicamente_marginalizados', 'proposicoes_beneficiam_grupos_historicamente_marginalizados_porcentagem']).copy()\n",
    "df_teste_variavel_resposta = df_teste['proposicoes_beneficiam_grupos_historicamente_marginalizados_porcentagem']"
   ]
  },
  {
   "cell_type": "markdown",
   "id": "66bef339-44c0-43d0-9fd6-4ad37cd8f2bd",
   "metadata": {},
   "source": [
    "Criar os objetos das regressões"
   ]
  },
  {
   "cell_type": "code",
   "execution_count": 9,
   "id": "39400c26-6008-4d2c-bcd5-13a209744d9a",
   "metadata": {},
   "outputs": [],
   "source": [
    "regressao_linear_random_forest = RandomForestRegressor(random_state=0)"
   ]
  },
  {
   "cell_type": "code",
   "execution_count": 10,
   "id": "d6cfb289-7f2d-4ac7-ad45-38f75a7385dc",
   "metadata": {},
   "outputs": [],
   "source": [
    "regressao_linear_model = LinearRegression()"
   ]
  },
  {
   "cell_type": "markdown",
   "id": "54e9b695-faed-467b-bee5-11c93d497135",
   "metadata": {},
   "source": [
    "Treinar os modelos"
   ]
  },
  {
   "cell_type": "code",
   "execution_count": 11,
   "id": "4bd2ab2d-32b3-4ed4-8cdb-29bbde9025d6",
   "metadata": {},
   "outputs": [
    {
     "data": {
      "text/plain": [
       "RandomForestRegressor(random_state=0)"
      ]
     },
     "execution_count": 11,
     "metadata": {},
     "output_type": "execute_result"
    }
   ],
   "source": [
    "regressao_linear_random_forest.fit(df_treino_variaveis_preditoras,df_treino_variavel_resposta)"
   ]
  },
  {
   "cell_type": "code",
   "execution_count": 12,
   "id": "cd36268f-4bcf-4df8-bb27-328ba102e520",
   "metadata": {},
   "outputs": [
    {
     "data": {
      "text/plain": [
       "LinearRegression()"
      ]
     },
     "execution_count": 12,
     "metadata": {},
     "output_type": "execute_result"
    }
   ],
   "source": [
    "regressao_linear_model.fit(df_treino_variaveis_preditoras,df_treino_variavel_resposta)"
   ]
  },
  {
   "cell_type": "markdown",
   "id": "7395e1c4-8177-41b1-a3f9-af828ec3738d",
   "metadata": {},
   "source": [
    "Verificar o coeficiente de determinação"
   ]
  },
  {
   "cell_type": "code",
   "execution_count": 13,
   "id": "f178927e-d0df-4960-8da7-584a9828f39a",
   "metadata": {},
   "outputs": [
    {
     "data": {
      "text/plain": [
       "-3.492982246643159"
      ]
     },
     "execution_count": 13,
     "metadata": {},
     "output_type": "execute_result"
    }
   ],
   "source": [
    "regressao_linear_random_forest.score(df_teste_variaveis_preditoras, df_teste_variavel_resposta)"
   ]
  },
  {
   "cell_type": "code",
   "execution_count": 14,
   "id": "6de40d66-1896-45b6-b40d-3281accc8308",
   "metadata": {},
   "outputs": [
    {
     "data": {
      "text/plain": [
       "-27.17782325163498"
      ]
     },
     "execution_count": 14,
     "metadata": {},
     "output_type": "execute_result"
    }
   ],
   "source": [
    "regressao_linear_model.score(df_teste_variaveis_preditoras, df_teste_variavel_resposta)"
   ]
  },
  {
   "cell_type": "code",
   "execution_count": 15,
   "id": "2ccf61d9-8423-443e-baa7-3a34a6a4997c",
   "metadata": {},
   "outputs": [
    {
     "name": "stdout",
     "output_type": "stream",
     "text": [
      "Coeficiente de Determinação (R²) com Radom Forest:-3.492982246643159\n",
      "\n",
      "Coeficiente de Determinação (R²) com Linear Regression:-27.17782325163498\n"
     ]
    }
   ],
   "source": [
    "print(f'''Coeficiente de Determinação (R²) com Radom Forest:{regressao_linear_random_forest.score(df_teste_variaveis_preditoras, df_teste_variavel_resposta)}\\n\n",
    "Coeficiente de Determinação (R²) com Linear Regression:{regressao_linear_model.score(df_teste_variaveis_preditoras, df_teste_variavel_resposta)}''')"
   ]
  },
  {
   "cell_type": "markdown",
   "id": "24a8dea2-d647-44d3-a229-040504ae1190",
   "metadata": {},
   "source": [
    "# RODAR NOTEBOOK DEPOIS DE CONCLUSÃO DO VOCABULÁRIO"
   ]
  }
 ],
 "metadata": {
  "kernelspec": {
   "display_name": "Python 3",
   "language": "python",
   "name": "python3"
  },
  "language_info": {
   "codemirror_mode": {
    "name": "ipython",
    "version": 3
   },
   "file_extension": ".py",
   "mimetype": "text/x-python",
   "name": "python",
   "nbconvert_exporter": "python",
   "pygments_lexer": "ipython3",
   "version": "3.8.10"
  }
 },
 "nbformat": 4,
 "nbformat_minor": 5
}
