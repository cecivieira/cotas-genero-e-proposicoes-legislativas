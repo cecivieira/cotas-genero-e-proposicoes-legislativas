{
 "cells": [
  {
   "cell_type": "code",
   "execution_count": null,
   "id": "b0f8bd34-8963-4d8f-adeb-04019a9a5d6b",
   "metadata": {},
   "outputs": [],
   "source": [
    "import requests\n",
    "import pandas as pd"
   ]
  },
  {
   "cell_type": "markdown",
   "id": "a60548c7-391b-40d3-9d96-b33f707948a0",
   "metadata": {},
   "source": [
    "# Dados das legislaturas\n",
    "Legislatura é o nome dado ao período de trabalhos parlamentares entre uma eleição e outra."
   ]
  },
  {
   "cell_type": "markdown",
   "id": "b85b8aea-1e5c-4b39-88dd-066bbbfdd0cb",
   "metadata": {},
   "source": [
    "Iniciamos a coleta verificando todas as legislaturas que já existiram no país."
   ]
  },
  {
   "cell_type": "code",
   "execution_count": null,
   "id": "df699bd6-73f2-4648-958c-0a5fbfb7d1df",
   "metadata": {},
   "outputs": [],
   "source": [
    "legislaturas = requests.get('https://dadosabertos.camara.leg.br/api/v2/legislaturas?itens=100&ordem=DESC&ordenarPor=id').json()\n",
    "df_legislaturas = pd.DataFrame.from_dict(legislaturas['dados'])"
   ]
  },
  {
   "cell_type": "markdown",
   "id": "9ea6923f-be80-4e93-8486-fdd613ff703c",
   "metadata": {},
   "source": [
    "Restrigimos os dados para as legislaturas de interesse, a partir de 1934."
   ]
  },
  {
   "cell_type": "code",
   "execution_count": null,
   "id": "dd179a37-a485-482a-8bb7-7eccf56d9491",
   "metadata": {},
   "outputs": [],
   "source": [
    "df_legislaturas_1934_2023 = df_legislaturas[df_legislaturas['dataInicio'] >= '1934-07-21'].copy()"
   ]
  },
  {
   "cell_type": "code",
   "execution_count": null,
   "id": "8bac77e7-ebde-41e4-a74a-75ed6f7e64e8",
   "metadata": {},
   "outputs": [],
   "source": [
    "lista_legislaturas = df_legislaturas_1934_2023['id'].unique()"
   ]
  },
  {
   "cell_type": "markdown",
   "id": "0d56c39f-f822-4206-8995-435990f16636",
   "metadata": {},
   "source": [
    "A lista com os ids das legislaturas de interesse será utilizada no pré-processamento dos dados referentes às candidaturas eleitas no período."
   ]
  },
  {
   "cell_type": "markdown",
   "id": "80d19b66-6811-4ef0-b780-f158b1e91ab6",
   "metadata": {},
   "source": [
    "# Dados candidaturas eleitas para o período de 1934 a 2023"
   ]
  },
  {
   "cell_type": "markdown",
   "id": "f488efe3-1a94-421a-b8f0-804149a1776d",
   "metadata": {},
   "source": [
    "A coleta dos dados das(os) deputadas(os) se deu utilizando filtro por gênero. Por este motivo, criamos um dataframe vazio com todas as colunas do conjunto de dados"
   ]
  },
  {
   "cell_type": "code",
   "execution_count": null,
   "id": "53d49864-8f79-45d2-a09a-0e5e846818f7",
   "metadata": {},
   "outputs": [],
   "source": [
    "deputadas_1934_2023 = pd.DataFrame(columns=['id', 'uri', 'nome', 'siglaPartido', 'uriPartido', 'siglaUf',\n",
    "       'idLegislatura', 'urlFoto', 'email'])"
   ]
  },
  {
   "cell_type": "markdown",
   "id": "80b02867-b921-476e-998e-9ecf515472e5",
   "metadata": {},
   "source": [
    "Em seguida, fizemos o seu preenchimento"
   ]
  },
  {
   "cell_type": "code",
   "execution_count": null,
   "id": "f7c474c5-f7eb-451d-91a5-0c58e0283d08",
   "metadata": {},
   "outputs": [],
   "source": [
    "lista_sexo = ['F', 'M']"
   ]
  },
  {
   "cell_type": "code",
   "execution_count": null,
   "id": "4df37915-d010-4233-ad9d-2cdc52276bd3",
   "metadata": {},
   "outputs": [],
   "source": [
    "for legislatura in lista_legislaturas:\n",
    "    for sexo in lista_sexo:    \n",
    "        url = f'https://dadosabertos.camara.leg.br/api/v2/deputados?idLegislatura={legislatura}&siglaSexo={sexo}&ordem=DESC&ordenarPor=nome'\n",
    "        deputadas_legislatura = requests.get(url).json()\n",
    "        df_dep_legis = pd.DataFrame.from_dict(deputadas_legislatura['dados'])\n",
    "        df_dep_legis['sexo'] = f'{sexo}'\n",
    "        deputadas_1934_2023 = deputadas_1934_2023.append(df_dep_legis, ignore_index=True)"
   ]
  },
  {
   "cell_type": "markdown",
   "id": "0d27476b-0d1a-4fd7-811d-1bdbeb3e194f",
   "metadata": {},
   "source": [
    "Por fim, armazenamos os dados coletados em um csv para uso posterior."
   ]
  },
  {
   "cell_type": "code",
   "execution_count": null,
   "id": "1949811e-e290-4ed9-9624-ce2ea62c65c8",
   "metadata": {},
   "outputs": [],
   "source": [
    "deputadas_1934_2023.to_csv('dados/deputadas_1934_2023.csv', index=False)"
   ]
  },
  {
   "cell_type": "markdown",
   "id": "927ecd4a-5e26-49c4-aa54-3ec8db51be4d",
   "metadata": {},
   "source": [
    "> Os dados referentes às proposições legislativas foram coletados manualmente, conforme explicitado no Relatório Técnico. Por esta razão sua coleta não consta nesse notebook."
   ]
  }
 ],
 "metadata": {
  "kernelspec": {
   "display_name": "Python 3",
   "language": "python",
   "name": "python3"
  },
  "language_info": {
   "codemirror_mode": {
    "name": "ipython",
    "version": 3
   },
   "file_extension": ".py",
   "mimetype": "text/x-python",
   "name": "python",
   "nbconvert_exporter": "python",
   "pygments_lexer": "ipython3",
   "version": "3.8.10"
  }
 },
 "nbformat": 4,
 "nbformat_minor": 5
}
