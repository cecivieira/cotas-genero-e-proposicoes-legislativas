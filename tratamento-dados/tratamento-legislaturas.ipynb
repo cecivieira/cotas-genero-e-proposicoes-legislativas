{
 "cells": [
  {
   "cell_type": "code",
   "execution_count": 1,
   "id": "8f0042d7-a1cf-41d2-948a-3b7614ad949d",
   "metadata": {},
   "outputs": [],
   "source": [
    "import pandas as pd"
   ]
  },
  {
   "cell_type": "markdown",
   "id": "c30ade8c-6912-40a7-9978-844647eb45d4",
   "metadata": {},
   "source": [
    "# Tratamento dos dados referentes as legislaturas\n",
    "\n",
    "Limpeza do conjunto de dados afim de evidenciar id das legislaturas, bem como seus anos de início e fim"
   ]
  },
  {
   "cell_type": "code",
   "execution_count": 4,
   "id": "72429fd4-bdcf-4a4b-9051-cf9d9540e687",
   "metadata": {},
   "outputs": [],
   "source": [
    "tipo_data = ['dataInicio', 'dataFim']\n",
    "df_legislaturas = pd.read_csv('../dados/legislaturas_1934_2023.csv', parse_dates=tipo_data)"
   ]
  },
  {
   "cell_type": "code",
   "execution_count": 5,
   "id": "d7a04e36-142f-43f6-a5c4-c3aadf7383ba",
   "metadata": {},
   "outputs": [
    {
     "name": "stdout",
     "output_type": "stream",
     "text": [
      "<class 'pandas.core.frame.DataFrame'>\n",
      "RangeIndex: 21 entries, 0 to 20\n",
      "Data columns (total 4 columns):\n",
      " #   Column      Non-Null Count  Dtype         \n",
      "---  ------      --------------  -----         \n",
      " 0   id          21 non-null     int64         \n",
      " 1   uri         21 non-null     object        \n",
      " 2   dataInicio  21 non-null     datetime64[ns]\n",
      " 3   dataFim     21 non-null     datetime64[ns]\n",
      "dtypes: datetime64[ns](2), int64(1), object(1)\n",
      "memory usage: 800.0+ bytes\n"
     ]
    }
   ],
   "source": [
    "df_legislaturas.info()"
   ]
  },
  {
   "cell_type": "code",
   "execution_count": 10,
   "id": "eebe249c-5d5a-4b0f-896a-f647fe4d43ac",
   "metadata": {},
   "outputs": [
    {
     "data": {
      "text/html": [
       "<div>\n",
       "<style scoped>\n",
       "    .dataframe tbody tr th:only-of-type {\n",
       "        vertical-align: middle;\n",
       "    }\n",
       "\n",
       "    .dataframe tbody tr th {\n",
       "        vertical-align: top;\n",
       "    }\n",
       "\n",
       "    .dataframe thead th {\n",
       "        text-align: right;\n",
       "    }\n",
       "</style>\n",
       "<table border=\"1\" class=\"dataframe\">\n",
       "  <thead>\n",
       "    <tr style=\"text-align: right;\">\n",
       "      <th></th>\n",
       "      <th>id</th>\n",
       "      <th>uri</th>\n",
       "      <th>dataInicio</th>\n",
       "      <th>dataFim</th>\n",
       "    </tr>\n",
       "  </thead>\n",
       "  <tbody>\n",
       "    <tr>\n",
       "      <th>0</th>\n",
       "      <td>56</td>\n",
       "      <td>https://dadosabertos.camara.leg.br/api/v2/legi...</td>\n",
       "      <td>2019-02-01</td>\n",
       "      <td>2023-01-31</td>\n",
       "    </tr>\n",
       "    <tr>\n",
       "      <th>1</th>\n",
       "      <td>55</td>\n",
       "      <td>https://dadosabertos.camara.leg.br/api/v2/legi...</td>\n",
       "      <td>2015-02-01</td>\n",
       "      <td>2019-01-31</td>\n",
       "    </tr>\n",
       "    <tr>\n",
       "      <th>2</th>\n",
       "      <td>54</td>\n",
       "      <td>https://dadosabertos.camara.leg.br/api/v2/legi...</td>\n",
       "      <td>2011-02-01</td>\n",
       "      <td>2015-01-31</td>\n",
       "    </tr>\n",
       "    <tr>\n",
       "      <th>3</th>\n",
       "      <td>53</td>\n",
       "      <td>https://dadosabertos.camara.leg.br/api/v2/legi...</td>\n",
       "      <td>2007-02-01</td>\n",
       "      <td>2011-01-31</td>\n",
       "    </tr>\n",
       "    <tr>\n",
       "      <th>4</th>\n",
       "      <td>52</td>\n",
       "      <td>https://dadosabertos.camara.leg.br/api/v2/legi...</td>\n",
       "      <td>2003-02-01</td>\n",
       "      <td>2007-01-31</td>\n",
       "    </tr>\n",
       "  </tbody>\n",
       "</table>\n",
       "</div>"
      ],
      "text/plain": [
       "   id                                                uri dataInicio    dataFim\n",
       "0  56  https://dadosabertos.camara.leg.br/api/v2/legi... 2019-02-01 2023-01-31\n",
       "1  55  https://dadosabertos.camara.leg.br/api/v2/legi... 2015-02-01 2019-01-31\n",
       "2  54  https://dadosabertos.camara.leg.br/api/v2/legi... 2011-02-01 2015-01-31\n",
       "3  53  https://dadosabertos.camara.leg.br/api/v2/legi... 2007-02-01 2011-01-31\n",
       "4  52  https://dadosabertos.camara.leg.br/api/v2/legi... 2003-02-01 2007-01-31"
      ]
     },
     "execution_count": 10,
     "metadata": {},
     "output_type": "execute_result"
    }
   ],
   "source": [
    "df_legislaturas.head()"
   ]
  },
  {
   "cell_type": "code",
   "execution_count": 12,
   "id": "014656ca-3573-4cf7-b79e-72ef2574f0d2",
   "metadata": {},
   "outputs": [],
   "source": [
    "df_legislaturas['dataInicio'] = df_legislaturas['dataInicio'].dt.year"
   ]
  },
  {
   "cell_type": "code",
   "execution_count": 14,
   "id": "3d5e3bd7-ea56-445d-83f0-884388442236",
   "metadata": {},
   "outputs": [],
   "source": [
    "df_legislaturas['dataFim'] = df_legislaturas['dataFim'].dt.year"
   ]
  },
  {
   "cell_type": "code",
   "execution_count": 15,
   "id": "e04e398c-8e4f-468b-b4e6-331407f4aca7",
   "metadata": {},
   "outputs": [],
   "source": [
    "df_legislaturas.to_csv('../dados/legislaturas_1934_2023_limpas.csv', index=False)"
   ]
  }
 ],
 "metadata": {
  "kernelspec": {
   "display_name": "Python 3",
   "language": "python",
   "name": "python3"
  },
  "language_info": {
   "codemirror_mode": {
    "name": "ipython",
    "version": 3
   },
   "file_extension": ".py",
   "mimetype": "text/x-python",
   "name": "python",
   "nbconvert_exporter": "python",
   "pygments_lexer": "ipython3",
   "version": "3.8.10"
  }
 },
 "nbformat": 4,
 "nbformat_minor": 5
}
