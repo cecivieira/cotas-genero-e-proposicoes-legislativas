{
 "cells": [
  {
   "cell_type": "code",
   "execution_count": 1,
   "id": "51688439-6e60-435e-9586-cc6d7bdfb1bf",
   "metadata": {},
   "outputs": [],
   "source": [
    "import pandas as pd"
   ]
  },
  {
   "cell_type": "markdown",
   "id": "5fa595f4-724d-4dcb-917f-e39e476d179a",
   "metadata": {
    "tags": []
   },
   "source": [
    "# Trata os dados para serem usados na predição de percentual de propostas legislativas em favor de grupos historicamente marginalizados quando a composição da Câmera dos Deputados atingir 30% de mulheres\n",
    "\n",
    "Notebook com predição: [../prever-percentual-proposicoes-beneficentes-grupos-historicamente-marginalizados.ipynb](../prever-percentual-proposicoes-beneficentes-grupos-historicamente-marginalizados.ipynb)"
   ]
  },
  {
   "cell_type": "code",
   "execution_count": 2,
   "id": "1b52e26c-82cc-4ff6-83d0-6ed2991e6062",
   "metadata": {},
   "outputs": [],
   "source": [
    "df_candidaturas_eleitas = pd.read_csv('../dados/candidaturas_eleitas.csv')\n",
    "df_legislaturas = pd.read_csv('../dados/legislaturas_1934_2023_limpas.csv')"
   ]
  },
  {
   "cell_type": "code",
   "execution_count": 3,
   "id": "a9920577-7b19-4ce5-9401-8344beb91f8d",
   "metadata": {},
   "outputs": [
    {
     "data": {
      "text/html": [
       "<div>\n",
       "<style scoped>\n",
       "    .dataframe tbody tr th:only-of-type {\n",
       "        vertical-align: middle;\n",
       "    }\n",
       "\n",
       "    .dataframe tbody tr th {\n",
       "        vertical-align: top;\n",
       "    }\n",
       "\n",
       "    .dataframe thead th {\n",
       "        text-align: right;\n",
       "    }\n",
       "</style>\n",
       "<table border=\"1\" class=\"dataframe\">\n",
       "  <thead>\n",
       "    <tr style=\"text-align: right;\">\n",
       "      <th></th>\n",
       "      <th>id</th>\n",
       "      <th>uri</th>\n",
       "      <th>dataInicio</th>\n",
       "      <th>dataFim</th>\n",
       "    </tr>\n",
       "  </thead>\n",
       "  <tbody>\n",
       "    <tr>\n",
       "      <th>16</th>\n",
       "      <td>40</td>\n",
       "      <td>https://dadosabertos.camara.leg.br/api/v2/legi...</td>\n",
       "      <td>1955</td>\n",
       "      <td>1959</td>\n",
       "    </tr>\n",
       "    <tr>\n",
       "      <th>17</th>\n",
       "      <td>39</td>\n",
       "      <td>https://dadosabertos.camara.leg.br/api/v2/legi...</td>\n",
       "      <td>1951</td>\n",
       "      <td>1955</td>\n",
       "    </tr>\n",
       "    <tr>\n",
       "      <th>18</th>\n",
       "      <td>38</td>\n",
       "      <td>https://dadosabertos.camara.leg.br/api/v2/legi...</td>\n",
       "      <td>1946</td>\n",
       "      <td>1951</td>\n",
       "    </tr>\n",
       "    <tr>\n",
       "      <th>19</th>\n",
       "      <td>37</td>\n",
       "      <td>https://dadosabertos.camara.leg.br/api/v2/legi...</td>\n",
       "      <td>1935</td>\n",
       "      <td>1937</td>\n",
       "    </tr>\n",
       "    <tr>\n",
       "      <th>20</th>\n",
       "      <td>36</td>\n",
       "      <td>https://dadosabertos.camara.leg.br/api/v2/legi...</td>\n",
       "      <td>1934</td>\n",
       "      <td>1935</td>\n",
       "    </tr>\n",
       "  </tbody>\n",
       "</table>\n",
       "</div>"
      ],
      "text/plain": [
       "    id                                                uri  dataInicio  dataFim\n",
       "16  40  https://dadosabertos.camara.leg.br/api/v2/legi...        1955     1959\n",
       "17  39  https://dadosabertos.camara.leg.br/api/v2/legi...        1951     1955\n",
       "18  38  https://dadosabertos.camara.leg.br/api/v2/legi...        1946     1951\n",
       "19  37  https://dadosabertos.camara.leg.br/api/v2/legi...        1935     1937\n",
       "20  36  https://dadosabertos.camara.leg.br/api/v2/legi...        1934     1935"
      ]
     },
     "execution_count": 3,
     "metadata": {},
     "output_type": "execute_result"
    }
   ],
   "source": [
    "df_legislaturas.tail()"
   ]
  },
  {
   "cell_type": "code",
   "execution_count": 4,
   "id": "28e8de83-7993-4146-9254-28bb8a36c98b",
   "metadata": {},
   "outputs": [
    {
     "data": {
      "text/html": [
       "<div>\n",
       "<style scoped>\n",
       "    .dataframe tbody tr th:only-of-type {\n",
       "        vertical-align: middle;\n",
       "    }\n",
       "\n",
       "    .dataframe tbody tr th {\n",
       "        vertical-align: top;\n",
       "    }\n",
       "\n",
       "    .dataframe thead th {\n",
       "        text-align: right;\n",
       "    }\n",
       "</style>\n",
       "<table border=\"1\" class=\"dataframe\">\n",
       "  <thead>\n",
       "    <tr style=\"text-align: right;\">\n",
       "      <th></th>\n",
       "      <th>id</th>\n",
       "      <th>siglaPartido</th>\n",
       "      <th>siglaUf</th>\n",
       "      <th>idLegislatura</th>\n",
       "      <th>sexo</th>\n",
       "    </tr>\n",
       "  </thead>\n",
       "  <tbody>\n",
       "    <tr>\n",
       "      <th>0</th>\n",
       "      <td>215044</td>\n",
       "      <td>PSOL</td>\n",
       "      <td>PA</td>\n",
       "      <td>56</td>\n",
       "      <td>F</td>\n",
       "    </tr>\n",
       "    <tr>\n",
       "      <th>1</th>\n",
       "      <td>178862</td>\n",
       "      <td>REPUBLICANOS</td>\n",
       "      <td>BA</td>\n",
       "      <td>56</td>\n",
       "      <td>F</td>\n",
       "    </tr>\n",
       "    <tr>\n",
       "      <th>2</th>\n",
       "      <td>204466</td>\n",
       "      <td>PSDB</td>\n",
       "      <td>AL</td>\n",
       "      <td>56</td>\n",
       "      <td>F</td>\n",
       "    </tr>\n",
       "    <tr>\n",
       "      <th>3</th>\n",
       "      <td>178901</td>\n",
       "      <td>UNIÃO</td>\n",
       "      <td>MS</td>\n",
       "      <td>56</td>\n",
       "      <td>F</td>\n",
       "    </tr>\n",
       "    <tr>\n",
       "      <th>4</th>\n",
       "      <td>204464</td>\n",
       "      <td>PSOL</td>\n",
       "      <td>RJ</td>\n",
       "      <td>56</td>\n",
       "      <td>F</td>\n",
       "    </tr>\n",
       "  </tbody>\n",
       "</table>\n",
       "</div>"
      ],
      "text/plain": [
       "       id  siglaPartido siglaUf  idLegislatura sexo\n",
       "0  215044          PSOL      PA             56    F\n",
       "1  178862  REPUBLICANOS      BA             56    F\n",
       "2  204466          PSDB      AL             56    F\n",
       "3  178901         UNIÃO      MS             56    F\n",
       "4  204464          PSOL      RJ             56    F"
      ]
     },
     "execution_count": 4,
     "metadata": {},
     "output_type": "execute_result"
    }
   ],
   "source": [
    "df_candidaturas_eleitas.head()"
   ]
  },
  {
   "cell_type": "markdown",
   "id": "42377287-bb52-41b8-b250-239369abb2a3",
   "metadata": {},
   "source": [
    "Relaciona ano de inicio e fim de cada legislatura ao dataframe com candidaturas eleitas"
   ]
  },
  {
   "cell_type": "code",
   "execution_count": 5,
   "id": "790ac0e8-3fb0-4c6d-9dae-bdbddaadb67e",
   "metadata": {},
   "outputs": [],
   "source": [
    "def relaciona_id_legislatura_ano_inicio(idLegislatura):\n",
    "    for id, ano in zip(df_legislaturas['id'], df_legislaturas['dataInicio']):\n",
    "        if idLegislatura == id:\n",
    "            return ano"
   ]
  },
  {
   "cell_type": "code",
   "execution_count": 6,
   "id": "23978b02-59d4-463e-80af-2b98cd04f53e",
   "metadata": {},
   "outputs": [],
   "source": [
    "def relaciona_id_legislatura_ano_fim(idLegislatura):\n",
    "    for id, ano in zip(df_legislaturas['id'], df_legislaturas['dataFim']):\n",
    "        if idLegislatura == id:\n",
    "            return ano"
   ]
  },
  {
   "cell_type": "code",
   "execution_count": 7,
   "id": "b399f015-aeb9-45e5-b5cc-71310ccb764f",
   "metadata": {},
   "outputs": [],
   "source": [
    "df_candidaturas_eleitas['ano_inicio'] = df_candidaturas_eleitas['idLegislatura'].apply(relaciona_id_legislatura_ano_inicio)\n",
    "df_candidaturas_eleitas['ano_fim'] = df_candidaturas_eleitas['idLegislatura'].apply(relaciona_id_legislatura_ano_fim)"
   ]
  },
  {
   "cell_type": "code",
   "execution_count": 8,
   "id": "2d1b535b-2eb6-4be5-9311-d2c83c2a6926",
   "metadata": {},
   "outputs": [
    {
     "data": {
      "text/html": [
       "<div>\n",
       "<style scoped>\n",
       "    .dataframe tbody tr th:only-of-type {\n",
       "        vertical-align: middle;\n",
       "    }\n",
       "\n",
       "    .dataframe tbody tr th {\n",
       "        vertical-align: top;\n",
       "    }\n",
       "\n",
       "    .dataframe thead th {\n",
       "        text-align: right;\n",
       "    }\n",
       "</style>\n",
       "<table border=\"1\" class=\"dataframe\">\n",
       "  <thead>\n",
       "    <tr style=\"text-align: right;\">\n",
       "      <th></th>\n",
       "      <th>id</th>\n",
       "      <th>siglaPartido</th>\n",
       "      <th>siglaUf</th>\n",
       "      <th>idLegislatura</th>\n",
       "      <th>sexo</th>\n",
       "      <th>ano_inicio</th>\n",
       "      <th>ano_fim</th>\n",
       "    </tr>\n",
       "  </thead>\n",
       "  <tbody>\n",
       "    <tr>\n",
       "      <th>0</th>\n",
       "      <td>215044</td>\n",
       "      <td>PSOL</td>\n",
       "      <td>PA</td>\n",
       "      <td>56</td>\n",
       "      <td>F</td>\n",
       "      <td>2019</td>\n",
       "      <td>2023</td>\n",
       "    </tr>\n",
       "    <tr>\n",
       "      <th>1</th>\n",
       "      <td>178862</td>\n",
       "      <td>REPUBLICANOS</td>\n",
       "      <td>BA</td>\n",
       "      <td>56</td>\n",
       "      <td>F</td>\n",
       "      <td>2019</td>\n",
       "      <td>2023</td>\n",
       "    </tr>\n",
       "    <tr>\n",
       "      <th>2</th>\n",
       "      <td>204466</td>\n",
       "      <td>PSDB</td>\n",
       "      <td>AL</td>\n",
       "      <td>56</td>\n",
       "      <td>F</td>\n",
       "      <td>2019</td>\n",
       "      <td>2023</td>\n",
       "    </tr>\n",
       "    <tr>\n",
       "      <th>3</th>\n",
       "      <td>178901</td>\n",
       "      <td>UNIÃO</td>\n",
       "      <td>MS</td>\n",
       "      <td>56</td>\n",
       "      <td>F</td>\n",
       "      <td>2019</td>\n",
       "      <td>2023</td>\n",
       "    </tr>\n",
       "    <tr>\n",
       "      <th>4</th>\n",
       "      <td>204464</td>\n",
       "      <td>PSOL</td>\n",
       "      <td>RJ</td>\n",
       "      <td>56</td>\n",
       "      <td>F</td>\n",
       "      <td>2019</td>\n",
       "      <td>2023</td>\n",
       "    </tr>\n",
       "  </tbody>\n",
       "</table>\n",
       "</div>"
      ],
      "text/plain": [
       "       id  siglaPartido siglaUf  idLegislatura sexo  ano_inicio  ano_fim\n",
       "0  215044          PSOL      PA             56    F        2019     2023\n",
       "1  178862  REPUBLICANOS      BA             56    F        2019     2023\n",
       "2  204466          PSDB      AL             56    F        2019     2023\n",
       "3  178901         UNIÃO      MS             56    F        2019     2023\n",
       "4  204464          PSOL      RJ             56    F        2019     2023"
      ]
     },
     "execution_count": 8,
     "metadata": {},
     "output_type": "execute_result"
    }
   ],
   "source": [
    "df_candidaturas_eleitas.head()"
   ]
  },
  {
   "cell_type": "markdown",
   "id": "6ab6f22e-8f66-4b36-a5a9-ff3f7f65a9ed",
   "metadata": {},
   "source": [
    "Agrupa quantidade de mulheres eleitas em cada legislatura"
   ]
  },
  {
   "cell_type": "code",
   "execution_count": 9,
   "id": "6e2c0146-e2e4-4455-b3f2-bdeba3b9781f",
   "metadata": {},
   "outputs": [],
   "source": [
    "agrupa_sexo = df_candidaturas_eleitas.groupby(['ano_inicio', 'ano_fim', 'sexo']).size().to_frame('valorAbsoluto')"
   ]
  },
  {
   "cell_type": "code",
   "execution_count": 10,
   "id": "08087f42-a31c-4054-af4b-e3f4b88ac9fe",
   "metadata": {},
   "outputs": [],
   "source": [
    "agrupa_sexo.reset_index(inplace=True)"
   ]
  },
  {
   "cell_type": "code",
   "execution_count": 36,
   "id": "e386106b-d4c3-4efd-95b6-1647904edf26",
   "metadata": {},
   "outputs": [
    {
     "data": {
      "text/html": [
       "<div>\n",
       "<style scoped>\n",
       "    .dataframe tbody tr th:only-of-type {\n",
       "        vertical-align: middle;\n",
       "    }\n",
       "\n",
       "    .dataframe tbody tr th {\n",
       "        vertical-align: top;\n",
       "    }\n",
       "\n",
       "    .dataframe thead th {\n",
       "        text-align: right;\n",
       "    }\n",
       "</style>\n",
       "<table border=\"1\" class=\"dataframe\">\n",
       "  <thead>\n",
       "    <tr style=\"text-align: right;\">\n",
       "      <th></th>\n",
       "      <th>ano_inicio</th>\n",
       "      <th>ano_fim</th>\n",
       "      <th>sexo</th>\n",
       "      <th>valorAbsoluto</th>\n",
       "      <th>porcentagem</th>\n",
       "    </tr>\n",
       "  </thead>\n",
       "  <tbody>\n",
       "    <tr>\n",
       "      <th>0</th>\n",
       "      <td>1934</td>\n",
       "      <td>1935</td>\n",
       "      <td>F</td>\n",
       "      <td>1</td>\n",
       "      <td>0.38</td>\n",
       "    </tr>\n",
       "    <tr>\n",
       "      <th>1</th>\n",
       "      <td>1935</td>\n",
       "      <td>1937</td>\n",
       "      <td>F</td>\n",
       "      <td>2</td>\n",
       "      <td>0.70</td>\n",
       "    </tr>\n",
       "    <tr>\n",
       "      <th>2</th>\n",
       "      <td>1936</td>\n",
       "      <td>1937</td>\n",
       "      <td>F</td>\n",
       "      <td>2</td>\n",
       "      <td>0.70</td>\n",
       "    </tr>\n",
       "    <tr>\n",
       "      <th>3</th>\n",
       "      <td>1951</td>\n",
       "      <td>1955</td>\n",
       "      <td>F</td>\n",
       "      <td>1</td>\n",
       "      <td>0.25</td>\n",
       "    </tr>\n",
       "    <tr>\n",
       "      <th>4</th>\n",
       "      <td>1952</td>\n",
       "      <td>1955</td>\n",
       "      <td>F</td>\n",
       "      <td>1</td>\n",
       "      <td>0.25</td>\n",
       "    </tr>\n",
       "  </tbody>\n",
       "</table>\n",
       "</div>"
      ],
      "text/plain": [
       "   ano_inicio  ano_fim sexo  valorAbsoluto  porcentagem\n",
       "0        1934     1935    F              1         0.38\n",
       "1        1935     1937    F              2         0.70\n",
       "2        1936     1937    F              2         0.70\n",
       "3        1951     1955    F              1         0.25\n",
       "4        1952     1955    F              1         0.25"
      ]
     },
     "execution_count": 36,
     "metadata": {},
     "output_type": "execute_result"
    }
   ],
   "source": [
    "agrupa_sexo.head()e marca e marca "
   ]
  },
  {
   "cell_type": "markdown",
   "id": "512813f1-f1a1-4fca-b86f-caeabd1c5c4f",
   "metadata": {},
   "source": [
    "Insere coluna `porcentagem` de mulheres em cada legislatura"
   ]
  },
  {
   "cell_type": "code",
   "execution_count": 12,
   "id": "dcb2e304-d17a-4821-a724-c8232f13229a",
   "metadata": {},
   "outputs": [],
   "source": [
    "agrupa_sexo['porcentagem'] = round(agrupa_sexo['valorAbsoluto'].div(agrupa_sexo.groupby('ano_inicio')['valorAbsoluto'].transform('sum')).mul(100), 2)"
   ]
  },
  {
   "cell_type": "code",
   "execution_count": 13,
   "id": "e172f7d9-6fdc-40d5-b45f-7fa537ecb2f0",
   "metadata": {},
   "outputs": [],
   "source": [
    "agrupa_sexo = agrupa_sexo[agrupa_sexo['sexo'] == 'F'].copy().reset_index(drop=True)"
   ]
  },
  {
   "cell_type": "code",
   "execution_count": 14,
   "id": "93a3d3c1-ed2f-4e4a-a00e-76c41d946ddd",
   "metadata": {},
   "outputs": [
    {
     "data": {
      "text/html": [
       "<div>\n",
       "<style scoped>\n",
       "    .dataframe tbody tr th:only-of-type {\n",
       "        vertical-align: middle;\n",
       "    }\n",
       "\n",
       "    .dataframe tbody tr th {\n",
       "        vertical-align: top;\n",
       "    }\n",
       "\n",
       "    .dataframe thead th {\n",
       "        text-align: right;\n",
       "    }\n",
       "</style>\n",
       "<table border=\"1\" class=\"dataframe\">\n",
       "  <thead>\n",
       "    <tr style=\"text-align: right;\">\n",
       "      <th></th>\n",
       "      <th>ano_inicio</th>\n",
       "      <th>ano_fim</th>\n",
       "      <th>sexo</th>\n",
       "      <th>valorAbsoluto</th>\n",
       "      <th>porcentagem</th>\n",
       "    </tr>\n",
       "  </thead>\n",
       "  <tbody>\n",
       "    <tr>\n",
       "      <th>0</th>\n",
       "      <td>1934</td>\n",
       "      <td>1935</td>\n",
       "      <td>F</td>\n",
       "      <td>1</td>\n",
       "      <td>0.38</td>\n",
       "    </tr>\n",
       "    <tr>\n",
       "      <th>1</th>\n",
       "      <td>1935</td>\n",
       "      <td>1937</td>\n",
       "      <td>F</td>\n",
       "      <td>2</td>\n",
       "      <td>0.70</td>\n",
       "    </tr>\n",
       "    <tr>\n",
       "      <th>2</th>\n",
       "      <td>1951</td>\n",
       "      <td>1955</td>\n",
       "      <td>F</td>\n",
       "      <td>1</td>\n",
       "      <td>0.25</td>\n",
       "    </tr>\n",
       "    <tr>\n",
       "      <th>3</th>\n",
       "      <td>1955</td>\n",
       "      <td>1959</td>\n",
       "      <td>F</td>\n",
       "      <td>2</td>\n",
       "      <td>0.45</td>\n",
       "    </tr>\n",
       "    <tr>\n",
       "      <th>4</th>\n",
       "      <td>1959</td>\n",
       "      <td>1963</td>\n",
       "      <td>F</td>\n",
       "      <td>1</td>\n",
       "      <td>0.22</td>\n",
       "    </tr>\n",
       "  </tbody>\n",
       "</table>\n",
       "</div>"
      ],
      "text/plain": [
       "   ano_inicio  ano_fim sexo  valorAbsoluto  porcentagem\n",
       "0        1934     1935    F              1         0.38\n",
       "1        1935     1937    F              2         0.70\n",
       "2        1951     1955    F              1         0.25\n",
       "3        1955     1959    F              2         0.45\n",
       "4        1959     1963    F              1         0.22"
      ]
     },
     "execution_count": 14,
     "metadata": {},
     "output_type": "execute_result"
    }
   ],
   "source": [
    "agrupa_sexo.head()"
   ]
  },
  {
   "cell_type": "markdown",
   "id": "68b36e6b-bd30-4fbb-b05b-3614345e4a6c",
   "metadata": {},
   "source": [
    "Insere período completo de cada legislatura, levando em conta que a proporcionalidade de gênero só é alterada a cada nova eleição."
   ]
  },
  {
   "cell_type": "code",
   "execution_count": 15,
   "id": "30ae9002-daf0-45bd-9d37-f0548c459358",
   "metadata": {},
   "outputs": [],
   "source": [
    "for ano_inicial, ano_final in zip(agrupa_sexo['ano_inicio'], agrupa_sexo['ano_fim']):\n",
    "    valorAbsoluto = agrupa_sexo['valorAbsoluto'][agrupa_sexo['ano_inicio'] == ano_inicial].item()\n",
    "    porcentagem = agrupa_sexo['porcentagem'][agrupa_sexo['ano_inicio'] == ano_inicial].item()\n",
    "    periodo_legislativo = ano_final-ano_inicial\n",
    "    if periodo_legislativo > 1:\n",
    "        for ano in range(1, periodo_legislativo):\n",
    "            dados = pd.DataFrame(data={\n",
    "                'ano_inicio': [ano_inicial+ano],\n",
    "                'ano_fim': ano_final,\n",
    "                'sexo': ['F'],\n",
    "                'valorAbsoluto': valorAbsoluto,\n",
    "                'porcentagem': porcentagem})\n",
    "            agrupa_sexo = pd.concat([agrupa_sexo, dados])"
   ]
  },
  {
   "cell_type": "code",
   "execution_count": 16,
   "id": "c475563c-06d0-4102-bc1f-314c26889cfe",
   "metadata": {},
   "outputs": [],
   "source": [
    "agrupa_sexo.sort_values(by=['ano_inicio'], inplace=True)"
   ]
  },
  {
   "cell_type": "code",
   "execution_count": 17,
   "id": "dd923320-6190-47af-9a77-b4480c673803",
   "metadata": {},
   "outputs": [],
   "source": [
    "agrupa_sexo.reset_index(drop=True, inplace=True)"
   ]
  },
  {
   "cell_type": "code",
   "execution_count": 18,
   "id": "c21dfa4e-eca0-434f-96ee-49c2f1b7bdf3",
   "metadata": {},
   "outputs": [
    {
     "data": {
      "text/html": [
       "<div>\n",
       "<style scoped>\n",
       "    .dataframe tbody tr th:only-of-type {\n",
       "        vertical-align: middle;\n",
       "    }\n",
       "\n",
       "    .dataframe tbody tr th {\n",
       "        vertical-align: top;\n",
       "    }\n",
       "\n",
       "    .dataframe thead th {\n",
       "        text-align: right;\n",
       "    }\n",
       "</style>\n",
       "<table border=\"1\" class=\"dataframe\">\n",
       "  <thead>\n",
       "    <tr style=\"text-align: right;\">\n",
       "      <th></th>\n",
       "      <th>ano_inicio</th>\n",
       "      <th>ano_fim</th>\n",
       "      <th>sexo</th>\n",
       "      <th>valorAbsoluto</th>\n",
       "      <th>porcentagem</th>\n",
       "    </tr>\n",
       "  </thead>\n",
       "  <tbody>\n",
       "    <tr>\n",
       "      <th>0</th>\n",
       "      <td>1934</td>\n",
       "      <td>1935</td>\n",
       "      <td>F</td>\n",
       "      <td>1</td>\n",
       "      <td>0.38</td>\n",
       "    </tr>\n",
       "    <tr>\n",
       "      <th>1</th>\n",
       "      <td>1935</td>\n",
       "      <td>1937</td>\n",
       "      <td>F</td>\n",
       "      <td>2</td>\n",
       "      <td>0.70</td>\n",
       "    </tr>\n",
       "    <tr>\n",
       "      <th>2</th>\n",
       "      <td>1936</td>\n",
       "      <td>1937</td>\n",
       "      <td>F</td>\n",
       "      <td>2</td>\n",
       "      <td>0.70</td>\n",
       "    </tr>\n",
       "    <tr>\n",
       "      <th>3</th>\n",
       "      <td>1951</td>\n",
       "      <td>1955</td>\n",
       "      <td>F</td>\n",
       "      <td>1</td>\n",
       "      <td>0.25</td>\n",
       "    </tr>\n",
       "    <tr>\n",
       "      <th>4</th>\n",
       "      <td>1952</td>\n",
       "      <td>1955</td>\n",
       "      <td>F</td>\n",
       "      <td>1</td>\n",
       "      <td>0.25</td>\n",
       "    </tr>\n",
       "  </tbody>\n",
       "</table>\n",
       "</div>"
      ],
      "text/plain": [
       "   ano_inicio  ano_fim sexo  valorAbsoluto  porcentagem\n",
       "0        1934     1935    F              1         0.38\n",
       "1        1935     1937    F              2         0.70\n",
       "2        1936     1937    F              2         0.70\n",
       "3        1951     1955    F              1         0.25\n",
       "4        1952     1955    F              1         0.25"
      ]
     },
     "execution_count": 18,
     "metadata": {},
     "output_type": "execute_result"
    }
   ],
   "source": [
    "agrupa_sexo.head()"
   ]
  },
  {
   "cell_type": "markdown",
   "id": "9c5a12eb-4796-4dda-b3a4-a0853ed5ecbf",
   "metadata": {},
   "source": [
    "Agora, vamos agrupar por ano a quantidade de propostas legislativas referente a proteção de direitos de grupos historicamente marginalizados e posteriormente relacionar com porcentagem de mulheres eleitas em cada legislatura."
   ]
  },
  {
   "cell_type": "code",
   "execution_count": 19,
   "id": "9be5b35e-14af-436c-9bd3-3a7799b83f91",
   "metadata": {},
   "outputs": [],
   "source": [
    "proposicoes = pd.read_csv('../dados/proposicoes_legislativas_limpas_vocabulario.csv')"
   ]
  },
  {
   "cell_type": "code",
   "execution_count": 20,
   "id": "75ca61e4-1451-4a89-93f9-7d377222a6ef",
   "metadata": {},
   "outputs": [
    {
     "data": {
      "text/html": [
       "<div>\n",
       "<style scoped>\n",
       "    .dataframe tbody tr th:only-of-type {\n",
       "        vertical-align: middle;\n",
       "    }\n",
       "\n",
       "    .dataframe tbody tr th {\n",
       "        vertical-align: top;\n",
       "    }\n",
       "\n",
       "    .dataframe thead th {\n",
       "        text-align: right;\n",
       "    }\n",
       "</style>\n",
       "<table border=\"1\" class=\"dataframe\">\n",
       "  <thead>\n",
       "    <tr style=\"text-align: right;\">\n",
       "      <th></th>\n",
       "      <th>id</th>\n",
       "      <th>siglaTipo</th>\n",
       "      <th>ano</th>\n",
       "      <th>codTipo</th>\n",
       "      <th>descricaoTipo</th>\n",
       "      <th>ementa</th>\n",
       "      <th>ementaDetalhada</th>\n",
       "      <th>keywords</th>\n",
       "      <th>temas</th>\n",
       "    </tr>\n",
       "  </thead>\n",
       "  <tbody>\n",
       "    <tr>\n",
       "      <th>0</th>\n",
       "      <td>168293</td>\n",
       "      <td>PDC</td>\n",
       "      <td>1965</td>\n",
       "      <td>135</td>\n",
       "      <td>Projeto de Decreto Legislativo</td>\n",
       "      <td>MANTEM DECISÃO DENEGATORIA DO TRIBUNAL DE CONT...</td>\n",
       "      <td>NaN</td>\n",
       "      <td>manutenção,decisão,tribunal,contas,união,tcu,d...</td>\n",
       "      <td>NaN</td>\n",
       "    </tr>\n",
       "    <tr>\n",
       "      <th>1</th>\n",
       "      <td>168297</td>\n",
       "      <td>PDC</td>\n",
       "      <td>1965</td>\n",
       "      <td>135</td>\n",
       "      <td>Projeto de Decreto Legislativo</td>\n",
       "      <td>MANTEM ATO DO TRIBUNAL DE CONTAS DA UNIÃO DE R...</td>\n",
       "      <td>NaN</td>\n",
       "      <td>manutenção,ato,tribunal,contas,união,tcu,recus...</td>\n",
       "      <td>NaN</td>\n",
       "    </tr>\n",
       "    <tr>\n",
       "      <th>2</th>\n",
       "      <td>168300</td>\n",
       "      <td>PDC</td>\n",
       "      <td>1965</td>\n",
       "      <td>135</td>\n",
       "      <td>Projeto de Decreto Legislativo</td>\n",
       "      <td>MANTÉM DECISÃO DENEGATÓRIA DO TRIBUNAL DE CONT...</td>\n",
       "      <td>NaN</td>\n",
       "      <td>manutenção,decisão,tribunal,contas,união,tcu,d...</td>\n",
       "      <td>NaN</td>\n",
       "    </tr>\n",
       "    <tr>\n",
       "      <th>3</th>\n",
       "      <td>168303</td>\n",
       "      <td>PDC</td>\n",
       "      <td>1965</td>\n",
       "      <td>135</td>\n",
       "      <td>Projeto de Decreto Legislativo</td>\n",
       "      <td>MANTÉM ATO DO TRIBUNAL DE CONTAS DA UNIÃO QUE ...</td>\n",
       "      <td>NaN</td>\n",
       "      <td>manutenção,ato,tribunal,contas,união,tcu,negaç...</td>\n",
       "      <td>NaN</td>\n",
       "    </tr>\n",
       "    <tr>\n",
       "      <th>4</th>\n",
       "      <td>168307</td>\n",
       "      <td>PDC</td>\n",
       "      <td>1965</td>\n",
       "      <td>135</td>\n",
       "      <td>Projeto de Decreto Legislativo</td>\n",
       "      <td>MANTEM O ATO DO TRIBUNAL DE CONTAS DA UNIÃO QU...</td>\n",
       "      <td>NaN</td>\n",
       "      <td>manutenção,ato,tribunal,contas,união,tcu,deneg...</td>\n",
       "      <td>NaN</td>\n",
       "    </tr>\n",
       "  </tbody>\n",
       "</table>\n",
       "</div>"
      ],
      "text/plain": [
       "       id siglaTipo   ano  codTipo                   descricaoTipo  \\\n",
       "0  168293       PDC  1965      135  Projeto de Decreto Legislativo   \n",
       "1  168297       PDC  1965      135  Projeto de Decreto Legislativo   \n",
       "2  168300       PDC  1965      135  Projeto de Decreto Legislativo   \n",
       "3  168303       PDC  1965      135  Projeto de Decreto Legislativo   \n",
       "4  168307       PDC  1965      135  Projeto de Decreto Legislativo   \n",
       "\n",
       "                                              ementa ementaDetalhada  \\\n",
       "0  MANTEM DECISÃO DENEGATORIA DO TRIBUNAL DE CONT...             NaN   \n",
       "1  MANTEM ATO DO TRIBUNAL DE CONTAS DA UNIÃO DE R...             NaN   \n",
       "2  MANTÉM DECISÃO DENEGATÓRIA DO TRIBUNAL DE CONT...             NaN   \n",
       "3  MANTÉM ATO DO TRIBUNAL DE CONTAS DA UNIÃO QUE ...             NaN   \n",
       "4  MANTEM O ATO DO TRIBUNAL DE CONTAS DA UNIÃO QU...             NaN   \n",
       "\n",
       "                                            keywords temas  \n",
       "0  manutenção,decisão,tribunal,contas,união,tcu,d...   NaN  \n",
       "1  manutenção,ato,tribunal,contas,união,tcu,recus...   NaN  \n",
       "2  manutenção,decisão,tribunal,contas,união,tcu,d...   NaN  \n",
       "3  manutenção,ato,tribunal,contas,união,tcu,negaç...   NaN  \n",
       "4  manutenção,ato,tribunal,contas,união,tcu,deneg...   NaN  "
      ]
     },
     "execution_count": 20,
     "metadata": {},
     "output_type": "execute_result"
    }
   ],
   "source": [
    "proposicoes.head()"
   ]
  },
  {
   "cell_type": "code",
   "execution_count": 21,
   "id": "ac31643f-5281-46b6-81f3-3d4005ea120c",
   "metadata": {},
   "outputs": [],
   "source": [
    "proposicoes_anuais = proposicoes[['ano', 'temas']].groupby(by=['ano']).agg(['size', 'count']).droplevel(0,axis=1).reset_index(col_level=1)"
   ]
  },
  {
   "cell_type": "code",
   "execution_count": 22,
   "id": "7150c0ea-3015-49f2-8b79-d131e0b09b97",
   "metadata": {},
   "outputs": [],
   "source": [
    "proposicoes_anuais.rename(columns={'size':'total_proposicoes', 'count':'proposicoes_beneficiam_grupos_historicamente_marginalizados'}, inplace=True)"
   ]
  },
  {
   "cell_type": "code",
   "execution_count": 23,
   "id": "d1dadac1-344a-46ef-b1ef-4f81f9f28f43",
   "metadata": {},
   "outputs": [
    {
     "data": {
      "text/html": [
       "<div>\n",
       "<style scoped>\n",
       "    .dataframe tbody tr th:only-of-type {\n",
       "        vertical-align: middle;\n",
       "    }\n",
       "\n",
       "    .dataframe tbody tr th {\n",
       "        vertical-align: top;\n",
       "    }\n",
       "\n",
       "    .dataframe thead th {\n",
       "        text-align: right;\n",
       "    }\n",
       "</style>\n",
       "<table border=\"1\" class=\"dataframe\">\n",
       "  <thead>\n",
       "    <tr style=\"text-align: right;\">\n",
       "      <th></th>\n",
       "      <th>ano</th>\n",
       "      <th>total_proposicoes</th>\n",
       "      <th>proposicoes_beneficiam_grupos_historicamente_marginalizados</th>\n",
       "    </tr>\n",
       "  </thead>\n",
       "  <tbody>\n",
       "    <tr>\n",
       "      <th>0</th>\n",
       "      <td>1934</td>\n",
       "      <td>1</td>\n",
       "      <td>0</td>\n",
       "    </tr>\n",
       "    <tr>\n",
       "      <th>1</th>\n",
       "      <td>1945</td>\n",
       "      <td>1</td>\n",
       "      <td>0</td>\n",
       "    </tr>\n",
       "    <tr>\n",
       "      <th>2</th>\n",
       "      <td>1946</td>\n",
       "      <td>310</td>\n",
       "      <td>7</td>\n",
       "    </tr>\n",
       "    <tr>\n",
       "      <th>3</th>\n",
       "      <td>1947</td>\n",
       "      <td>1294</td>\n",
       "      <td>25</td>\n",
       "    </tr>\n",
       "    <tr>\n",
       "      <th>4</th>\n",
       "      <td>1948</td>\n",
       "      <td>1572</td>\n",
       "      <td>36</td>\n",
       "    </tr>\n",
       "  </tbody>\n",
       "</table>\n",
       "</div>"
      ],
      "text/plain": [
       "    ano  total_proposicoes  \\\n",
       "0  1934                  1   \n",
       "1  1945                  1   \n",
       "2  1946                310   \n",
       "3  1947               1294   \n",
       "4  1948               1572   \n",
       "\n",
       "   proposicoes_beneficiam_grupos_historicamente_marginalizados  \n",
       "0                                                  0            \n",
       "1                                                  0            \n",
       "2                                                  7            \n",
       "3                                                 25            \n",
       "4                                                 36            "
      ]
     },
     "execution_count": 23,
     "metadata": {},
     "output_type": "execute_result"
    }
   ],
   "source": [
    "proposicoes_anuais.head()"
   ]
  },
  {
   "cell_type": "markdown",
   "id": "a20189f6-2f4a-4d3d-a7c5-571c1b5c8f6b",
   "metadata": {},
   "source": [
    "Insere coluna com porcentagem de propostas legislativas referente a proteção de direitos de grupos historicamente marginalizados."
   ]
  },
  {
   "cell_type": "code",
   "execution_count": 24,
   "id": "07f66d4e-7151-4a16-b83d-a7720681adf7",
   "metadata": {},
   "outputs": [],
   "source": [
    "proposicoes_anuais['proposicoes_beneficiam_grupos_historicamente_marginalizados_porcentagem'] = round(\n",
    "    proposicoes_anuais['proposicoes_beneficiam_grupos_historicamente_marginalizados'].div(proposicoes_anuais['total_proposicoes']).mul(100), 2)"
   ]
  },
  {
   "cell_type": "code",
   "execution_count": 25,
   "id": "357cabc2-1d4e-4999-bfa8-7594d4ea2377",
   "metadata": {},
   "outputs": [
    {
     "data": {
      "text/html": [
       "<div>\n",
       "<style scoped>\n",
       "    .dataframe tbody tr th:only-of-type {\n",
       "        vertical-align: middle;\n",
       "    }\n",
       "\n",
       "    .dataframe tbody tr th {\n",
       "        vertical-align: top;\n",
       "    }\n",
       "\n",
       "    .dataframe thead th {\n",
       "        text-align: right;\n",
       "    }\n",
       "</style>\n",
       "<table border=\"1\" class=\"dataframe\">\n",
       "  <thead>\n",
       "    <tr style=\"text-align: right;\">\n",
       "      <th></th>\n",
       "      <th>ano</th>\n",
       "      <th>total_proposicoes</th>\n",
       "      <th>proposicoes_beneficiam_grupos_historicamente_marginalizados</th>\n",
       "      <th>proposicoes_beneficiam_grupos_historicamente_marginalizados_porcentagem</th>\n",
       "    </tr>\n",
       "  </thead>\n",
       "  <tbody>\n",
       "    <tr>\n",
       "      <th>0</th>\n",
       "      <td>1934</td>\n",
       "      <td>1</td>\n",
       "      <td>0</td>\n",
       "      <td>0.00</td>\n",
       "    </tr>\n",
       "    <tr>\n",
       "      <th>1</th>\n",
       "      <td>1945</td>\n",
       "      <td>1</td>\n",
       "      <td>0</td>\n",
       "      <td>0.00</td>\n",
       "    </tr>\n",
       "    <tr>\n",
       "      <th>2</th>\n",
       "      <td>1946</td>\n",
       "      <td>310</td>\n",
       "      <td>7</td>\n",
       "      <td>2.26</td>\n",
       "    </tr>\n",
       "    <tr>\n",
       "      <th>3</th>\n",
       "      <td>1947</td>\n",
       "      <td>1294</td>\n",
       "      <td>25</td>\n",
       "      <td>1.93</td>\n",
       "    </tr>\n",
       "    <tr>\n",
       "      <th>4</th>\n",
       "      <td>1948</td>\n",
       "      <td>1572</td>\n",
       "      <td>36</td>\n",
       "      <td>2.29</td>\n",
       "    </tr>\n",
       "  </tbody>\n",
       "</table>\n",
       "</div>"
      ],
      "text/plain": [
       "    ano  total_proposicoes  \\\n",
       "0  1934                  1   \n",
       "1  1945                  1   \n",
       "2  1946                310   \n",
       "3  1947               1294   \n",
       "4  1948               1572   \n",
       "\n",
       "   proposicoes_beneficiam_grupos_historicamente_marginalizados  \\\n",
       "0                                                  0             \n",
       "1                                                  0             \n",
       "2                                                  7             \n",
       "3                                                 25             \n",
       "4                                                 36             \n",
       "\n",
       "   proposicoes_beneficiam_grupos_historicamente_marginalizados_porcentagem  \n",
       "0                                               0.00                        \n",
       "1                                               0.00                        \n",
       "2                                               2.26                        \n",
       "3                                               1.93                        \n",
       "4                                               2.29                        "
      ]
     },
     "execution_count": 25,
     "metadata": {},
     "output_type": "execute_result"
    }
   ],
   "source": [
    "proposicoes_anuais.head()"
   ]
  },
  {
   "cell_type": "markdown",
   "id": "d55345f2-ceea-4141-b2f5-bbf4025e918d",
   "metadata": {},
   "source": [
    "Insere porcentagem de mulheres em cada legislatura no dataframe `proposicoes_anuais`"
   ]
  },
  {
   "cell_type": "code",
   "execution_count": 26,
   "id": "1517690c-bc86-4187-ac3a-abf172371626",
   "metadata": {},
   "outputs": [],
   "source": [
    "def insere_coluna_porcentagem_mulheres_eleitas(ano):\n",
    "    for ano_sexo, porcentagem in zip(agrupa_sexo['ano_inicio'], agrupa_sexo['porcentagem']):\n",
    "        if ano_sexo == ano:\n",
    "            return porcentagem"
   ]
  },
  {
   "cell_type": "code",
   "execution_count": 27,
   "id": "334cad83-1e56-4856-85ec-e2fa35bdd29d",
   "metadata": {},
   "outputs": [],
   "source": [
    "proposicoes_anuais['mulheres_eleitas_porcentagem'] = proposicoes_anuais['ano'].apply(insere_coluna_porcentagem_mulheres_eleitas)"
   ]
  },
  {
   "cell_type": "code",
   "execution_count": 28,
   "id": "78d73dbd-af0e-4f03-8619-9b27f76462ca",
   "metadata": {},
   "outputs": [],
   "source": [
    "proposicoes_anuais = proposicoes_anuais.loc[:, ['ano', 'mulheres_eleitas_porcentagem', 'total_proposicoes',\n",
    "       'proposicoes_beneficiam_grupos_historicamente_marginalizados',\n",
    "       'proposicoes_beneficiam_grupos_historicamente_marginalizados_porcentagem']]"
   ]
  },
  {
   "cell_type": "code",
   "execution_count": 29,
   "id": "08f07c75-cccb-4cb2-8536-3e5b379a6d51",
   "metadata": {},
   "outputs": [
    {
     "data": {
      "text/html": [
       "<div>\n",
       "<style scoped>\n",
       "    .dataframe tbody tr th:only-of-type {\n",
       "        vertical-align: middle;\n",
       "    }\n",
       "\n",
       "    .dataframe tbody tr th {\n",
       "        vertical-align: top;\n",
       "    }\n",
       "\n",
       "    .dataframe thead th {\n",
       "        text-align: right;\n",
       "    }\n",
       "</style>\n",
       "<table border=\"1\" class=\"dataframe\">\n",
       "  <thead>\n",
       "    <tr style=\"text-align: right;\">\n",
       "      <th></th>\n",
       "      <th>ano</th>\n",
       "      <th>mulheres_eleitas_porcentagem</th>\n",
       "      <th>total_proposicoes</th>\n",
       "      <th>proposicoes_beneficiam_grupos_historicamente_marginalizados</th>\n",
       "      <th>proposicoes_beneficiam_grupos_historicamente_marginalizados_porcentagem</th>\n",
       "    </tr>\n",
       "  </thead>\n",
       "  <tbody>\n",
       "    <tr>\n",
       "      <th>0</th>\n",
       "      <td>1934</td>\n",
       "      <td>0.38</td>\n",
       "      <td>1</td>\n",
       "      <td>0</td>\n",
       "      <td>0.00</td>\n",
       "    </tr>\n",
       "    <tr>\n",
       "      <th>1</th>\n",
       "      <td>1945</td>\n",
       "      <td>NaN</td>\n",
       "      <td>1</td>\n",
       "      <td>0</td>\n",
       "      <td>0.00</td>\n",
       "    </tr>\n",
       "    <tr>\n",
       "      <th>2</th>\n",
       "      <td>1946</td>\n",
       "      <td>NaN</td>\n",
       "      <td>310</td>\n",
       "      <td>7</td>\n",
       "      <td>2.26</td>\n",
       "    </tr>\n",
       "    <tr>\n",
       "      <th>3</th>\n",
       "      <td>1947</td>\n",
       "      <td>NaN</td>\n",
       "      <td>1294</td>\n",
       "      <td>25</td>\n",
       "      <td>1.93</td>\n",
       "    </tr>\n",
       "    <tr>\n",
       "      <th>4</th>\n",
       "      <td>1948</td>\n",
       "      <td>NaN</td>\n",
       "      <td>1572</td>\n",
       "      <td>36</td>\n",
       "      <td>2.29</td>\n",
       "    </tr>\n",
       "  </tbody>\n",
       "</table>\n",
       "</div>"
      ],
      "text/plain": [
       "    ano  mulheres_eleitas_porcentagem  total_proposicoes  \\\n",
       "0  1934                          0.38                  1   \n",
       "1  1945                           NaN                  1   \n",
       "2  1946                           NaN                310   \n",
       "3  1947                           NaN               1294   \n",
       "4  1948                           NaN               1572   \n",
       "\n",
       "   proposicoes_beneficiam_grupos_historicamente_marginalizados  \\\n",
       "0                                                  0             \n",
       "1                                                  0             \n",
       "2                                                  7             \n",
       "3                                                 25             \n",
       "4                                                 36             \n",
       "\n",
       "   proposicoes_beneficiam_grupos_historicamente_marginalizados_porcentagem  \n",
       "0                                               0.00                        \n",
       "1                                               0.00                        \n",
       "2                                               2.26                        \n",
       "3                                               1.93                        \n",
       "4                                               2.29                        "
      ]
     },
     "execution_count": 29,
     "metadata": {},
     "output_type": "execute_result"
    }
   ],
   "source": [
    "proposicoes_anuais.head()"
   ]
  },
  {
   "cell_type": "markdown",
   "id": "c47c5a0d-6299-433a-b6c3-dc098ea16cb2",
   "metadata": {},
   "source": [
    "Verificae existencia de valores faltantes e investigar dados das legislaturas"
   ]
  },
  {
   "cell_type": "code",
   "execution_count": 30,
   "id": "136a4bab-a403-4c92-82c4-fd14bfc3b11b",
   "metadata": {},
   "outputs": [
    {
     "name": "stdout",
     "output_type": "stream",
     "text": [
      "<class 'pandas.core.frame.DataFrame'>\n",
      "RangeIndex: 78 entries, 0 to 77\n",
      "Data columns (total 5 columns):\n",
      " #   Column                                                                   Non-Null Count  Dtype  \n",
      "---  ------                                                                   --------------  -----  \n",
      " 0   ano                                                                      78 non-null     int64  \n",
      " 1   mulheres_eleitas_porcentagem                                             72 non-null     float64\n",
      " 2   total_proposicoes                                                        78 non-null     int64  \n",
      " 3   proposicoes_beneficiam_grupos_historicamente_marginalizados              78 non-null     int64  \n",
      " 4   proposicoes_beneficiam_grupos_historicamente_marginalizados_porcentagem  78 non-null     float64\n",
      "dtypes: float64(2), int64(3)\n",
      "memory usage: 3.2 KB\n"
     ]
    }
   ],
   "source": [
    "proposicoes_anuais.info()"
   ]
  },
  {
   "cell_type": "code",
   "execution_count": 31,
   "id": "f31bd63b-65a0-45e0-8999-32d41417052c",
   "metadata": {},
   "outputs": [
    {
     "data": {
      "text/html": [
       "<div>\n",
       "<style scoped>\n",
       "    .dataframe tbody tr th:only-of-type {\n",
       "        vertical-align: middle;\n",
       "    }\n",
       "\n",
       "    .dataframe tbody tr th {\n",
       "        vertical-align: top;\n",
       "    }\n",
       "\n",
       "    .dataframe thead th {\n",
       "        text-align: right;\n",
       "    }\n",
       "</style>\n",
       "<table border=\"1\" class=\"dataframe\">\n",
       "  <thead>\n",
       "    <tr style=\"text-align: right;\">\n",
       "      <th></th>\n",
       "      <th>ano</th>\n",
       "      <th>mulheres_eleitas_porcentagem</th>\n",
       "      <th>total_proposicoes</th>\n",
       "      <th>proposicoes_beneficiam_grupos_historicamente_marginalizados</th>\n",
       "      <th>proposicoes_beneficiam_grupos_historicamente_marginalizados_porcentagem</th>\n",
       "    </tr>\n",
       "  </thead>\n",
       "  <tbody>\n",
       "    <tr>\n",
       "      <th>1</th>\n",
       "      <td>1945</td>\n",
       "      <td>NaN</td>\n",
       "      <td>1</td>\n",
       "      <td>0</td>\n",
       "      <td>0.00</td>\n",
       "    </tr>\n",
       "    <tr>\n",
       "      <th>2</th>\n",
       "      <td>1946</td>\n",
       "      <td>NaN</td>\n",
       "      <td>310</td>\n",
       "      <td>7</td>\n",
       "      <td>2.26</td>\n",
       "    </tr>\n",
       "    <tr>\n",
       "      <th>3</th>\n",
       "      <td>1947</td>\n",
       "      <td>NaN</td>\n",
       "      <td>1294</td>\n",
       "      <td>25</td>\n",
       "      <td>1.93</td>\n",
       "    </tr>\n",
       "    <tr>\n",
       "      <th>4</th>\n",
       "      <td>1948</td>\n",
       "      <td>NaN</td>\n",
       "      <td>1572</td>\n",
       "      <td>36</td>\n",
       "      <td>2.29</td>\n",
       "    </tr>\n",
       "    <tr>\n",
       "      <th>5</th>\n",
       "      <td>1949</td>\n",
       "      <td>NaN</td>\n",
       "      <td>1484</td>\n",
       "      <td>41</td>\n",
       "      <td>2.76</td>\n",
       "    </tr>\n",
       "    <tr>\n",
       "      <th>6</th>\n",
       "      <td>1950</td>\n",
       "      <td>NaN</td>\n",
       "      <td>1258</td>\n",
       "      <td>32</td>\n",
       "      <td>2.54</td>\n",
       "    </tr>\n",
       "  </tbody>\n",
       "</table>\n",
       "</div>"
      ],
      "text/plain": [
       "    ano  mulheres_eleitas_porcentagem  total_proposicoes  \\\n",
       "1  1945                           NaN                  1   \n",
       "2  1946                           NaN                310   \n",
       "3  1947                           NaN               1294   \n",
       "4  1948                           NaN               1572   \n",
       "5  1949                           NaN               1484   \n",
       "6  1950                           NaN               1258   \n",
       "\n",
       "   proposicoes_beneficiam_grupos_historicamente_marginalizados  \\\n",
       "1                                                  0             \n",
       "2                                                  7             \n",
       "3                                                 25             \n",
       "4                                                 36             \n",
       "5                                                 41             \n",
       "6                                                 32             \n",
       "\n",
       "   proposicoes_beneficiam_grupos_historicamente_marginalizados_porcentagem  \n",
       "1                                               0.00                        \n",
       "2                                               2.26                        \n",
       "3                                               1.93                        \n",
       "4                                               2.29                        \n",
       "5                                               2.76                        \n",
       "6                                               2.54                        "
      ]
     },
     "execution_count": 31,
     "metadata": {},
     "output_type": "execute_result"
    }
   ],
   "source": [
    "proposicoes_anuais[proposicoes_anuais['mulheres_eleitas_porcentagem'].isna()]"
   ]
  },
  {
   "cell_type": "code",
   "execution_count": 32,
   "id": "4e3c684f-ee1f-42d0-ae53-117e221b242d",
   "metadata": {},
   "outputs": [
    {
     "data": {
      "text/html": [
       "<div>\n",
       "<style scoped>\n",
       "    .dataframe tbody tr th:only-of-type {\n",
       "        vertical-align: middle;\n",
       "    }\n",
       "\n",
       "    .dataframe tbody tr th {\n",
       "        vertical-align: top;\n",
       "    }\n",
       "\n",
       "    .dataframe thead th {\n",
       "        text-align: right;\n",
       "    }\n",
       "</style>\n",
       "<table border=\"1\" class=\"dataframe\">\n",
       "  <thead>\n",
       "    <tr style=\"text-align: right;\">\n",
       "      <th></th>\n",
       "      <th>id</th>\n",
       "      <th>siglaPartido</th>\n",
       "      <th>siglaUf</th>\n",
       "      <th>idLegislatura</th>\n",
       "      <th>ano_inicio</th>\n",
       "      <th>ano_fim</th>\n",
       "    </tr>\n",
       "    <tr>\n",
       "      <th>sexo</th>\n",
       "      <th></th>\n",
       "      <th></th>\n",
       "      <th></th>\n",
       "      <th></th>\n",
       "      <th></th>\n",
       "      <th></th>\n",
       "    </tr>\n",
       "  </thead>\n",
       "  <tbody>\n",
       "    <tr>\n",
       "      <th>M</th>\n",
       "      <td>379</td>\n",
       "      <td>379</td>\n",
       "      <td>379</td>\n",
       "      <td>379</td>\n",
       "      <td>379</td>\n",
       "      <td>379</td>\n",
       "    </tr>\n",
       "  </tbody>\n",
       "</table>\n",
       "</div>"
      ],
      "text/plain": [
       "       id  siglaPartido  siglaUf  idLegislatura  ano_inicio  ano_fim\n",
       "sexo                                                                \n",
       "M     379           379      379            379         379      379"
      ]
     },
     "execution_count": 32,
     "metadata": {},
     "output_type": "execute_result"
    }
   ],
   "source": [
    "df_candidaturas_eleitas[df_candidaturas_eleitas['ano_inicio']==1946].groupby(by=['sexo']).count()"
   ]
  },
  {
   "cell_type": "markdown",
   "id": "2df1561e-0f47-475e-bcff-21d7ee5a5f7f",
   "metadata": {},
   "source": [
    "Percebemos que existiram legislaturas sem mulheres eleitas, por isso os valores faltantes na coluna `mulheres_eleitas_porcentagem` será preenchido por 0 (zero)"
   ]
  },
  {
   "cell_type": "code",
   "execution_count": 33,
   "id": "a807e711-fdda-4176-8bcf-8b7a638ae6ce",
   "metadata": {},
   "outputs": [],
   "source": [
    "proposicoes_anuais['mulheres_eleitas_porcentagem'].fillna(value=0, inplace=True)"
   ]
  },
  {
   "cell_type": "code",
   "execution_count": 34,
   "id": "783f081a-ddd5-4797-82d5-04625fcdfd5c",
   "metadata": {},
   "outputs": [
    {
     "name": "stdout",
     "output_type": "stream",
     "text": [
      "<class 'pandas.core.frame.DataFrame'>\n",
      "RangeIndex: 78 entries, 0 to 77\n",
      "Data columns (total 5 columns):\n",
      " #   Column                                                                   Non-Null Count  Dtype  \n",
      "---  ------                                                                   --------------  -----  \n",
      " 0   ano                                                                      78 non-null     int64  \n",
      " 1   mulheres_eleitas_porcentagem                                             78 non-null     float64\n",
      " 2   total_proposicoes                                                        78 non-null     int64  \n",
      " 3   proposicoes_beneficiam_grupos_historicamente_marginalizados              78 non-null     int64  \n",
      " 4   proposicoes_beneficiam_grupos_historicamente_marginalizados_porcentagem  78 non-null     float64\n",
      "dtypes: float64(2), int64(3)\n",
      "memory usage: 3.2 KB\n"
     ]
    }
   ],
   "source": [
    "proposicoes_anuais.info()"
   ]
  },
  {
   "cell_type": "code",
   "execution_count": 35,
   "id": "b10e23e9-3d17-456a-b0a8-16fac7679a5a",
   "metadata": {},
   "outputs": [],
   "source": [
    "proposicoes_anuais.to_csv('../dados/proposicoes_anuais_para_predicao.csv', index=False)"
   ]
  }
 ],
 "metadata": {
  "kernelspec": {
   "display_name": "Python 3",
   "language": "python",
   "name": "python3"
  },
  "language_info": {
   "codemirror_mode": {
    "name": "ipython",
    "version": 3
   },
   "file_extension": ".py",
   "mimetype": "text/x-python",
   "name": "python",
   "nbconvert_exporter": "python",
   "pygments_lexer": "ipython3",
   "version": "3.8.10"
  }
 },
 "nbformat": 4,
 "nbformat_minor": 5
}
