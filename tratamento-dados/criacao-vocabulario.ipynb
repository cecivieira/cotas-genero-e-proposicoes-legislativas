{
 "cells": [
  {
   "cell_type": "code",
   "execution_count": 1,
   "id": "1da2a809-b92b-4782-95bf-6a83edc97fcc",
   "metadata": {},
   "outputs": [],
   "source": [
    "import pandas as pd"
   ]
  },
  {
   "cell_type": "markdown",
   "id": "f7b29085-50e0-49b8-9eda-3ce4872748fa",
   "metadata": {},
   "source": [
    "# Criação de vocabulário"
   ]
  },
  {
   "cell_type": "markdown",
   "id": "607b7f8a-7a24-4ed4-bb64-411b31182b6f",
   "metadata": {},
   "source": [
    "Percebemos que as palavras chave presentes na coluna `keywords` não correspondem ao vocabulário presente no conjunto de dados \"Temas\" presente no Portal de Dados Abertos da Câmara dos Deputados Federais e coletado pelo notebook [../coleta](../coleta). Por esse motivo foi necessário correlacionar as palavras chave presentes na coluna `keywords` com os temas do vocabulário."
   ]
  },
  {
   "cell_type": "code",
   "execution_count": 2,
   "id": "81af836c-c680-44cc-bdf5-61c4d1faa26f",
   "metadata": {},
   "outputs": [],
   "source": [
    "proposicoes = pd.read_csv('../dados/proposicoes_legislativas_limpas.csv')"
   ]
  },
  {
   "cell_type": "code",
   "execution_count": 3,
   "id": "269642d4-da6d-47e6-a852-88d676b6e590",
   "metadata": {},
   "outputs": [
    {
     "name": "stdout",
     "output_type": "stream",
     "text": [
      "<class 'pandas.core.frame.DataFrame'>\n",
      "RangeIndex: 152386 entries, 0 to 152385\n",
      "Data columns (total 8 columns):\n",
      " #   Column           Non-Null Count   Dtype \n",
      "---  ------           --------------   ----- \n",
      " 0   id               152386 non-null  int64 \n",
      " 1   siglaTipo        152386 non-null  object\n",
      " 2   ano              152386 non-null  int64 \n",
      " 3   codTipo          152386 non-null  int64 \n",
      " 4   descricaoTipo    152386 non-null  object\n",
      " 5   ementa           152386 non-null  object\n",
      " 6   ementaDetalhada  42563 non-null   object\n",
      " 7   keywords         152386 non-null  object\n",
      "dtypes: int64(3), object(5)\n",
      "memory usage: 9.3+ MB\n"
     ]
    }
   ],
   "source": [
    "proposicoes.info()"
   ]
  },
  {
   "cell_type": "markdown",
   "id": "ddd0420c-57c3-4145-bc2f-7f5173ac1152",
   "metadata": {},
   "source": [
    "Reunião de palavras chaves para classificação"
   ]
  },
  {
   "cell_type": "code",
   "execution_count": 4,
   "id": "f9deba05-e82d-47db-b53a-e9f17bacc4c0",
   "metadata": {},
   "outputs": [],
   "source": [
    "keywords = proposicoes['keywords']"
   ]
  },
  {
   "cell_type": "code",
   "execution_count": 5,
   "id": "40285e2f-710d-476a-8e94-e89bea3a3db4",
   "metadata": {},
   "outputs": [],
   "source": [
    "vocabulario = []"
   ]
  },
  {
   "cell_type": "code",
   "execution_count": 6,
   "id": "487b60d8-00e1-43b6-9e33-84d9437cbd4b",
   "metadata": {},
   "outputs": [],
   "source": [
    "for proposicao in keywords:\n",
    "    lista = proposicao.split(',')\n",
    "    vocabulario.extend(lista)"
   ]
  },
  {
   "cell_type": "code",
   "execution_count": 7,
   "id": "6e436d7c-0d5a-4434-a160-c1d6c71c945c",
   "metadata": {},
   "outputs": [],
   "source": [
    "vocabulario_unico = set(vocabulario)"
   ]
  },
  {
   "cell_type": "code",
   "execution_count": 8,
   "id": "9a50ab35-d2de-477b-affb-1b1f8c2e8a73",
   "metadata": {},
   "outputs": [],
   "source": [
    "with open('../dados/vocabulario.txt', 'w') as palavras:\n",
    "        for termo in vocabulario_unico:\n",
    "            palavras.write(termo + '\\n')"
   ]
  },
  {
   "cell_type": "markdown",
   "id": "fb4eec57-ef16-4a99-ba62-d4de31df98b5",
   "metadata": {},
   "source": [
    "Foram revisadas as palavras chaves contidas no arquivo anterior e selecionadas apenas as referentes a proteção de direitos de grupos historicamente marginalizados. Em seguida, as palavras foram relacionadas manualmente aos temas presentes no conjunto de dados \"Temas\" presente no Portal de Dados Abertos da Câmara dos Deputados Federais."
   ]
  },
  {
   "cell_type": "code",
   "execution_count": 9,
   "id": "4138d5b8-149d-45c1-ba1a-fa32542adeb2",
   "metadata": {},
   "outputs": [],
   "source": [
    "vocabulario_temp = pd.read_csv('../dados/temas_vocabulario.csv')"
   ]
  },
  {
   "cell_type": "code",
   "execution_count": 10,
   "id": "baff25fd-e63a-4a4d-862d-776f8020f1b5",
   "metadata": {},
   "outputs": [
    {
     "data": {
      "text/html": [
       "<div>\n",
       "<style scoped>\n",
       "    .dataframe tbody tr th:only-of-type {\n",
       "        vertical-align: middle;\n",
       "    }\n",
       "\n",
       "    .dataframe tbody tr th {\n",
       "        vertical-align: top;\n",
       "    }\n",
       "\n",
       "    .dataframe thead th {\n",
       "        text-align: right;\n",
       "    }\n",
       "</style>\n",
       "<table border=\"1\" class=\"dataframe\">\n",
       "  <thead>\n",
       "    <tr style=\"text-align: right;\">\n",
       "      <th></th>\n",
       "      <th>cod</th>\n",
       "      <th>sigla</th>\n",
       "      <th>nome</th>\n",
       "      <th>descricao</th>\n",
       "    </tr>\n",
       "  </thead>\n",
       "  <tbody>\n",
       "    <tr>\n",
       "      <th>0</th>\n",
       "      <td>34</td>\n",
       "      <td>NaN</td>\n",
       "      <td>Administração Pública</td>\n",
       "      <td>NaN</td>\n",
       "    </tr>\n",
       "    <tr>\n",
       "      <th>1</th>\n",
       "      <td>64</td>\n",
       "      <td>NaN</td>\n",
       "      <td>Agricultura, Pecuária, Pesca e Extrativismo</td>\n",
       "      <td>NaN</td>\n",
       "    </tr>\n",
       "    <tr>\n",
       "      <th>2</th>\n",
       "      <td>35</td>\n",
       "      <td>NaN</td>\n",
       "      <td>Arte, Cultura e Religião</td>\n",
       "      <td>territporios obra-de-arte histórico-cultural a...</td>\n",
       "    </tr>\n",
       "    <tr>\n",
       "      <th>3</th>\n",
       "      <td>41</td>\n",
       "      <td>NaN</td>\n",
       "      <td>Cidades e Desenvolvimento Urbano</td>\n",
       "      <td>natalidade pacificação</td>\n",
       "    </tr>\n",
       "    <tr>\n",
       "      <th>4</th>\n",
       "      <td>62</td>\n",
       "      <td>NaN</td>\n",
       "      <td>Ciência, Tecnologia e Inovação</td>\n",
       "      <td>NaN</td>\n",
       "    </tr>\n",
       "  </tbody>\n",
       "</table>\n",
       "</div>"
      ],
      "text/plain": [
       "   cod  sigla                                         nome  \\\n",
       "0   34    NaN                        Administração Pública   \n",
       "1   64    NaN  Agricultura, Pecuária, Pesca e Extrativismo   \n",
       "2   35    NaN                     Arte, Cultura e Religião   \n",
       "3   41    NaN             Cidades e Desenvolvimento Urbano   \n",
       "4   62    NaN               Ciência, Tecnologia e Inovação   \n",
       "\n",
       "                                           descricao  \n",
       "0                                                NaN  \n",
       "1                                                NaN  \n",
       "2  territporios obra-de-arte histórico-cultural a...  \n",
       "3                             natalidade pacificação  \n",
       "4                                                NaN  "
      ]
     },
     "execution_count": 10,
     "metadata": {},
     "output_type": "execute_result"
    }
   ],
   "source": [
    "vocabulario_temp.head()"
   ]
  },
  {
   "cell_type": "markdown",
   "id": "527852cc-dbfd-4da3-9de3-fe6a6e668905",
   "metadata": {},
   "source": [
    "Cria vocabulário completo"
   ]
  },
  {
   "cell_type": "code",
   "execution_count": 11,
   "id": "c63cfe77-8054-47b9-a243-930559e58feb",
   "metadata": {},
   "outputs": [],
   "source": [
    "vocabulario = pd.DataFrame(columns=['cod', 'tema', 'palavra_chave'])"
   ]
  },
  {
   "cell_type": "code",
   "execution_count": 12,
   "id": "2026e25a-19a0-4c61-b347-ba9d3b32845a",
   "metadata": {},
   "outputs": [],
   "source": [
    "indices = vocabulario_temp.index"
   ]
  },
  {
   "cell_type": "code",
   "execution_count": 13,
   "id": "9f15e97a-1fca-44e5-88d6-523398138403",
   "metadata": {},
   "outputs": [],
   "source": [
    "for indice in indices:\n",
    "    descricao = vocabulario_temp['descricao'].iloc[indice]\n",
    "    if type(descricao) == str:\n",
    "        for palavra in descricao.split(' '):\n",
    "            df = pd.DataFrame(data={'cod':vocabulario_temp['cod'].iloc[indice], 'tema':vocabulario_temp['nome'].iloc[indice], 'palavra_chave':[palavra]})\n",
    "            vocabulario = pd.concat([vocabulario, df], ignore_index=True)\n",
    "        "
   ]
  },
  {
   "cell_type": "code",
   "execution_count": 14,
   "id": "7f45b010-bca6-42af-ac53-b80053f8548c",
   "metadata": {},
   "outputs": [
    {
     "data": {
      "text/html": [
       "<div>\n",
       "<style scoped>\n",
       "    .dataframe tbody tr th:only-of-type {\n",
       "        vertical-align: middle;\n",
       "    }\n",
       "\n",
       "    .dataframe tbody tr th {\n",
       "        vertical-align: top;\n",
       "    }\n",
       "\n",
       "    .dataframe thead th {\n",
       "        text-align: right;\n",
       "    }\n",
       "</style>\n",
       "<table border=\"1\" class=\"dataframe\">\n",
       "  <thead>\n",
       "    <tr style=\"text-align: right;\">\n",
       "      <th></th>\n",
       "      <th>cod</th>\n",
       "      <th>tema</th>\n",
       "      <th>palavra_chave</th>\n",
       "    </tr>\n",
       "  </thead>\n",
       "  <tbody>\n",
       "    <tr>\n",
       "      <th>0</th>\n",
       "      <td>35</td>\n",
       "      <td>Arte, Cultura e Religião</td>\n",
       "      <td>territporios</td>\n",
       "    </tr>\n",
       "    <tr>\n",
       "      <th>1</th>\n",
       "      <td>35</td>\n",
       "      <td>Arte, Cultura e Religião</td>\n",
       "      <td>obra-de-arte</td>\n",
       "    </tr>\n",
       "    <tr>\n",
       "      <th>2</th>\n",
       "      <td>35</td>\n",
       "      <td>Arte, Cultura e Religião</td>\n",
       "      <td>histórico-cultural</td>\n",
       "    </tr>\n",
       "    <tr>\n",
       "      <th>3</th>\n",
       "      <td>35</td>\n",
       "      <td>Arte, Cultura e Religião</td>\n",
       "      <td>aleijadinho</td>\n",
       "    </tr>\n",
       "    <tr>\n",
       "      <th>4</th>\n",
       "      <td>35</td>\n",
       "      <td>Arte, Cultura e Religião</td>\n",
       "      <td>ancine</td>\n",
       "    </tr>\n",
       "  </tbody>\n",
       "</table>\n",
       "</div>"
      ],
      "text/plain": [
       "  cod                      tema       palavra_chave\n",
       "0  35  Arte, Cultura e Religião        territporios\n",
       "1  35  Arte, Cultura e Religião        obra-de-arte\n",
       "2  35  Arte, Cultura e Religião  histórico-cultural\n",
       "3  35  Arte, Cultura e Religião         aleijadinho\n",
       "4  35  Arte, Cultura e Religião              ancine"
      ]
     },
     "execution_count": 14,
     "metadata": {},
     "output_type": "execute_result"
    }
   ],
   "source": [
    "vocabulario.head()"
   ]
  },
  {
   "cell_type": "code",
   "execution_count": 15,
   "id": "b510f805-fffe-48c0-a430-4925ff072565",
   "metadata": {},
   "outputs": [
    {
     "data": {
      "text/plain": [
       "(109, 3)"
      ]
     },
     "execution_count": 15,
     "metadata": {},
     "output_type": "execute_result"
    }
   ],
   "source": [
    "vocabulario.shape"
   ]
  },
  {
   "cell_type": "markdown",
   "id": "af418f8d-1ca8-4935-9f33-3e9e0ac4b474",
   "metadata": {},
   "source": [
    "Retira palavras chaves em branco, caso haja"
   ]
  },
  {
   "cell_type": "code",
   "execution_count": 16,
   "id": "6a3b52c2-d1bd-4166-9251-5b67c158a997",
   "metadata": {},
   "outputs": [
    {
     "data": {
      "text/plain": [
       "(109, 3)"
      ]
     },
     "execution_count": 16,
     "metadata": {},
     "output_type": "execute_result"
    }
   ],
   "source": [
    "vocabulario = vocabulario[vocabulario['palavra_chave']!= ''].copy()\n",
    "vocabulario.shape"
   ]
  },
  {
   "cell_type": "markdown",
   "id": "f9577dc2-df6f-4f5b-a669-951782ab02e7",
   "metadata": {},
   "source": [
    "Atribuir o tema às proposições legislativas, apenas aquelas cuja temática refer-se a proteção de direitos de grupos historicamente marginalizados."
   ]
  },
  {
   "cell_type": "code",
   "execution_count": 17,
   "id": "056a57af-764c-44b9-8ebb-5a7a75703422",
   "metadata": {},
   "outputs": [],
   "source": [
    "def atribui_tema(proposicao):\n",
    "    for tema, palavra_chave in zip(vocabulario['tema'], vocabulario['palavra_chave']):\n",
    "        if palavra_chave in proposicao:\n",
    "            return tema"
   ]
  },
  {
   "cell_type": "code",
   "execution_count": 18,
   "id": "f116d078-1a5e-4e5b-b1d6-b1994b4373b7",
   "metadata": {},
   "outputs": [],
   "source": [
    "proposicoes['temas'] = proposicoes['keywords'].apply(atribui_tema)"
   ]
  },
  {
   "cell_type": "code",
   "execution_count": 19,
   "id": "026c0146-e4eb-4f6f-b9ea-9120c41a2282",
   "metadata": {},
   "outputs": [],
   "source": [
    "proposicoes.to_csv('../dados/proposicoes_legislativas_limpas_vocabulario.csv', index=False)"
   ]
  }
 ],
 "metadata": {
  "kernelspec": {
   "display_name": "Python 3",
   "language": "python",
   "name": "python3"
  },
  "language_info": {
   "codemirror_mode": {
    "name": "ipython",
    "version": 3
   },
   "file_extension": ".py",
   "mimetype": "text/x-python",
   "name": "python",
   "nbconvert_exporter": "python",
   "pygments_lexer": "ipython3",
   "version": "3.8.10"
  }
 },
 "nbformat": 4,
 "nbformat_minor": 5
}
