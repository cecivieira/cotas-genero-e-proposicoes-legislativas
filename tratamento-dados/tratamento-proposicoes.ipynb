{
 "cells": [
  {
   "cell_type": "code",
   "execution_count": 1,
   "id": "aa696467-3811-42c7-993e-80b1f19bd0ca",
   "metadata": {},
   "outputs": [],
   "source": [
    "import glob\n",
    "import pandas as pd"
   ]
  },
  {
   "cell_type": "markdown",
   "id": "219aa347-78ca-4cad-8c18-a5bf01330b9d",
   "metadata": {},
   "source": [
    "# Tratamento de dados coletados sobre proposições legislativas"
   ]
  },
  {
   "cell_type": "markdown",
   "id": "f42b1363-969f-4581-bb16-a87bd16a9477",
   "metadata": {},
   "source": [
    "Os dados referentes às proposições legislativas foram coletados manualmente a partir de arquivos estáticos disponíveis em https://dadosabertos.camara.leg.br/swagger/api.html#staticfile. Então, antes de iniciar seu tratamento, reuniremos todos os arquivos em um único dataframe pandas:"
   ]
  },
  {
   "cell_type": "code",
   "execution_count": 42,
   "id": "60b974d7-d1f0-410c-a4ea-32d2baaee348",
   "metadata": {},
   "outputs": [],
   "source": [
    "lista_proposicoes = glob.glob('../dados/proposicoes/*')"
   ]
  },
  {
   "cell_type": "code",
   "execution_count": 43,
   "id": "03a43433-f2c8-4275-9ad3-d4638479f339",
   "metadata": {},
   "outputs": [],
   "source": [
    "tipos_dados = {\n",
    "    'id': object,\n",
    "    'uri': object,\n",
    "    'siglaTipo': object,\n",
    "    'numero': object,\n",
    "    'ano': int,\n",
    "    'codTipo': object,\n",
    "    'descricaoTipo': object,\n",
    "    'ementa': object,\n",
    "    'ementaDetalhada': object,\n",
    "    'keywords': object,   \n",
    "    'uriOrgaoNumerador': object,\n",
    "    'uriPropAnterior': object,\n",
    "    'uriPropPrincipal': object,\n",
    "    'uriPropPosterior': object,\n",
    "    'urlInteiroTeor': object, \n",
    "    'urnFinal': object, \n",
    "    'ultimoStatus_sequencia': object,\n",
    "    'ultimoStatus_uriRelator': object, \n",
    "    'ultimoStatus_idOrgao': object,\n",
    "    'ultimoStatus_siglaOrgao': object, \n",
    "    'ultimoStatus_uriOrgao': object,\n",
    "    'ultimoStatus_regime': object, \n",
    "    'ultimoStatus_descricaoTramitacao': object,\n",
    "    'ultimoStatus_idTipoTramitacao': object, \n",
    "    'ultimoStatus_descricaoSituacao': object,\n",
    "    'ultimoStatus_idSituacao': object, \n",
    "    'ultimoStatus_despacho': object, \n",
    "    'ultimoStatus_url': object\n",
    "}\n",
    "\n",
    "tipo_data = ['dataApresentacao', 'ultimoStatus_dataHora']"
   ]
  },
  {
   "cell_type": "code",
   "execution_count": 44,
   "id": "5c293a8b-5cc1-4573-a20e-197259abde89",
   "metadata": {},
   "outputs": [],
   "source": [
    "lista_df = []\n",
    "\n",
    "for proposicao in lista_proposicoes:\n",
    "    df_proposicao = pd.read_csv(proposicao, sep=';', dtype=tipos_dados, parse_dates=tipo_data)\n",
    "    lista_df.append(df_proposicao)"
   ]
  },
  {
   "cell_type": "code",
   "execution_count": 45,
   "id": "09989088-961c-4bfc-a0a4-3636e3ae27b3",
   "metadata": {},
   "outputs": [
    {
     "data": {
      "text/plain": [
       "(680358, 30)"
      ]
     },
     "execution_count": 45,
     "metadata": {},
     "output_type": "execute_result"
    }
   ],
   "source": [
    "df_proposicao_1934_2021 = pd.concat(lista_df, axis=0, ignore_index=True)\n",
    "df_proposicao_1934_2021.shape"
   ]
  },
  {
   "cell_type": "markdown",
   "id": "1af648f4-2ce5-45b0-ba6b-037d0e03bb6a",
   "metadata": {},
   "source": [
    "## Seleção de dados referentes aos tipos de proposta legislativa desejados para análise\n",
    "\n",
    "Selecionaremos apenas as propostas referentes aos seguintes tipos:\n",
    "- Projeto de Decreto Legislativo [SF] (PDL)\n",
    "- Projeto de Decreto Legislativo [CD] (PDC)\n",
    "- Projeto de Decreto Legislativo [CN] (PDN)\n",
    "- Projeto de Decreto Legislativo [SF] (PDS)\n",
    "- Proposta de Emenda à Constituição (PEC)\n",
    "- Projeto de Lei (PL)\n",
    "- Projeto de Lei da Câmara (PLC)\n",
    "- Projeto de Lei Complementar (PLP)\n",
    "- Projeto de Lei de Conversão (PLV)\n",
    "- Projeto de Resolução da Câmara dos Deputados (PRC)"
   ]
  },
  {
   "cell_type": "code",
   "execution_count": 46,
   "id": "b077e07c-e2d2-4868-abd1-0dee3a80882b",
   "metadata": {},
   "outputs": [],
   "source": [
    "tipos_proposicoes = ['PDS', 'PDC', 'PDN', 'PDS', 'PEC', 'PL', 'PLC', 'PLP', 'PLV', 'PRC']"
   ]
  },
  {
   "cell_type": "code",
   "execution_count": 47,
   "id": "8a1006b0-a578-40d5-974a-39a9e1f3aacf",
   "metadata": {},
   "outputs": [],
   "source": [
    "df_proposicoes_tipos_desejados = df_proposicao_1934_2021[df_proposicao_1934_2021['siglaTipo'].isin(tipos_proposicoes)].copy()"
   ]
  },
  {
   "cell_type": "code",
   "execution_count": 48,
   "id": "17225d4b-f3c2-49dc-afd2-4ed667464b59",
   "metadata": {},
   "outputs": [
    {
     "data": {
      "text/plain": [
       "(152424, 30)"
      ]
     },
     "execution_count": 48,
     "metadata": {},
     "output_type": "execute_result"
    }
   ],
   "source": [
    "df_proposicoes_tipos_desejados.shape"
   ]
  },
  {
   "cell_type": "markdown",
   "id": "af771789-f6fd-4f74-9cb4-5ce8db69737c",
   "metadata": {},
   "source": [
    "# Seleção de atributos desejados para análise"
   ]
  },
  {
   "cell_type": "code",
   "execution_count": 49,
   "id": "61b5f27e-797e-4296-9aca-2bd1b8c78eb3",
   "metadata": {},
   "outputs": [],
   "source": [
    "df_proposicoes = df_proposicoes_tipos_desejados[['id','siglaTipo','ano', 'codTipo', 'descricaoTipo',\n",
    "       'ementa', 'ementaDetalhada', 'keywords']].copy()"
   ]
  },
  {
   "cell_type": "code",
   "execution_count": 50,
   "id": "edabd958-2e7e-410b-94f8-7f446561deff",
   "metadata": {},
   "outputs": [
    {
     "data": {
      "text/plain": [
       "(152424, 8)"
      ]
     },
     "execution_count": 50,
     "metadata": {},
     "output_type": "execute_result"
    }
   ],
   "source": [
    "df_proposicoes.shape"
   ]
  },
  {
   "cell_type": "markdown",
   "id": "0dc4de33-6e06-475d-9f3d-9058936f1b1b",
   "metadata": {},
   "source": [
    "# Ajuste de valores faltantes"
   ]
  },
  {
   "cell_type": "code",
   "execution_count": 51,
   "id": "eb49ff95-e45a-4d86-b1d2-6bc732b6d73c",
   "metadata": {},
   "outputs": [
    {
     "data": {
      "text/plain": [
       "id                      0\n",
       "siglaTipo               0\n",
       "ano                     0\n",
       "codTipo                 0\n",
       "descricaoTipo           0\n",
       "ementa                  5\n",
       "ementaDetalhada    109844\n",
       "keywords              924\n",
       "dtype: int64"
      ]
     },
     "execution_count": 51,
     "metadata": {},
     "output_type": "execute_result"
    }
   ],
   "source": [
    "df_proposicoes.isnull().sum(axis = 0)"
   ]
  },
  {
   "cell_type": "code",
   "execution_count": 52,
   "id": "5805f5dd-023d-4136-90f7-7471a5e95ed1",
   "metadata": {},
   "outputs": [
    {
     "data": {
      "text/html": [
       "<div>\n",
       "<style scoped>\n",
       "    .dataframe tbody tr th:only-of-type {\n",
       "        vertical-align: middle;\n",
       "    }\n",
       "\n",
       "    .dataframe tbody tr th {\n",
       "        vertical-align: top;\n",
       "    }\n",
       "\n",
       "    .dataframe thead th {\n",
       "        text-align: right;\n",
       "    }\n",
       "</style>\n",
       "<table border=\"1\" class=\"dataframe\">\n",
       "  <thead>\n",
       "    <tr style=\"text-align: right;\">\n",
       "      <th></th>\n",
       "      <th>id</th>\n",
       "      <th>siglaTipo</th>\n",
       "      <th>ano</th>\n",
       "      <th>codTipo</th>\n",
       "      <th>descricaoTipo</th>\n",
       "      <th>ementa</th>\n",
       "      <th>ementaDetalhada</th>\n",
       "      <th>keywords</th>\n",
       "    </tr>\n",
       "  </thead>\n",
       "  <tbody>\n",
       "    <tr>\n",
       "      <th>59695</th>\n",
       "      <td>537493</td>\n",
       "      <td>PL</td>\n",
       "      <td>1946</td>\n",
       "      <td>139</td>\n",
       "      <td>Projeto de Lei</td>\n",
       "      <td>NaN</td>\n",
       "      <td>NaN</td>\n",
       "      <td>NaN</td>\n",
       "    </tr>\n",
       "    <tr>\n",
       "      <th>71533</th>\n",
       "      <td>347964</td>\n",
       "      <td>PL</td>\n",
       "      <td>1935</td>\n",
       "      <td>139</td>\n",
       "      <td>Projeto de Lei</td>\n",
       "      <td>NaN</td>\n",
       "      <td>NaN</td>\n",
       "      <td>NaN</td>\n",
       "    </tr>\n",
       "    <tr>\n",
       "      <th>424157</th>\n",
       "      <td>2123532</td>\n",
       "      <td>PLC</td>\n",
       "      <td>2017</td>\n",
       "      <td>465</td>\n",
       "      <td>Projeto de Lei da Câmara dos Deputados (SF)</td>\n",
       "      <td>NaN</td>\n",
       "      <td>NaN</td>\n",
       "      <td>NaN</td>\n",
       "    </tr>\n",
       "    <tr>\n",
       "      <th>495917</th>\n",
       "      <td>2308959</td>\n",
       "      <td>PLV</td>\n",
       "      <td>2021</td>\n",
       "      <td>390</td>\n",
       "      <td>Projeto de Lei de Conversão</td>\n",
       "      <td>NaN</td>\n",
       "      <td>NaN</td>\n",
       "      <td>NaN</td>\n",
       "    </tr>\n",
       "    <tr>\n",
       "      <th>571961</th>\n",
       "      <td>605771</td>\n",
       "      <td>PL</td>\n",
       "      <td>1954</td>\n",
       "      <td>139</td>\n",
       "      <td>Projeto de Lei</td>\n",
       "      <td>NaN</td>\n",
       "      <td>NaN</td>\n",
       "      <td>NaN</td>\n",
       "    </tr>\n",
       "  </tbody>\n",
       "</table>\n",
       "</div>"
      ],
      "text/plain": [
       "             id siglaTipo   ano codTipo  \\\n",
       "59695    537493        PL  1946     139   \n",
       "71533    347964        PL  1935     139   \n",
       "424157  2123532       PLC  2017     465   \n",
       "495917  2308959       PLV  2021     390   \n",
       "571961   605771        PL  1954     139   \n",
       "\n",
       "                                      descricaoTipo ementa ementaDetalhada  \\\n",
       "59695                                Projeto de Lei    NaN             NaN   \n",
       "71533                                Projeto de Lei    NaN             NaN   \n",
       "424157  Projeto de Lei da Câmara dos Deputados (SF)    NaN             NaN   \n",
       "495917                  Projeto de Lei de Conversão    NaN             NaN   \n",
       "571961                               Projeto de Lei    NaN             NaN   \n",
       "\n",
       "       keywords  \n",
       "59695       NaN  \n",
       "71533       NaN  \n",
       "424157      NaN  \n",
       "495917      NaN  \n",
       "571961      NaN  "
      ]
     },
     "execution_count": 52,
     "metadata": {},
     "output_type": "execute_result"
    }
   ],
   "source": [
    "df_proposicoes[(df_proposicoes['ementa'].isnull()) & (df_proposicoes['ementaDetalhada'].isnull()) & (df_proposicoes['keywords'].isnull())].head()"
   ]
  },
  {
   "cell_type": "code",
   "execution_count": 59,
   "id": "62ee15ca-49cc-4349-8c36-c590b6ac7b4f",
   "metadata": {},
   "outputs": [
    {
     "data": {
      "text/html": [
       "<div>\n",
       "<style scoped>\n",
       "    .dataframe tbody tr th:only-of-type {\n",
       "        vertical-align: middle;\n",
       "    }\n",
       "\n",
       "    .dataframe tbody tr th {\n",
       "        vertical-align: top;\n",
       "    }\n",
       "\n",
       "    .dataframe thead th {\n",
       "        text-align: right;\n",
       "    }\n",
       "</style>\n",
       "<table border=\"1\" class=\"dataframe\">\n",
       "  <thead>\n",
       "    <tr style=\"text-align: right;\">\n",
       "      <th></th>\n",
       "      <th>id</th>\n",
       "      <th>siglaTipo</th>\n",
       "      <th>ano</th>\n",
       "      <th>codTipo</th>\n",
       "      <th>descricaoTipo</th>\n",
       "      <th>ementa</th>\n",
       "      <th>ementaDetalhada</th>\n",
       "      <th>keywords</th>\n",
       "    </tr>\n",
       "  </thead>\n",
       "  <tbody>\n",
       "    <tr>\n",
       "      <th>59695</th>\n",
       "      <td>537493</td>\n",
       "      <td>PL</td>\n",
       "      <td>1946</td>\n",
       "      <td>139</td>\n",
       "      <td>Projeto de Lei</td>\n",
       "      <td>NaN</td>\n",
       "      <td>NaN</td>\n",
       "      <td>NaN</td>\n",
       "    </tr>\n",
       "    <tr>\n",
       "      <th>71533</th>\n",
       "      <td>347964</td>\n",
       "      <td>PL</td>\n",
       "      <td>1935</td>\n",
       "      <td>139</td>\n",
       "      <td>Projeto de Lei</td>\n",
       "      <td>NaN</td>\n",
       "      <td>NaN</td>\n",
       "      <td>NaN</td>\n",
       "    </tr>\n",
       "    <tr>\n",
       "      <th>424157</th>\n",
       "      <td>2123532</td>\n",
       "      <td>PLC</td>\n",
       "      <td>2017</td>\n",
       "      <td>465</td>\n",
       "      <td>Projeto de Lei da Câmara dos Deputados (SF)</td>\n",
       "      <td>NaN</td>\n",
       "      <td>NaN</td>\n",
       "      <td>NaN</td>\n",
       "    </tr>\n",
       "    <tr>\n",
       "      <th>495917</th>\n",
       "      <td>2308959</td>\n",
       "      <td>PLV</td>\n",
       "      <td>2021</td>\n",
       "      <td>390</td>\n",
       "      <td>Projeto de Lei de Conversão</td>\n",
       "      <td>NaN</td>\n",
       "      <td>NaN</td>\n",
       "      <td>NaN</td>\n",
       "    </tr>\n",
       "    <tr>\n",
       "      <th>571961</th>\n",
       "      <td>605771</td>\n",
       "      <td>PL</td>\n",
       "      <td>1954</td>\n",
       "      <td>139</td>\n",
       "      <td>Projeto de Lei</td>\n",
       "      <td>NaN</td>\n",
       "      <td>NaN</td>\n",
       "      <td>NaN</td>\n",
       "    </tr>\n",
       "  </tbody>\n",
       "</table>\n",
       "</div>"
      ],
      "text/plain": [
       "             id siglaTipo   ano codTipo  \\\n",
       "59695    537493        PL  1946     139   \n",
       "71533    347964        PL  1935     139   \n",
       "424157  2123532       PLC  2017     465   \n",
       "495917  2308959       PLV  2021     390   \n",
       "571961   605771        PL  1954     139   \n",
       "\n",
       "                                      descricaoTipo ementa ementaDetalhada  \\\n",
       "59695                                Projeto de Lei    NaN             NaN   \n",
       "71533                                Projeto de Lei    NaN             NaN   \n",
       "424157  Projeto de Lei da Câmara dos Deputados (SF)    NaN             NaN   \n",
       "495917                  Projeto de Lei de Conversão    NaN             NaN   \n",
       "571961                               Projeto de Lei    NaN             NaN   \n",
       "\n",
       "       keywords  \n",
       "59695       NaN  \n",
       "71533       NaN  \n",
       "424157      NaN  \n",
       "495917      NaN  \n",
       "571961      NaN  "
      ]
     },
     "execution_count": 59,
     "metadata": {},
     "output_type": "execute_result"
    }
   ],
   "source": [
    "df_proposicoes[(df_proposicoes['ementa'].isnull())].head()"
   ]
  },
  {
   "cell_type": "code",
   "execution_count": 60,
   "id": "6a42c0f0-18f1-408c-a7c0-ce3bc7304371",
   "metadata": {},
   "outputs": [],
   "source": [
    "df_proposicoes.dropna(axis=0, subset=['ementa'], inplace=True)"
   ]
  },
  {
   "cell_type": "code",
   "execution_count": 61,
   "id": "0a6a7653-5a70-43c0-95d1-8c90a51a3610",
   "metadata": {},
   "outputs": [
    {
     "data": {
      "text/plain": [
       "(152419, 8)"
      ]
     },
     "execution_count": 61,
     "metadata": {},
     "output_type": "execute_result"
    }
   ],
   "source": [
    "df_proposicoes.shape"
   ]
  }
 ],
 "metadata": {
  "kernelspec": {
   "display_name": "Python 3",
   "language": "python",
   "name": "python3"
  },
  "language_info": {
   "codemirror_mode": {
    "name": "ipython",
    "version": 3
   },
   "file_extension": ".py",
   "mimetype": "text/x-python",
   "name": "python",
   "nbconvert_exporter": "python",
   "pygments_lexer": "ipython3",
   "version": "3.8.10"
  }
 },
 "nbformat": 4,
 "nbformat_minor": 5
}
