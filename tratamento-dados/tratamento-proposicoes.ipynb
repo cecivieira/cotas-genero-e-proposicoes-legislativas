{
 "cells": [
  {
   "cell_type": "code",
   "execution_count": 1,
   "id": "aa696467-3811-42c7-993e-80b1f19bd0ca",
   "metadata": {},
   "outputs": [],
   "source": [
    "import glob\n",
    "import nltk\n",
    "import re\n",
    "\n",
    "import pandas as pd\n",
    "\n",
    "from string import punctuation"
   ]
  },
  {
   "cell_type": "markdown",
   "id": "219aa347-78ca-4cad-8c18-a5bf01330b9d",
   "metadata": {},
   "source": [
    "# Tratamento de dados coletados sobre proposições legislativas"
   ]
  },
  {
   "cell_type": "markdown",
   "id": "f42b1363-969f-4581-bb16-a87bd16a9477",
   "metadata": {},
   "source": [
    "Os dados referentes às proposições legislativas foram coletados manualmente a partir de arquivos estáticos disponíveis em https://dadosabertos.camara.leg.br/swagger/api.html#staticfile. Então, antes de iniciar seu tratamento, reuniremos todos os arquivos em um único dataframe pandas:"
   ]
  },
  {
   "cell_type": "code",
   "execution_count": 2,
   "id": "60b974d7-d1f0-410c-a4ea-32d2baaee348",
   "metadata": {},
   "outputs": [],
   "source": [
    "lista_proposicoes = glob.glob('../dados/proposicoes/*')"
   ]
  },
  {
   "cell_type": "code",
   "execution_count": 7,
   "id": "03a43433-f2c8-4275-9ad3-d4638479f339",
   "metadata": {},
   "outputs": [],
   "source": [
    "tipos_dados = {\n",
    "    'id': object,\n",
    "    'uri': object,\n",
    "    'siglaTipo': object,\n",
    "    'numero': object,\n",
    "    'ano': int,\n",
    "    'codTipo': object,\n",
    "    'descricaoTipo': object,\n",
    "    'ementa': object,\n",
    "    'ementaDetalhada': object,\n",
    "    'keywords': object,   \n",
    "    'uriOrgaoNumerador': object,\n",
    "    'uriPropAnterior': object,\n",
    "    'uriPropPrincipal': object,\n",
    "    'uriPropPosterior': object,\n",
    "    'urlInteiroTeor': object, \n",
    "    'urnFinal': object, \n",
    "    'ultimoStatus_sequencia': object,\n",
    "    'ultimoStatus_uriRelator': object, \n",
    "    'ultimoStatus_idOrgao': object,\n",
    "    'ultimoStatus_siglaOrgao': object, \n",
    "    'ultimoStatus_uriOrgao': object,\n",
    "    'ultimoStatus_regime': object, \n",
    "    'ultimoStatus_descricaoTramitacao': object,\n",
    "    'ultimoStatus_idTipoTramitacao': object, \n",
    "    'ultimoStatus_descricaoSituacao': object,\n",
    "    'ultimoStatus_idSituacao': object, \n",
    "    'ultimoStatus_despacho': object, \n",
    "    'ultimoStatus_url': object\n",
    "}\n",
    "\n",
    "tipo_data = ['dataApresentacao', 'ultimoStatus_dataHora']"
   ]
  },
  {
   "cell_type": "code",
   "execution_count": 8,
   "id": "5c293a8b-5cc1-4573-a20e-197259abde89",
   "metadata": {},
   "outputs": [],
   "source": [
    "lista_df = []\n",
    "\n",
    "for proposicao in lista_proposicoes:\n",
    "    df_proposicao = pd.read_csv(proposicao, sep=';', dtype=tipos_dados, parse_dates=tipo_data)\n",
    "    lista_df.append(df_proposicao)"
   ]
  },
  {
   "cell_type": "code",
   "execution_count": 10,
   "id": "09989088-961c-4bfc-a0a4-3636e3ae27b3",
   "metadata": {},
   "outputs": [
    {
     "data": {
      "text/plain": [
       "(680358, 30)"
      ]
     },
     "execution_count": 10,
     "metadata": {},
     "output_type": "execute_result"
    }
   ],
   "source": [
    "df_proposicao_1934_2021 = pd.concat(lista_df, axis=0, ignore_index=True)\n",
    "df_proposicao_1934_2021.shape"
   ]
  },
  {
   "cell_type": "markdown",
   "id": "1af648f4-2ce5-45b0-ba6b-037d0e03bb6a",
   "metadata": {},
   "source": [
    "## Seleção de dados referentes aos tipos de proposta legislativa desejados para análise\n",
    "\n",
    "Selecionaremos apenas as propostas referentes aos seguintes tipos:\n",
    "- Projeto de Decreto Legislativo [SF] (PDL)\n",
    "- Projeto de Decreto Legislativo [CD] (PDC)\n",
    "- Projeto de Decreto Legislativo [CN] (PDN)\n",
    "- Projeto de Decreto Legislativo [SF] (PDS)\n",
    "- Proposta de Emenda à Constituição (PEC)\n",
    "- Projeto de Lei (PL)\n",
    "- Projeto de Lei da Câmara (PLC)\n",
    "- Projeto de Lei Complementar (PLP)\n",
    "- Projeto de Lei de Conversão (PLV)\n",
    "- Projeto de Resolução da Câmara dos Deputados (PRC)"
   ]
  },
  {
   "cell_type": "code",
   "execution_count": 23,
   "id": "b077e07c-e2d2-4868-abd1-0dee3a80882b",
   "metadata": {},
   "outputs": [],
   "source": [
    "tipos_proposicoes = ['PDS', 'PDC', 'PDN', 'PEC', 'PL', 'PLC', 'PLP', 'PLV', 'PRC']"
   ]
  },
  {
   "cell_type": "code",
   "execution_count": 14,
   "id": "8a1006b0-a578-40d5-974a-39a9e1f3aacf",
   "metadata": {},
   "outputs": [],
   "source": [
    "df_proposicoes_tipos_desejados = df_proposicao_1934_2021[df_proposicao_1934_2021['siglaTipo'].isin(tipos_proposicoes)].copy()"
   ]
  },
  {
   "cell_type": "code",
   "execution_count": 15,
   "id": "17225d4b-f3c2-49dc-afd2-4ed667464b59",
   "metadata": {},
   "outputs": [
    {
     "data": {
      "text/plain": [
       "(152424, 30)"
      ]
     },
     "execution_count": 15,
     "metadata": {},
     "output_type": "execute_result"
    }
   ],
   "source": [
    "df_proposicoes_tipos_desejados.shape"
   ]
  },
  {
   "cell_type": "markdown",
   "id": "af771789-f6fd-4f74-9cb4-5ce8db69737c",
   "metadata": {},
   "source": [
    "# Seleção de atributos desejados para análise"
   ]
  },
  {
   "cell_type": "code",
   "execution_count": 26,
   "id": "61b5f27e-797e-4296-9aca-2bd1b8c78eb3",
   "metadata": {},
   "outputs": [],
   "source": [
    "df_proposicoes = df_proposicoes_tipos_desejados[['id','siglaTipo','ano', 'codTipo', 'descricaoTipo',\n",
    "       'ementa', 'ementaDetalhada', 'keywords']].copy()"
   ]
  },
  {
   "cell_type": "code",
   "execution_count": 27,
   "id": "edabd958-2e7e-410b-94f8-7f446561deff",
   "metadata": {},
   "outputs": [
    {
     "data": {
      "text/plain": [
       "(152424, 8)"
      ]
     },
     "execution_count": 27,
     "metadata": {},
     "output_type": "execute_result"
    }
   ],
   "source": [
    "df_proposicoes.shape"
   ]
  },
  {
   "cell_type": "markdown",
   "id": "0dc4de33-6e06-475d-9f3d-9058936f1b1b",
   "metadata": {},
   "source": [
    "# Ajuste de valores faltantes"
   ]
  },
  {
   "cell_type": "code",
   "execution_count": 28,
   "id": "eb49ff95-e45a-4d86-b1d2-6bc732b6d73c",
   "metadata": {},
   "outputs": [
    {
     "data": {
      "text/plain": [
       "id                      0\n",
       "siglaTipo               0\n",
       "ano                     0\n",
       "codTipo                 0\n",
       "descricaoTipo           0\n",
       "ementa                  5\n",
       "ementaDetalhada    109844\n",
       "keywords              924\n",
       "dtype: int64"
      ]
     },
     "execution_count": 28,
     "metadata": {},
     "output_type": "execute_result"
    }
   ],
   "source": [
    "df_proposicoes.isnull().sum(axis = 0)"
   ]
  },
  {
   "cell_type": "code",
   "execution_count": 29,
   "id": "5805f5dd-023d-4136-90f7-7471a5e95ed1",
   "metadata": {},
   "outputs": [
    {
     "data": {
      "text/html": [
       "<div>\n",
       "<style scoped>\n",
       "    .dataframe tbody tr th:only-of-type {\n",
       "        vertical-align: middle;\n",
       "    }\n",
       "\n",
       "    .dataframe tbody tr th {\n",
       "        vertical-align: top;\n",
       "    }\n",
       "\n",
       "    .dataframe thead th {\n",
       "        text-align: right;\n",
       "    }\n",
       "</style>\n",
       "<table border=\"1\" class=\"dataframe\">\n",
       "  <thead>\n",
       "    <tr style=\"text-align: right;\">\n",
       "      <th></th>\n",
       "      <th>id</th>\n",
       "      <th>siglaTipo</th>\n",
       "      <th>ano</th>\n",
       "      <th>codTipo</th>\n",
       "      <th>descricaoTipo</th>\n",
       "      <th>ementa</th>\n",
       "      <th>ementaDetalhada</th>\n",
       "      <th>keywords</th>\n",
       "    </tr>\n",
       "  </thead>\n",
       "  <tbody>\n",
       "    <tr>\n",
       "      <th>82777</th>\n",
       "      <td>605771</td>\n",
       "      <td>PL</td>\n",
       "      <td>1954</td>\n",
       "      <td>139</td>\n",
       "      <td>Projeto de Lei</td>\n",
       "      <td>NaN</td>\n",
       "      <td>NaN</td>\n",
       "      <td>NaN</td>\n",
       "    </tr>\n",
       "    <tr>\n",
       "      <th>166601</th>\n",
       "      <td>537493</td>\n",
       "      <td>PL</td>\n",
       "      <td>1946</td>\n",
       "      <td>139</td>\n",
       "      <td>Projeto de Lei</td>\n",
       "      <td>NaN</td>\n",
       "      <td>NaN</td>\n",
       "      <td>NaN</td>\n",
       "    </tr>\n",
       "    <tr>\n",
       "      <th>374040</th>\n",
       "      <td>2123532</td>\n",
       "      <td>PLC</td>\n",
       "      <td>2017</td>\n",
       "      <td>465</td>\n",
       "      <td>Projeto de Lei da Câmara dos Deputados (SF)</td>\n",
       "      <td>NaN</td>\n",
       "      <td>NaN</td>\n",
       "      <td>NaN</td>\n",
       "    </tr>\n",
       "    <tr>\n",
       "      <th>405812</th>\n",
       "      <td>347964</td>\n",
       "      <td>PL</td>\n",
       "      <td>1935</td>\n",
       "      <td>139</td>\n",
       "      <td>Projeto de Lei</td>\n",
       "      <td>NaN</td>\n",
       "      <td>NaN</td>\n",
       "      <td>NaN</td>\n",
       "    </tr>\n",
       "    <tr>\n",
       "      <th>527883</th>\n",
       "      <td>2308959</td>\n",
       "      <td>PLV</td>\n",
       "      <td>2021</td>\n",
       "      <td>390</td>\n",
       "      <td>Projeto de Lei de Conversão</td>\n",
       "      <td>NaN</td>\n",
       "      <td>NaN</td>\n",
       "      <td>NaN</td>\n",
       "    </tr>\n",
       "  </tbody>\n",
       "</table>\n",
       "</div>"
      ],
      "text/plain": [
       "             id siglaTipo   ano codTipo  \\\n",
       "82777    605771        PL  1954     139   \n",
       "166601   537493        PL  1946     139   \n",
       "374040  2123532       PLC  2017     465   \n",
       "405812   347964        PL  1935     139   \n",
       "527883  2308959       PLV  2021     390   \n",
       "\n",
       "                                      descricaoTipo ementa ementaDetalhada  \\\n",
       "82777                                Projeto de Lei    NaN             NaN   \n",
       "166601                               Projeto de Lei    NaN             NaN   \n",
       "374040  Projeto de Lei da Câmara dos Deputados (SF)    NaN             NaN   \n",
       "405812                               Projeto de Lei    NaN             NaN   \n",
       "527883                  Projeto de Lei de Conversão    NaN             NaN   \n",
       "\n",
       "       keywords  \n",
       "82777       NaN  \n",
       "166601      NaN  \n",
       "374040      NaN  \n",
       "405812      NaN  \n",
       "527883      NaN  "
      ]
     },
     "execution_count": 29,
     "metadata": {},
     "output_type": "execute_result"
    }
   ],
   "source": [
    "(\n",
    "    df_proposicoes[\n",
    "        (df_proposicoes['ementa'].isnull()) & \n",
    "        (df_proposicoes['ementaDetalhada'].isnull()) & \n",
    "        (df_proposicoes['keywords'].isnull())].head()\n",
    ")"
   ]
  },
  {
   "cell_type": "code",
   "execution_count": 30,
   "id": "62ee15ca-49cc-4349-8c36-c590b6ac7b4f",
   "metadata": {},
   "outputs": [
    {
     "data": {
      "text/html": [
       "<div>\n",
       "<style scoped>\n",
       "    .dataframe tbody tr th:only-of-type {\n",
       "        vertical-align: middle;\n",
       "    }\n",
       "\n",
       "    .dataframe tbody tr th {\n",
       "        vertical-align: top;\n",
       "    }\n",
       "\n",
       "    .dataframe thead th {\n",
       "        text-align: right;\n",
       "    }\n",
       "</style>\n",
       "<table border=\"1\" class=\"dataframe\">\n",
       "  <thead>\n",
       "    <tr style=\"text-align: right;\">\n",
       "      <th></th>\n",
       "      <th>id</th>\n",
       "      <th>siglaTipo</th>\n",
       "      <th>ano</th>\n",
       "      <th>codTipo</th>\n",
       "      <th>descricaoTipo</th>\n",
       "      <th>ementa</th>\n",
       "      <th>ementaDetalhada</th>\n",
       "      <th>keywords</th>\n",
       "    </tr>\n",
       "  </thead>\n",
       "  <tbody>\n",
       "    <tr>\n",
       "      <th>82777</th>\n",
       "      <td>605771</td>\n",
       "      <td>PL</td>\n",
       "      <td>1954</td>\n",
       "      <td>139</td>\n",
       "      <td>Projeto de Lei</td>\n",
       "      <td>NaN</td>\n",
       "      <td>NaN</td>\n",
       "      <td>NaN</td>\n",
       "    </tr>\n",
       "    <tr>\n",
       "      <th>166601</th>\n",
       "      <td>537493</td>\n",
       "      <td>PL</td>\n",
       "      <td>1946</td>\n",
       "      <td>139</td>\n",
       "      <td>Projeto de Lei</td>\n",
       "      <td>NaN</td>\n",
       "      <td>NaN</td>\n",
       "      <td>NaN</td>\n",
       "    </tr>\n",
       "    <tr>\n",
       "      <th>374040</th>\n",
       "      <td>2123532</td>\n",
       "      <td>PLC</td>\n",
       "      <td>2017</td>\n",
       "      <td>465</td>\n",
       "      <td>Projeto de Lei da Câmara dos Deputados (SF)</td>\n",
       "      <td>NaN</td>\n",
       "      <td>NaN</td>\n",
       "      <td>NaN</td>\n",
       "    </tr>\n",
       "    <tr>\n",
       "      <th>405812</th>\n",
       "      <td>347964</td>\n",
       "      <td>PL</td>\n",
       "      <td>1935</td>\n",
       "      <td>139</td>\n",
       "      <td>Projeto de Lei</td>\n",
       "      <td>NaN</td>\n",
       "      <td>NaN</td>\n",
       "      <td>NaN</td>\n",
       "    </tr>\n",
       "    <tr>\n",
       "      <th>527883</th>\n",
       "      <td>2308959</td>\n",
       "      <td>PLV</td>\n",
       "      <td>2021</td>\n",
       "      <td>390</td>\n",
       "      <td>Projeto de Lei de Conversão</td>\n",
       "      <td>NaN</td>\n",
       "      <td>NaN</td>\n",
       "      <td>NaN</td>\n",
       "    </tr>\n",
       "  </tbody>\n",
       "</table>\n",
       "</div>"
      ],
      "text/plain": [
       "             id siglaTipo   ano codTipo  \\\n",
       "82777    605771        PL  1954     139   \n",
       "166601   537493        PL  1946     139   \n",
       "374040  2123532       PLC  2017     465   \n",
       "405812   347964        PL  1935     139   \n",
       "527883  2308959       PLV  2021     390   \n",
       "\n",
       "                                      descricaoTipo ementa ementaDetalhada  \\\n",
       "82777                                Projeto de Lei    NaN             NaN   \n",
       "166601                               Projeto de Lei    NaN             NaN   \n",
       "374040  Projeto de Lei da Câmara dos Deputados (SF)    NaN             NaN   \n",
       "405812                               Projeto de Lei    NaN             NaN   \n",
       "527883                  Projeto de Lei de Conversão    NaN             NaN   \n",
       "\n",
       "       keywords  \n",
       "82777       NaN  \n",
       "166601      NaN  \n",
       "374040      NaN  \n",
       "405812      NaN  \n",
       "527883      NaN  "
      ]
     },
     "execution_count": 30,
     "metadata": {},
     "output_type": "execute_result"
    }
   ],
   "source": [
    "df_proposicoes[(df_proposicoes['ementa'].isnull())].head()"
   ]
  },
  {
   "cell_type": "code",
   "execution_count": 31,
   "id": "6a42c0f0-18f1-408c-a7c0-ce3bc7304371",
   "metadata": {},
   "outputs": [],
   "source": [
    "df_proposicoes.dropna(axis=0, subset=['ementa'], inplace=True)"
   ]
  },
  {
   "cell_type": "code",
   "execution_count": 32,
   "id": "0a6a7653-5a70-43c0-95d1-8c90a51a3610",
   "metadata": {},
   "outputs": [
    {
     "data": {
      "text/plain": [
       "(152419, 8)"
      ]
     },
     "execution_count": 32,
     "metadata": {},
     "output_type": "execute_result"
    }
   ],
   "source": [
    "df_proposicoes.shape"
   ]
  },
  {
   "cell_type": "markdown",
   "id": "b5cb50fc-3c3b-4266-acf6-966f765e3cc9",
   "metadata": {
    "tags": []
   },
   "source": [
    "# Limpa dados da coluna \"keywords\""
   ]
  },
  {
   "cell_type": "markdown",
   "id": "bf097768-c44a-4342-b08d-57d0fcffe495",
   "metadata": {},
   "source": [
    "Identifica propostas legislativas com \"keywords\""
   ]
  },
  {
   "cell_type": "code",
   "execution_count": 33,
   "id": "dfebd975-ecb8-4b3d-a615-1a3a04a5bfa0",
   "metadata": {},
   "outputs": [],
   "source": [
    "df_proposicoes_com_keywords = df_proposicoes[df_proposicoes['keywords'].notna()].copy()"
   ]
  },
  {
   "cell_type": "code",
   "execution_count": 67,
   "id": "c38cb6cc",
   "metadata": {},
   "outputs": [
    {
     "data": {
      "text/html": [
       "<div>\n",
       "<style scoped>\n",
       "    .dataframe tbody tr th:only-of-type {\n",
       "        vertical-align: middle;\n",
       "    }\n",
       "\n",
       "    .dataframe tbody tr th {\n",
       "        vertical-align: top;\n",
       "    }\n",
       "\n",
       "    .dataframe thead th {\n",
       "        text-align: right;\n",
       "    }\n",
       "</style>\n",
       "<table border=\"1\" class=\"dataframe\">\n",
       "  <thead>\n",
       "    <tr style=\"text-align: right;\">\n",
       "      <th></th>\n",
       "      <th>id</th>\n",
       "      <th>siglaTipo</th>\n",
       "      <th>ano</th>\n",
       "      <th>codTipo</th>\n",
       "      <th>descricaoTipo</th>\n",
       "      <th>ementa</th>\n",
       "      <th>ementaDetalhada</th>\n",
       "      <th>keywords</th>\n",
       "    </tr>\n",
       "  </thead>\n",
       "  <tbody>\n",
       "    <tr>\n",
       "      <th>110</th>\n",
       "      <td>13734</td>\n",
       "      <td>PDC</td>\n",
       "      <td>1997</td>\n",
       "      <td>135</td>\n",
       "      <td>Projeto de Decreto Legislativo</td>\n",
       "      <td>Susta os efeitos do Decreto nº 2.100, de 20 de...</td>\n",
       "      <td>NaN</td>\n",
       "      <td>SUSTAÇÃO, DECRETO FEDERAL, PRESIDENCIA DA REPU...</td>\n",
       "    </tr>\n",
       "    <tr>\n",
       "      <th>111</th>\n",
       "      <td>13736</td>\n",
       "      <td>PDC</td>\n",
       "      <td>1997</td>\n",
       "      <td>135</td>\n",
       "      <td>Projeto de Decreto Legislativo</td>\n",
       "      <td>Aprova como regulares as contas do Governo da ...</td>\n",
       "      <td>NaN</td>\n",
       "      <td>APROVAÇÃO, REGULARIDADE, PRESTAÇÃO DE CONTAS, ...</td>\n",
       "    </tr>\n",
       "    <tr>\n",
       "      <th>112</th>\n",
       "      <td>13738</td>\n",
       "      <td>PDC</td>\n",
       "      <td>1997</td>\n",
       "      <td>485</td>\n",
       "      <td>Projeto de Decreto Legislativo de Aprovação de...</td>\n",
       "      <td>Rejeita a Prestação de Contas do Presidente da...</td>\n",
       "      <td>NaN</td>\n",
       "      <td>REJEIÇÃO, APROVAÇÃO, PRESTAÇÃO DE CONTAS, EXEC...</td>\n",
       "    </tr>\n",
       "    <tr>\n",
       "      <th>113</th>\n",
       "      <td>13741</td>\n",
       "      <td>PDC</td>\n",
       "      <td>1997</td>\n",
       "      <td>135</td>\n",
       "      <td>Projeto de Decreto Legislativo</td>\n",
       "      <td>Susta a eficácia das Portarias nºs 87/96, 88/9...</td>\n",
       "      <td>NaN</td>\n",
       "      <td>SUSTAÇÃO, EFICACIA, PORTARIA, EDIÇÃO, (MC), CO...</td>\n",
       "    </tr>\n",
       "    <tr>\n",
       "      <th>114</th>\n",
       "      <td>13743</td>\n",
       "      <td>PDC</td>\n",
       "      <td>1997</td>\n",
       "      <td>135</td>\n",
       "      <td>Projeto de Decreto Legislativo</td>\n",
       "      <td>Dispõe sobre a realização de plebiscito para a...</td>\n",
       "      <td>NaN</td>\n",
       "      <td>AUTORIZAÇÃO,TRIBUNAL REGIONAL ELEITORAL (TRE),...</td>\n",
       "    </tr>\n",
       "    <tr>\n",
       "      <th>...</th>\n",
       "      <td>...</td>\n",
       "      <td>...</td>\n",
       "      <td>...</td>\n",
       "      <td>...</td>\n",
       "      <td>...</td>\n",
       "      <td>...</td>\n",
       "      <td>...</td>\n",
       "      <td>...</td>\n",
       "    </tr>\n",
       "    <tr>\n",
       "      <th>680029</th>\n",
       "      <td>533502</td>\n",
       "      <td>PL</td>\n",
       "      <td>2011</td>\n",
       "      <td>139</td>\n",
       "      <td>Projeto de Lei</td>\n",
       "      <td>Dispõe sobre o regime de trabalho dos empregad...</td>\n",
       "      <td>NaN</td>\n",
       "      <td>Regime de trabalho, empregado, usina nuclear.</td>\n",
       "    </tr>\n",
       "    <tr>\n",
       "      <th>680032</th>\n",
       "      <td>533506</td>\n",
       "      <td>PL</td>\n",
       "      <td>2011</td>\n",
       "      <td>139</td>\n",
       "      <td>Projeto de Lei</td>\n",
       "      <td>Altera o Decreto nº 2.784, de 18 de junho de 1...</td>\n",
       "      <td>Revoga a Lei nº 11.662, de 2008.</td>\n",
       "      <td>Alteração, Decreto Federal, fuso horário, Acre...</td>\n",
       "    </tr>\n",
       "    <tr>\n",
       "      <th>680043</th>\n",
       "      <td>533517</td>\n",
       "      <td>PL</td>\n",
       "      <td>2011</td>\n",
       "      <td>139</td>\n",
       "      <td>Projeto de Lei</td>\n",
       "      <td>Altera os arts. 20 e 22 da Lei nº 8.212, de 24...</td>\n",
       "      <td>NaN</td>\n",
       "      <td>Alteração, Lei Orgânica da Seguridade Social, ...</td>\n",
       "    </tr>\n",
       "    <tr>\n",
       "      <th>680044</th>\n",
       "      <td>533518</td>\n",
       "      <td>PL</td>\n",
       "      <td>2011</td>\n",
       "      <td>139</td>\n",
       "      <td>Projeto de Lei</td>\n",
       "      <td>Altera o art. 12 da Lei nº 9.250, de 26 de dez...</td>\n",
       "      <td>NaN</td>\n",
       "      <td>Alteração, Legislação Tributária Federal, Impo...</td>\n",
       "    </tr>\n",
       "    <tr>\n",
       "      <th>680045</th>\n",
       "      <td>533519</td>\n",
       "      <td>PL</td>\n",
       "      <td>2011</td>\n",
       "      <td>139</td>\n",
       "      <td>Projeto de Lei</td>\n",
       "      <td>Altera o art. 2º da Lei nº 10.555, de 13 de no...</td>\n",
       "      <td>NaN</td>\n",
       "      <td>Alteração, Lei Federal, idoso, opção, termo de...</td>\n",
       "    </tr>\n",
       "  </tbody>\n",
       "</table>\n",
       "<p>151500 rows × 8 columns</p>\n",
       "</div>"
      ],
      "text/plain": [
       "            id siglaTipo   ano codTipo  \\\n",
       "110      13734       PDC  1997     135   \n",
       "111      13736       PDC  1997     135   \n",
       "112      13738       PDC  1997     485   \n",
       "113      13741       PDC  1997     135   \n",
       "114      13743       PDC  1997     135   \n",
       "...        ...       ...   ...     ...   \n",
       "680029  533502        PL  2011     139   \n",
       "680032  533506        PL  2011     139   \n",
       "680043  533517        PL  2011     139   \n",
       "680044  533518        PL  2011     139   \n",
       "680045  533519        PL  2011     139   \n",
       "\n",
       "                                            descricaoTipo  \\\n",
       "110                        Projeto de Decreto Legislativo   \n",
       "111                        Projeto de Decreto Legislativo   \n",
       "112     Projeto de Decreto Legislativo de Aprovação de...   \n",
       "113                        Projeto de Decreto Legislativo   \n",
       "114                        Projeto de Decreto Legislativo   \n",
       "...                                                   ...   \n",
       "680029                                     Projeto de Lei   \n",
       "680032                                     Projeto de Lei   \n",
       "680043                                     Projeto de Lei   \n",
       "680044                                     Projeto de Lei   \n",
       "680045                                     Projeto de Lei   \n",
       "\n",
       "                                                   ementa  \\\n",
       "110     Susta os efeitos do Decreto nº 2.100, de 20 de...   \n",
       "111     Aprova como regulares as contas do Governo da ...   \n",
       "112     Rejeita a Prestação de Contas do Presidente da...   \n",
       "113     Susta a eficácia das Portarias nºs 87/96, 88/9...   \n",
       "114     Dispõe sobre a realização de plebiscito para a...   \n",
       "...                                                   ...   \n",
       "680029  Dispõe sobre o regime de trabalho dos empregad...   \n",
       "680032  Altera o Decreto nº 2.784, de 18 de junho de 1...   \n",
       "680043  Altera os arts. 20 e 22 da Lei nº 8.212, de 24...   \n",
       "680044  Altera o art. 12 da Lei nº 9.250, de 26 de dez...   \n",
       "680045  Altera o art. 2º da Lei nº 10.555, de 13 de no...   \n",
       "\n",
       "                         ementaDetalhada  \\\n",
       "110                                  NaN   \n",
       "111                                  NaN   \n",
       "112                                  NaN   \n",
       "113                                  NaN   \n",
       "114                                  NaN   \n",
       "...                                  ...   \n",
       "680029                               NaN   \n",
       "680032  Revoga a Lei nº 11.662, de 2008.   \n",
       "680043                               NaN   \n",
       "680044                               NaN   \n",
       "680045                               NaN   \n",
       "\n",
       "                                                 keywords  \n",
       "110     SUSTAÇÃO, DECRETO FEDERAL, PRESIDENCIA DA REPU...  \n",
       "111     APROVAÇÃO, REGULARIDADE, PRESTAÇÃO DE CONTAS, ...  \n",
       "112     REJEIÇÃO, APROVAÇÃO, PRESTAÇÃO DE CONTAS, EXEC...  \n",
       "113     SUSTAÇÃO, EFICACIA, PORTARIA, EDIÇÃO, (MC), CO...  \n",
       "114     AUTORIZAÇÃO,TRIBUNAL REGIONAL ELEITORAL (TRE),...  \n",
       "...                                                   ...  \n",
       "680029      Regime de trabalho, empregado, usina nuclear.  \n",
       "680032  Alteração, Decreto Federal, fuso horário, Acre...  \n",
       "680043  Alteração, Lei Orgânica da Seguridade Social, ...  \n",
       "680044  Alteração, Legislação Tributária Federal, Impo...  \n",
       "680045  Alteração, Lei Federal, idoso, opção, termo de...  \n",
       "\n",
       "[151500 rows x 8 columns]"
      ]
     },
     "execution_count": 67,
     "metadata": {},
     "output_type": "execute_result"
    }
   ],
   "source": [
    "df_proposicoes[df_proposicoes['keywords'].notna()]"
   ]
  },
  {
   "cell_type": "markdown",
   "id": "19e794b2-2c66-4a8d-89a4-9b885a1aab58",
   "metadata": {},
   "source": [
    "Download dos pacotes realtivos a \"stopwords\" e pontuação da biblioteca NLTK"
   ]
  },
  {
   "cell_type": "code",
   "execution_count": 34,
   "id": "6afce67e-7ea3-4e62-bb4c-10f03ac4b93a",
   "metadata": {},
   "outputs": [
    {
     "name": "stderr",
     "output_type": "stream",
     "text": [
      "[nltk_data] Downloading package punkt to\n",
      "[nltk_data]     /home/giovanamorais/nltk_data...\n",
      "[nltk_data]   Unzipping tokenizers/punkt.zip.\n",
      "[nltk_data] Downloading package stopwords to\n",
      "[nltk_data]     /home/giovanamorais/nltk_data...\n",
      "[nltk_data]   Unzipping corpora/stopwords.zip.\n"
     ]
    },
    {
     "data": {
      "text/plain": [
       "True"
      ]
     },
     "execution_count": 34,
     "metadata": {},
     "output_type": "execute_result"
    }
   ],
   "source": [
    "nltk.download('punkt')\n",
    "nltk.download('stopwords')"
   ]
  },
  {
   "cell_type": "markdown",
   "id": "9fe2b346-637a-4e20-9da2-f79d803225ce",
   "metadata": {},
   "source": [
    "Remove pontuação, preposições e artigos (stopwords)"
   ]
  },
  {
   "cell_type": "code",
   "execution_count": 35,
   "id": "5c2e0c94-7027-4aa3-91c7-dff0ec2b1a5e",
   "metadata": {},
   "outputs": [],
   "source": [
    "meses = ['janeiro', 'fevereiro', 'março', 'abril', 'maio', 'junho', 'julho','agosto', 'setembro', 'outubro', 'novembro', 'dezembro']"
   ]
  },
  {
   "cell_type": "code",
   "execution_count": 41,
   "id": "11ad34fb-3552-449d-a00d-dac7a029bb27",
   "metadata": {},
   "outputs": [],
   "source": [
    "def define_stopwords_punctuation():\n",
    "    stopwords = nltk.corpus.stopwords.words('portuguese') + meses\n",
    "    pontuacao = list(punctuation)\n",
    "    stopwords.extend(pontuacao)\n",
    "    return stopwords"
   ]
  },
  {
   "cell_type": "code",
   "execution_count": 42,
   "id": "3d4ec270-87b8-4068-aa91-badcc5d6d6f8",
   "metadata": {},
   "outputs": [],
   "source": [
    "# adiciona a `keywords` toda palavra que não for uma stopword ou número\n",
    "def remove_stopwords_punctuation_da_sentenca(texto):\n",
    "    padrao_digitos = r'[0-9]'\n",
    "    texto = re.sub(padrao_digitos, '', texto)\n",
    "    palavras = nltk.tokenize.word_tokenize(texto.lower())\n",
    "    stopwords = define_stopwords_punctuation()\n",
    "    keywords = [palavra for palavra in palavras if palavra not in stopwords]\n",
    "    return keywords"
   ]
  },
  {
   "cell_type": "code",
   "execution_count": 43,
   "id": "7b5ab9eb-b0f8-46fc-9f04-425fea62b5b5",
   "metadata": {},
   "outputs": [],
   "source": [
    "df_proposicoes_com_keywords['keywords'] = df_proposicoes_com_keywords['keywords'].apply(remove_stopwords_punctuation_da_sentenca)"
   ]
  },
  {
   "cell_type": "markdown",
   "id": "399a57bc-1bcc-4c31-b84f-64bafb9873fa",
   "metadata": {},
   "source": [
    "Converte lista para string"
   ]
  },
  {
   "cell_type": "code",
   "execution_count": 64,
   "id": "42aa1573-57b2-47e0-bdf5-195df75aeda3",
   "metadata": {},
   "outputs": [],
   "source": [
    "def converte_lista_string(lista):\n",
    "    return ','.join([palavra for palavra in lista])"
   ]
  },
  {
   "cell_type": "code",
   "execution_count": null,
   "id": "e54d5754",
   "metadata": {},
   "outputs": [],
   "source": [
    "df_proposicoes_com_keywords['keywords'] = df_proposicoes_com_keywords['keywords'].apply(converte_lista_string)"
   ]
  },
  {
   "cell_type": "code",
   "execution_count": 217,
   "id": "8c6b13d4-639a-4782-889d-e288ee55b511",
   "metadata": {},
   "outputs": [],
   "source": [
    "df_proposicoes_com_keywords = df_proposicoes_com_keywords[df_proposicoes_com_keywords['keywords'] != '']"
   ]
  },
  {
   "cell_type": "code",
   "execution_count": 66,
   "id": "7e529c86-c2e8-4d0c-9584-4972b1116ffa",
   "metadata": {},
   "outputs": [
    {
     "data": {
      "text/html": [
       "<div>\n",
       "<style scoped>\n",
       "    .dataframe tbody tr th:only-of-type {\n",
       "        vertical-align: middle;\n",
       "    }\n",
       "\n",
       "    .dataframe tbody tr th {\n",
       "        vertical-align: top;\n",
       "    }\n",
       "\n",
       "    .dataframe thead th {\n",
       "        text-align: right;\n",
       "    }\n",
       "</style>\n",
       "<table border=\"1\" class=\"dataframe\">\n",
       "  <thead>\n",
       "    <tr style=\"text-align: right;\">\n",
       "      <th></th>\n",
       "      <th>id</th>\n",
       "      <th>siglaTipo</th>\n",
       "      <th>ano</th>\n",
       "      <th>codTipo</th>\n",
       "      <th>descricaoTipo</th>\n",
       "      <th>ementa</th>\n",
       "      <th>ementaDetalhada</th>\n",
       "      <th>keywords</th>\n",
       "    </tr>\n",
       "  </thead>\n",
       "  <tbody>\n",
       "    <tr>\n",
       "      <th>110</th>\n",
       "      <td>13734</td>\n",
       "      <td>PDC</td>\n",
       "      <td>1997</td>\n",
       "      <td>135</td>\n",
       "      <td>Projeto de Decreto Legislativo</td>\n",
       "      <td>Susta os efeitos do Decreto nº 2.100, de 20 de...</td>\n",
       "      <td>NaN</td>\n",
       "      <td>sustação,decreto,federal,presidencia,republica...</td>\n",
       "    </tr>\n",
       "    <tr>\n",
       "      <th>111</th>\n",
       "      <td>13736</td>\n",
       "      <td>PDC</td>\n",
       "      <td>1997</td>\n",
       "      <td>135</td>\n",
       "      <td>Projeto de Decreto Legislativo</td>\n",
       "      <td>Aprova como regulares as contas do Governo da ...</td>\n",
       "      <td>NaN</td>\n",
       "      <td>aprovação,regularidade,prestação,contas,govern...</td>\n",
       "    </tr>\n",
       "    <tr>\n",
       "      <th>112</th>\n",
       "      <td>13738</td>\n",
       "      <td>PDC</td>\n",
       "      <td>1997</td>\n",
       "      <td>485</td>\n",
       "      <td>Projeto de Decreto Legislativo de Aprovação de...</td>\n",
       "      <td>Rejeita a Prestação de Contas do Presidente da...</td>\n",
       "      <td>NaN</td>\n",
       "      <td>rejeição,aprovação,prestação,contas,executivo,...</td>\n",
       "    </tr>\n",
       "    <tr>\n",
       "      <th>113</th>\n",
       "      <td>13741</td>\n",
       "      <td>PDC</td>\n",
       "      <td>1997</td>\n",
       "      <td>135</td>\n",
       "      <td>Projeto de Decreto Legislativo</td>\n",
       "      <td>Susta a eficácia das Portarias nºs 87/96, 88/9...</td>\n",
       "      <td>NaN</td>\n",
       "      <td>sustação,eficacia,portaria,edição,mc,concessão...</td>\n",
       "    </tr>\n",
       "    <tr>\n",
       "      <th>114</th>\n",
       "      <td>13743</td>\n",
       "      <td>PDC</td>\n",
       "      <td>1997</td>\n",
       "      <td>135</td>\n",
       "      <td>Projeto de Decreto Legislativo</td>\n",
       "      <td>Dispõe sobre a realização de plebiscito para a...</td>\n",
       "      <td>NaN</td>\n",
       "      <td>autorização,tribunal,regional,eleitoral,tre,re...</td>\n",
       "    </tr>\n",
       "  </tbody>\n",
       "</table>\n",
       "</div>"
      ],
      "text/plain": [
       "        id siglaTipo   ano codTipo  \\\n",
       "110  13734       PDC  1997     135   \n",
       "111  13736       PDC  1997     135   \n",
       "112  13738       PDC  1997     485   \n",
       "113  13741       PDC  1997     135   \n",
       "114  13743       PDC  1997     135   \n",
       "\n",
       "                                         descricaoTipo  \\\n",
       "110                     Projeto de Decreto Legislativo   \n",
       "111                     Projeto de Decreto Legislativo   \n",
       "112  Projeto de Decreto Legislativo de Aprovação de...   \n",
       "113                     Projeto de Decreto Legislativo   \n",
       "114                     Projeto de Decreto Legislativo   \n",
       "\n",
       "                                                ementa ementaDetalhada  \\\n",
       "110  Susta os efeitos do Decreto nº 2.100, de 20 de...             NaN   \n",
       "111  Aprova como regulares as contas do Governo da ...             NaN   \n",
       "112  Rejeita a Prestação de Contas do Presidente da...             NaN   \n",
       "113  Susta a eficácia das Portarias nºs 87/96, 88/9...             NaN   \n",
       "114  Dispõe sobre a realização de plebiscito para a...             NaN   \n",
       "\n",
       "                                              keywords  \n",
       "110  sustação,decreto,federal,presidencia,republica...  \n",
       "111  aprovação,regularidade,prestação,contas,govern...  \n",
       "112  rejeição,aprovação,prestação,contas,executivo,...  \n",
       "113  sustação,eficacia,portaria,edição,mc,concessão...  \n",
       "114  autorização,tribunal,regional,eleitoral,tre,re...  "
      ]
     },
     "execution_count": 66,
     "metadata": {},
     "output_type": "execute_result"
    }
   ],
   "source": [
    "df_proposicoes_com_keywords.head()"
   ]
  },
  {
   "cell_type": "markdown",
   "id": "c1e48f47-21f6-4a9f-8128-617d812af1aa",
   "metadata": {},
   "source": [
    "# Extração de palavras chaves das ementas, quando necessário"
   ]
  },
  {
   "cell_type": "markdown",
   "id": "53affa49-98c8-48ac-a363-629b98b88143",
   "metadata": {},
   "source": [
    "Identificação de propostas legislativas com campo \"keywords\" vazio"
   ]
  },
  {
   "cell_type": "code",
   "execution_count": 147,
   "id": "0aa209d9-1781-4dbf-a801-40bd448f12d2",
   "metadata": {},
   "outputs": [],
   "source": [
    "df_proposicoes_sem_keywords = df_proposicoes[df_proposicoes['keywords'].isna()].copy()"
   ]
  },
  {
   "cell_type": "markdown",
   "id": "aa1019ee-4748-4fc1-8d45-3047f12fb7d9",
   "metadata": {},
   "source": [
    "Remoção de pontuação, preposições e artigos (stopwords)"
   ]
  },
  {
   "cell_type": "code",
   "execution_count": 148,
   "id": "d586fd0b-ac99-4587-a9aa-9e09c7b22dbc",
   "metadata": {},
   "outputs": [],
   "source": [
    "df_proposicoes_sem_keywords['keywords'] = df_proposicoes_sem_keywords['ementa'].apply(remove_stopwords_punctuation_da_sentenca)"
   ]
  },
  {
   "cell_type": "markdown",
   "id": "4c95f244-4a9d-4dea-9f8a-bee3ccb47ca0",
   "metadata": {},
   "source": [
    "Identifica caracteres e abreviações semanticamente irrelevantes ainda presentes na coluna \"keywords\""
   ]
  },
  {
   "cell_type": "code",
   "execution_count": 149,
   "id": "85ec802a-aa94-4808-bdbb-5f7e327ac69f",
   "metadata": {},
   "outputs": [],
   "source": [
    "lista_keywords = []\n",
    "lista_keywords_temp = df_proposicoes_sem_keywords['keywords'].tolist()\n",
    "_ = [lista_keywords.extend(item) for item in lista_keywords_temp]"
   ]
  },
  {
   "cell_type": "code",
   "execution_count": 150,
   "id": "6fab14e0-eb45-43e0-b7fb-ead0493c2d2f",
   "metadata": {},
   "outputs": [],
   "source": [
    "palavras_para_descarte = [item for item in set(lista_keywords) if len(item) <= 3]"
   ]
  },
  {
   "cell_type": "markdown",
   "id": "1ca3e173-87bd-4862-833a-8bec7705656b",
   "metadata": {},
   "source": [
    "Retira os substantivos da lista de caracteres e abreviações semanticamente irrelevantes"
   ]
  },
  {
   "cell_type": "code",
   "execution_count": 151,
   "id": "524a394c-b1a8-4d85-9fe9-2694eb103f87",
   "metadata": {},
   "outputs": [],
   "source": [
    "substantivos_nao_descartaveis = ['cão', 'mãe', 'oab', 'boa', 'pré', 'voz', 'rui', 'uva', 'gás', 'glp', 'apa']"
   ]
  },
  {
   "cell_type": "markdown",
   "id": "dda09a7f-5d9b-4661-82e4-215c48595558",
   "metadata": {},
   "source": [
    "Remove da coluna \"keywords\" lista de caracteres e abreviações semanticamente irrelevantes"
   ]
  },
  {
   "cell_type": "code",
   "execution_count": 152,
   "id": "94050d6d-8938-4945-a77e-c2e0eb07631e",
   "metadata": {},
   "outputs": [],
   "source": [
    "palavras_para_descarte_refinada = [palavra for palavra in palavras_para_descarte if palavra not in substantivos_nao_descartaveis]"
   ]
  },
  {
   "cell_type": "code",
   "execution_count": 153,
   "id": "77ec36c2-8314-4633-9e59-8a1733fe0d2e",
   "metadata": {},
   "outputs": [],
   "source": [
    "def remove_palavras_para_descarte_da_sentenca(texto):\n",
    "    keywords = []\n",
    "    for palavra in texto:\n",
    "        if palavra not in palavras_para_descarte_refinada:\n",
    "            keywords.append(palavra)\n",
    "    return keywords"
   ]
  },
  {
   "cell_type": "code",
   "execution_count": 154,
   "id": "b2da805e-33fb-464c-a6f4-b3ea0a35dbaf",
   "metadata": {},
   "outputs": [],
   "source": [
    "df_proposicoes_sem_keywords['keywords'] = df_proposicoes_sem_keywords['keywords'].apply(remove_palavras_para_descarte_da_sentenca)"
   ]
  },
  {
   "cell_type": "markdown",
   "id": "6e256fd6-b497-44d5-aac1-6d4668d74084",
   "metadata": {},
   "source": [
    "Identifica, na coluna \"keywords\", palavras sem relevancia semântica, por exemplo: \"altera\", \"dispõe\" e \"sobre\"."
   ]
  },
  {
   "cell_type": "code",
   "execution_count": 155,
   "id": "df066876-939b-4e38-815f-8277e41feadd",
   "metadata": {},
   "outputs": [],
   "source": [
    "def gera_n_grams(texto, ngram=2):\n",
    "    temporario = zip(*[texto[indice:] for indice in range(0,ngram)])\n",
    "    resultado = [' '.join(ngram) for ngram in temporario]\n",
    "    return resultado"
   ]
  },
  {
   "cell_type": "code",
   "execution_count": 156,
   "id": "6b7d25d6-39f9-4016-8e5f-b65b3063e733",
   "metadata": {},
   "outputs": [],
   "source": [
    "df_proposicoes_sem_keywords['bigrams'] = df_proposicoes_sem_keywords['keywords'].apply(gera_n_grams)"
   ]
  },
  {
   "cell_type": "code",
   "execution_count": 157,
   "id": "fcbb3e3c-b6cc-45f9-a512-1ac8f74bbe08",
   "metadata": {},
   "outputs": [],
   "source": [
    "lista_ngrams = []\n",
    "lista_ngrams_temp = df_proposicoes_sem_keywords['bigrams'].tolist()\n",
    "_ = [lista_ngrams.extend(item) for item in lista_ngrams_temp]"
   ]
  },
  {
   "cell_type": "code",
   "execution_count": 158,
   "id": "e1203e48-236b-45e4-871d-9d82fbc1bc8e",
   "metadata": {},
   "outputs": [],
   "source": [
    "bigrams_comuns = nltk.FreqDist(lista_ngrams).most_common(50)"
   ]
  },
  {
   "cell_type": "code",
   "execution_count": 159,
   "id": "867a168d-7085-4c4b-aaca-705da584e380",
   "metadata": {},
   "outputs": [],
   "source": [
    "lista_bigramas_comuns = [bigrama for bigrama, frequencia in bigrams_comuns]"
   ]
  },
  {
   "cell_type": "code",
   "execution_count": 160,
   "id": "31df9b07-a724-4f47-b660-c69ca1b37eee",
   "metadata": {},
   "outputs": [],
   "source": [
    "lista_bigramas_comuns_limpa = ['dispõe sobre', 'outras providências', 'nova redação', 'poder executivo', 'distrito federal',\n",
    " 'autoriza poder', 'federal outras','redação constituição', 'dispõe sôbre', 'código penal', 'artigo constituição',\n",
    " 'disposições constitucionais', 'altera dispõe', 'decreto-lei código', 'constitucionais transitórias', 'altera redação',\n",
    " 'abre ministério', 'executivo abrir', 'redação artigo', 'sobre criação', 'acrescenta parágrafo', 'parágrafo único',\n",
    " 'concede isenção', 'altera dispositivos', 'altera complementar', 'dispondo sobre', 'código processo', 'outras providências.',\n",
    " 'providências. historico', 'ministério fazenda', 'altera leis', 'programa nacional', 'quadro permanente', 'outras providencias',\n",
    " 'inciso constituição', 'abrir ministério', 'estabelece normas', 'ministério justiça', 'tempo serviço', 'instituto nacional',\n",
    " 'institui sistema', 'operações crédito', 'altera institui', 'dispõe sôbre']"
   ]
  },
  {
   "cell_type": "code",
   "execution_count": 161,
   "id": "5c12f29b",
   "metadata": {},
   "outputs": [],
   "source": [
    "palavras_para_descarte_origem_bigramas = []\n",
    "_ = [palavras_para_descarte_origem_bigramas.extend(bigrama.split(' ')) for bigrama in lista_bigramas_comuns_limpa]\n",
    "palavras_para_descarte_origem_bigramas_unicas = set(palavras_para_descarte_origem_bigramas)"
   ]
  },
  {
   "cell_type": "code",
   "execution_count": 162,
   "id": "16eb54d7-07a3-4d04-9fb1-b8ac65ee420d",
   "metadata": {},
   "outputs": [],
   "source": [
    "def remove_palavras_origem_bigramas_da_sentenca(texto):\n",
    "    keywords = []\n",
    "    for palavra in texto:\n",
    "        if palavra not in palavras_para_descarte_origem_bigramas_unicas:\n",
    "            # talvez valha a pena usar o `remove` em vez de `append`? não sei. \n",
    "            keywords.append(palavra)\n",
    "    return keywords"
   ]
  },
  {
   "cell_type": "code",
   "execution_count": 163,
   "id": "d2caac5f-181c-48ae-bd92-35823fc0145f",
   "metadata": {},
   "outputs": [],
   "source": [
    "df_proposicoes_sem_keywords['keywords'] = df_proposicoes_sem_keywords['keywords'].apply(remove_palavras_origem_bigramas_da_sentenca)"
   ]
  },
  {
   "cell_type": "markdown",
   "id": "af82bc0a-9099-4842-85fa-bda748cd5e25",
   "metadata": {},
   "source": [
    "Converte lista para string"
   ]
  },
  {
   "cell_type": "code",
   "execution_count": 191,
   "id": "28142559-3f9f-4d1a-9e42-006e7a1ac7b1",
   "metadata": {},
   "outputs": [],
   "source": [
    "df_proposicoes_sem_keywords['keywords'] = df_proposicoes_sem_keywords['keywords'].apply(converte_lista_string)"
   ]
  },
  {
   "cell_type": "markdown",
   "id": "0d6dfd93-76d9-45c2-9b8e-39caee568a6d",
   "metadata": {},
   "source": [
    "Elimina coluna \"bigrams\""
   ]
  },
  {
   "cell_type": "code",
   "execution_count": 203,
   "id": "44227261-f038-4a1f-bc1c-35fcb71b9a15",
   "metadata": {},
   "outputs": [],
   "source": [
    "df_proposicoes_sem_keywords = df_proposicoes_sem_keywords.drop(columns=['bigrams'])"
   ]
  },
  {
   "cell_type": "code",
   "execution_count": 204,
   "id": "08daffb1",
   "metadata": {},
   "outputs": [],
   "source": [
    "# remove keywords que após a conversão para texto ficaram vazias\n",
    "df_proposicoes_sem_keywords = df_proposicoes_sem_keywords[df_proposicoes_sem_keywords['keywords'] != '']"
   ]
  },
  {
   "cell_type": "code",
   "execution_count": 215,
   "id": "4e8755f6",
   "metadata": {},
   "outputs": [
    {
     "data": {
      "text/html": [
       "<div>\n",
       "<style scoped>\n",
       "    .dataframe tbody tr th:only-of-type {\n",
       "        vertical-align: middle;\n",
       "    }\n",
       "\n",
       "    .dataframe tbody tr th {\n",
       "        vertical-align: top;\n",
       "    }\n",
       "\n",
       "    .dataframe thead th {\n",
       "        text-align: right;\n",
       "    }\n",
       "</style>\n",
       "<table border=\"1\" class=\"dataframe\">\n",
       "  <thead>\n",
       "    <tr style=\"text-align: right;\">\n",
       "      <th></th>\n",
       "      <th>id</th>\n",
       "      <th>siglaTipo</th>\n",
       "      <th>ano</th>\n",
       "      <th>codTipo</th>\n",
       "      <th>descricaoTipo</th>\n",
       "      <th>ementa</th>\n",
       "      <th>ementaDetalhada</th>\n",
       "      <th>keywords</th>\n",
       "    </tr>\n",
       "  </thead>\n",
       "  <tbody>\n",
       "  </tbody>\n",
       "</table>\n",
       "</div>"
      ],
      "text/plain": [
       "Empty DataFrame\n",
       "Columns: [id, siglaTipo, ano, codTipo, descricaoTipo, ementa, ementaDetalhada, keywords]\n",
       "Index: []"
      ]
     },
     "execution_count": 215,
     "metadata": {},
     "output_type": "execute_result"
    }
   ],
   "source": [
    "df_proposicoes_sem_keywords[df_proposicoes_sem_keywords['keywords']== ''] "
   ]
  },
  {
   "cell_type": "markdown",
   "id": "ed12458b-0743-46c6-927b-5131e98a64b0",
   "metadata": {},
   "source": [
    "# Tratar dados "
   ]
  },
  {
   "cell_type": "markdown",
   "id": "463eafed-3ab7-4d69-b7c9-096c3b04d983",
   "metadata": {},
   "source": [
    "# Reuni dados em um único dataset"
   ]
  },
  {
   "cell_type": "code",
   "execution_count": 218,
   "id": "856c311e-09a4-40bc-b96f-220df0c760f5",
   "metadata": {},
   "outputs": [],
   "source": [
    "df_proposicoes_v_final = pd.concat([df_proposicoes_com_keywords, df_proposicoes_sem_keywords])"
   ]
  },
  {
   "cell_type": "code",
   "execution_count": 219,
   "id": "c44336bc-9bd6-40eb-ac2e-ce67dfa4b8c5",
   "metadata": {},
   "outputs": [
    {
     "data": {
      "text/plain": [
       "(152386, 8)"
      ]
     },
     "execution_count": 219,
     "metadata": {},
     "output_type": "execute_result"
    }
   ],
   "source": [
    "df_proposicoes_v_final.shape"
   ]
  },
  {
   "cell_type": "code",
   "execution_count": 220,
   "id": "85293580-9246-45b4-9212-af9e8293b82c",
   "metadata": {},
   "outputs": [
    {
     "name": "stdout",
     "output_type": "stream",
     "text": [
      "<class 'pandas.core.frame.DataFrame'>\n",
      "Int64Index: 152386 entries, 110 to 673703\n",
      "Data columns (total 8 columns):\n",
      " #   Column           Non-Null Count   Dtype \n",
      "---  ------           --------------   ----- \n",
      " 0   id               152386 non-null  object\n",
      " 1   siglaTipo        152386 non-null  object\n",
      " 2   ano              152386 non-null  int64 \n",
      " 3   codTipo          152386 non-null  object\n",
      " 4   descricaoTipo    152386 non-null  object\n",
      " 5   ementa           152386 non-null  object\n",
      " 6   ementaDetalhada  42563 non-null   object\n",
      " 7   keywords         152386 non-null  object\n",
      "dtypes: int64(1), object(7)\n",
      "memory usage: 10.5+ MB\n"
     ]
    }
   ],
   "source": [
    "df_proposicoes_v_final.info()"
   ]
  },
  {
   "cell_type": "code",
   "execution_count": 221,
   "id": "106b4aed-f9e1-4ddd-a7cc-6d6dcbdc4336",
   "metadata": {},
   "outputs": [],
   "source": [
    "df_proposicoes_v_final.to_csv('../dados/proposicoes_legislativas_limpas.csv', index=False)"
   ]
  },
  {
   "cell_type": "code",
   "execution_count": 222,
   "id": "b89908ae",
   "metadata": {},
   "outputs": [
    {
     "data": {
      "text/html": [
       "<div>\n",
       "<style scoped>\n",
       "    .dataframe tbody tr th:only-of-type {\n",
       "        vertical-align: middle;\n",
       "    }\n",
       "\n",
       "    .dataframe tbody tr th {\n",
       "        vertical-align: top;\n",
       "    }\n",
       "\n",
       "    .dataframe thead th {\n",
       "        text-align: right;\n",
       "    }\n",
       "</style>\n",
       "<table border=\"1\" class=\"dataframe\">\n",
       "  <thead>\n",
       "    <tr style=\"text-align: right;\">\n",
       "      <th></th>\n",
       "      <th>id</th>\n",
       "      <th>siglaTipo</th>\n",
       "      <th>ano</th>\n",
       "      <th>codTipo</th>\n",
       "      <th>descricaoTipo</th>\n",
       "      <th>ementa</th>\n",
       "      <th>ementaDetalhada</th>\n",
       "      <th>keywords</th>\n",
       "    </tr>\n",
       "  </thead>\n",
       "  <tbody>\n",
       "  </tbody>\n",
       "</table>\n",
       "</div>"
      ],
      "text/plain": [
       "Empty DataFrame\n",
       "Columns: [id, siglaTipo, ano, codTipo, descricaoTipo, ementa, ementaDetalhada, keywords]\n",
       "Index: []"
      ]
     },
     "execution_count": 222,
     "metadata": {},
     "output_type": "execute_result"
    }
   ],
   "source": [
    "df_proposicoes_v_final[df_proposicoes_v_final['keywords'] == '']"
   ]
  }
 ],
 "metadata": {
  "kernelspec": {
   "display_name": "Python 3 (ipykernel)",
   "language": "python",
   "name": "python3"
  },
  "language_info": {
   "codemirror_mode": {
    "name": "ipython",
    "version": 3
   },
   "file_extension": ".py",
   "mimetype": "text/x-python",
   "name": "python",
   "nbconvert_exporter": "python",
   "pygments_lexer": "ipython3",
   "version": "3.8.10"
  }
 },
 "nbformat": 4,
 "nbformat_minor": 5
}
