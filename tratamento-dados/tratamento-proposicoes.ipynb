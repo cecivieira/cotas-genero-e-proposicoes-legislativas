{
 "cells": [
  {
   "cell_type": "code",
   "execution_count": 1,
   "id": "aa696467-3811-42c7-993e-80b1f19bd0ca",
   "metadata": {},
   "outputs": [],
   "source": [
    "import glob\n",
    "import nltk\n",
    "import re\n",
    "\n",
    "import pandas as pd\n",
    "\n",
    "from string import punctuation"
   ]
  },
  {
   "cell_type": "markdown",
   "id": "219aa347-78ca-4cad-8c18-a5bf01330b9d",
   "metadata": {},
   "source": [
    "# Tratamento de dados coletados sobre proposições legislativas"
   ]
  },
  {
   "cell_type": "markdown",
   "id": "f42b1363-969f-4581-bb16-a87bd16a9477",
   "metadata": {},
   "source": [
    "Os dados referentes às proposições legislativas foram coletados manualmente a partir de arquivos estáticos disponíveis em [https://dadosabertos.camara.leg.br/swagger/api.html#staticfile](https://dadosabertos.camara.leg.br/swagger/api.html#staticfile). Os arquivos utilizados nesse projeto estão disponíveis em [../dados/proposicoes](../dados/proposicoes).\n",
    "Percebemos a necessidade de realizar limpeza dos dados coletados antes de utilizá-los nas análises, então nesse notebook descrevemos o pré-processamento necessário."
   ]
  },
  {
   "cell_type": "markdown",
   "id": "f6a12f9c-2c2d-41ca-9de6-0a38f450768d",
   "metadata": {},
   "source": [
    "Reunimos todos os arquivos em um único dataframe pandas"
   ]
  },
  {
   "cell_type": "code",
   "execution_count": 2,
   "id": "60b974d7-d1f0-410c-a4ea-32d2baaee348",
   "metadata": {},
   "outputs": [],
   "source": [
    "lista_proposicoes = glob.glob('../dados/proposicoes/*')"
   ]
  },
  {
   "cell_type": "code",
   "execution_count": 3,
   "id": "03a43433-f2c8-4275-9ad3-d4638479f339",
   "metadata": {},
   "outputs": [],
   "source": [
    "tipos_dados = {\n",
    "    'id': object,\n",
    "    'uri': object,\n",
    "    'siglaTipo': object,\n",
    "    'numero': object,\n",
    "    'ano': int,\n",
    "    'codTipo': object,\n",
    "    'descricaoTipo': object,\n",
    "    'ementa': object,\n",
    "    'ementaDetalhada': object,\n",
    "    'keywords': object,   \n",
    "    'uriOrgaoNumerador': object,\n",
    "    'uriPropAnterior': object,\n",
    "    'uriPropPrincipal': object,\n",
    "    'uriPropPosterior': object,\n",
    "    'urlInteiroTeor': object, \n",
    "    'urnFinal': object, \n",
    "    'ultimoStatus_sequencia': object,\n",
    "    'ultimoStatus_uriRelator': object, \n",
    "    'ultimoStatus_idOrgao': object,\n",
    "    'ultimoStatus_siglaOrgao': object, \n",
    "    'ultimoStatus_uriOrgao': object,\n",
    "    'ultimoStatus_regime': object, \n",
    "    'ultimoStatus_descricaoTramitacao': object,\n",
    "    'ultimoStatus_idTipoTramitacao': object, \n",
    "    'ultimoStatus_descricaoSituacao': object,\n",
    "    'ultimoStatus_idSituacao': object, \n",
    "    'ultimoStatus_despacho': object, \n",
    "    'ultimoStatus_url': object\n",
    "}\n",
    "\n",
    "tipo_data = ['dataApresentacao', 'ultimoStatus_dataHora']"
   ]
  },
  {
   "cell_type": "code",
   "execution_count": 4,
   "id": "5c293a8b-5cc1-4573-a20e-197259abde89",
   "metadata": {},
   "outputs": [],
   "source": [
    "lista_df = []\n",
    "\n",
    "for proposicao in lista_proposicoes:\n",
    "    df_proposicao = pd.read_csv(proposicao, sep=';', dtype=tipos_dados, parse_dates=tipo_data)\n",
    "    lista_df.append(df_proposicao)"
   ]
  },
  {
   "cell_type": "code",
   "execution_count": 5,
   "id": "09989088-961c-4bfc-a0a4-3636e3ae27b3",
   "metadata": {},
   "outputs": [
    {
     "data": {
      "text/plain": [
       "(680358, 30)"
      ]
     },
     "execution_count": 5,
     "metadata": {},
     "output_type": "execute_result"
    }
   ],
   "source": [
    "df_proposicao_1934_2021 = pd.concat(lista_df, axis=0, ignore_index=True)\n",
    "df_proposicao_1934_2021.shape"
   ]
  },
  {
   "cell_type": "markdown",
   "id": "1af648f4-2ce5-45b0-ba6b-037d0e03bb6a",
   "metadata": {},
   "source": [
    "## Seleção de dados referentes aos tipos de proposta legislativa desejados para análise\n",
    "\n",
    "Selecionaremos apenas as propostas referentes aos seguintes tipos:\n",
    "- Projeto de Decreto Legislativo [SF] (PDL)\n",
    "- Projeto de Decreto Legislativo [CD] (PDC)\n",
    "- Projeto de Decreto Legislativo [CN] (PDN)\n",
    "- Projeto de Decreto Legislativo [SF] (PDS)\n",
    "- Proposta de Emenda à Constituição (PEC)\n",
    "- Projeto de Lei (PL)\n",
    "- Projeto de Lei da Câmara (PLC)\n",
    "- Projeto de Lei Complementar (PLP)\n",
    "- Projeto de Lei de Conversão (PLV)\n",
    "- Projeto de Resolução da Câmara dos Deputados (PRC)"
   ]
  },
  {
   "cell_type": "code",
   "execution_count": 6,
   "id": "b077e07c-e2d2-4868-abd1-0dee3a80882b",
   "metadata": {},
   "outputs": [],
   "source": [
    "tipos_proposicoes = ['PDS', 'PDC', 'PDN', 'PEC', 'PL', 'PLC', 'PLP', 'PLV', 'PRC']"
   ]
  },
  {
   "cell_type": "code",
   "execution_count": 7,
   "id": "8a1006b0-a578-40d5-974a-39a9e1f3aacf",
   "metadata": {},
   "outputs": [],
   "source": [
    "df_proposicoes_tipos_desejados = df_proposicao_1934_2021[df_proposicao_1934_2021['siglaTipo'].isin(tipos_proposicoes)].copy()"
   ]
  },
  {
   "cell_type": "code",
   "execution_count": 8,
   "id": "17225d4b-f3c2-49dc-afd2-4ed667464b59",
   "metadata": {},
   "outputs": [
    {
     "data": {
      "text/plain": [
       "(152424, 30)"
      ]
     },
     "execution_count": 8,
     "metadata": {},
     "output_type": "execute_result"
    }
   ],
   "source": [
    "df_proposicoes_tipos_desejados.shape"
   ]
  },
  {
   "cell_type": "markdown",
   "id": "af771789-f6fd-4f74-9cb4-5ce8db69737c",
   "metadata": {},
   "source": [
    "# Seleção de atributos desejados para análise"
   ]
  },
  {
   "cell_type": "code",
   "execution_count": 9,
   "id": "61b5f27e-797e-4296-9aca-2bd1b8c78eb3",
   "metadata": {},
   "outputs": [],
   "source": [
    "df_proposicoes = df_proposicoes_tipos_desejados[['id','siglaTipo','ano', 'codTipo', 'descricaoTipo',\n",
    "       'ementa', 'ementaDetalhada', 'keywords']].copy()"
   ]
  },
  {
   "cell_type": "code",
   "execution_count": 10,
   "id": "edabd958-2e7e-410b-94f8-7f446561deff",
   "metadata": {},
   "outputs": [
    {
     "data": {
      "text/plain": [
       "(152424, 8)"
      ]
     },
     "execution_count": 10,
     "metadata": {},
     "output_type": "execute_result"
    }
   ],
   "source": [
    "df_proposicoes.shape"
   ]
  },
  {
   "cell_type": "markdown",
   "id": "0dc4de33-6e06-475d-9f3d-9058936f1b1b",
   "metadata": {},
   "source": [
    "# Ajuste de valores faltantes"
   ]
  },
  {
   "cell_type": "code",
   "execution_count": 11,
   "id": "eb49ff95-e45a-4d86-b1d2-6bc732b6d73c",
   "metadata": {},
   "outputs": [
    {
     "data": {
      "text/plain": [
       "id                      0\n",
       "siglaTipo               0\n",
       "ano                     0\n",
       "codTipo                 0\n",
       "descricaoTipo           0\n",
       "ementa                  5\n",
       "ementaDetalhada    109844\n",
       "keywords              924\n",
       "dtype: int64"
      ]
     },
     "execution_count": 11,
     "metadata": {},
     "output_type": "execute_result"
    }
   ],
   "source": [
    "df_proposicoes.isnull().sum(axis = 0)"
   ]
  },
  {
   "cell_type": "code",
   "execution_count": 12,
   "id": "5805f5dd-023d-4136-90f7-7471a5e95ed1",
   "metadata": {},
   "outputs": [
    {
     "data": {
      "text/html": [
       "<div>\n",
       "<style scoped>\n",
       "    .dataframe tbody tr th:only-of-type {\n",
       "        vertical-align: middle;\n",
       "    }\n",
       "\n",
       "    .dataframe tbody tr th {\n",
       "        vertical-align: top;\n",
       "    }\n",
       "\n",
       "    .dataframe thead th {\n",
       "        text-align: right;\n",
       "    }\n",
       "</style>\n",
       "<table border=\"1\" class=\"dataframe\">\n",
       "  <thead>\n",
       "    <tr style=\"text-align: right;\">\n",
       "      <th></th>\n",
       "      <th>id</th>\n",
       "      <th>siglaTipo</th>\n",
       "      <th>ano</th>\n",
       "      <th>codTipo</th>\n",
       "      <th>descricaoTipo</th>\n",
       "      <th>ementa</th>\n",
       "      <th>ementaDetalhada</th>\n",
       "      <th>keywords</th>\n",
       "    </tr>\n",
       "  </thead>\n",
       "  <tbody>\n",
       "    <tr>\n",
       "      <th>59695</th>\n",
       "      <td>537493</td>\n",
       "      <td>PL</td>\n",
       "      <td>1946</td>\n",
       "      <td>139</td>\n",
       "      <td>Projeto de Lei</td>\n",
       "      <td>NaN</td>\n",
       "      <td>NaN</td>\n",
       "      <td>NaN</td>\n",
       "    </tr>\n",
       "    <tr>\n",
       "      <th>71533</th>\n",
       "      <td>347964</td>\n",
       "      <td>PL</td>\n",
       "      <td>1935</td>\n",
       "      <td>139</td>\n",
       "      <td>Projeto de Lei</td>\n",
       "      <td>NaN</td>\n",
       "      <td>NaN</td>\n",
       "      <td>NaN</td>\n",
       "    </tr>\n",
       "    <tr>\n",
       "      <th>424157</th>\n",
       "      <td>2123532</td>\n",
       "      <td>PLC</td>\n",
       "      <td>2017</td>\n",
       "      <td>465</td>\n",
       "      <td>Projeto de Lei da Câmara dos Deputados (SF)</td>\n",
       "      <td>NaN</td>\n",
       "      <td>NaN</td>\n",
       "      <td>NaN</td>\n",
       "    </tr>\n",
       "    <tr>\n",
       "      <th>495917</th>\n",
       "      <td>2308959</td>\n",
       "      <td>PLV</td>\n",
       "      <td>2021</td>\n",
       "      <td>390</td>\n",
       "      <td>Projeto de Lei de Conversão</td>\n",
       "      <td>NaN</td>\n",
       "      <td>NaN</td>\n",
       "      <td>NaN</td>\n",
       "    </tr>\n",
       "    <tr>\n",
       "      <th>571961</th>\n",
       "      <td>605771</td>\n",
       "      <td>PL</td>\n",
       "      <td>1954</td>\n",
       "      <td>139</td>\n",
       "      <td>Projeto de Lei</td>\n",
       "      <td>NaN</td>\n",
       "      <td>NaN</td>\n",
       "      <td>NaN</td>\n",
       "    </tr>\n",
       "  </tbody>\n",
       "</table>\n",
       "</div>"
      ],
      "text/plain": [
       "             id siglaTipo   ano codTipo  \\\n",
       "59695    537493        PL  1946     139   \n",
       "71533    347964        PL  1935     139   \n",
       "424157  2123532       PLC  2017     465   \n",
       "495917  2308959       PLV  2021     390   \n",
       "571961   605771        PL  1954     139   \n",
       "\n",
       "                                      descricaoTipo ementa ementaDetalhada  \\\n",
       "59695                                Projeto de Lei    NaN             NaN   \n",
       "71533                                Projeto de Lei    NaN             NaN   \n",
       "424157  Projeto de Lei da Câmara dos Deputados (SF)    NaN             NaN   \n",
       "495917                  Projeto de Lei de Conversão    NaN             NaN   \n",
       "571961                               Projeto de Lei    NaN             NaN   \n",
       "\n",
       "       keywords  \n",
       "59695       NaN  \n",
       "71533       NaN  \n",
       "424157      NaN  \n",
       "495917      NaN  \n",
       "571961      NaN  "
      ]
     },
     "execution_count": 12,
     "metadata": {},
     "output_type": "execute_result"
    }
   ],
   "source": [
    "df_proposicoes[\n",
    "    (df_proposicoes['ementa'].isnull()) & \n",
    "    (df_proposicoes['ementaDetalhada'].isnull()) & \n",
    "    (df_proposicoes['keywords'].isnull())].head()"
   ]
  },
  {
   "cell_type": "code",
   "execution_count": 13,
   "id": "62ee15ca-49cc-4349-8c36-c590b6ac7b4f",
   "metadata": {},
   "outputs": [
    {
     "data": {
      "text/html": [
       "<div>\n",
       "<style scoped>\n",
       "    .dataframe tbody tr th:only-of-type {\n",
       "        vertical-align: middle;\n",
       "    }\n",
       "\n",
       "    .dataframe tbody tr th {\n",
       "        vertical-align: top;\n",
       "    }\n",
       "\n",
       "    .dataframe thead th {\n",
       "        text-align: right;\n",
       "    }\n",
       "</style>\n",
       "<table border=\"1\" class=\"dataframe\">\n",
       "  <thead>\n",
       "    <tr style=\"text-align: right;\">\n",
       "      <th></th>\n",
       "      <th>id</th>\n",
       "      <th>siglaTipo</th>\n",
       "      <th>ano</th>\n",
       "      <th>codTipo</th>\n",
       "      <th>descricaoTipo</th>\n",
       "      <th>ementa</th>\n",
       "      <th>ementaDetalhada</th>\n",
       "      <th>keywords</th>\n",
       "    </tr>\n",
       "  </thead>\n",
       "  <tbody>\n",
       "    <tr>\n",
       "      <th>59695</th>\n",
       "      <td>537493</td>\n",
       "      <td>PL</td>\n",
       "      <td>1946</td>\n",
       "      <td>139</td>\n",
       "      <td>Projeto de Lei</td>\n",
       "      <td>NaN</td>\n",
       "      <td>NaN</td>\n",
       "      <td>NaN</td>\n",
       "    </tr>\n",
       "    <tr>\n",
       "      <th>71533</th>\n",
       "      <td>347964</td>\n",
       "      <td>PL</td>\n",
       "      <td>1935</td>\n",
       "      <td>139</td>\n",
       "      <td>Projeto de Lei</td>\n",
       "      <td>NaN</td>\n",
       "      <td>NaN</td>\n",
       "      <td>NaN</td>\n",
       "    </tr>\n",
       "    <tr>\n",
       "      <th>424157</th>\n",
       "      <td>2123532</td>\n",
       "      <td>PLC</td>\n",
       "      <td>2017</td>\n",
       "      <td>465</td>\n",
       "      <td>Projeto de Lei da Câmara dos Deputados (SF)</td>\n",
       "      <td>NaN</td>\n",
       "      <td>NaN</td>\n",
       "      <td>NaN</td>\n",
       "    </tr>\n",
       "    <tr>\n",
       "      <th>495917</th>\n",
       "      <td>2308959</td>\n",
       "      <td>PLV</td>\n",
       "      <td>2021</td>\n",
       "      <td>390</td>\n",
       "      <td>Projeto de Lei de Conversão</td>\n",
       "      <td>NaN</td>\n",
       "      <td>NaN</td>\n",
       "      <td>NaN</td>\n",
       "    </tr>\n",
       "    <tr>\n",
       "      <th>571961</th>\n",
       "      <td>605771</td>\n",
       "      <td>PL</td>\n",
       "      <td>1954</td>\n",
       "      <td>139</td>\n",
       "      <td>Projeto de Lei</td>\n",
       "      <td>NaN</td>\n",
       "      <td>NaN</td>\n",
       "      <td>NaN</td>\n",
       "    </tr>\n",
       "  </tbody>\n",
       "</table>\n",
       "</div>"
      ],
      "text/plain": [
       "             id siglaTipo   ano codTipo  \\\n",
       "59695    537493        PL  1946     139   \n",
       "71533    347964        PL  1935     139   \n",
       "424157  2123532       PLC  2017     465   \n",
       "495917  2308959       PLV  2021     390   \n",
       "571961   605771        PL  1954     139   \n",
       "\n",
       "                                      descricaoTipo ementa ementaDetalhada  \\\n",
       "59695                                Projeto de Lei    NaN             NaN   \n",
       "71533                                Projeto de Lei    NaN             NaN   \n",
       "424157  Projeto de Lei da Câmara dos Deputados (SF)    NaN             NaN   \n",
       "495917                  Projeto de Lei de Conversão    NaN             NaN   \n",
       "571961                               Projeto de Lei    NaN             NaN   \n",
       "\n",
       "       keywords  \n",
       "59695       NaN  \n",
       "71533       NaN  \n",
       "424157      NaN  \n",
       "495917      NaN  \n",
       "571961      NaN  "
      ]
     },
     "execution_count": 13,
     "metadata": {},
     "output_type": "execute_result"
    }
   ],
   "source": [
    "df_proposicoes[(df_proposicoes['ementa'].isnull())].head()"
   ]
  },
  {
   "cell_type": "code",
   "execution_count": 14,
   "id": "6a42c0f0-18f1-408c-a7c0-ce3bc7304371",
   "metadata": {},
   "outputs": [],
   "source": [
    "df_proposicoes.dropna(axis=0, subset=['ementa'], inplace=True)"
   ]
  },
  {
   "cell_type": "code",
   "execution_count": 15,
   "id": "0a6a7653-5a70-43c0-95d1-8c90a51a3610",
   "metadata": {},
   "outputs": [
    {
     "data": {
      "text/plain": [
       "(152419, 8)"
      ]
     },
     "execution_count": 15,
     "metadata": {},
     "output_type": "execute_result"
    }
   ],
   "source": [
    "df_proposicoes.shape"
   ]
  },
  {
   "cell_type": "markdown",
   "id": "b5cb50fc-3c3b-4266-acf6-966f765e3cc9",
   "metadata": {
    "tags": []
   },
   "source": [
    "# Limpa dados da coluna \"keywords\""
   ]
  },
  {
   "cell_type": "markdown",
   "id": "bf097768-c44a-4342-b08d-57d0fcffe495",
   "metadata": {},
   "source": [
    "Identifica propostas legislativas com \"keywords\""
   ]
  },
  {
   "cell_type": "code",
   "execution_count": 16,
   "id": "dfebd975-ecb8-4b3d-a615-1a3a04a5bfa0",
   "metadata": {},
   "outputs": [],
   "source": [
    "df_proposicoes_com_keywords = df_proposicoes[df_proposicoes['keywords'].notna()].copy()"
   ]
  },
  {
   "cell_type": "code",
   "execution_count": 17,
   "id": "c38cb6cc",
   "metadata": {},
   "outputs": [
    {
     "data": {
      "text/html": [
       "<div>\n",
       "<style scoped>\n",
       "    .dataframe tbody tr th:only-of-type {\n",
       "        vertical-align: middle;\n",
       "    }\n",
       "\n",
       "    .dataframe tbody tr th {\n",
       "        vertical-align: top;\n",
       "    }\n",
       "\n",
       "    .dataframe thead th {\n",
       "        text-align: right;\n",
       "    }\n",
       "</style>\n",
       "<table border=\"1\" class=\"dataframe\">\n",
       "  <thead>\n",
       "    <tr style=\"text-align: right;\">\n",
       "      <th></th>\n",
       "      <th>id</th>\n",
       "      <th>siglaTipo</th>\n",
       "      <th>ano</th>\n",
       "      <th>codTipo</th>\n",
       "      <th>descricaoTipo</th>\n",
       "      <th>ementa</th>\n",
       "      <th>ementaDetalhada</th>\n",
       "      <th>keywords</th>\n",
       "    </tr>\n",
       "  </thead>\n",
       "  <tbody>\n",
       "    <tr>\n",
       "      <th>105</th>\n",
       "      <td>168293</td>\n",
       "      <td>PDC</td>\n",
       "      <td>1965</td>\n",
       "      <td>135</td>\n",
       "      <td>Projeto de Decreto Legislativo</td>\n",
       "      <td>MANTEM DECISÃO DENEGATORIA DO TRIBUNAL DE CONT...</td>\n",
       "      <td>NaN</td>\n",
       "      <td>MANUTENÇÃO, DECISÃO, TRIBUNAL DE CONTAS DA UNI...</td>\n",
       "    </tr>\n",
       "    <tr>\n",
       "      <th>106</th>\n",
       "      <td>168297</td>\n",
       "      <td>PDC</td>\n",
       "      <td>1965</td>\n",
       "      <td>135</td>\n",
       "      <td>Projeto de Decreto Legislativo</td>\n",
       "      <td>MANTEM ATO DO TRIBUNAL DE CONTAS DA UNIÃO DE R...</td>\n",
       "      <td>NaN</td>\n",
       "      <td>MANUTENÇÃO, ATO, TRIBUNAL DE CONTAS DA UNIÃO (...</td>\n",
       "    </tr>\n",
       "    <tr>\n",
       "      <th>107</th>\n",
       "      <td>168300</td>\n",
       "      <td>PDC</td>\n",
       "      <td>1965</td>\n",
       "      <td>135</td>\n",
       "      <td>Projeto de Decreto Legislativo</td>\n",
       "      <td>MANTÉM DECISÃO DENEGATÓRIA DO TRIBUNAL DE CONT...</td>\n",
       "      <td>NaN</td>\n",
       "      <td>MANUTENÇÃO, DECISÃO, TRIBUNAL DE CONTAS DA UNI...</td>\n",
       "    </tr>\n",
       "    <tr>\n",
       "      <th>108</th>\n",
       "      <td>168303</td>\n",
       "      <td>PDC</td>\n",
       "      <td>1965</td>\n",
       "      <td>135</td>\n",
       "      <td>Projeto de Decreto Legislativo</td>\n",
       "      <td>MANTÉM ATO DO TRIBUNAL DE CONTAS DA UNIÃO QUE ...</td>\n",
       "      <td>NaN</td>\n",
       "      <td>MANUTENÇÃO, ATO, TRIBUNAL DE CONTAS DA UNIÃO (...</td>\n",
       "    </tr>\n",
       "    <tr>\n",
       "      <th>109</th>\n",
       "      <td>168307</td>\n",
       "      <td>PDC</td>\n",
       "      <td>1965</td>\n",
       "      <td>135</td>\n",
       "      <td>Projeto de Decreto Legislativo</td>\n",
       "      <td>MANTEM O ATO DO TRIBUNAL DE CONTAS DA UNIÃO QU...</td>\n",
       "      <td>NaN</td>\n",
       "      <td>MANUTENÇÃO, ATO, TRIBUNAL DE CONTAS DA UNIÃO (...</td>\n",
       "    </tr>\n",
       "    <tr>\n",
       "      <th>...</th>\n",
       "      <td>...</td>\n",
       "      <td>...</td>\n",
       "      <td>...</td>\n",
       "      <td>...</td>\n",
       "      <td>...</td>\n",
       "      <td>...</td>\n",
       "      <td>...</td>\n",
       "      <td>...</td>\n",
       "    </tr>\n",
       "    <tr>\n",
       "      <th>680339</th>\n",
       "      <td>235344</td>\n",
       "      <td>PRC</td>\n",
       "      <td>1963</td>\n",
       "      <td>141</td>\n",
       "      <td>Projeto de Resolução</td>\n",
       "      <td>AUTORIZA A MESA DA CAMARA DOS DEPUTADOS A EDIT...</td>\n",
       "      <td>NaN</td>\n",
       "      <td>AUTORIZAÇÃO, MESA DIRETORA, CAMARA DOS DEPUTAD...</td>\n",
       "    </tr>\n",
       "    <tr>\n",
       "      <th>680340</th>\n",
       "      <td>235359</td>\n",
       "      <td>PRC</td>\n",
       "      <td>1963</td>\n",
       "      <td>141</td>\n",
       "      <td>Projeto de Resolução</td>\n",
       "      <td>CRIA COMISSÃO MISTA PARA APRECIAR AS MENSAGENS...</td>\n",
       "      <td>NaN</td>\n",
       "      <td>CRIAÇÃO, COMISSÃO MISTA, APRECIAÇÃO, MENSAGEM ...</td>\n",
       "    </tr>\n",
       "    <tr>\n",
       "      <th>680341</th>\n",
       "      <td>235375</td>\n",
       "      <td>PRC</td>\n",
       "      <td>1963</td>\n",
       "      <td>141</td>\n",
       "      <td>Projeto de Resolução</td>\n",
       "      <td>PROPÕE MEDIDAS PRELIMINARES PARA A CRIAÇÃO DO ...</td>\n",
       "      <td>NaN</td>\n",
       "      <td>NORMAS, PROPOSTA, PRELIMINAR, CRIAÇÃO, PARLAME...</td>\n",
       "    </tr>\n",
       "    <tr>\n",
       "      <th>680342</th>\n",
       "      <td>454146</td>\n",
       "      <td>PDC</td>\n",
       "      <td>1963</td>\n",
       "      <td>135</td>\n",
       "      <td>Projeto de Decreto Legislativo</td>\n",
       "      <td>APROVA A CONVENÇÃO SOBRE ASSISTÊNCIA JUDICIÁRI...</td>\n",
       "      <td>NaN</td>\n",
       "      <td>APROVAÇÃO, ATO INTERNACIONAL, CONVENÇÃO INTERN...</td>\n",
       "    </tr>\n",
       "    <tr>\n",
       "      <th>680343</th>\n",
       "      <td>454147</td>\n",
       "      <td>PDC</td>\n",
       "      <td>1963</td>\n",
       "      <td>135</td>\n",
       "      <td>Projeto de Decreto Legislativo</td>\n",
       "      <td>APROVA O TEXTO DO ACÔRDO ENTRE OS ESTADOS UNID...</td>\n",
       "      <td>NaN</td>\n",
       "      <td>APROVAÇÃO, ATO INTERNACIONAL, ACORDO INTERNACI...</td>\n",
       "    </tr>\n",
       "  </tbody>\n",
       "</table>\n",
       "<p>151500 rows × 8 columns</p>\n",
       "</div>"
      ],
      "text/plain": [
       "            id siglaTipo   ano codTipo                   descricaoTipo  \\\n",
       "105     168293       PDC  1965     135  Projeto de Decreto Legislativo   \n",
       "106     168297       PDC  1965     135  Projeto de Decreto Legislativo   \n",
       "107     168300       PDC  1965     135  Projeto de Decreto Legislativo   \n",
       "108     168303       PDC  1965     135  Projeto de Decreto Legislativo   \n",
       "109     168307       PDC  1965     135  Projeto de Decreto Legislativo   \n",
       "...        ...       ...   ...     ...                             ...   \n",
       "680339  235344       PRC  1963     141            Projeto de Resolução   \n",
       "680340  235359       PRC  1963     141            Projeto de Resolução   \n",
       "680341  235375       PRC  1963     141            Projeto de Resolução   \n",
       "680342  454146       PDC  1963     135  Projeto de Decreto Legislativo   \n",
       "680343  454147       PDC  1963     135  Projeto de Decreto Legislativo   \n",
       "\n",
       "                                                   ementa ementaDetalhada  \\\n",
       "105     MANTEM DECISÃO DENEGATORIA DO TRIBUNAL DE CONT...             NaN   \n",
       "106     MANTEM ATO DO TRIBUNAL DE CONTAS DA UNIÃO DE R...             NaN   \n",
       "107     MANTÉM DECISÃO DENEGATÓRIA DO TRIBUNAL DE CONT...             NaN   \n",
       "108     MANTÉM ATO DO TRIBUNAL DE CONTAS DA UNIÃO QUE ...             NaN   \n",
       "109     MANTEM O ATO DO TRIBUNAL DE CONTAS DA UNIÃO QU...             NaN   \n",
       "...                                                   ...             ...   \n",
       "680339  AUTORIZA A MESA DA CAMARA DOS DEPUTADOS A EDIT...             NaN   \n",
       "680340  CRIA COMISSÃO MISTA PARA APRECIAR AS MENSAGENS...             NaN   \n",
       "680341  PROPÕE MEDIDAS PRELIMINARES PARA A CRIAÇÃO DO ...             NaN   \n",
       "680342  APROVA A CONVENÇÃO SOBRE ASSISTÊNCIA JUDICIÁRI...             NaN   \n",
       "680343  APROVA O TEXTO DO ACÔRDO ENTRE OS ESTADOS UNID...             NaN   \n",
       "\n",
       "                                                 keywords  \n",
       "105     MANUTENÇÃO, DECISÃO, TRIBUNAL DE CONTAS DA UNI...  \n",
       "106     MANUTENÇÃO, ATO, TRIBUNAL DE CONTAS DA UNIÃO (...  \n",
       "107     MANUTENÇÃO, DECISÃO, TRIBUNAL DE CONTAS DA UNI...  \n",
       "108     MANUTENÇÃO, ATO, TRIBUNAL DE CONTAS DA UNIÃO (...  \n",
       "109     MANUTENÇÃO, ATO, TRIBUNAL DE CONTAS DA UNIÃO (...  \n",
       "...                                                   ...  \n",
       "680339  AUTORIZAÇÃO, MESA DIRETORA, CAMARA DOS DEPUTAD...  \n",
       "680340  CRIAÇÃO, COMISSÃO MISTA, APRECIAÇÃO, MENSAGEM ...  \n",
       "680341  NORMAS, PROPOSTA, PRELIMINAR, CRIAÇÃO, PARLAME...  \n",
       "680342  APROVAÇÃO, ATO INTERNACIONAL, CONVENÇÃO INTERN...  \n",
       "680343  APROVAÇÃO, ATO INTERNACIONAL, ACORDO INTERNACI...  \n",
       "\n",
       "[151500 rows x 8 columns]"
      ]
     },
     "execution_count": 17,
     "metadata": {},
     "output_type": "execute_result"
    }
   ],
   "source": [
    "df_proposicoes[df_proposicoes['keywords'].notna()]"
   ]
  },
  {
   "cell_type": "markdown",
   "id": "19e794b2-2c66-4a8d-89a4-9b885a1aab58",
   "metadata": {},
   "source": [
    "Download dos pacotes realtivos a \"stopwords\" e pontuação da biblioteca NLTK"
   ]
  },
  {
   "cell_type": "code",
   "execution_count": 18,
   "id": "6afce67e-7ea3-4e62-bb4c-10f03ac4b93a",
   "metadata": {},
   "outputs": [
    {
     "name": "stderr",
     "output_type": "stream",
     "text": [
      "[nltk_data] Downloading package punkt to /home/cecivieira/nltk_data...\n",
      "[nltk_data]   Package punkt is already up-to-date!\n",
      "[nltk_data] Downloading package stopwords to\n",
      "[nltk_data]     /home/cecivieira/nltk_data...\n",
      "[nltk_data]   Package stopwords is already up-to-date!\n"
     ]
    },
    {
     "data": {
      "text/plain": [
       "True"
      ]
     },
     "execution_count": 18,
     "metadata": {},
     "output_type": "execute_result"
    }
   ],
   "source": [
    "nltk.download('punkt')\n",
    "nltk.download('stopwords')"
   ]
  },
  {
   "cell_type": "markdown",
   "id": "9fe2b346-637a-4e20-9da2-f79d803225ce",
   "metadata": {},
   "source": [
    "Remove pontuação, preposições e artigos (stopwords)"
   ]
  },
  {
   "cell_type": "code",
   "execution_count": 19,
   "id": "5c2e0c94-7027-4aa3-91c7-dff0ec2b1a5e",
   "metadata": {},
   "outputs": [],
   "source": [
    "meses = ['janeiro', 'fevereiro', 'março', 'abril', 'maio', 'junho', 'julho','agosto', 'setembro', 'outubro', 'novembro', 'dezembro']"
   ]
  },
  {
   "cell_type": "code",
   "execution_count": 20,
   "id": "11ad34fb-3552-449d-a00d-dac7a029bb27",
   "metadata": {},
   "outputs": [],
   "source": [
    "def define_stopwords_punctuation():\n",
    "    stopwords = nltk.corpus.stopwords.words('portuguese') + meses\n",
    "    pontuacao = list(punctuation)\n",
    "    stopwords.extend(pontuacao)\n",
    "    return stopwords"
   ]
  },
  {
   "cell_type": "markdown",
   "id": "55844d1b-f889-4b17-8100-059528ec0bfa",
   "metadata": {},
   "source": [
    "Adiciona a `keywords` toda palavra que não for uma stopword ou número"
   ]
  },
  {
   "cell_type": "code",
   "execution_count": 22,
   "id": "3d4ec270-87b8-4068-aa91-badcc5d6d6f8",
   "metadata": {},
   "outputs": [],
   "source": [
    "def remove_stopwords_punctuation_da_sentenca(texto):\n",
    "    padrao_digitos = r'[0-9]'\n",
    "    texto = re.sub(padrao_digitos, '', texto)\n",
    "    palavras = nltk.tokenize.word_tokenize(texto.lower())\n",
    "    stopwords = define_stopwords_punctuation()\n",
    "    keywords = [palavra for palavra in palavras if palavra not in stopwords]\n",
    "    return keywords"
   ]
  },
  {
   "cell_type": "code",
   "execution_count": 23,
   "id": "7b5ab9eb-b0f8-46fc-9f04-425fea62b5b5",
   "metadata": {},
   "outputs": [],
   "source": [
    "df_proposicoes_com_keywords['keywords'] = df_proposicoes_com_keywords['keywords'].apply(remove_stopwords_punctuation_da_sentenca)"
   ]
  },
  {
   "cell_type": "markdown",
   "id": "399a57bc-1bcc-4c31-b84f-64bafb9873fa",
   "metadata": {},
   "source": [
    "Converte lista para string"
   ]
  },
  {
   "cell_type": "code",
   "execution_count": 24,
   "id": "42aa1573-57b2-47e0-bdf5-195df75aeda3",
   "metadata": {},
   "outputs": [],
   "source": [
    "def converte_lista_string(lista):\n",
    "    return ','.join([palavra for palavra in lista])"
   ]
  },
  {
   "cell_type": "code",
   "execution_count": 25,
   "id": "e54d5754",
   "metadata": {},
   "outputs": [],
   "source": [
    "df_proposicoes_com_keywords['keywords'] = df_proposicoes_com_keywords['keywords'].apply(converte_lista_string)"
   ]
  },
  {
   "cell_type": "markdown",
   "id": "9c5323f4-993e-4175-8a0a-57ac0c954fbd",
   "metadata": {},
   "source": [
    "Retira do dataframe proposições cujas `keywords` ficaram vazias depois da limpeza"
   ]
  },
  {
   "cell_type": "code",
   "execution_count": 26,
   "id": "8c6b13d4-639a-4782-889d-e288ee55b511",
   "metadata": {},
   "outputs": [],
   "source": [
    "df_proposicoes_com_keywords = df_proposicoes_com_keywords[df_proposicoes_com_keywords['keywords'] != '']"
   ]
  },
  {
   "cell_type": "code",
   "execution_count": 27,
   "id": "7e529c86-c2e8-4d0c-9584-4972b1116ffa",
   "metadata": {},
   "outputs": [
    {
     "data": {
      "text/html": [
       "<div>\n",
       "<style scoped>\n",
       "    .dataframe tbody tr th:only-of-type {\n",
       "        vertical-align: middle;\n",
       "    }\n",
       "\n",
       "    .dataframe tbody tr th {\n",
       "        vertical-align: top;\n",
       "    }\n",
       "\n",
       "    .dataframe thead th {\n",
       "        text-align: right;\n",
       "    }\n",
       "</style>\n",
       "<table border=\"1\" class=\"dataframe\">\n",
       "  <thead>\n",
       "    <tr style=\"text-align: right;\">\n",
       "      <th></th>\n",
       "      <th>id</th>\n",
       "      <th>siglaTipo</th>\n",
       "      <th>ano</th>\n",
       "      <th>codTipo</th>\n",
       "      <th>descricaoTipo</th>\n",
       "      <th>ementa</th>\n",
       "      <th>ementaDetalhada</th>\n",
       "      <th>keywords</th>\n",
       "    </tr>\n",
       "  </thead>\n",
       "  <tbody>\n",
       "    <tr>\n",
       "      <th>105</th>\n",
       "      <td>168293</td>\n",
       "      <td>PDC</td>\n",
       "      <td>1965</td>\n",
       "      <td>135</td>\n",
       "      <td>Projeto de Decreto Legislativo</td>\n",
       "      <td>MANTEM DECISÃO DENEGATORIA DO TRIBUNAL DE CONT...</td>\n",
       "      <td>NaN</td>\n",
       "      <td>manutenção,decisão,tribunal,contas,união,tcu,d...</td>\n",
       "    </tr>\n",
       "    <tr>\n",
       "      <th>106</th>\n",
       "      <td>168297</td>\n",
       "      <td>PDC</td>\n",
       "      <td>1965</td>\n",
       "      <td>135</td>\n",
       "      <td>Projeto de Decreto Legislativo</td>\n",
       "      <td>MANTEM ATO DO TRIBUNAL DE CONTAS DA UNIÃO DE R...</td>\n",
       "      <td>NaN</td>\n",
       "      <td>manutenção,ato,tribunal,contas,união,tcu,recus...</td>\n",
       "    </tr>\n",
       "    <tr>\n",
       "      <th>107</th>\n",
       "      <td>168300</td>\n",
       "      <td>PDC</td>\n",
       "      <td>1965</td>\n",
       "      <td>135</td>\n",
       "      <td>Projeto de Decreto Legislativo</td>\n",
       "      <td>MANTÉM DECISÃO DENEGATÓRIA DO TRIBUNAL DE CONT...</td>\n",
       "      <td>NaN</td>\n",
       "      <td>manutenção,decisão,tribunal,contas,união,tcu,d...</td>\n",
       "    </tr>\n",
       "    <tr>\n",
       "      <th>108</th>\n",
       "      <td>168303</td>\n",
       "      <td>PDC</td>\n",
       "      <td>1965</td>\n",
       "      <td>135</td>\n",
       "      <td>Projeto de Decreto Legislativo</td>\n",
       "      <td>MANTÉM ATO DO TRIBUNAL DE CONTAS DA UNIÃO QUE ...</td>\n",
       "      <td>NaN</td>\n",
       "      <td>manutenção,ato,tribunal,contas,união,tcu,negaç...</td>\n",
       "    </tr>\n",
       "    <tr>\n",
       "      <th>109</th>\n",
       "      <td>168307</td>\n",
       "      <td>PDC</td>\n",
       "      <td>1965</td>\n",
       "      <td>135</td>\n",
       "      <td>Projeto de Decreto Legislativo</td>\n",
       "      <td>MANTEM O ATO DO TRIBUNAL DE CONTAS DA UNIÃO QU...</td>\n",
       "      <td>NaN</td>\n",
       "      <td>manutenção,ato,tribunal,contas,união,tcu,deneg...</td>\n",
       "    </tr>\n",
       "  </tbody>\n",
       "</table>\n",
       "</div>"
      ],
      "text/plain": [
       "         id siglaTipo   ano codTipo                   descricaoTipo  \\\n",
       "105  168293       PDC  1965     135  Projeto de Decreto Legislativo   \n",
       "106  168297       PDC  1965     135  Projeto de Decreto Legislativo   \n",
       "107  168300       PDC  1965     135  Projeto de Decreto Legislativo   \n",
       "108  168303       PDC  1965     135  Projeto de Decreto Legislativo   \n",
       "109  168307       PDC  1965     135  Projeto de Decreto Legislativo   \n",
       "\n",
       "                                                ementa ementaDetalhada  \\\n",
       "105  MANTEM DECISÃO DENEGATORIA DO TRIBUNAL DE CONT...             NaN   \n",
       "106  MANTEM ATO DO TRIBUNAL DE CONTAS DA UNIÃO DE R...             NaN   \n",
       "107  MANTÉM DECISÃO DENEGATÓRIA DO TRIBUNAL DE CONT...             NaN   \n",
       "108  MANTÉM ATO DO TRIBUNAL DE CONTAS DA UNIÃO QUE ...             NaN   \n",
       "109  MANTEM O ATO DO TRIBUNAL DE CONTAS DA UNIÃO QU...             NaN   \n",
       "\n",
       "                                              keywords  \n",
       "105  manutenção,decisão,tribunal,contas,união,tcu,d...  \n",
       "106  manutenção,ato,tribunal,contas,união,tcu,recus...  \n",
       "107  manutenção,decisão,tribunal,contas,união,tcu,d...  \n",
       "108  manutenção,ato,tribunal,contas,união,tcu,negaç...  \n",
       "109  manutenção,ato,tribunal,contas,união,tcu,deneg...  "
      ]
     },
     "execution_count": 27,
     "metadata": {},
     "output_type": "execute_result"
    }
   ],
   "source": [
    "df_proposicoes_com_keywords.head()"
   ]
  },
  {
   "cell_type": "markdown",
   "id": "c1e48f47-21f6-4a9f-8128-617d812af1aa",
   "metadata": {},
   "source": [
    "# Extração de palavras chaves das ementas, quando necessário\n",
    "\n",
    "Verificamos que algumas propostas legislativas não possuem palavras chave desde sua coleta, por isso extrairemos essas palavras do campo `ementa`."
   ]
  },
  {
   "cell_type": "markdown",
   "id": "53affa49-98c8-48ac-a363-629b98b88143",
   "metadata": {},
   "source": [
    "Identificação de propostas legislativas com campo \"keywords\" vazio"
   ]
  },
  {
   "cell_type": "code",
   "execution_count": 28,
   "id": "0aa209d9-1781-4dbf-a801-40bd448f12d2",
   "metadata": {},
   "outputs": [],
   "source": [
    "df_proposicoes_sem_keywords = df_proposicoes[df_proposicoes['keywords'].isna()].copy()"
   ]
  },
  {
   "cell_type": "markdown",
   "id": "aa1019ee-4748-4fc1-8d45-3047f12fb7d9",
   "metadata": {},
   "source": [
    "Remoção de pontuação, preposições e artigos (stopwords)"
   ]
  },
  {
   "cell_type": "code",
   "execution_count": 29,
   "id": "d586fd0b-ac99-4587-a9aa-9e09c7b22dbc",
   "metadata": {},
   "outputs": [],
   "source": [
    "df_proposicoes_sem_keywords['keywords'] = df_proposicoes_sem_keywords['ementa'].apply(remove_stopwords_punctuation_da_sentenca)"
   ]
  },
  {
   "cell_type": "markdown",
   "id": "4c95f244-4a9d-4dea-9f8a-bee3ccb47ca0",
   "metadata": {},
   "source": [
    "Identifica caracteres e abreviações semanticamente irrelevantes ainda presentes na coluna \"keywords\""
   ]
  },
  {
   "cell_type": "code",
   "execution_count": 30,
   "id": "85ec802a-aa94-4808-bdbb-5f7e327ac69f",
   "metadata": {},
   "outputs": [],
   "source": [
    "lista_keywords = []\n",
    "lista_keywords_temp = df_proposicoes_sem_keywords['keywords'].tolist()\n",
    "_ = [lista_keywords.extend(item) for item in lista_keywords_temp]"
   ]
  },
  {
   "cell_type": "code",
   "execution_count": 31,
   "id": "6fab14e0-eb45-43e0-b7fb-ead0493c2d2f",
   "metadata": {},
   "outputs": [],
   "source": [
    "palavras_para_descarte = [item for item in set(lista_keywords) if len(item) <= 3]"
   ]
  },
  {
   "cell_type": "markdown",
   "id": "1ca3e173-87bd-4862-833a-8bec7705656b",
   "metadata": {},
   "source": [
    "Retira os substantivos da lista de caracteres e abreviações semanticamente irrelevantes"
   ]
  },
  {
   "cell_type": "code",
   "execution_count": 32,
   "id": "524a394c-b1a8-4d85-9fe9-2694eb103f87",
   "metadata": {},
   "outputs": [],
   "source": [
    "substantivos_nao_descartaveis = ['cão', 'mãe', 'oab', 'boa', 'pré', 'voz', 'rui', 'uva', 'gás', 'glp', 'apa']"
   ]
  },
  {
   "cell_type": "markdown",
   "id": "dda09a7f-5d9b-4661-82e4-215c48595558",
   "metadata": {},
   "source": [
    "Remove da coluna \"keywords\" lista de caracteres e abreviações semanticamente irrelevantes"
   ]
  },
  {
   "cell_type": "code",
   "execution_count": 33,
   "id": "94050d6d-8938-4945-a77e-c2e0eb07631e",
   "metadata": {},
   "outputs": [],
   "source": [
    "palavras_para_descarte_refinada = [palavra for palavra in palavras_para_descarte if palavra not in substantivos_nao_descartaveis]"
   ]
  },
  {
   "cell_type": "code",
   "execution_count": 34,
   "id": "77ec36c2-8314-4633-9e59-8a1733fe0d2e",
   "metadata": {},
   "outputs": [],
   "source": [
    "def remove_palavras_para_descarte_da_sentenca(texto):\n",
    "    keywords = []\n",
    "    for palavra in texto:\n",
    "        if palavra not in palavras_para_descarte_refinada:\n",
    "            keywords.append(palavra)\n",
    "    return keywords"
   ]
  },
  {
   "cell_type": "code",
   "execution_count": 35,
   "id": "b2da805e-33fb-464c-a6f4-b3ea0a35dbaf",
   "metadata": {},
   "outputs": [],
   "source": [
    "df_proposicoes_sem_keywords['keywords'] = df_proposicoes_sem_keywords['keywords'].apply(remove_palavras_para_descarte_da_sentenca)"
   ]
  },
  {
   "cell_type": "markdown",
   "id": "6e256fd6-b497-44d5-aac1-6d4668d74084",
   "metadata": {},
   "source": [
    "Identifica, na coluna \"keywords\", palavras sem relevancia semântica, por exemplo: \"altera\", \"dispõe\" e \"sobre\"."
   ]
  },
  {
   "cell_type": "code",
   "execution_count": 36,
   "id": "df066876-939b-4e38-815f-8277e41feadd",
   "metadata": {},
   "outputs": [],
   "source": [
    "def gera_n_grams(texto, ngram=2):\n",
    "    temporario = zip(*[texto[indice:] for indice in range(0,ngram)])\n",
    "    resultado = [' '.join(ngram) for ngram in temporario]\n",
    "    return resultado"
   ]
  },
  {
   "cell_type": "code",
   "execution_count": 37,
   "id": "6b7d25d6-39f9-4016-8e5f-b65b3063e733",
   "metadata": {},
   "outputs": [],
   "source": [
    "df_proposicoes_sem_keywords['bigrams'] = df_proposicoes_sem_keywords['keywords'].apply(gera_n_grams)"
   ]
  },
  {
   "cell_type": "code",
   "execution_count": 38,
   "id": "fcbb3e3c-b6cc-45f9-a512-1ac8f74bbe08",
   "metadata": {},
   "outputs": [],
   "source": [
    "lista_ngrams = []\n",
    "lista_ngrams_temp = df_proposicoes_sem_keywords['bigrams'].tolist()\n",
    "_ = [lista_ngrams.extend(item) for item in lista_ngrams_temp]"
   ]
  },
  {
   "cell_type": "code",
   "execution_count": 39,
   "id": "e1203e48-236b-45e4-871d-9d82fbc1bc8e",
   "metadata": {},
   "outputs": [],
   "source": [
    "bigrams_comuns = nltk.FreqDist(lista_ngrams).most_common(50)"
   ]
  },
  {
   "cell_type": "code",
   "execution_count": 40,
   "id": "867a168d-7085-4c4b-aaca-705da584e380",
   "metadata": {},
   "outputs": [],
   "source": [
    "lista_bigramas_comuns = [bigrama for bigrama, frequencia in bigrams_comuns]"
   ]
  },
  {
   "cell_type": "markdown",
   "id": "a7538c66-2fbf-4b98-a149-f27ec5f36aa8",
   "metadata": {},
   "source": [
    "Foram analisados os 50 bigramas mais frequentes e identificados os semanticamente irrelevantes para criacao de `keywords`"
   ]
  },
  {
   "cell_type": "code",
   "execution_count": 41,
   "id": "31df9b07-a724-4f47-b660-c69ca1b37eee",
   "metadata": {},
   "outputs": [],
   "source": [
    "lista_bigramas_comuns_limpa = ['dispõe sobre', 'outras providências', 'nova redação', 'poder executivo', 'distrito federal',\n",
    " 'autoriza poder', 'federal outras','redação constituição', 'dispõe sôbre', 'código penal', 'artigo constituição',\n",
    " 'disposições constitucionais', 'altera dispõe', 'decreto-lei código', 'constitucionais transitórias', 'altera redação',\n",
    " 'abre ministério', 'executivo abrir', 'redação artigo', 'sobre criação', 'acrescenta parágrafo', 'parágrafo único',\n",
    " 'concede isenção', 'altera dispositivos', 'altera complementar', 'dispondo sobre', 'código processo', 'outras providências.',\n",
    " 'providências. historico', 'ministério fazenda', 'altera leis', 'programa nacional', 'quadro permanente', 'outras providencias',\n",
    " 'inciso constituição', 'abrir ministério', 'estabelece normas', 'ministério justiça', 'tempo serviço', 'instituto nacional',\n",
    " 'institui sistema', 'operações crédito', 'altera institui', 'dispõe sôbre']"
   ]
  },
  {
   "cell_type": "code",
   "execution_count": 42,
   "id": "5c12f29b",
   "metadata": {},
   "outputs": [],
   "source": [
    "palavras_para_descarte_origem_bigramas = []\n",
    "_ = [palavras_para_descarte_origem_bigramas.extend(bigrama.split(' ')) for bigrama in lista_bigramas_comuns_limpa]\n",
    "palavras_para_descarte_origem_bigramas_unicas = set(palavras_para_descarte_origem_bigramas)"
   ]
  },
  {
   "cell_type": "markdown",
   "id": "4e91c016-bc5f-4a0d-9ab4-6e691e8e0f04",
   "metadata": {},
   "source": [
    "Remove palavras irrelevantes originarias dos bigramas"
   ]
  },
  {
   "cell_type": "code",
   "execution_count": 43,
   "id": "16eb54d7-07a3-4d04-9fb1-b8ac65ee420d",
   "metadata": {},
   "outputs": [],
   "source": [
    "def remove_palavras_origem_bigramas_da_sentenca(texto):\n",
    "    keywords = []\n",
    "    for palavra in texto:\n",
    "        if palavra not in palavras_para_descarte_origem_bigramas_unicas:\n",
    "            keywords.append(palavra)\n",
    "    return keywords"
   ]
  },
  {
   "cell_type": "code",
   "execution_count": 44,
   "id": "d2caac5f-181c-48ae-bd92-35823fc0145f",
   "metadata": {},
   "outputs": [],
   "source": [
    "df_proposicoes_sem_keywords['keywords'] = df_proposicoes_sem_keywords['keywords'].apply(remove_palavras_origem_bigramas_da_sentenca)"
   ]
  },
  {
   "cell_type": "markdown",
   "id": "af82bc0a-9099-4842-85fa-bda748cd5e25",
   "metadata": {},
   "source": [
    "Converte lista para string"
   ]
  },
  {
   "cell_type": "code",
   "execution_count": 45,
   "id": "28142559-3f9f-4d1a-9e42-006e7a1ac7b1",
   "metadata": {},
   "outputs": [],
   "source": [
    "df_proposicoes_sem_keywords['keywords'] = df_proposicoes_sem_keywords['keywords'].apply(converte_lista_string)"
   ]
  },
  {
   "cell_type": "markdown",
   "id": "0d6dfd93-76d9-45c2-9b8e-39caee568a6d",
   "metadata": {},
   "source": [
    "Elimina coluna \"bigrams\""
   ]
  },
  {
   "cell_type": "code",
   "execution_count": 46,
   "id": "44227261-f038-4a1f-bc1c-35fcb71b9a15",
   "metadata": {},
   "outputs": [],
   "source": [
    "df_proposicoes_sem_keywords = df_proposicoes_sem_keywords.drop(columns=['bigrams'])"
   ]
  },
  {
   "cell_type": "markdown",
   "id": "2e25a796-cf40-446f-bca1-a4b0b07048e2",
   "metadata": {},
   "source": [
    "Remove propostas cujo campo \"keywords\" ficou vazio após a limpeza da ementa e extração de palavras chaves"
   ]
  },
  {
   "cell_type": "code",
   "execution_count": 47,
   "id": "08daffb1",
   "metadata": {},
   "outputs": [],
   "source": [
    "df_proposicoes_sem_keywords = df_proposicoes_sem_keywords[df_proposicoes_sem_keywords['keywords'] != '']"
   ]
  },
  {
   "cell_type": "code",
   "execution_count": 48,
   "id": "4e8755f6",
   "metadata": {},
   "outputs": [
    {
     "data": {
      "text/html": [
       "<div>\n",
       "<style scoped>\n",
       "    .dataframe tbody tr th:only-of-type {\n",
       "        vertical-align: middle;\n",
       "    }\n",
       "\n",
       "    .dataframe tbody tr th {\n",
       "        vertical-align: top;\n",
       "    }\n",
       "\n",
       "    .dataframe thead th {\n",
       "        text-align: right;\n",
       "    }\n",
       "</style>\n",
       "<table border=\"1\" class=\"dataframe\">\n",
       "  <thead>\n",
       "    <tr style=\"text-align: right;\">\n",
       "      <th></th>\n",
       "      <th>id</th>\n",
       "      <th>siglaTipo</th>\n",
       "      <th>ano</th>\n",
       "      <th>codTipo</th>\n",
       "      <th>descricaoTipo</th>\n",
       "      <th>ementa</th>\n",
       "      <th>ementaDetalhada</th>\n",
       "      <th>keywords</th>\n",
       "    </tr>\n",
       "  </thead>\n",
       "  <tbody>\n",
       "  </tbody>\n",
       "</table>\n",
       "</div>"
      ],
      "text/plain": [
       "Empty DataFrame\n",
       "Columns: [id, siglaTipo, ano, codTipo, descricaoTipo, ementa, ementaDetalhada, keywords]\n",
       "Index: []"
      ]
     },
     "execution_count": 48,
     "metadata": {},
     "output_type": "execute_result"
    }
   ],
   "source": [
    "df_proposicoes_sem_keywords[df_proposicoes_sem_keywords['keywords']== ''] "
   ]
  },
  {
   "cell_type": "markdown",
   "id": "463eafed-3ab7-4d69-b7c9-096c3b04d983",
   "metadata": {},
   "source": [
    "# Reuni dados em um único dataframe"
   ]
  },
  {
   "cell_type": "code",
   "execution_count": 49,
   "id": "856c311e-09a4-40bc-b96f-220df0c760f5",
   "metadata": {},
   "outputs": [],
   "source": [
    "df_proposicoes_v_final = pd.concat([df_proposicoes_com_keywords, df_proposicoes_sem_keywords])"
   ]
  },
  {
   "cell_type": "code",
   "execution_count": 50,
   "id": "c44336bc-9bd6-40eb-ac2e-ce67dfa4b8c5",
   "metadata": {},
   "outputs": [
    {
     "data": {
      "text/plain": [
       "(152386, 8)"
      ]
     },
     "execution_count": 50,
     "metadata": {},
     "output_type": "execute_result"
    }
   ],
   "source": [
    "df_proposicoes_v_final.shape"
   ]
  },
  {
   "cell_type": "code",
   "execution_count": 51,
   "id": "85293580-9246-45b4-9212-af9e8293b82c",
   "metadata": {},
   "outputs": [
    {
     "name": "stdout",
     "output_type": "stream",
     "text": [
      "<class 'pandas.core.frame.DataFrame'>\n",
      "Int64Index: 152386 entries, 105 to 680357\n",
      "Data columns (total 8 columns):\n",
      " #   Column           Non-Null Count   Dtype \n",
      "---  ------           --------------   ----- \n",
      " 0   id               152386 non-null  object\n",
      " 1   siglaTipo        152386 non-null  object\n",
      " 2   ano              152386 non-null  int64 \n",
      " 3   codTipo          152386 non-null  object\n",
      " 4   descricaoTipo    152386 non-null  object\n",
      " 5   ementa           152386 non-null  object\n",
      " 6   ementaDetalhada  42563 non-null   object\n",
      " 7   keywords         152386 non-null  object\n",
      "dtypes: int64(1), object(7)\n",
      "memory usage: 10.5+ MB\n"
     ]
    }
   ],
   "source": [
    "df_proposicoes_v_final.info()"
   ]
  },
  {
   "cell_type": "code",
   "execution_count": 52,
   "id": "106b4aed-f9e1-4ddd-a7cc-6d6dcbdc4336",
   "metadata": {},
   "outputs": [],
   "source": [
    "df_proposicoes_v_final.to_csv('../dados/proposicoes_legislativas_limpas.csv', index=False)"
   ]
  }
 ],
 "metadata": {
  "kernelspec": {
   "display_name": "Python 3",
   "language": "python",
   "name": "python3"
  },
  "language_info": {
   "codemirror_mode": {
    "name": "ipython",
    "version": 3
   },
   "file_extension": ".py",
   "mimetype": "text/x-python",
   "name": "python",
   "nbconvert_exporter": "python",
   "pygments_lexer": "ipython3",
   "version": "3.8.10"
  }
 },
 "nbformat": 4,
 "nbformat_minor": 5
}
