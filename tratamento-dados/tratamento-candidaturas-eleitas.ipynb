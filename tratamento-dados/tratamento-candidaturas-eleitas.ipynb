{
 "cells": [
  {
   "cell_type": "code",
   "execution_count": 1,
   "id": "5e2f4128-f32d-406a-a939-b4b819f211b3",
   "metadata": {},
   "outputs": [],
   "source": [
    "import pandas as pd"
   ]
  },
  {
   "cell_type": "markdown",
   "id": "0b3ec976-f268-4140-8fdc-4906a71ec6d9",
   "metadata": {},
   "source": [
    "# Tratamento de dados coletados sobre candidaturas eleitas"
   ]
  },
  {
   "cell_type": "code",
   "execution_count": 6,
   "id": "ede19130-2dab-4632-8f57-fe31e2ec44a8",
   "metadata": {},
   "outputs": [],
   "source": [
    "df_deputadas_1934_2023 = pd.read_csv('../dados/deputadas_1934_2023.csv')"
   ]
  },
  {
   "cell_type": "code",
   "execution_count": 7,
   "id": "61ebc410-cc83-431b-893e-52141d0bed38",
   "metadata": {},
   "outputs": [
    {
     "data": {
      "text/html": [
       "<div>\n",
       "<style scoped>\n",
       "    .dataframe tbody tr th:only-of-type {\n",
       "        vertical-align: middle;\n",
       "    }\n",
       "\n",
       "    .dataframe tbody tr th {\n",
       "        vertical-align: top;\n",
       "    }\n",
       "\n",
       "    .dataframe thead th {\n",
       "        text-align: right;\n",
       "    }\n",
       "</style>\n",
       "<table border=\"1\" class=\"dataframe\">\n",
       "  <thead>\n",
       "    <tr style=\"text-align: right;\">\n",
       "      <th></th>\n",
       "      <th>id</th>\n",
       "      <th>uri</th>\n",
       "      <th>nome</th>\n",
       "      <th>siglaPartido</th>\n",
       "      <th>uriPartido</th>\n",
       "      <th>siglaUf</th>\n",
       "      <th>idLegislatura</th>\n",
       "      <th>urlFoto</th>\n",
       "      <th>email</th>\n",
       "      <th>sexo</th>\n",
       "    </tr>\n",
       "  </thead>\n",
       "  <tbody>\n",
       "    <tr>\n",
       "      <th>0</th>\n",
       "      <td>215044</td>\n",
       "      <td>https://dadosabertos.camara.leg.br/api/v2/depu...</td>\n",
       "      <td>Vivi Reis</td>\n",
       "      <td>PSOL</td>\n",
       "      <td>https://dadosabertos.camara.leg.br/api/v2/part...</td>\n",
       "      <td>PA</td>\n",
       "      <td>56</td>\n",
       "      <td>https://www.camara.leg.br/internet/deputado/ba...</td>\n",
       "      <td>dep.vivireis@camara.leg.br</td>\n",
       "      <td>F</td>\n",
       "    </tr>\n",
       "    <tr>\n",
       "      <th>1</th>\n",
       "      <td>178862</td>\n",
       "      <td>https://dadosabertos.camara.leg.br/api/v2/depu...</td>\n",
       "      <td>Tia Eron</td>\n",
       "      <td>REPUBLICANOS</td>\n",
       "      <td>https://dadosabertos.camara.leg.br/api/v2/part...</td>\n",
       "      <td>BA</td>\n",
       "      <td>56</td>\n",
       "      <td>https://www.camara.leg.br/internet/deputado/ba...</td>\n",
       "      <td>dep.tiaeron@camara.leg.br</td>\n",
       "      <td>F</td>\n",
       "    </tr>\n",
       "    <tr>\n",
       "      <th>2</th>\n",
       "      <td>204466</td>\n",
       "      <td>https://dadosabertos.camara.leg.br/api/v2/depu...</td>\n",
       "      <td>Tereza Nelma</td>\n",
       "      <td>PSDB</td>\n",
       "      <td>https://dadosabertos.camara.leg.br/api/v2/part...</td>\n",
       "      <td>AL</td>\n",
       "      <td>56</td>\n",
       "      <td>https://www.camara.leg.br/internet/deputado/ba...</td>\n",
       "      <td>dep.terezanelma@camara.leg.br</td>\n",
       "      <td>F</td>\n",
       "    </tr>\n",
       "    <tr>\n",
       "      <th>3</th>\n",
       "      <td>178901</td>\n",
       "      <td>https://dadosabertos.camara.leg.br/api/v2/depu...</td>\n",
       "      <td>Tereza Cristina</td>\n",
       "      <td>DEM</td>\n",
       "      <td>https://dadosabertos.camara.leg.br/api/v2/part...</td>\n",
       "      <td>MS</td>\n",
       "      <td>56</td>\n",
       "      <td>https://www.camara.leg.br/internet/deputado/ba...</td>\n",
       "      <td>NaN</td>\n",
       "      <td>F</td>\n",
       "    </tr>\n",
       "    <tr>\n",
       "      <th>4</th>\n",
       "      <td>204464</td>\n",
       "      <td>https://dadosabertos.camara.leg.br/api/v2/depu...</td>\n",
       "      <td>Talíria Petrone</td>\n",
       "      <td>PSOL</td>\n",
       "      <td>https://dadosabertos.camara.leg.br/api/v2/part...</td>\n",
       "      <td>RJ</td>\n",
       "      <td>56</td>\n",
       "      <td>https://www.camara.leg.br/internet/deputado/ba...</td>\n",
       "      <td>dep.taliriapetrone@camara.leg.br</td>\n",
       "      <td>F</td>\n",
       "    </tr>\n",
       "  </tbody>\n",
       "</table>\n",
       "</div>"
      ],
      "text/plain": [
       "       id                                                uri             nome  \\\n",
       "0  215044  https://dadosabertos.camara.leg.br/api/v2/depu...        Vivi Reis   \n",
       "1  178862  https://dadosabertos.camara.leg.br/api/v2/depu...         Tia Eron   \n",
       "2  204466  https://dadosabertos.camara.leg.br/api/v2/depu...     Tereza Nelma   \n",
       "3  178901  https://dadosabertos.camara.leg.br/api/v2/depu...  Tereza Cristina   \n",
       "4  204464  https://dadosabertos.camara.leg.br/api/v2/depu...  Talíria Petrone   \n",
       "\n",
       "   siglaPartido                                         uriPartido siglaUf  \\\n",
       "0          PSOL  https://dadosabertos.camara.leg.br/api/v2/part...      PA   \n",
       "1  REPUBLICANOS  https://dadosabertos.camara.leg.br/api/v2/part...      BA   \n",
       "2          PSDB  https://dadosabertos.camara.leg.br/api/v2/part...      AL   \n",
       "3           DEM  https://dadosabertos.camara.leg.br/api/v2/part...      MS   \n",
       "4          PSOL  https://dadosabertos.camara.leg.br/api/v2/part...      RJ   \n",
       "\n",
       "   idLegislatura                                            urlFoto  \\\n",
       "0             56  https://www.camara.leg.br/internet/deputado/ba...   \n",
       "1             56  https://www.camara.leg.br/internet/deputado/ba...   \n",
       "2             56  https://www.camara.leg.br/internet/deputado/ba...   \n",
       "3             56  https://www.camara.leg.br/internet/deputado/ba...   \n",
       "4             56  https://www.camara.leg.br/internet/deputado/ba...   \n",
       "\n",
       "                              email sexo  \n",
       "0        dep.vivireis@camara.leg.br    F  \n",
       "1         dep.tiaeron@camara.leg.br    F  \n",
       "2     dep.terezanelma@camara.leg.br    F  \n",
       "3                               NaN    F  \n",
       "4  dep.taliriapetrone@camara.leg.br    F  "
      ]
     },
     "execution_count": 7,
     "metadata": {},
     "output_type": "execute_result"
    }
   ],
   "source": [
    "df_deputadas_1934_2023.head(5)"
   ]
  },
  {
   "cell_type": "markdown",
   "id": "d8501463-40d3-405a-8481-e4f95dace716",
   "metadata": {},
   "source": [
    "# Seleção de atributos desejados para análise"
   ]
  },
  {
   "cell_type": "code",
   "execution_count": 9,
   "id": "bae441b1-81cd-4a1d-aadf-d3807d040a08",
   "metadata": {},
   "outputs": [],
   "source": [
    "df_deputadas = df_deputadas_1934_2023[['id', 'siglaPartido', 'siglaUf',\n",
    "       'idLegislatura', 'sexo']]"
   ]
  },
  {
   "cell_type": "code",
   "execution_count": 10,
   "id": "a7a0b499-6efe-4f49-8c1d-e4257c6319fd",
   "metadata": {},
   "outputs": [
    {
     "data": {
      "text/html": [
       "<div>\n",
       "<style scoped>\n",
       "    .dataframe tbody tr th:only-of-type {\n",
       "        vertical-align: middle;\n",
       "    }\n",
       "\n",
       "    .dataframe tbody tr th {\n",
       "        vertical-align: top;\n",
       "    }\n",
       "\n",
       "    .dataframe thead th {\n",
       "        text-align: right;\n",
       "    }\n",
       "</style>\n",
       "<table border=\"1\" class=\"dataframe\">\n",
       "  <thead>\n",
       "    <tr style=\"text-align: right;\">\n",
       "      <th></th>\n",
       "      <th>id</th>\n",
       "      <th>siglaPartido</th>\n",
       "      <th>siglaUf</th>\n",
       "      <th>idLegislatura</th>\n",
       "      <th>sexo</th>\n",
       "    </tr>\n",
       "  </thead>\n",
       "  <tbody>\n",
       "    <tr>\n",
       "      <th>0</th>\n",
       "      <td>215044</td>\n",
       "      <td>PSOL</td>\n",
       "      <td>PA</td>\n",
       "      <td>56</td>\n",
       "      <td>F</td>\n",
       "    </tr>\n",
       "    <tr>\n",
       "      <th>1</th>\n",
       "      <td>178862</td>\n",
       "      <td>REPUBLICANOS</td>\n",
       "      <td>BA</td>\n",
       "      <td>56</td>\n",
       "      <td>F</td>\n",
       "    </tr>\n",
       "    <tr>\n",
       "      <th>2</th>\n",
       "      <td>204466</td>\n",
       "      <td>PSDB</td>\n",
       "      <td>AL</td>\n",
       "      <td>56</td>\n",
       "      <td>F</td>\n",
       "    </tr>\n",
       "    <tr>\n",
       "      <th>3</th>\n",
       "      <td>178901</td>\n",
       "      <td>DEM</td>\n",
       "      <td>MS</td>\n",
       "      <td>56</td>\n",
       "      <td>F</td>\n",
       "    </tr>\n",
       "    <tr>\n",
       "      <th>4</th>\n",
       "      <td>204464</td>\n",
       "      <td>PSOL</td>\n",
       "      <td>RJ</td>\n",
       "      <td>56</td>\n",
       "      <td>F</td>\n",
       "    </tr>\n",
       "  </tbody>\n",
       "</table>\n",
       "</div>"
      ],
      "text/plain": [
       "       id  siglaPartido siglaUf  idLegislatura sexo\n",
       "0  215044          PSOL      PA             56    F\n",
       "1  178862  REPUBLICANOS      BA             56    F\n",
       "2  204466          PSDB      AL             56    F\n",
       "3  178901           DEM      MS             56    F\n",
       "4  204464          PSOL      RJ             56    F"
      ]
     },
     "execution_count": 10,
     "metadata": {},
     "output_type": "execute_result"
    }
   ],
   "source": [
    "df_deputadas.head(5)"
   ]
  },
  {
   "cell_type": "markdown",
   "id": "1bd2d4e6-a4d0-4a8c-9d9d-be1f53ced66f",
   "metadata": {},
   "source": [
    "# Ajuste de valores faltantes"
   ]
  },
  {
   "cell_type": "code",
   "execution_count": 14,
   "id": "b1cc9b10-f1ca-4862-a7c1-ca7782f48d9d",
   "metadata": {},
   "outputs": [
    {
     "data": {
      "text/plain": [
       "id                 0\n",
       "siglaPartido     270\n",
       "siglaUf            0\n",
       "idLegislatura      0\n",
       "sexo               0\n",
       "dtype: int64"
      ]
     },
     "execution_count": 14,
     "metadata": {},
     "output_type": "execute_result"
    }
   ],
   "source": [
    "df_deputadas.isnull().sum(axis = 0)"
   ]
  },
  {
   "cell_type": "code",
   "execution_count": 17,
   "id": "75d46484-096b-4850-b766-845569f26fea",
   "metadata": {},
   "outputs": [
    {
     "name": "stderr",
     "output_type": "stream",
     "text": [
      "/home/cecivieira/Projetos/cotas-genero-e-proposicoes-legislativas/.venv/lib/python3.8/site-packages/pandas/core/generic.py:6392: SettingWithCopyWarning: \n",
      "A value is trying to be set on a copy of a slice from a DataFrame\n",
      "\n",
      "See the caveats in the documentation: https://pandas.pydata.org/pandas-docs/stable/user_guide/indexing.html#returning-a-view-versus-a-copy\n",
      "  return self._update_inplace(result)\n"
     ]
    }
   ],
   "source": [
    "df_deputadas['siglaPartido'].fillna('sem partido', inplace=True)"
   ]
  },
  {
   "cell_type": "code",
   "execution_count": 18,
   "id": "1c0748f9-5549-482e-9543-e6768d06ce54",
   "metadata": {},
   "outputs": [
    {
     "data": {
      "text/plain": [
       "id               0\n",
       "siglaPartido     0\n",
       "siglaUf          0\n",
       "idLegislatura    0\n",
       "sexo             0\n",
       "dtype: int64"
      ]
     },
     "execution_count": 18,
     "metadata": {},
     "output_type": "execute_result"
    }
   ],
   "source": [
    "df_deputadas.isnull().sum(axis = 0)"
   ]
  },
  {
   "cell_type": "code",
   "execution_count": null,
   "id": "8bbb23c3-8850-4929-9d95-e15c686157ef",
   "metadata": {},
   "outputs": [],
   "source": []
  }
 ],
 "metadata": {
  "kernelspec": {
   "display_name": "Python 3",
   "language": "python",
   "name": "python3"
  },
  "language_info": {
   "codemirror_mode": {
    "name": "ipython",
    "version": 3
   },
   "file_extension": ".py",
   "mimetype": "text/x-python",
   "name": "python",
   "nbconvert_exporter": "python",
   "pygments_lexer": "ipython3",
   "version": "3.8.10"
  }
 },
 "nbformat": 4,
 "nbformat_minor": 5
}
